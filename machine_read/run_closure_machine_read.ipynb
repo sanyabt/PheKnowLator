{
 "cells": [
  {
   "cell_type": "markdown",
   "metadata": {},
   "source": [
    "## NaPDI machine reading knowledge graph instance closure\n",
    "\n",
    "Closure run for SemRep and REACH predications in merged machine reading graph."
   ]
  },
  {
   "cell_type": "code",
   "execution_count": 1,
   "metadata": {},
   "outputs": [],
   "source": [
    "## Set up the CLIPS environment\n",
    "import clips\n",
    "env = clips.Environment()\n",
    "\n",
    "MIN_PREDICATION_BELIEF = 0\n",
    "MIN_TRANSITIVE_BELIEF = 0.65  # chosen because it retains most depth 1 transitive inferences over semmed  \n",
    "\n",
    "## NOTE: BE SURE TO CLEAR test-inference.ntriples EACH TIME BEFORE RUNNING!!\n",
    "## This accomplishes that\n",
    "f = open(\"closure_output/test-inference-2.ntriples\",'w')\n",
    "f.close()"
   ]
  },
  {
   "cell_type": "code",
   "execution_count": 2,
   "metadata": {},
   "outputs": [],
   "source": [
    "import pandas as pd\n",
    "import numpy as np"
   ]
  },
  {
   "cell_type": "code",
   "execution_count": 3,
   "metadata": {},
   "outputs": [],
   "source": [
    "#load merged machine reading graph - ntriples/gpickle - already mapped and processed - LOAD TSVs instead\n",
    "##load TSVs after mapping for all machine reading output\n",
    "mr_reach_gt = 'predication_files/greentea_pmid_all_predicates_umls_processed.tsv'\n",
    "mr_reach_kt = 'predication_files/kratom_pmid_all_predicates_umls_processed.tsv'\n",
    "mr_semrep = 'semrep_data/semrep_predications_mapped_only_20220406.csv'"
   ]
  },
  {
   "cell_type": "code",
   "execution_count": 4,
   "metadata": {},
   "outputs": [
    {
     "name": "stdout",
     "output_type": "stream",
     "text": [
      "<class 'pandas.core.frame.DataFrame'>\n",
      "RangeIndex: 7678 entries, 0 to 7677\n",
      "Data columns (total 16 columns):\n",
      " #   Column                Non-Null Count  Dtype  \n",
      "---  ------                --------------  -----  \n",
      " 0   subject_cui           7678 non-null   object \n",
      " 1   subject_name          7678 non-null   object \n",
      " 2   subject_source        7678 non-null   object \n",
      " 3   predicate             7678 non-null   object \n",
      " 4   object_source         7678 non-null   object \n",
      " 5   object_cui            7678 non-null   object \n",
      " 6   object_name           7678 non-null   object \n",
      " 7   subj_reach_grounding  7678 non-null   object \n",
      " 8   obj_reach_grounding   7678 non-null   object \n",
      " 9   pmid                  7678 non-null   int64  \n",
      " 10  pub_year              7678 non-null   object \n",
      " 11  belief                7678 non-null   float64\n",
      " 12  sentence              7678 non-null   object \n",
      " 13  predicate_obo         7678 non-null   object \n",
      " 14  subject_obo           7678 non-null   object \n",
      " 15  object_obo            7678 non-null   object \n",
      "dtypes: float64(1), int64(1), object(14)\n",
      "memory usage: 959.9+ KB\n"
     ]
    }
   ],
   "source": [
    "dfgt = pd.read_csv(mr_reach_gt, sep='\\t')\n",
    "dfgt.info()"
   ]
  },
  {
   "cell_type": "code",
   "execution_count": 5,
   "metadata": {},
   "outputs": [
    {
     "name": "stdout",
     "output_type": "stream",
     "text": [
      "<class 'pandas.core.frame.DataFrame'>\n",
      "RangeIndex: 368 entries, 0 to 367\n",
      "Data columns (total 16 columns):\n",
      " #   Column                Non-Null Count  Dtype  \n",
      "---  ------                --------------  -----  \n",
      " 0   subject_cui           356 non-null    object \n",
      " 1   subject_name          356 non-null    object \n",
      " 2   subject_source        368 non-null    object \n",
      " 3   predicate             368 non-null    object \n",
      " 4   object_source         368 non-null    object \n",
      " 5   object_cui            359 non-null    object \n",
      " 6   object_name           359 non-null    object \n",
      " 7   subj_reach_grounding  368 non-null    object \n",
      " 8   obj_reach_grounding   368 non-null    object \n",
      " 9   pmid                  368 non-null    int64  \n",
      " 10  year                  368 non-null    object \n",
      " 11  belief                368 non-null    float64\n",
      " 12  sentence              368 non-null    object \n",
      " 13  predicate_obo         368 non-null    object \n",
      " 14  subject_obo           368 non-null    object \n",
      " 15  object_obo            368 non-null    object \n",
      "dtypes: float64(1), int64(1), object(14)\n",
      "memory usage: 46.1+ KB\n"
     ]
    }
   ],
   "source": [
    "dfkt = pd.read_csv(mr_reach_kt, sep='\\t')\n",
    "dfkt.info()"
   ]
  },
  {
   "cell_type": "code",
   "execution_count": 6,
   "metadata": {},
   "outputs": [
    {
     "name": "stdout",
     "output_type": "stream",
     "text": [
      "<class 'pandas.core.frame.DataFrame'>\n",
      "RangeIndex: 13676 entries, 0 to 13675\n",
      "Data columns (total 13 columns):\n",
      " #   Column         Non-Null Count  Dtype  \n",
      "---  ------         --------------  -----  \n",
      " 0   pmid           13676 non-null  int64  \n",
      " 1   subject_cui    13676 non-null  object \n",
      " 2   subject_type   13676 non-null  object \n",
      " 3   object_cui     13676 non-null  object \n",
      " 4   object_type    13676 non-null  object \n",
      " 5   year           13602 non-null  float64\n",
      " 6   subject_name   13676 non-null  object \n",
      " 7   object_name    13676 non-null  object \n",
      " 8   source_text    13676 non-null  object \n",
      " 9   predicate      13676 non-null  object \n",
      " 10  predicate_obo  13676 non-null  object \n",
      " 11  subject_obo    13676 non-null  object \n",
      " 12  object_obo     13676 non-null  object \n",
      "dtypes: float64(1), int64(1), object(11)\n",
      "memory usage: 1.4+ MB\n"
     ]
    }
   ],
   "source": [
    "dfsem = pd.read_csv(mr_semrep)\n",
    "dfsem.info()"
   ]
  },
  {
   "cell_type": "code",
   "execution_count": 7,
   "metadata": {},
   "outputs": [],
   "source": [
    "dfgt = dfgt[['pmid', 'subject_cui', 'subject_name', 'object_cui', 'object_name', 'pub_year', 'predicate', 'sentence', 'predicate_obo', 'subject_obo', 'object_obo', 'belief']]"
   ]
  },
  {
   "cell_type": "code",
   "execution_count": 8,
   "metadata": {},
   "outputs": [],
   "source": [
    "dfkt = dfkt[['pmid', 'subject_cui', 'subject_name', 'object_cui', 'object_name', 'year', 'predicate', 'sentence', 'predicate_obo', 'subject_obo', 'object_obo', 'belief']]"
   ]
  },
  {
   "cell_type": "code",
   "execution_count": 9,
   "metadata": {},
   "outputs": [],
   "source": [
    "dfsem = dfsem[['pmid', 'subject_cui', 'subject_name', 'object_cui',  'object_name', 'year', 'predicate', 'source_text', 'predicate_obo', 'subject_obo', 'object_obo']]"
   ]
  },
  {
   "cell_type": "code",
   "execution_count": 10,
   "metadata": {},
   "outputs": [],
   "source": [
    "##all dataframes should have the same columns\n",
    "#add belief = 0.8 to semrep predications\n",
    "dfsem['belief'] = 0.8"
   ]
  },
  {
   "cell_type": "code",
   "execution_count": 11,
   "metadata": {},
   "outputs": [],
   "source": [
    "dfgt = dfgt.rename({'pub_year':'year'}, axis=1)\n",
    "dfsem = dfsem.rename({'source_text':'sentence'}, axis=1)"
   ]
  },
  {
   "cell_type": "code",
   "execution_count": 12,
   "metadata": {},
   "outputs": [
    {
     "name": "stdout",
     "output_type": "stream",
     "text": [
      "<class 'pandas.core.frame.DataFrame'>\n",
      "Int64Index: 21722 entries, 0 to 13675\n",
      "Data columns (total 12 columns):\n",
      " #   Column         Non-Null Count  Dtype  \n",
      "---  ------         --------------  -----  \n",
      " 0   pmid           21722 non-null  int64  \n",
      " 1   subject_cui    21710 non-null  object \n",
      " 2   subject_name   21710 non-null  object \n",
      " 3   object_cui     21713 non-null  object \n",
      " 4   object_name    21713 non-null  object \n",
      " 5   year           21648 non-null  object \n",
      " 6   predicate      21722 non-null  object \n",
      " 7   sentence       21722 non-null  object \n",
      " 8   predicate_obo  21722 non-null  object \n",
      " 9   subject_obo    21722 non-null  object \n",
      " 10  object_obo     21722 non-null  object \n",
      " 11  belief         21722 non-null  float64\n",
      "dtypes: float64(1), int64(1), object(10)\n",
      "memory usage: 2.2+ MB\n"
     ]
    }
   ],
   "source": [
    "df = pd.concat([dfgt, dfkt, dfsem])\n",
    "df.info()"
   ]
  },
  {
   "cell_type": "code",
   "execution_count": 13,
   "metadata": {},
   "outputs": [
    {
     "name": "stdout",
     "output_type": "stream",
     "text": [
      "<class 'pandas.core.frame.DataFrame'>\n",
      "Int64Index: 21707 entries, 0 to 13675\n",
      "Data columns (total 12 columns):\n",
      " #   Column         Non-Null Count  Dtype  \n",
      "---  ------         --------------  -----  \n",
      " 0   pmid           21707 non-null  int64  \n",
      " 1   subject_cui    21695 non-null  object \n",
      " 2   subject_name   21695 non-null  object \n",
      " 3   object_cui     21698 non-null  object \n",
      " 4   object_name    21698 non-null  object \n",
      " 5   year           21633 non-null  object \n",
      " 6   predicate      21707 non-null  object \n",
      " 7   sentence       21707 non-null  object \n",
      " 8   predicate_obo  21707 non-null  object \n",
      " 9   subject_obo    21707 non-null  object \n",
      " 10  object_obo     21707 non-null  object \n",
      " 11  belief         21707 non-null  float64\n",
      "dtypes: float64(1), int64(1), object(10)\n",
      "memory usage: 2.2+ MB\n"
     ]
    }
   ],
   "source": [
    "df = df.drop_duplicates()\n",
    "df.info()"
   ]
  },
  {
   "cell_type": "code",
   "execution_count": 14,
   "metadata": {},
   "outputs": [
    {
     "name": "stdout",
     "output_type": "stream",
     "text": [
      "<class 'pandas.core.frame.DataFrame'>\n",
      "RangeIndex: 21707 entries, 0 to 21706\n",
      "Data columns (total 12 columns):\n",
      " #   Column         Non-Null Count  Dtype  \n",
      "---  ------         --------------  -----  \n",
      " 0   pmid           21707 non-null  int64  \n",
      " 1   subject_cui    21695 non-null  object \n",
      " 2   subject_name   21695 non-null  object \n",
      " 3   object_cui     21698 non-null  object \n",
      " 4   object_name    21698 non-null  object \n",
      " 5   year           21633 non-null  object \n",
      " 6   predicate      21707 non-null  object \n",
      " 7   sentence       21707 non-null  object \n",
      " 8   predicate_obo  21707 non-null  object \n",
      " 9   subject_obo    21707 non-null  object \n",
      " 10  object_obo     21707 non-null  object \n",
      " 11  belief         21707 non-null  float64\n",
      "dtypes: float64(1), int64(1), object(10)\n",
      "memory usage: 2.0+ MB\n"
     ]
    }
   ],
   "source": [
    "df = df.reset_index(drop=True)\n",
    "df.info()"
   ]
  },
  {
   "cell_type": "code",
   "execution_count": 15,
   "metadata": {},
   "outputs": [
    {
     "data": {
      "text/plain": [
       "Activation           3624\n",
       "interacts_with       3287\n",
       "Inhibition           2892\n",
       "inhibits             2014\n",
       "coexists_with        1945\n",
       "stimulates           1902\n",
       "part_of              1846\n",
       "treats                927\n",
       "IncreaseAmount        723\n",
       "DecreaseAmount        530\n",
       "affects               447\n",
       "augments              334\n",
       "produces              314\n",
       "disrupts              242\n",
       "causes                190\n",
       "Phosphorylation       158\n",
       "associated_with       135\n",
       "prevents               59\n",
       "Dephosphorylation      47\n",
       "predisposes            31\n",
       "Methylation            16\n",
       "Hydroxylation          12\n",
       "Acetylation             8\n",
       "Glycosylation           6\n",
       "Dehydroxylation         6\n",
       "Demethylation           5\n",
       "Deacetylation           2\n",
       "complicates             2\n",
       "precedes                1\n",
       "Deubiquitination        1\n",
       "Ubiquitination          1\n",
       "Name: predicate, dtype: int64"
      ]
     },
     "execution_count": 15,
     "metadata": {},
     "output_type": "execute_result"
    }
   ],
   "source": [
    "df['predicate'].value_counts()"
   ]
  },
  {
   "cell_type": "code",
   "execution_count": 16,
   "metadata": {},
   "outputs": [
    {
     "data": {
      "text/plain": [
       "http://purl.obolibrary.org/obo/RO_0002449     4906\n",
       "http://purl.obolibrary.org/obo/RO_0002448     3624\n",
       "http://purl.obolibrary.org/obo/RO_0002434     3287\n",
       "http://purl.obolibrary.org/obo/RO_0002490     1945\n",
       "http://purl.obolibrary.org/obo/RO_0002213     1902\n",
       "http://purl.obolibrary.org/obo/BFO_0000050    1846\n",
       "http://purl.obolibrary.org/obo/RO_0002606      927\n",
       "http://purl.obolibrary.org/obo/RO_0011009      723\n",
       "http://purl.obolibrary.org/obo/RO_0011010      530\n",
       "http://purl.obolibrary.org/obo/RO_0002596      447\n",
       "http://purl.obolibrary.org/obo/RO_0002598      334\n",
       "http://purl.obolibrary.org/obo/RO_0003000      314\n",
       "http://purl.obolibrary.org/obo/RO_0002212      242\n",
       "http://purl.obolibrary.org/obo/RO_0002566      190\n",
       "http://purl.obolibrary.org/obo/RO_0002447      158\n",
       "http://purl.obolibrary.org/obo/RO_0002610      135\n",
       "http://purl.obolibrary.org/obo/RO_0002599       59\n",
       "http://purl.obolibrary.org/obo/GO_0006470       47\n",
       "http://purl.obolibrary.org/obo/RO_0003302       31\n",
       "http://purl.obolibrary.org/obo/GO_0006479       16\n",
       "http://purl.obolibrary.org/obo/GO_0018126       12\n",
       "http://purl.obolibrary.org/obo/GO_0006473        8\n",
       "http://purl.obolibrary.org/obo/GO_0006486        6\n",
       "http://purl.obolibrary.org/obo/RO_0002436        6\n",
       "http://purl.obolibrary.org/obo/GO_0006482        5\n",
       "http://purl.obolibrary.org/obo/GO_0006476        2\n",
       "http://purl.obolibrary.org/obo/RO_0003309        2\n",
       "http://purl.obolibrary.org/obo/RO_0002480        1\n",
       "http://purl.obolibrary.org/obo/BFO_0000063       1\n",
       "http://purl.obolibrary.org/obo/GO_0016579        1\n",
       "Name: predicate_obo, dtype: int64"
      ]
     },
     "execution_count": 16,
     "metadata": {},
     "output_type": "execute_result"
    }
   ],
   "source": [
    "df['predicate_obo'].value_counts()"
   ]
  },
  {
   "cell_type": "markdown",
   "metadata": {},
   "source": [
    "### Rules"
   ]
  },
  {
   "cell_type": "code",
   "execution_count": 17,
   "metadata": {},
   "outputs": [],
   "source": [
    "## Example\n",
    "##Transitive predicates - part of, precedes, stimulates/positively regulates\n",
    "##Symmetric predicates - interacts_with, moleculary_interacts_with\n",
    "env.clear()\n",
    "env.reset()\n",
    "\n",
    "env.eval('(open \"closure_output/test-inference-2.ntriples\" writeFile \"a\")')\n",
    "\n",
    "env.build(\"\"\"\n",
    "(deftemplate oav\n",
    " (slot object)\n",
    " (slot attribute)\n",
    " (slot value)\n",
    " (slot predNS)\n",
    " (slot inferred (default No))\n",
    " (slot belief (default 0.0)))\n",
    "\"\"\")\n",
    "\n",
    "## Transitive rule \n",
    "env.build(\"\"\"\n",
    "(defrule transitive\n",
    "  \"a simple transitivity rule\"\n",
    "  (oav (object ?o)\n",
    "       (attribute ?pred&:(member$ ?pred (create$ http://purl.obolibrary.org/obo/BFO_0000063 http://purl.obolibrary.org/obo/BFO_0000050 http://purl.obolibrary.org/obo/RO_0002213)))\n",
    "       (value ?s)\n",
    "       (predNS RO)\n",
    "       (inferred No)\n",
    "       (belief ?b1))\n",
    "  (oav (object ?s)\n",
    "       (attribute ?pred)\n",
    "       (value ?q)\n",
    "       (predNS RO)\n",
    "       (inferred No)\n",
    "       (belief ?b2))\n",
    "   (test (>= (* ?b1 ?b2) {}))\n",
    "  =>\n",
    "  (assert (oav (object ?o)\n",
    "               (attribute ?pred)\n",
    "               (value ?q)\n",
    "               (inferred Yes)\n",
    "               (predNS RO)\n",
    "               (belief (* ?b1 ?b2))))\n",
    "  \n",
    "  (printout writeFile (format nil \"<%s><%s><%s>.%n\" ?o ?pred ?q))   \n",
    ")\n",
    "\"\"\".format(MIN_TRANSITIVE_BELIEF))\n",
    "# NOTE: add this line to RHS to see the belief scores:\n",
    "# (printout writeFile (format nil \"b1: %f, b2: %f, belief: %f>.%n\" ?b1 ?b2 (* ?b1 ?b2))) \n",
    "\n",
    "## simplerule for symmetric relationships \n",
    "env.build(\"\"\"\n",
    "(defrule symmetric\n",
    "  \"a simple symmetry rule\"\n",
    "  (oav (object ?o)\n",
    "       (attribute ?pred&:(member$ ?pred (create$ http://purl.obolibrary.org/obo/RO_0002434 http://purl.obolibrary.org/obo/RO_0002436)))\n",
    "       (value ?s)\n",
    "       (predNS RO)\n",
    "       (inferred No)\n",
    "       (belief ?b))\n",
    "  =>\n",
    "  (assert (oav (object ?s)\n",
    "               (attribute ?pred)\n",
    "               (value ?o)\n",
    "               (inferred Yes)\n",
    "               (predNS RO)\n",
    "               (belief ?b)))\n",
    "  \n",
    "  (printout writeFile (format nil \"<%s><%s><%s>.%n\" ?o ?pred ?s))  \n",
    ")\n",
    "\"\"\")\n"
   ]
  },
  {
   "cell_type": "code",
   "execution_count": 18,
   "metadata": {},
   "outputs": [],
   "source": [
    "predMapD = {\n",
    "    'regulateactivity':'RO_0011002',\n",
    "    'regulateamount':'RO_0011003',\n",
    "    'phosphorylation':'RO_0002447',\n",
    "    'dephosphorylation':'GO_0006470',\n",
    "    'ubiquitination':'RO_0002480',\n",
    "    'deubiquitination':'GO_0016579',\n",
    "    'sumoylation':'RO_0002436',\n",
    "    'desumoylation':'RO_0002436',\n",
    "    'hydroxylation':'GO_0018126',\n",
    "    'dehydroxylation':'RO_0002436',\n",
    "    'acetylation':'GO_0006473',\n",
    "    'deacetylation':'GO_0006476',\n",
    "    'glycosylation':'GO_0006486',\n",
    "    'deglycosylation':'GO_0006517',\n",
    "    'farnesylation':'RO_0002436',\n",
    "    'defarnesylation':'RO_0002436',\n",
    "    'geranylgeranylation':'RO_0002436',\n",
    "    'degeranylgeranylation':'RO_0002436',\n",
    "    'palmitoylation':'RO_0002436',\n",
    "    'depalmitoylation':'RO_0002436',\n",
    "    'myristoylation':'RO_0002436',\n",
    "    'demyristoylation':'RO_0002436',\n",
    "    'ribosylation':'RO_0002436',\n",
    "    'deribosylation':'RO_0002436',\n",
    "    'methylation':'GO_0006479',\n",
    "    'demethylation':'GO_0006482',\n",
    "    'activation':'RO_0002448',\n",
    "    'inhibition':'RO_0002449',\n",
    "    'increaseamount':'RO_0011009',\n",
    "    'decreaseamount':'RO_0011010',\n",
    "    'affects': 'RO_0002596',\n",
    "    'associated_with': 'RO_0002610',\n",
    "    'augments': 'RO_0002598',\n",
    "    'causes': 'RO_0002566',\n",
    "    'coexists_with': 'RO_0002490',\n",
    "    'complicates': 'RO_0003309',\n",
    "    'disrupts': 'RO_0002212',\n",
    "    'inhibits': 'RO_0002449',\n",
    "    'interacts_with': 'RO_0002434',\n",
    "    'part_of': 'BFO_0000050',\n",
    "    'precedes': 'BFO_0000063',\n",
    "    'predisposes': 'RO_0003302',\n",
    "    'prevents': 'RO_0002599',\n",
    "    'produces': 'RO_0003000',\n",
    "    'stimulates': 'RO_0002213',\n",
    "    'treats': 'RO_0002606'\n",
    "}\n"
   ]
  },
  {
   "cell_type": "markdown",
   "metadata": {},
   "source": [
    "### Facts "
   ]
  },
  {
   "cell_type": "code",
   "execution_count": 19,
   "metadata": {},
   "outputs": [],
   "source": [
    "originalTriplesF = open('closure_output/original-triples-2.ntriples','w')\n",
    "\n",
    "resourceD = {}\n",
    "resourceDinv = {}\n",
    "rcnt = 0\n",
    "fctStrD = {}\n",
    "#semTypeD = {}\n",
    "labelsD = {}\n",
    "\n",
    "for i in range(len(df.index)): \n",
    "   \n",
    "    belief = df.at[i, 'belief']\n",
    "    if belief < MIN_PREDICATION_BELIEF:\n",
    "        continue\n",
    "    \n",
    "    (subj_obo, pred_obo, obj_obo) = (df.at[i, 'subject_obo'],\n",
    "                                    df.at[i, 'predicate_obo'],\n",
    "                                    df.at[i, 'object_obo'])\n",
    "    (subj, pred, obj) = (df.at[i,'subject_name'],\n",
    "                        df.at[i,'predicate'].lower().strip(),\n",
    "                        df.at[i, 'object_name'])\n",
    "\n",
    "    # only write out and/or do inference over some predicates\n",
    "    if pred not in predMapD:        \n",
    "        continue\n",
    "        \n",
    "    # write the original triple to file, regardless of the predicate\n",
    "    originalTriplesF.write(\"<{}><{}><{}>.\\n\".format(subj_obo,pred_obo,obj_obo))\n",
    "        \n",
    "    # Track the subject and object names\n",
    "    subjName = subj\n",
    "    objName = obj\n",
    "    \n",
    "    \n",
    "    '''# Track the semantic types\n",
    "    semTypesStr = stmtSplt[SUBJECT_TYPE]\n",
    "    if semTypesStr.find('[') == -1:\n",
    "        if not semTypeD.get(subj):\n",
    "            semTypeD[subj] = [semTypesStr.strip()]\n",
    "        else:\n",
    "            semTypeD[subj] = semTypeD[subj].append(semTypesStr.strip())\n",
    "    else:\n",
    "        semTypesStr = semTypesStr.replace(\"'\",'').replace('[','').replace(']','')\n",
    "        semTypesL = [x.strip() for x in semTypesStr.split(',')]\n",
    "        if not semTypeD.get(subj):\n",
    "            semTypeD[subj] = semTypesL\n",
    "        else:\n",
    "            semTypeD[subj] = semTypeD[subj] + semTypesL\n",
    "            \n",
    "    semTypesStr = stmtSplt[OBJECT_TYPE]\n",
    "    if semTypesStr.find('[') == -1:\n",
    "        if not semTypeD.get(obj):\n",
    "            semTypeD[obj] = [semTypesStr.strip()]\n",
    "        else:\n",
    "            semTypeD[obj] = semTypeD[obj].append(semTypesStr.strip())\n",
    "    else:\n",
    "        semTypesStr = semTypesStr.replace(\"'\",'').replace('[','').replace(']','')\n",
    "        semTypesL = [x.strip() for x in semTypesStr.split(',')]\n",
    "        if not semTypeD.get(obj):\n",
    "            semTypeD[obj] = semTypesL\n",
    "        else:\n",
    "            semTypeD[obj] = semTypeD[obj] + semTypesL'''\n",
    "        \n",
    "    if not resourceD.get(subj_obo):\n",
    "        resourceD[subj_obo] = 'r{}'.format(rcnt)\n",
    "        resourceDinv['r{}'.format(rcnt)] = subj_obo\n",
    "        rcnt += 1\n",
    "    \n",
    "    if not resourceD.get(obj_obo):\n",
    "        resourceD[obj_obo] = 'r{}'.format(rcnt)\n",
    "        resourceDinv['r{}'.format(rcnt)] = obj_obo\n",
    "        rcnt += 1    \n",
    "    \n",
    "        \n",
    "    fctStr = \"\"\"\n",
    "(oav (object {})\n",
    "     (attribute {})\n",
    "     (value {})\n",
    "     (predNS {})\n",
    "     (belief {})\n",
    ")\"\"\".format(resourceD[subj_obo], pred_obo, resourceD[obj_obo], 'RO', belief)\n",
    "    \n",
    "    if not fctStrD.get(fctStr): \n",
    "        env.assert_string(fctStr)\n",
    "        fctStrD[fctStr] = 1\n",
    "    \n",
    "    \n",
    "    # write the human readable labels as triples\n",
    "    if isinstance(subj,str):\n",
    "        originalTriplesF.write('<{}><http://www.w3.org/2000/01/rdf-schema#label> \"{}\".\\n'.format(subj_obo,subj.replace('\"','')))\n",
    "    if isinstance(obj,str):\n",
    "        originalTriplesF.write('<{}><http://www.w3.org/2000/01/rdf-schema#label> \"{}\".\\n'.format(obj_obo,obj.replace('\"','')))\n",
    "\n",
    "'''# Write the semantic types as triples\n",
    "for (e,st) in semTypeD.items():\n",
    "    if st:\n",
    "        stSet = set(st)\n",
    "        for elt in stSet:\n",
    "            originalTriplesF.write(\"<http://dikb.org/ad#{}><http://www.w3.org/1999/02/22-rdf-syntax-ns#type><http://umls.org/st/#{}>.\\n\".format(e,elt.replace('\"','')))\n",
    "'''\n",
    "originalTriplesF.close()"
   ]
  },
  {
   "cell_type": "code",
   "execution_count": 20,
   "metadata": {},
   "outputs": [
    {
     "name": "stdout",
     "output_type": "stream",
     "text": [
      "(oav (object r0) (attribute http://purl.obolibrary.org/obo/GO_0006473) (value r1) (predNS RO) (inferred No) (belief 0.65))\n",
      "(oav (object r2) (attribute http://purl.obolibrary.org/obo/GO_0006473) (value r3) (predNS RO) (inferred No) (belief 0.65))\n",
      "(oav (object r4) (attribute http://purl.obolibrary.org/obo/GO_0006473) (value r1) (predNS RO) (inferred No) (belief 0.65))\n",
      "(oav (object r5) (attribute http://purl.obolibrary.org/obo/GO_0006473) (value r6) (predNS RO) (inferred No) (belief 0.65))\n",
      "(oav (object r7) (attribute http://purl.obolibrary.org/obo/GO_0006473) (value r8) (predNS RO) (inferred No) (belief 0.86))\n",
      "(oav (object r6) (attribute http://purl.obolibrary.org/obo/GO_0006473) (value r8) (predNS RO) (inferred No) (belief 0.65))\n",
      "(oav (object r9) (attribute http://purl.obolibrary.org/obo/GO_0006473) (value r8) (predNS RO) (inferred No) (belief 0.86))\n",
      "(oav (object r10) (attribute http://purl.obolibrary.org/obo/GO_0006473) (value r1) (predNS RO) (inferred No) (belief 0.65))\n",
      "(oav (object r11) (attribute http://purl.obolibrary.org/obo/RO_0002448) (value r12) (predNS RO) (inferred No) (belief 0.65))\n",
      "(oav (object r11) (attribute http://purl.obolibrary.org/obo/RO_0002448) (value r13) (predNS RO) (inferred No) (belief 0.65))\n",
      "(oav (object r14) (attribute http://purl.obolibrary.org/obo/RO_0002448) (value r15) (predNS RO) (inferred No) (belief 0.65))\n",
      "(oav (object r14) (attribute http://purl.obolibrary.org/obo/RO_0002448) (value r16) (predNS RO) (inferred No) (belief 0.65))\n",
      "(oav (object r17) (attribute http://purl.obolibrary.org/obo/RO_0002448) (value r18) (predNS RO) (inferred No) (belief 0.65))\n",
      "(oav (object r17) (attribute http://purl.obolibrary.org/obo/RO_0002448) (value r19) (predNS RO) (inferred No) (belief 0.65))\n",
      "(oav (object r20) (attribute http://purl.obolibrary.org/obo/RO_0002448) (value r21) (predNS RO) (inferred No) (belief 0.65))\n",
      "(oav (object r22) (attribute http://purl.obolibrary.org/obo/RO_0002448) (value r23) (predNS RO) (inferred No) (belief 0.65))\n",
      "(oav (object r24) (attribute http://purl.obolibrary.org/obo/RO_0002448) (value r25) (predNS RO) (inferred No) (belief 0.65))\n",
      "(oav (object r24) (attribute http://purl.obolibrary.org/obo/RO_0002448) (value r26) (predNS RO) (inferred No) (belief 0.923))\n",
      "(oav (object r24) (attribute http://purl.obolibrary.org/obo/RO_0002448) (value r27) (predNS RO) (inferred No) (belief 0.65))\n",
      "(oav (object r16) (attribute http://purl.obolibrary.org/obo/RO_0002448) (value r28) (predNS RO) (inferred No) (belief 0.65))\n",
      "(oav (object r16) (attribute http://purl.obolibrary.org/obo/RO_0002448) (value r29) (predNS RO) (inferred No) (belief 0.65))\n"
     ]
    }
   ],
   "source": [
    "i = 0\n",
    "for fact in env.facts():\n",
    "    print(fact)\n",
    "    if i == 20:\n",
    "        break\n",
    "    i += 1"
   ]
  },
  {
   "cell_type": "code",
   "execution_count": 21,
   "metadata": {},
   "outputs": [
    {
     "data": {
      "text/plain": [
       "2421"
      ]
     },
     "execution_count": 21,
     "metadata": {},
     "output_type": "execute_result"
    }
   ],
   "source": [
    "env.run()\n",
    "# count of inferences by cutoff for transitive belief score: 0.65 = 2241, 0 = 14539"
   ]
  },
  {
   "cell_type": "markdown",
   "metadata": {},
   "source": [
    "The output tells use how many RHS made changes to working memory"
   ]
  },
  {
   "cell_type": "code",
   "execution_count": 38,
   "metadata": {},
   "outputs": [
    {
     "name": "stdout",
     "output_type": "stream",
     "text": [
      "http://purl.obolibrary.org/obo/SO_0000704 r0\n"
     ]
    }
   ],
   "source": [
    "for k in resourceD:\n",
    "    print(k,resourceD[k])\n",
    "    break"
   ]
  },
  {
   "cell_type": "code",
   "execution_count": 39,
   "metadata": {},
   "outputs": [
    {
     "name": "stdout",
     "output_type": "stream",
     "text": [
      "r0 http://purl.obolibrary.org/obo/SO_0000704\n"
     ]
    }
   ],
   "source": [
    "for k in resourceDinv:\n",
    "    print(k,resourceDinv[k])\n",
    "    break"
   ]
  },
  {
   "cell_type": "code",
   "execution_count": 22,
   "metadata": {},
   "outputs": [],
   "source": [
    "import re\n",
    "\n",
    "f = open('closure_output/test-inference-2.ntriples','r')\n",
    "buf = f.read()\n",
    "f.close()\n",
    "rsL = buf.split('\\n')\n",
    "\n",
    "'''rgx = re.compile('(http://purl.obolibrary.org/obo/)([A-Z_0-9]+)')\n",
    "for i in range(0,len(rsL)):\n",
    "    if rsL[i] == \"\":\n",
    "        continue\n",
    "        \n",
    "    ml = rgx.findall(rsL[i])\n",
    "    if len(ml) != 1:\n",
    "        print('ERROR: could not match on predicate regex: {}'.format(rsL[i]))\n",
    "        continue\n",
    "        \n",
    "    (uri,predicate) = ml[0]\n",
    "    rsL[i] = rsL[i].replace(predicate, predMapD[predicate])'''\n",
    "    \n",
    "\n",
    "f = open('closure_output/inferred-transitive-and-symmetric-2.ntriples','w')\n",
    "rgx = re.compile('(r[0-9]+)')\n",
    "for it in rsL:\n",
    "    keyL = rgx.findall(it)\n",
    "    newTr = it\n",
    "    for k in keyL:\n",
    "        if resourceDinv.get(k):\n",
    "            newTr = newTr.replace(k, resourceDinv[k])            \n",
    "        else:\n",
    "            print('ERROR: key not found in resourceDinv: {}'.format(k))\n",
    "    f.write(newTr + '\\n')\n",
    "f.close()\n"
   ]
  },
  {
   "cell_type": "markdown",
   "metadata": {},
   "source": [
    "### Save as gpickle file with metadata"
   ]
  },
  {
   "cell_type": "code",
   "execution_count": 23,
   "metadata": {},
   "outputs": [],
   "source": [
    "import pandas as pd\n",
    "import numpy as np\n",
    "import pickle\n",
    "from rdflib.namespace import OWL, RDF, RDFS\n",
    "import os\n",
    "import pickle, json\n",
    "\n",
    "#Create networkx graph from triples\n",
    "import glob\n",
    "import hashlib\n",
    "import json\n",
    "import networkx as nx  # type: ignore\n",
    "import os\n",
    "import os.path\n",
    "\n",
    "from collections import Counter  # type: ignore\n",
    "from more_itertools import unique_everseen  # type: ignore\n",
    "from rdflib import BNode, Graph, Literal, Namespace, URIRef  # type: ignore\n",
    "from rdflib.namespace import OWL, RDF, RDFS  # type: ignore\n",
    "from rdflib.plugins.serializers.nt import _quoteLiteral  # type: ignore\n",
    "import subprocess\n",
    "\n",
    "from tqdm import tqdm  # type: ignore\n",
    "from typing import Dict, List, Optional, Set, Tuple, Union"
   ]
  },
  {
   "cell_type": "code",
   "execution_count": 24,
   "metadata": {},
   "outputs": [],
   "source": [
    "with open('closure_output/inferred-transitive-and-symmetric-2.ntriples','r') as file1:\n",
    "    g = file1.read()\n",
    "graph1 = g.split('\\n')"
   ]
  },
  {
   "cell_type": "code",
   "execution_count": 25,
   "metadata": {},
   "outputs": [],
   "source": [
    "obo = Namespace('http://purl.obolibrary.org/obo/')\n",
    "oboinowl = Namespace('http://www.geneontology.org/formats/oboInOwl#')\n",
    "schema = Namespace('http://www.w3.org/2001/XMLSchema#')\n",
    "napdi = Namespace('http://napdi.org/napdi-srs-imports:')"
   ]
  },
  {
   "cell_type": "code",
   "execution_count": 26,
   "metadata": {},
   "outputs": [],
   "source": [
    "def n3(node: Union[URIRef, BNode, Literal]) -> str:\n",
    "    \"\"\"Method takes an RDFLib node of type BNode, URIRef, or Literal and serializes it to meet the RDF 1.1 NTriples\n",
    "    format.\n",
    "    Src: https://github.com/RDFLib/rdflib/blob/c11f7b503b50b7c3cdeec0f36261fa09b0615380/rdflib/plugins/serializers/nt.py\n",
    "    Args:\n",
    "        node: An RDFLib\n",
    "    Returns:\n",
    "        serialized_node: A string containing the serialized\n",
    "    \"\"\"\n",
    "    if isinstance(node, Literal): serialized_node = \"%s\" % _quoteLiteral(node)\n",
    "    else: serialized_node = \"%s\" % node.n3()\n",
    "    return serialized_node"
   ]
  },
  {
   "cell_type": "code",
   "execution_count": 27,
   "metadata": {},
   "outputs": [
    {
     "data": {
      "text/plain": [
       "'<http://purl.obolibrary.org/obo/NCBITaxon_1224><http://purl.obolibrary.org/obo/RO_0002434><http://purl.obolibrary.org/obo/NCBITaxon_2>.'"
      ]
     },
     "execution_count": 27,
     "metadata": {},
     "output_type": "execute_result"
    }
   ],
   "source": [
    "graph1[0]"
   ]
  },
  {
   "cell_type": "code",
   "execution_count": 28,
   "metadata": {},
   "outputs": [],
   "source": [
    "import re"
   ]
  },
  {
   "cell_type": "code",
   "execution_count": 25,
   "metadata": {},
   "outputs": [
    {
     "data": {
      "text/plain": [
       "['http://napdi.org/napdi_srs_imports:epigallocatechin_gallate',\n",
       " 'http://purl.obolibrary.org/obo/RO_0002213',\n",
       " 'http://purl.obolibrary.org/obo/CHEBI_27843']"
      ]
     },
     "execution_count": 25,
     "metadata": {},
     "output_type": "execute_result"
    }
   ],
   "source": [
    "x = '<http://napdi.org/napdi_srs_imports:epigallocatechin_gallate><http://purl.obolibrary.org/obo/RO_0002213><http://purl.obolibrary.org/obo/CHEBI_27843>.'\n",
    "rgx = re.compile('(http://[a-zA-Z0-9/._:]+)')\n",
    "rgx.findall(x)"
   ]
  },
  {
   "cell_type": "code",
   "execution_count": 29,
   "metadata": {},
   "outputs": [],
   "source": [
    "#convert rdflib graph to multidigraph - code borrowed from PheKnowLator: kg_utils.py\n",
    "#use the pred key to also create a dictionary with metadata about the edge - add INF tag for inferred triples\n",
    "errors = []\n",
    "nx_mdg = nx.MultiDiGraph()\n",
    "for triple in graph1:\n",
    "    #do not save label predicate to gpickle\n",
    "\n",
    "    rgx = re.compile('(http://[a-zA-Z0-9/._:]+)')\n",
    "    match = rgx.findall(triple)\n",
    "    if len(match)!=3:\n",
    "        errors.append(triple)\n",
    "        continue\n",
    "    subj = match[0]\n",
    "    obj = match[2]\n",
    "    pred = match[1]\n",
    "    s = URIRef(subj)\n",
    "    p = URIRef(pred)\n",
    "    o = URIRef(obj)\n",
    "\n",
    "    pred_key = hashlib.md5('{}{}{}'.format(n3(s), n3(p), n3(o)).encode()).hexdigest()\n",
    "    nx_mdg.add_node(s, key=n3(s))\n",
    "    nx_mdg.add_node(o, key=n3(o))\n",
    "    nx_mdg.add_edge(s, o, **{'key': p, 'predicate_key': pred_key, 'weight':0.0,\n",
    "                             'source_graph': 'machine_read_INF'})\n",
    "\n",
    "nx.write_gpickle(nx_mdg, \"closure_output/machineread_inferred_symmetric_transitive-2.gpickle\")"
   ]
  },
  {
   "cell_type": "code",
   "execution_count": 30,
   "metadata": {},
   "outputs": [
    {
     "name": "stdout",
     "output_type": "stream",
     "text": [
      "1247 2400 0.0015446381105986631 1.9246190858059342\n"
     ]
    }
   ],
   "source": [
    "#this should have less edges than rdflib graph after removing 'labels'\n",
    "nodes = nx.number_of_nodes(nx_mdg)\n",
    "edges = nx.number_of_edges(nx_mdg)\n",
    "density = nx.density(nx_mdg)\n",
    "avg_deg = float(edges)/nodes\n",
    "print(nodes, edges, density, avg_deg)"
   ]
  },
  {
   "cell_type": "code",
   "execution_count": 31,
   "metadata": {},
   "outputs": [
    {
     "data": {
      "text/plain": [
       "2"
      ]
     },
     "execution_count": 31,
     "metadata": {},
     "output_type": "execute_result"
    }
   ],
   "source": [
    "len(errors)"
   ]
  },
  {
   "cell_type": "code",
   "execution_count": 32,
   "metadata": {},
   "outputs": [
    {
     "data": {
      "text/plain": [
       "['<http://purl.obolibrary.org/obo/CHEBI_166890><http://purl.obolibrary.org/obo/RO_',\n",
       " '']"
      ]
     },
     "execution_count": 32,
     "metadata": {},
     "output_type": "execute_result"
    }
   ],
   "source": [
    "errors"
   ]
  },
  {
   "cell_type": "code",
   "execution_count": 36,
   "metadata": {},
   "outputs": [
    {
     "data": {
      "text/plain": [
       "14513"
      ]
     },
     "execution_count": 36,
     "metadata": {},
     "output_type": "execute_result"
    }
   ],
   "source": [
    "##get stats of inferred triples\n",
    "with open('closure_output/inferred-transitive-and-symmetric.ntriples') as filei:\n",
    "    g = filei.read()\n",
    "graph1 = g.split('\\n')\n",
    "len(graph1)"
   ]
  },
  {
   "cell_type": "code",
   "execution_count": 37,
   "metadata": {},
   "outputs": [
    {
     "data": {
      "text/plain": [
       "'<http://purl.obolibrary.org/obo/NCBITaxon_1224><http://purl.obolibrary.org/obo/RO_0002434><http://purl.obolibrary.org/obo/NCBITaxon_2>.'"
      ]
     },
     "execution_count": 37,
     "metadata": {},
     "output_type": "execute_result"
    }
   ],
   "source": [
    "graph1[0]"
   ]
  },
  {
   "cell_type": "code",
   "execution_count": 38,
   "metadata": {},
   "outputs": [],
   "source": [
    "s = []\n",
    "p = []\n",
    "o = []\n",
    "for triple in graph1:\n",
    "    rgx = re.compile('(http://[a-zA-Z0-9/._:]+)')\n",
    "    match = rgx.findall(triple)\n",
    "    if len(match)!=3:\n",
    "        errors.append(triple)\n",
    "        continue\n",
    "    subj = match[0]\n",
    "    obj = match[2]\n",
    "    pred = match[1]\n",
    "    s.append(subj)\n",
    "    p.append(pred)\n",
    "    o.append(obj)"
   ]
  },
  {
   "cell_type": "code",
   "execution_count": 39,
   "metadata": {},
   "outputs": [
    {
     "data": {
      "text/html": [
       "<div>\n",
       "<style scoped>\n",
       "    .dataframe tbody tr th:only-of-type {\n",
       "        vertical-align: middle;\n",
       "    }\n",
       "\n",
       "    .dataframe tbody tr th {\n",
       "        vertical-align: top;\n",
       "    }\n",
       "\n",
       "    .dataframe thead th {\n",
       "        text-align: right;\n",
       "    }\n",
       "</style>\n",
       "<table border=\"1\" class=\"dataframe\">\n",
       "  <thead>\n",
       "    <tr style=\"text-align: right;\">\n",
       "      <th></th>\n",
       "      <th>subject_obo</th>\n",
       "      <th>pred_obo</th>\n",
       "      <th>object_obo</th>\n",
       "    </tr>\n",
       "  </thead>\n",
       "  <tbody>\n",
       "    <tr>\n",
       "      <th>0</th>\n",
       "      <td>http://purl.obolibrary.org/obo/NCBITaxon_1224</td>\n",
       "      <td>http://purl.obolibrary.org/obo/RO_0002434</td>\n",
       "      <td>http://purl.obolibrary.org/obo/NCBITaxon_2</td>\n",
       "    </tr>\n",
       "    <tr>\n",
       "      <th>1</th>\n",
       "      <td>http://purl.obolibrary.org/obo/UBERON_0013756</td>\n",
       "      <td>http://purl.obolibrary.org/obo/BFO_0000050</td>\n",
       "      <td>http://purl.obolibrary.org/obo/UBERON_0007023</td>\n",
       "    </tr>\n",
       "    <tr>\n",
       "      <th>2</th>\n",
       "      <td>http://purl.obolibrary.org/obo/UBERON_0013756</td>\n",
       "      <td>http://purl.obolibrary.org/obo/BFO_0000050</td>\n",
       "      <td>http://purl.obolibrary.org/obo/NCBITaxon_9606</td>\n",
       "    </tr>\n",
       "    <tr>\n",
       "      <th>3</th>\n",
       "      <td>http://purl.obolibrary.org/obo/UBERON_0013756</td>\n",
       "      <td>http://purl.obolibrary.org/obo/BFO_0000050</td>\n",
       "      <td>http://purl.obolibrary.org/obo/CLO_0037339</td>\n",
       "    </tr>\n",
       "    <tr>\n",
       "      <th>4</th>\n",
       "      <td>http://purl.obolibrary.org/obo/UBERON_0013756</td>\n",
       "      <td>http://purl.obolibrary.org/obo/BFO_0000050</td>\n",
       "      <td>http://purl.obolibrary.org/obo/NCBITaxon_10088</td>\n",
       "    </tr>\n",
       "  </tbody>\n",
       "</table>\n",
       "</div>"
      ],
      "text/plain": [
       "                                     subject_obo  \\\n",
       "0  http://purl.obolibrary.org/obo/NCBITaxon_1224   \n",
       "1  http://purl.obolibrary.org/obo/UBERON_0013756   \n",
       "2  http://purl.obolibrary.org/obo/UBERON_0013756   \n",
       "3  http://purl.obolibrary.org/obo/UBERON_0013756   \n",
       "4  http://purl.obolibrary.org/obo/UBERON_0013756   \n",
       "\n",
       "                                     pred_obo  \\\n",
       "0   http://purl.obolibrary.org/obo/RO_0002434   \n",
       "1  http://purl.obolibrary.org/obo/BFO_0000050   \n",
       "2  http://purl.obolibrary.org/obo/BFO_0000050   \n",
       "3  http://purl.obolibrary.org/obo/BFO_0000050   \n",
       "4  http://purl.obolibrary.org/obo/BFO_0000050   \n",
       "\n",
       "                                       object_obo  \n",
       "0      http://purl.obolibrary.org/obo/NCBITaxon_2  \n",
       "1   http://purl.obolibrary.org/obo/UBERON_0007023  \n",
       "2   http://purl.obolibrary.org/obo/NCBITaxon_9606  \n",
       "3      http://purl.obolibrary.org/obo/CLO_0037339  \n",
       "4  http://purl.obolibrary.org/obo/NCBITaxon_10088  "
      ]
     },
     "execution_count": 39,
     "metadata": {},
     "output_type": "execute_result"
    }
   ],
   "source": [
    "dfinf = pd.DataFrame()\n",
    "dfinf['subject_obo'] = s\n",
    "dfinf['pred_obo'] = p\n",
    "dfinf['object_obo'] = o\n",
    "dfinf.head()"
   ]
  },
  {
   "cell_type": "code",
   "execution_count": 40,
   "metadata": {},
   "outputs": [
    {
     "name": "stdout",
     "output_type": "stream",
     "text": [
      "<class 'pandas.core.frame.DataFrame'>\n",
      "RangeIndex: 14511 entries, 0 to 14510\n",
      "Data columns (total 3 columns):\n",
      " #   Column       Non-Null Count  Dtype \n",
      "---  ------       --------------  ----- \n",
      " 0   subject_obo  14511 non-null  object\n",
      " 1   pred_obo     14511 non-null  object\n",
      " 2   object_obo   14511 non-null  object\n",
      "dtypes: object(3)\n",
      "memory usage: 340.2+ KB\n"
     ]
    }
   ],
   "source": [
    "dfinf.info()"
   ]
  },
  {
   "cell_type": "code",
   "execution_count": 41,
   "metadata": {},
   "outputs": [
    {
     "data": {
      "text/plain": [
       "http://purl.obolibrary.org/obo/RO_0002213     10627\n",
       "http://purl.obolibrary.org/obo/RO_0002434      2398\n",
       "http://purl.obolibrary.org/obo/BFO_0000050     1486\n",
       "Name: pred_obo, dtype: int64"
      ]
     },
     "execution_count": 41,
     "metadata": {},
     "output_type": "execute_result"
    }
   ],
   "source": [
    "dfinf['pred_obo'].value_counts()"
   ]
  },
  {
   "cell_type": "code",
   "execution_count": null,
   "metadata": {},
   "outputs": [],
   "source": [
    "10627 - positively regulates\n",
    "2398 - interacts with\n",
    "1486 - part of"
   ]
  }
 ],
 "metadata": {
  "kernelspec": {
   "display_name": "Python 3",
   "language": "python",
   "name": "python3"
  },
  "language_info": {
   "codemirror_mode": {
    "name": "ipython",
    "version": 3
   },
   "file_extension": ".py",
   "mimetype": "text/x-python",
   "name": "python",
   "nbconvert_exporter": "python",
   "pygments_lexer": "ipython3",
   "version": "3.6.13"
  }
 },
 "nbformat": 4,
 "nbformat_minor": 4
}
