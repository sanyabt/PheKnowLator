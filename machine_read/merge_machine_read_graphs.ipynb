{
 "cells": [
  {
   "cell_type": "markdown",
   "id": "399cb0ac-ee8b-4387-82b4-06ba0818fadc",
   "metadata": {},
   "source": [
    "### Notebook to merge machine read triples after extraction and processing from INDRA/REACH and SemRep"
   ]
  },
  {
   "cell_type": "code",
   "execution_count": 1,
   "id": "7b31f7b3-64a5-4cd1-b861-c37df7f56b68",
   "metadata": {},
   "outputs": [],
   "source": [
    "import pandas as pd\n",
    "import numpy as np\n",
    "import pickle\n",
    "from rdflib.namespace import OWL, RDF, RDFS\n",
    "import os\n",
    "import pickle, json\n",
    "\n",
    "#Create networkx graph from triples\n",
    "import glob\n",
    "import hashlib\n",
    "import json\n",
    "import networkx as nx  # type: ignore\n",
    "import os\n",
    "import os.path\n",
    "\n",
    "from collections import Counter  # type: ignore\n",
    "from more_itertools import unique_everseen  # type: ignore\n",
    "from rdflib import BNode, Graph, Literal, Namespace, URIRef  # type: ignore\n",
    "from rdflib.namespace import OWL, RDF, RDFS  # type: ignore\n",
    "from rdflib.plugins.serializers.nt import _quoteLiteral  # type: ignore\n",
    "import subprocess\n",
    "\n",
    "from tqdm import tqdm  # type: ignore\n",
    "from typing import Dict, List, Optional, Set, Tuple, Union"
   ]
  },
  {
   "cell_type": "code",
   "execution_count": 2,
   "id": "31a711e5-1d2c-4a7b-aec9-97350d0a1704",
   "metadata": {},
   "outputs": [],
   "source": [
    "##read in machine reading graphs\n",
    "g1 = '/home/sanya/PheKnowLatorv2/machine_read/output_graphs/machineread_semrep_version3.nt'\n",
    "g2 = '/home/sanya/PheKnowLatorv2/machine_read/output_graphs/machineread_greentea_version2.nt'\n",
    "g3 = '/home/sanya/PheKnowLatorv2/machine_read/output_graphs/machineread_kratom_version2.nt'"
   ]
  },
  {
   "cell_type": "code",
   "execution_count": 3,
   "id": "b7bbe99f-10ac-40f8-afcc-b56ec056df8d",
   "metadata": {},
   "outputs": [],
   "source": [
    "#if merging ntriples - concatenate files\n",
    "#if merging gpickle - use nx.compose function. Also merge nodelabels"
   ]
  },
  {
   "cell_type": "code",
   "execution_count": 4,
   "id": "6f045777-b151-43fd-9fdb-0fd8dee81300",
   "metadata": {},
   "outputs": [
    {
     "data": {
      "text/plain": [
       "list"
      ]
     },
     "execution_count": 4,
     "metadata": {},
     "output_type": "execute_result"
    }
   ],
   "source": [
    "with open(g1,'r') as file1:\n",
    "    g = file1.read()\n",
    "graph1 = g.split('\\n')\n",
    "type(graph1)"
   ]
  },
  {
   "cell_type": "code",
   "execution_count": 5,
   "id": "6525bebd-3073-4197-85dd-b928f311f1c1",
   "metadata": {},
   "outputs": [
    {
     "data": {
      "text/plain": [
       "'<http://purl.obolibrary.org/obo/CHEBI_22586> <http://purl.obolibrary.org/obo/RO_0002213> <http://purl.obolibrary.org/obo/CHEBI_50903> .'"
      ]
     },
     "execution_count": 5,
     "metadata": {},
     "output_type": "execute_result"
    }
   ],
   "source": [
    "graph1[0]"
   ]
  },
  {
   "cell_type": "code",
   "execution_count": 6,
   "id": "5a84afbc-9896-4754-bc3b-676c38b21bff",
   "metadata": {},
   "outputs": [
    {
     "data": {
      "text/plain": [
       "'<http://purl.obolibrary.org/obo/PR_Q5F4B1> <http://purl.obolibrary.org/obo/RO_0002448> <http://purl.obolibrary.org/obo/CHEBI_28748> .'"
      ]
     },
     "execution_count": 6,
     "metadata": {},
     "output_type": "execute_result"
    }
   ],
   "source": [
    "with open(g2,'r') as file2:\n",
    "    g = file2.read()\n",
    "graph2 = g.split('\\n')\n",
    "graph2[0]"
   ]
  },
  {
   "cell_type": "code",
   "execution_count": 7,
   "id": "ed26e8ef-e845-4614-9ee3-5db94b1297f0",
   "metadata": {},
   "outputs": [
    {
     "data": {
      "text/plain": [
       "'<http://purl.obolibrary.org/obo/CHEBI_38876> <http://www.w3.org/2000/01/rdf-schema#label> \"voltage\" .'"
      ]
     },
     "execution_count": 7,
     "metadata": {},
     "output_type": "execute_result"
    }
   ],
   "source": [
    "with open(g3,'r') as file3:\n",
    "    g = file3.read()\n",
    "graph3 = g.split('\\n')\n",
    "graph3[0]"
   ]
  },
  {
   "cell_type": "code",
   "execution_count": 8,
   "id": "5d02ecd2-a71a-4a3b-9347-0cebe6b836b2",
   "metadata": {},
   "outputs": [
    {
     "name": "stdout",
     "output_type": "stream",
     "text": [
      "12081 9607 658\n"
     ]
    }
   ],
   "source": [
    "print(len(graph1), len(graph2), len(graph3))"
   ]
  },
  {
   "cell_type": "code",
   "execution_count": 9,
   "id": "e80234b3-5406-48db-b4e9-3d0d9634a335",
   "metadata": {},
   "outputs": [],
   "source": [
    "output_file = '/home/sanya/PheKnowLatorv2/machine_read/output_graphs/machine_read_merged_20220406.nt'\n",
    "with open(output_file, 'w') as fileo:\n",
    "    for gt1 in graph1:\n",
    "        fileo.write(gt1)\n",
    "        fileo.write('\\n')\n",
    "    for gt2 in graph2:\n",
    "        fileo.write(gt2)\n",
    "        fileo.write('\\n')\n",
    "    for gt3 in graph3:\n",
    "        fileo.write(gt3)\n",
    "        fileo.write('\\n')\n",
    "file1.close()\n",
    "file2.close()\n",
    "file3.close()\n",
    "fileo.close()"
   ]
  },
  {
   "cell_type": "code",
   "execution_count": 10,
   "id": "ff2da621-dd4c-4727-9927-d575d75e8555",
   "metadata": {},
   "outputs": [
    {
     "data": {
      "text/plain": [
       "22347"
      ]
     },
     "execution_count": 10,
     "metadata": {},
     "output_type": "execute_result"
    }
   ],
   "source": [
    "with open(output_file,'r') as filei:\n",
    "    g = filei.read()\n",
    "mr = g.split('\\n')\n",
    "len(mr)"
   ]
  },
  {
   "cell_type": "code",
   "execution_count": 13,
   "id": "c294ae43-8638-4fec-9918-35d403d7b056",
   "metadata": {},
   "outputs": [
    {
     "data": {
      "text/plain": [
       "22347"
      ]
     },
     "execution_count": 13,
     "metadata": {},
     "output_type": "execute_result"
    }
   ],
   "source": [
    "####also merge with inferred triples\n",
    "output_file = '/home/sanya/PheKnowLatorv2/machine_read/output_graphs/machine_read_merged_20220406.nt'\n",
    "with open(output_file,'r') as filei:\n",
    "    g = filei.read()\n",
    "mr = g.split('\\n')\n",
    "len(mr)"
   ]
  },
  {
   "cell_type": "code",
   "execution_count": 15,
   "id": "5cf6f9ce-21d4-4f2e-a8a0-96653583292f",
   "metadata": {},
   "outputs": [
    {
     "data": {
      "text/plain": [
       "14513"
      ]
     },
     "execution_count": 15,
     "metadata": {},
     "output_type": "execute_result"
    }
   ],
   "source": [
    "inferred_file = '/home/sanya/PheKnowLatorv2/machine_read/closure_output/inferred-transitive-and-symmetric.ntriples'\n",
    "with open(inferred_file,'r') as file2:\n",
    "    g2 = file2.read()\n",
    "mrinf = g2.split('\\n')\n",
    "len(mrinf)"
   ]
  },
  {
   "cell_type": "code",
   "execution_count": 16,
   "id": "bd601fd4-5666-4d83-9fb2-e20ed263fac7",
   "metadata": {},
   "outputs": [],
   "source": [
    "outmerged = '/home/sanya/PheKnowLatorv2/machine_read/output_graphs/machine_read_merged_with_closure_20220406.nt'\n",
    "with open(outmerged, 'w') as fileo:\n",
    "    for gt1 in mr:\n",
    "        fileo.write(gt1)\n",
    "        fileo.write('\\n')\n",
    "    for gt2 in mrinf:\n",
    "        fileo.write(gt2)\n",
    "        fileo.write('\\n')\n",
    "fileo.close()\n",
    "filei.close()\n",
    "file2.close()"
   ]
  },
  {
   "cell_type": "code",
   "execution_count": null,
   "id": "176476cd-ec0e-4c78-b606-c2fffbc4f5d5",
   "metadata": {},
   "outputs": [],
   "source": []
  },
  {
   "cell_type": "code",
   "execution_count": 3,
   "id": "f96918ff-0b90-479e-aa67-4acf0a510e9f",
   "metadata": {},
   "outputs": [
    {
     "data": {
      "text/plain": [
       "36861"
      ]
     },
     "execution_count": 3,
     "metadata": {},
     "output_type": "execute_result"
    }
   ],
   "source": [
    "outmerged = '/home/sanya/PheKnowLatorv2/machine_read/output_graphs/machine_read_merged_with_closure_20220406.nt'\n",
    "with open(outmerged,'r') as filei:\n",
    "    g = filei.read()\n",
    "mr = g.split('\\n')\n",
    "len(mr)"
   ]
  },
  {
   "cell_type": "code",
   "execution_count": 4,
   "id": "f08b8943-b892-48c2-be11-c02e163d85aa",
   "metadata": {},
   "outputs": [
    {
     "data": {
      "text/plain": [
       "''"
      ]
     },
     "execution_count": 4,
     "metadata": {},
     "output_type": "execute_result"
    }
   ],
   "source": [
    "mr[-1]"
   ]
  },
  {
   "cell_type": "code",
   "execution_count": 7,
   "id": "af6305f1-02df-418b-bed9-af65f7a2d51e",
   "metadata": {},
   "outputs": [
    {
     "data": {
      "text/plain": [
       "'<http://purl.obolibrary.org/obo/PR_000022829><http://purl.obolibrary.org/obo/RO_0002434><http://purl.obolibrary.org/obo/CHEBI_25523>.'"
      ]
     },
     "execution_count": 7,
     "metadata": {},
     "output_type": "execute_result"
    }
   ],
   "source": [
    "mr[-4]"
   ]
  },
  {
   "cell_type": "code",
   "execution_count": 13,
   "id": "4be8f6ea-1f87-4cfd-af48-b4229147cb89",
   "metadata": {},
   "outputs": [
    {
     "data": {
      "text/plain": [
       "'<http://purl.obolibrary.org/obo/GO_1904659><http:/'"
      ]
     },
     "execution_count": 13,
     "metadata": {},
     "output_type": "execute_result"
    }
   ],
   "source": [
    "mr[36858]"
   ]
  },
  {
   "cell_type": "code",
   "execution_count": 12,
   "id": "cec2f6b6-1dec-46df-94ca-6ec3a0bd75d3",
   "metadata": {},
   "outputs": [
    {
     "data": {
      "text/plain": [
       "range(0, 36858)"
      ]
     },
     "execution_count": 12,
     "metadata": {},
     "output_type": "execute_result"
    }
   ],
   "source": [
    "range(0, len(mr)-3)"
   ]
  },
  {
   "cell_type": "code",
   "execution_count": 15,
   "id": "c9a7d9ab-b906-4c68-b526-57cc10f41adc",
   "metadata": {},
   "outputs": [],
   "source": [
    "outfile = '/home/sanya/PheKnowLatorv2/machine_read/output_graphs/machine_read_merged_with_closure_20220407.nt'\n",
    "with open(outfile,'w') as fileo:\n",
    "    for i in range(0, len(mr)-3):\n",
    "        fileo.write(mr[i])\n",
    "        fileo.write('\\n')\n",
    "fileo.close()"
   ]
  },
  {
   "cell_type": "code",
   "execution_count": null,
   "id": "b35d727b-5487-464f-8e0c-4664419fa2d6",
   "metadata": {},
   "outputs": [],
   "source": []
  }
 ],
 "metadata": {
  "kernelspec": {
   "display_name": "Python 3",
   "language": "python",
   "name": "python3"
  },
  "language_info": {
   "codemirror_mode": {
    "name": "ipython",
    "version": 3
   },
   "file_extension": ".py",
   "mimetype": "text/x-python",
   "name": "python",
   "nbconvert_exporter": "python",
   "pygments_lexer": "ipython3",
   "version": "3.6.13"
  }
 },
 "nbformat": 4,
 "nbformat_minor": 5
}
