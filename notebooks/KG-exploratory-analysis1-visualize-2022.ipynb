{
 "cells": [
  {
   "cell_type": "markdown",
   "id": "fca48f8b-d06e-4293-b7f8-427987224c9d",
   "metadata": {},
   "source": [
    "## Analysis 1\n",
    "\n",
    "#### Exploratory KG analysis + analysis of pre- and post-literature integration\n",
    "\n",
    "In this notebook -\n",
    "1. See graph statistics in Path_Search.ipynb\n",
    "2. Clustering coefficient\n",
    "3. Centrality measures\n",
    "4. Visualization"
   ]
  },
  {
   "cell_type": "code",
   "execution_count": 1,
   "id": "8a4b33d2-1cd0-48c0-8806-5afe8366242b",
   "metadata": {},
   "outputs": [],
   "source": [
    "import os\n",
    "import os.path\n",
    "import networkx as nx\n",
    "import json\n",
    "import urllib\n",
    "import traceback\n",
    "from itertools import islice\n",
    "from rdflib import Graph, URIRef, BNode, Namespace, Literal\n",
    "from rdflib.namespace import RDF, OWL\n",
    "from tqdm import tqdm\n",
    "import json\n",
    "import hashlib"
   ]
  },
  {
   "cell_type": "code",
   "execution_count": 2,
   "id": "8197af69-5896-4108-a318-e220da12fbc7",
   "metadata": {},
   "outputs": [],
   "source": [
    "import pickle\n",
    "import pandas as pd\n",
    "import numpy as np"
   ]
  },
  {
   "cell_type": "code",
   "execution_count": 3,
   "id": "7ab3a277-f6b9-4f05-8ecd-ae95705331e1",
   "metadata": {},
   "outputs": [],
   "source": [
    "#import pheknowlator kg_utils \n",
    "import sys\n",
    "sys.path.append('../')\n",
    "from pkt_kg.utils import *"
   ]
  },
  {
   "cell_type": "code",
   "execution_count": 4,
   "id": "355e7698-d778-4210-aabe-593315e0de6f",
   "metadata": {},
   "outputs": [],
   "source": [
    "KG_PATH = '/home/sanya/PheKnowLatorv2/resources/knowledge_graphs/'\n",
    "MR_PATH = '/home/sanya/PheKnowLatorv2/machine_read/output_graphs/'\n",
    "KG_PATH_MERGED = KG_PATH + 'merged_graphs/'\n",
    "NodeLabelsFile = KG_PATH_MERGED + 'nodeLabels_merged_20220406.pickle'\n",
    "KG_NAME_MERGED = 'PheKnowLator_machine_read_merged_instance_based_OWLNETS_20220406.gpickle'"
   ]
  },
  {
   "cell_type": "code",
   "execution_count": 5,
   "id": "3519f7de-453c-46f3-82ee-0728fc298cab",
   "metadata": {},
   "outputs": [],
   "source": [
    "with open(NodeLabelsFile, 'rb') as filep:\n",
    "    nodeLabels = pickle.load(filep)"
   ]
  },
  {
   "cell_type": "code",
   "execution_count": 6,
   "id": "ad2dfd55-1919-4dc9-9006-ce58234f72cd",
   "metadata": {},
   "outputs": [],
   "source": [
    "nx_graph = nx.read_gpickle(KG_PATH_MERGED+KG_NAME_MERGED)"
   ]
  },
  {
   "cell_type": "code",
   "execution_count": 7,
   "id": "31355114-757f-49dc-aa05-5977725aa7ae",
   "metadata": {},
   "outputs": [],
   "source": [
    "obo = Namespace('http://purl.obolibrary.org/obo/')\n",
    "napdi = Namespace('http://napdi.org/napdi_srs_imports:')"
   ]
  },
  {
   "cell_type": "code",
   "execution_count": null,
   "id": "5c43ce20-23b1-4878-84a9-532289cbc5d5",
   "metadata": {},
   "outputs": [],
   "source": []
  },
  {
   "cell_type": "code",
   "execution_count": 8,
   "id": "7f3460d7-8634-4667-bbea-8aa7cdfef0ea",
   "metadata": {},
   "outputs": [
    {
     "data": {
      "text/plain": [
       "40"
      ]
     },
     "execution_count": 8,
     "metadata": {},
     "output_type": "execute_result"
    }
   ],
   "source": [
    "##read in pickle dictionary with obo identifiers\n",
    "import pickle\n",
    "with open(KG_PATH+'strToOBOdict.pickle','rb') as filep:\n",
    "    obodict = pickle.load(filep)\n",
    "len(obodict)"
   ]
  },
  {
   "cell_type": "code",
   "execution_count": 13,
   "id": "1d6becb3-d294-4e9c-86ac-f7a768e00f9b",
   "metadata": {},
   "outputs": [],
   "source": [
    "nx_graph_und = nx_graph.to_undirected()"
   ]
  },
  {
   "cell_type": "code",
   "execution_count": 14,
   "id": "70dfc49f-139e-471f-ba74-18171c98e39d",
   "metadata": {},
   "outputs": [
    {
     "name": "stdout",
     "output_type": "stream",
     "text": [
      "COMPONENT: 0 Consists of 745763 nodes\n"
     ]
    }
   ],
   "source": [
    "#Only 1 connected component in graph\n",
    "components = sorted(list(nx.connected_components(nx_graph_und)), key=len, reverse=True)\n",
    "cc_content = {x: str(len(components[x])) + ' nodes: ' + ' | '.join(components[x]) if len(components[x]) < 500\n",
    "              else len(components[x]) for x in range(len(components))}\n",
    "\n",
    "for k, v in cc_content.items():\n",
    "    if isinstance(v, int):\n",
    "        print('COMPONENT: {} Consists of {} nodes'.format(str(k), str(v)))\n",
    "    else:\n",
    "        print('\\nCOMPONENT: {} Consists of the following nodes:'.format(str(k)))\n",
    "        for node in v.split(': ')[-1].split(' | '):\n",
    "            print(node)"
   ]
  },
  {
   "cell_type": "code",
   "execution_count": 17,
   "id": "286d0f80-72f2-416e-b080-d7ec55dac450",
   "metadata": {},
   "outputs": [
    {
     "name": "stdout",
     "output_type": "stream",
     "text": [
      "There are 10 nodes, 63 edges, and 5 self-loop(s)\n",
      "The Average Degree is 6.3\n",
      "Nodes with highest degree:\n",
      "Label: catechin\n",
      "http://purl.obolibrary.org/obo/CHEBI_23053 (degree=34)\n",
      "Label: (-)-epigallocatechin gallate\n",
      "http://napdi.org/napdi_srs_imports:epigallocatechin_gallate (degree=26)\n",
      "Label: Camellia_sinensis_leaf\n",
      "http://napdi.org/napdi_srs_imports:camellia_sinensis_leaf (degree=18)\n",
      "Label: (-)-epicatechin\n",
      "http://purl.obolibrary.org/obo/CHEBI_90 (degree=15)\n",
      "Label: (-)-epigallocatechin 3-gallate\n",
      "http://purl.obolibrary.org/obo/CHEBI_4806 (degree=13)\n",
      "Label: (-)-epicatechin-3-O-gallate\n",
      "http://purl.obolibrary.org/obo/CHEBI_70255 (degree=10)\n",
      "The density of the graph is: 0.7\n"
     ]
    }
   ],
   "source": [
    "##green tea\n",
    "subgt = nx_graph.subgraph([\n",
    "    obodict['greentea'][0],\n",
    "    obodict['EGCG'][0],\n",
    "    obodict['EGCG'][1],\n",
    "    obodict['ECG'][0],\n",
    "    obodict['epicatechin'][0],\n",
    "    obodict['catechin'][0],\n",
    "    obodict['catechin'][1],\n",
    "    obodict['epigallocatechin'][0],\n",
    "    obodict['gallocatechin'][0],\n",
    "    obodict['gallocatechin'][1]\n",
    "])\n",
    "get_graph_stats(subgt)"
   ]
  },
  {
   "cell_type": "code",
   "execution_count": 37,
   "id": "bedb758d-95cc-45f5-b7e4-154aa4833496",
   "metadata": {},
   "outputs": [
    {
     "name": "stdout",
     "output_type": "stream",
     "text": [
      "Camellia_sinensis_leaf\n"
     ]
    }
   ],
   "source": [
    "for node in subgt.nodes():\n",
    "    subgt[node]['id'] = nodeLabels[str(node)]"
   ]
  },
  {
   "cell_type": "code",
   "execution_count": 39,
   "id": "28da74a8-4b67-4b2b-a6a5-43fa10a4b042",
   "metadata": {},
   "outputs": [],
   "source": [
    "attrs = {}\n",
    "for node in subgt.nodes():\n",
    "    attrs[node] = {'id': nodeLabels[str(node)]}\n",
    "nx.set_node_attributes(subgt, attrs)"
   ]
  },
  {
   "cell_type": "code",
   "execution_count": null,
   "id": "da3a40dc-a27f-4ac3-a285-096c49951ece",
   "metadata": {},
   "outputs": [],
   "source": []
  },
  {
   "cell_type": "code",
   "execution_count": null,
   "id": "1af68fb4-6adf-47c9-97d0-6ff9562e3237",
   "metadata": {},
   "outputs": [],
   "source": []
  },
  {
   "cell_type": "code",
   "execution_count": 20,
   "id": "0b4c4654-1687-4593-ae84-52b80015091f",
   "metadata": {},
   "outputs": [
    {
     "data": {
      "text/plain": [
       "3176"
      ]
     },
     "execution_count": 20,
     "metadata": {},
     "output_type": "execute_result"
    }
   ],
   "source": [
    "##get all neighbors of nodes\n",
    "gtneighs = []\n",
    "gtnodes = [\n",
    "    obodict['greentea'][0],\n",
    "    obodict['EGCG'][0],\n",
    "    obodict['EGCG'][1],\n",
    "    obodict['ECG'][0],\n",
    "    obodict['epicatechin'][0],\n",
    "    obodict['catechin'][0],\n",
    "    obodict['catechin'][1],\n",
    "    obodict['epigallocatechin'][0],\n",
    "    obodict['gallocatechin'][0],\n",
    "    obodict['gallocatechin'][1]\n",
    "]\n",
    "for node in gtnodes:\n",
    "    neighs = [n for n in nx_graph.neighbors(node)]\n",
    "    for item in neighs:\n",
    "        gtneighs.append(item)\n",
    "len(gtneighs)"
   ]
  },
  {
   "cell_type": "code",
   "execution_count": 27,
   "id": "b935bc53-e10f-4217-b4e3-b2ac4ec6519f",
   "metadata": {},
   "outputs": [
    {
     "data": {
      "text/plain": [
       "1787"
      ]
     },
     "execution_count": 27,
     "metadata": {},
     "output_type": "execute_result"
    }
   ],
   "source": [
    "len(list(set(gtnodes)))"
   ]
  },
  {
   "cell_type": "code",
   "execution_count": null,
   "id": "7185c040-c898-4740-82e1-a33750b0bedd",
   "metadata": {},
   "outputs": [],
   "source": []
  },
  {
   "cell_type": "code",
   "execution_count": 23,
   "id": "5de0eaa2-7a47-4fbd-ba58-0b787ba9f059",
   "metadata": {},
   "outputs": [
    {
     "name": "stdout",
     "output_type": "stream",
     "text": [
      "There are 1787 nodes, 79081 edges, and 142 self-loop(s)\n",
      "The Average Degree is 44.25349748181309\n",
      "Nodes with highest degree:\n",
      "Label: catechin\n",
      "http://purl.obolibrary.org/obo/CHEBI_23053 (degree=1358)\n",
      "Label: (-)-epigallocatechin gallate\n",
      "http://napdi.org/napdi_srs_imports:epigallocatechin_gallate (degree=1257)\n",
      "Label: quercetin\n",
      "http://purl.obolibrary.org/obo/CHEBI_16243 (degree=1060)\n",
      "Label: glucose\n",
      "http://purl.obolibrary.org/obo/CHEBI_17234 (degree=980)\n",
      "Label: (-)-epigallocatechin 3-gallate\n",
      "http://purl.obolibrary.org/obo/CHEBI_4806 (degree=922)\n",
      "Label: polyphenol\n",
      "http://purl.obolibrary.org/obo/CHEBI_26195 (degree=918)\n",
      "The density of the graph is: 0.024777994110757613\n"
     ]
    }
   ],
   "source": [
    "subgt2 = nx_graph.subgraph(gtnodes)\n",
    "get_graph_stats(subgt2)"
   ]
  },
  {
   "cell_type": "code",
   "execution_count": null,
   "id": "3ae55b03-1de5-4081-9601-d36741319967",
   "metadata": {},
   "outputs": [],
   "source": []
  },
  {
   "cell_type": "code",
   "execution_count": null,
   "id": "051d1f29-943d-4f83-882d-0d055ddb8f05",
   "metadata": {},
   "outputs": [],
   "source": []
  },
  {
   "cell_type": "code",
   "execution_count": null,
   "id": "1be46bae-6b78-45f5-8267-5c4f527bed4a",
   "metadata": {},
   "outputs": [],
   "source": []
  },
  {
   "cell_type": "code",
   "execution_count": 44,
   "id": "2b8d5ee6-e555-486d-bbb3-dfa6bd7ebb01",
   "metadata": {},
   "outputs": [
    {
     "ename": "TypeError",
     "evalue": "attribute value type is not allowed: <class 'rdflib.term.URIRef'>",
     "output_type": "error",
     "traceback": [
      "\u001b[0;31m---------------------------------------------------------------------------\u001b[0m",
      "\u001b[0;31mTypeError\u001b[0m                                 Traceback (most recent call last)",
      "\u001b[0;32m<ipython-input-44-f857bb85cdfa>\u001b[0m in \u001b[0;36m<module>\u001b[0;34m\u001b[0m\n\u001b[1;32m      1\u001b[0m \u001b[0;31m##save subgraphs as gephi files\u001b[0m\u001b[0;34m\u001b[0m\u001b[0;34m\u001b[0m\u001b[0;34m\u001b[0m\u001b[0m\n\u001b[0;32m----> 2\u001b[0;31m \u001b[0mnx\u001b[0m\u001b[0;34m.\u001b[0m\u001b[0mwrite_gexf\u001b[0m\u001b[0;34m(\u001b[0m\u001b[0msubgt\u001b[0m\u001b[0;34m,\u001b[0m \u001b[0mKG_PATH\u001b[0m\u001b[0;34m+\u001b[0m\u001b[0;34m'subgraphs/greentea_subgraph1.gexf'\u001b[0m\u001b[0;34m)\u001b[0m\u001b[0;34m\u001b[0m\u001b[0;34m\u001b[0m\u001b[0m\n\u001b[0m",
      "\u001b[0;32m<decorator-gen-819>\u001b[0m in \u001b[0;36mwrite_gexf\u001b[0;34m(G, path, encoding, prettyprint, version)\u001b[0m\n",
      "\u001b[0;32m~/.conda/envs/sanya_kg/lib/python3.6/site-packages/networkx/utils/decorators.py\u001b[0m in \u001b[0;36m_open_file\u001b[0;34m(func_to_be_decorated, *args, **kwargs)\u001b[0m\n\u001b[1;32m    237\u001b[0m         \u001b[0;31m# Finally, we call the original function, making sure to close the fobj\u001b[0m\u001b[0;34m\u001b[0m\u001b[0;34m\u001b[0m\u001b[0;34m\u001b[0m\u001b[0m\n\u001b[1;32m    238\u001b[0m         \u001b[0;32mtry\u001b[0m\u001b[0;34m:\u001b[0m\u001b[0;34m\u001b[0m\u001b[0;34m\u001b[0m\u001b[0m\n\u001b[0;32m--> 239\u001b[0;31m             \u001b[0mresult\u001b[0m \u001b[0;34m=\u001b[0m \u001b[0mfunc_to_be_decorated\u001b[0m\u001b[0;34m(\u001b[0m\u001b[0;34m*\u001b[0m\u001b[0mnew_args\u001b[0m\u001b[0;34m,\u001b[0m \u001b[0;34m**\u001b[0m\u001b[0mkwargs\u001b[0m\u001b[0;34m)\u001b[0m\u001b[0;34m\u001b[0m\u001b[0;34m\u001b[0m\u001b[0m\n\u001b[0m\u001b[1;32m    240\u001b[0m         \u001b[0;32mfinally\u001b[0m\u001b[0;34m:\u001b[0m\u001b[0;34m\u001b[0m\u001b[0;34m\u001b[0m\u001b[0m\n\u001b[1;32m    241\u001b[0m             \u001b[0;32mif\u001b[0m \u001b[0mclose_fobj\u001b[0m\u001b[0;34m:\u001b[0m\u001b[0;34m\u001b[0m\u001b[0;34m\u001b[0m\u001b[0m\n",
      "\u001b[0;32m~/.conda/envs/sanya_kg/lib/python3.6/site-packages/networkx/readwrite/gexf.py\u001b[0m in \u001b[0;36mwrite_gexf\u001b[0;34m(G, path, encoding, prettyprint, version)\u001b[0m\n\u001b[1;32m     78\u001b[0m     \"\"\"\n\u001b[1;32m     79\u001b[0m     \u001b[0mwriter\u001b[0m \u001b[0;34m=\u001b[0m \u001b[0mGEXFWriter\u001b[0m\u001b[0;34m(\u001b[0m\u001b[0mencoding\u001b[0m\u001b[0;34m=\u001b[0m\u001b[0mencoding\u001b[0m\u001b[0;34m,\u001b[0m \u001b[0mprettyprint\u001b[0m\u001b[0;34m=\u001b[0m\u001b[0mprettyprint\u001b[0m\u001b[0;34m,\u001b[0m \u001b[0mversion\u001b[0m\u001b[0;34m=\u001b[0m\u001b[0mversion\u001b[0m\u001b[0;34m)\u001b[0m\u001b[0;34m\u001b[0m\u001b[0;34m\u001b[0m\u001b[0m\n\u001b[0;32m---> 80\u001b[0;31m     \u001b[0mwriter\u001b[0m\u001b[0;34m.\u001b[0m\u001b[0madd_graph\u001b[0m\u001b[0;34m(\u001b[0m\u001b[0mG\u001b[0m\u001b[0;34m)\u001b[0m\u001b[0;34m\u001b[0m\u001b[0;34m\u001b[0m\u001b[0m\n\u001b[0m\u001b[1;32m     81\u001b[0m     \u001b[0mwriter\u001b[0m\u001b[0;34m.\u001b[0m\u001b[0mwrite\u001b[0m\u001b[0;34m(\u001b[0m\u001b[0mpath\u001b[0m\u001b[0;34m)\u001b[0m\u001b[0;34m\u001b[0m\u001b[0;34m\u001b[0m\u001b[0m\n\u001b[1;32m     82\u001b[0m \u001b[0;34m\u001b[0m\u001b[0m\n",
      "\u001b[0;32m~/.conda/envs/sanya_kg/lib/python3.6/site-packages/networkx/readwrite/gexf.py\u001b[0m in \u001b[0;36madd_graph\u001b[0;34m(self, G)\u001b[0m\n\u001b[1;32m    331\u001b[0m         \u001b[0mself\u001b[0m\u001b[0;34m.\u001b[0m\u001b[0mgraph_element\u001b[0m \u001b[0;34m=\u001b[0m \u001b[0mgraph_element\u001b[0m\u001b[0;34m\u001b[0m\u001b[0;34m\u001b[0m\u001b[0m\n\u001b[1;32m    332\u001b[0m         \u001b[0mself\u001b[0m\u001b[0;34m.\u001b[0m\u001b[0madd_nodes\u001b[0m\u001b[0;34m(\u001b[0m\u001b[0mG\u001b[0m\u001b[0;34m,\u001b[0m \u001b[0mgraph_element\u001b[0m\u001b[0;34m)\u001b[0m\u001b[0;34m\u001b[0m\u001b[0;34m\u001b[0m\u001b[0m\n\u001b[0;32m--> 333\u001b[0;31m         \u001b[0mself\u001b[0m\u001b[0;34m.\u001b[0m\u001b[0madd_edges\u001b[0m\u001b[0;34m(\u001b[0m\u001b[0mG\u001b[0m\u001b[0;34m,\u001b[0m \u001b[0mgraph_element\u001b[0m\u001b[0;34m)\u001b[0m\u001b[0;34m\u001b[0m\u001b[0;34m\u001b[0m\u001b[0m\n\u001b[0m\u001b[1;32m    334\u001b[0m         \u001b[0mself\u001b[0m\u001b[0;34m.\u001b[0m\u001b[0mxml\u001b[0m\u001b[0;34m.\u001b[0m\u001b[0mappend\u001b[0m\u001b[0;34m(\u001b[0m\u001b[0mgraph_element\u001b[0m\u001b[0;34m)\u001b[0m\u001b[0;34m\u001b[0m\u001b[0;34m\u001b[0m\u001b[0m\n\u001b[1;32m    335\u001b[0m \u001b[0;34m\u001b[0m\u001b[0m\n",
      "\u001b[0;32m~/.conda/envs/sanya_kg/lib/python3.6/site-packages/networkx/readwrite/gexf.py\u001b[0m in \u001b[0;36madd_edges\u001b[0;34m(self, G, graph_element)\u001b[0m\n\u001b[1;32m    437\u001b[0m                 \u001b[0medge_data\u001b[0m \u001b[0;34m=\u001b[0m \u001b[0mself\u001b[0m\u001b[0;34m.\u001b[0m\u001b[0madd_spells\u001b[0m\u001b[0;34m(\u001b[0m\u001b[0medge_element\u001b[0m\u001b[0;34m,\u001b[0m \u001b[0medge_data\u001b[0m\u001b[0;34m)\u001b[0m\u001b[0;34m\u001b[0m\u001b[0;34m\u001b[0m\u001b[0m\n\u001b[1;32m    438\u001b[0m             \u001b[0medge_data\u001b[0m \u001b[0;34m=\u001b[0m \u001b[0mself\u001b[0m\u001b[0;34m.\u001b[0m\u001b[0madd_viz\u001b[0m\u001b[0;34m(\u001b[0m\u001b[0medge_element\u001b[0m\u001b[0;34m,\u001b[0m \u001b[0medge_data\u001b[0m\u001b[0;34m)\u001b[0m\u001b[0;34m\u001b[0m\u001b[0;34m\u001b[0m\u001b[0m\n\u001b[0;32m--> 439\u001b[0;31m             \u001b[0medge_data\u001b[0m \u001b[0;34m=\u001b[0m \u001b[0mself\u001b[0m\u001b[0;34m.\u001b[0m\u001b[0madd_attributes\u001b[0m\u001b[0;34m(\u001b[0m\u001b[0;34m\"edge\"\u001b[0m\u001b[0;34m,\u001b[0m \u001b[0medge_element\u001b[0m\u001b[0;34m,\u001b[0m \u001b[0medge_data\u001b[0m\u001b[0;34m,\u001b[0m \u001b[0mdefault\u001b[0m\u001b[0;34m)\u001b[0m\u001b[0;34m\u001b[0m\u001b[0;34m\u001b[0m\u001b[0m\n\u001b[0m\u001b[1;32m    440\u001b[0m             \u001b[0medges_element\u001b[0m\u001b[0;34m.\u001b[0m\u001b[0mappend\u001b[0m\u001b[0;34m(\u001b[0m\u001b[0medge_element\u001b[0m\u001b[0;34m)\u001b[0m\u001b[0;34m\u001b[0m\u001b[0;34m\u001b[0m\u001b[0m\n\u001b[1;32m    441\u001b[0m         \u001b[0mgraph_element\u001b[0m\u001b[0;34m.\u001b[0m\u001b[0mappend\u001b[0m\u001b[0;34m(\u001b[0m\u001b[0medges_element\u001b[0m\u001b[0;34m)\u001b[0m\u001b[0;34m\u001b[0m\u001b[0;34m\u001b[0m\u001b[0m\n",
      "\u001b[0;32m~/.conda/envs/sanya_kg/lib/python3.6/site-packages/networkx/readwrite/gexf.py\u001b[0m in \u001b[0;36madd_attributes\u001b[0;34m(self, node_or_edge, xml_obj, data, default)\u001b[0m\n\u001b[1;32m    453\u001b[0m             \u001b[0mval_type\u001b[0m \u001b[0;34m=\u001b[0m \u001b[0mtype\u001b[0m\u001b[0;34m(\u001b[0m\u001b[0mv\u001b[0m\u001b[0;34m)\u001b[0m\u001b[0;34m\u001b[0m\u001b[0;34m\u001b[0m\u001b[0m\n\u001b[1;32m    454\u001b[0m             \u001b[0;32mif\u001b[0m \u001b[0mval_type\u001b[0m \u001b[0;32mnot\u001b[0m \u001b[0;32min\u001b[0m \u001b[0mself\u001b[0m\u001b[0;34m.\u001b[0m\u001b[0mxml_type\u001b[0m\u001b[0;34m:\u001b[0m\u001b[0;34m\u001b[0m\u001b[0;34m\u001b[0m\u001b[0m\n\u001b[0;32m--> 455\u001b[0;31m                 \u001b[0;32mraise\u001b[0m \u001b[0mTypeError\u001b[0m\u001b[0;34m(\u001b[0m\u001b[0;34mf\"attribute value type is not allowed: {val_type}\"\u001b[0m\u001b[0;34m)\u001b[0m\u001b[0;34m\u001b[0m\u001b[0;34m\u001b[0m\u001b[0m\n\u001b[0m\u001b[1;32m    456\u001b[0m             \u001b[0;32mif\u001b[0m \u001b[0misinstance\u001b[0m\u001b[0;34m(\u001b[0m\u001b[0mv\u001b[0m\u001b[0;34m,\u001b[0m \u001b[0mlist\u001b[0m\u001b[0;34m)\u001b[0m\u001b[0;34m:\u001b[0m\u001b[0;34m\u001b[0m\u001b[0;34m\u001b[0m\u001b[0m\n\u001b[1;32m    457\u001b[0m                 \u001b[0;31m# dynamic data\u001b[0m\u001b[0;34m\u001b[0m\u001b[0;34m\u001b[0m\u001b[0;34m\u001b[0m\u001b[0m\n",
      "\u001b[0;31mTypeError\u001b[0m: attribute value type is not allowed: <class 'rdflib.term.URIRef'>"
     ]
    }
   ],
   "source": [
    "##save subgraphs as gephi files\n",
    "nx.write_gexf(subgt, KG_PATH+'subgraphs/greentea_subgraph1.gexf')"
   ]
  },
  {
   "cell_type": "code",
   "execution_count": null,
   "id": "8415941b-7ac5-41f2-b042-6dc6853c36f5",
   "metadata": {},
   "outputs": [],
   "source": [
    "nx.write_gexf(subgt2, KG_PATH+'subgraphs/greentea_subgraph2.gexf')"
   ]
  },
  {
   "cell_type": "code",
   "execution_count": null,
   "id": "5d88f4b5-b62f-4807-8db6-44193ecf76b4",
   "metadata": {},
   "outputs": [],
   "source": []
  },
  {
   "cell_type": "code",
   "execution_count": null,
   "id": "01d24fa0-a1da-4099-a838-91136fae4fe7",
   "metadata": {},
   "outputs": [],
   "source": [
    "###merge the nt versions of graph and filter by nodes and edges? "
   ]
  }
 ],
 "metadata": {
  "kernelspec": {
   "display_name": "Python 3",
   "language": "python",
   "name": "python3"
  },
  "language_info": {
   "codemirror_mode": {
    "name": "ipython",
    "version": 3
   },
   "file_extension": ".py",
   "mimetype": "text/x-python",
   "name": "python",
   "nbconvert_exporter": "python",
   "pygments_lexer": "ipython3",
   "version": "3.6.13"
  }
 },
 "nbformat": 4,
 "nbformat_minor": 5
}
