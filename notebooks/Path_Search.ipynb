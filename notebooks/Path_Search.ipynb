{
 "cells": [
  {
   "cell_type": "markdown",
   "id": "296024c6-eb00-48f9-8508-17952a7c431e",
   "metadata": {},
   "source": [
    "## Notebook to implement path searches in graph with -\n",
    "1. Networkx algorithms\n",
    "2. Discovery patterns\n",
    "3. SPARQL queries\n",
    "\n",
    "* Author: Sanya B Taneja\n",
    "* Created: 2021-09-24\n",
    "* Last edited: 2022-04-06\n",
    "\n",
    "We combine the PheKnowLator and machine reading graphs (currently separate for each NP) using Networkx and search paths in the combined graph."
   ]
  },
  {
   "cell_type": "code",
   "execution_count": 1,
   "id": "2fd2e387-eb09-4c59-9812-249446b5a028",
   "metadata": {},
   "outputs": [],
   "source": [
    "import os\n",
    "import os.path\n",
    "import networkx as nx\n",
    "import json\n",
    "import urllib\n",
    "import traceback\n",
    "from itertools import islice\n",
    "from rdflib import Graph, URIRef, BNode, Namespace, Literal\n",
    "from rdflib.namespace import RDF, OWL\n",
    "from tqdm import tqdm\n",
    "import json"
   ]
  },
  {
   "cell_type": "code",
   "execution_count": 2,
   "id": "2538e004-6b5f-4c3c-8b7d-f86c1eb18a44",
   "metadata": {},
   "outputs": [],
   "source": [
    "import hashlib"
   ]
  },
  {
   "cell_type": "code",
   "execution_count": 3,
   "id": "0ff6ba47-d078-45b3-8993-7c6adcd8d5c3",
   "metadata": {},
   "outputs": [],
   "source": [
    "import pickle\n",
    "import pandas as pd\n",
    "import numpy as np"
   ]
  },
  {
   "cell_type": "code",
   "execution_count": 4,
   "id": "4f1d65a4-5e39-430b-85a2-0e3263711736",
   "metadata": {},
   "outputs": [],
   "source": [
    "#import pheknowlator kg_utils \n",
    "import sys\n",
    "sys.path.append('../')\n",
    "from pkt_kg.utils import *"
   ]
  },
  {
   "cell_type": "code",
   "execution_count": 8,
   "id": "dd17c6ad-4e4d-4380-a9f4-c2049a2fefb7",
   "metadata": {},
   "outputs": [],
   "source": [
    "KG_PATH = '/home/sanya/PheKnowLatorv2/resources/knowledge_graphs/'\n",
    "MR_PATH = '/home/sanya/PheKnowLatorv2/machine_read/output_graphs/'\n",
    "KG_NAME = 'PheKnowLator_v3.0.0_full_instance_inverseRelations_OWLNETS_NetworkxMultiDiGraph.gpickle'\n",
    "MR_GRAPH_NAME_GT = 'machineread_greentea_version2.gpickle'\n",
    "MR_GRAPH_NAME_KT = 'machineread_kratom_version2.gpickle'\n",
    "MR_GRAPH_NAME_SEM = 'machineread_semrep_version3.gpickle'\n",
    "NodeLabelsFilePL = 'nodeLabels_20220329.pickle'\n",
    "NodeLabelsFileMR_gt = 'machineread_greentea_version2_NodeLabels.pickle'\n",
    "NodeLabelsFileMR_kt = 'machineread_kratom_version2_NodeLabels.pickle'\n",
    "NodeLabelsFileMR_semrep = 'machineread_semrep_version3_NodeLabels.pickle'\n",
    "\n",
    "MR_GRAPH_INF = '/home/sanya/PheKnowLatorv2/machine_read/closure_output/machineread_inferred_symmetric_transitive.gpickle'"
   ]
  },
  {
   "cell_type": "code",
   "execution_count": 9,
   "id": "4e8ebc69-cc46-474b-b182-97116c35076b",
   "metadata": {},
   "outputs": [],
   "source": [
    "\n",
    "with open(KG_PATH+NodeLabelsFilePL, 'rb') as filep:\n",
    "    nodeLabels = pickle.load(filep)"
   ]
  },
  {
   "cell_type": "code",
   "execution_count": 10,
   "id": "8a803457-e8b6-457d-83a7-b45b79999948",
   "metadata": {},
   "outputs": [],
   "source": [
    "with open(MR_PATH+NodeLabelsFileMR_gt, 'rb') as filep1:\n",
    "    nodemr1 = pickle.load(filep1)\n",
    "with open(MR_PATH+NodeLabelsFileMR_kt, 'rb') as filep2:\n",
    "    nodemr2 = pickle.load(filep2)\n",
    "with open(MR_PATH+NodeLabelsFileMR_semrep, 'rb') as filep3:\n",
    "    nodemr3 = pickle.load(filep3)\n",
    "    "
   ]
  },
  {
   "cell_type": "code",
   "execution_count": 11,
   "id": "306012e4-36a6-4353-9255-75e39d1abf95",
   "metadata": {},
   "outputs": [
    {
     "name": "stdout",
     "output_type": "stream",
     "text": [
      "753219 2023 278 2726\n"
     ]
    }
   ],
   "source": [
    "print(len(nodeLabels), len(nodemr1), len(nodemr2), len(nodemr3))"
   ]
  },
  {
   "cell_type": "code",
   "execution_count": 12,
   "id": "cdf6c406-1fbf-43a1-beda-1c6ab4652122",
   "metadata": {},
   "outputs": [
    {
     "data": {
      "text/plain": [
       "753366"
      ]
     },
     "execution_count": 12,
     "metadata": {},
     "output_type": "execute_result"
    }
   ],
   "source": [
    "for key in nodemr1:\n",
    "    if key in nodeLabels:\n",
    "        continue\n",
    "    nodeLabels[key] = nodemr1[key]\n",
    "for key in nodemr2:\n",
    "    if key in nodeLabels:\n",
    "        continue\n",
    "    nodeLabels[key] = nodemr2[key]\n",
    "for key in nodemr3:\n",
    "    if key in nodeLabels:\n",
    "        continue\n",
    "    nodeLabels[key] = nodemr3[key]\n",
    "len(nodeLabels)"
   ]
  },
  {
   "cell_type": "code",
   "execution_count": 13,
   "id": "de831922-28cd-4d3d-bfc1-60feb605910a",
   "metadata": {},
   "outputs": [
    {
     "name": "stdout",
     "output_type": "stream",
     "text": [
      "https://uswest.ensembl.org/Homo_sapiens/Transcript/Summary?t=ENST00000558233 IPO4-205\n"
     ]
    }
   ],
   "source": [
    "for key in nodeLabels:\n",
    "    print(key, nodeLabels[key])\n",
    "    break"
   ]
  },
  {
   "cell_type": "code",
   "execution_count": 14,
   "id": "7e393997-79a4-436d-8c53-3c07e6fbc497",
   "metadata": {},
   "outputs": [],
   "source": [
    "#save to pickle file\n",
    "with open(KG_PATH+'merged_graphs/nodeLabels_merged_20220406.pickle', 'wb') as filep:\n",
    "    pickle.dump(nodeLabels, filep)"
   ]
  },
  {
   "cell_type": "code",
   "execution_count": 15,
   "id": "e1fa49d0-d1e9-49c7-94ec-59c9eb9a7e26",
   "metadata": {},
   "outputs": [
    {
     "data": {
      "text/plain": [
       "'Mitragyna_speciosa'"
      ]
     },
     "execution_count": 15,
     "metadata": {},
     "output_type": "execute_result"
    }
   ],
   "source": [
    "nodeLabels['http://napdi.org/napdi_srs_imports:mitragyna_speciosa']"
   ]
  },
  {
   "cell_type": "code",
   "execution_count": 16,
   "id": "151a8d33-f0d7-4a31-9d48-98dfa1b3b61b",
   "metadata": {},
   "outputs": [],
   "source": [
    "def get_graph_stats(kg):\n",
    "    nodes = nx.number_of_nodes(kg)\n",
    "    edges = nx.number_of_edges(kg)\n",
    "    self_loops = nx.number_of_selfloops(kg)\n",
    "\n",
    "    print('There are {} nodes, {} edges, and {} self-loop(s)'.format(nodes, edges, self_loops))\n",
    "    # get degree information\n",
    "    avg_degree = float(edges) / nodes\n",
    "    print('The Average Degree is {}'.format(avg_degree))\n",
    "    \n",
    "    print('Nodes with highest degree:')\n",
    "    n_deg = sorted([(str(x[0]), x[1]) for x in  kg.degree], key=lambda x: x[1], reverse=1)[:6]\n",
    "\n",
    "    for x in n_deg:\n",
    "        print('Label: {}'.format(nodeLabels[x[0]]))\n",
    "        print('{} (degree={})'.format(x[0], x[1]))\n",
    "    # get network density\n",
    "    density = nx.density(kg)\n",
    "\n",
    "    print('The density of the graph is: {}'.format(density))"
   ]
  },
  {
   "cell_type": "code",
   "execution_count": 17,
   "id": "ceda6e39-4f4a-4062-8aaa-7e254f0c99d5",
   "metadata": {},
   "outputs": [
    {
     "name": "stdout",
     "output_type": "stream",
     "text": [
      "There are 745250 nodes, 7224186 edges, and 408 self-loop(s)\n",
      "The Average Degree is 9.693641060046964\n",
      "Nodes with highest degree:\n",
      "Label: transcript\n",
      "http://purl.obolibrary.org/obo/SO_0000673 (degree=190850)\n",
      "Label: SNV\n",
      "http://purl.obolibrary.org/obo/SO_0001483 (degree=121020)\n",
      "Label: Homo sapiens\n",
      "http://purl.obolibrary.org/obo/NCBITaxon_9606 (degree=116478)\n",
      "Label: protein_coding_gene\n",
      "http://purl.obolibrary.org/obo/SO_0001217 (degree=105046)\n",
      "Label: testis\n",
      "http://purl.obolibrary.org/obo/UBERON_0000473 (degree=43795)\n",
      "Label: lncRNA_with_retained_intron\n",
      "http://purl.obolibrary.org/obo/SO_0002113 (degree=29340)\n",
      "The density of the graph is: 1.3007251348270127e-05\n"
     ]
    }
   ],
   "source": [
    "##There are 745250 nodes, 7224186 edges, and 408 self-loop(s)\n",
    "##The Average Degree is 9.6936410..\n",
    "##The density of the graph is: 1.3007251348270127e-05\n",
    "# get the number of nodes, edges, and self-loops\n",
    "pl_kg = nx.read_gpickle(KG_PATH+KG_NAME)\n",
    "get_graph_stats(pl_kg)"
   ]
  },
  {
   "cell_type": "code",
   "execution_count": 18,
   "id": "6842e21c-0392-4893-8b05-019b62d1906a",
   "metadata": {},
   "outputs": [],
   "source": [
    "mr_kg = nx.read_gpickle(MR_PATH+MR_GRAPH_NAME_GT)\n",
    "mr_kg2 = nx.read_gpickle(MR_PATH+MR_GRAPH_NAME_KT)\n",
    "mr_kg3 = nx.read_gpickle(MR_PATH+MR_GRAPH_NAME_SEM)\n",
    "mr_kginf = nx.read_gpickle(MR_GRAPH_INF)"
   ]
  },
  {
   "cell_type": "code",
   "execution_count": 19,
   "id": "e6be257b-cd32-48a4-91a7-2a1e09f0097b",
   "metadata": {},
   "outputs": [
    {
     "name": "stdout",
     "output_type": "stream",
     "text": [
      "Green Tea Machine Read REACH: \n",
      "There are 2009 nodes, 7367 edges, and 103 self-loop(s)\n",
      "The Average Degree is 3.6669985067197612\n",
      "Nodes with highest degree:\n",
      "Label: (-)-epigallocatechin 3-gallate\n",
      "http://purl.obolibrary.org/obo/CHEBI_4806 (degree=941)\n",
      "Label: Tea\n",
      "http://napdi.org/napdi-srs-imports:camellia_sinensis_leaf (degree=369)\n",
      "Label: catechin\n",
      "http://purl.obolibrary.org/obo/CHEBI_23053 (degree=206)\n",
      "Label: apoptotic process\n",
      "http://purl.obolibrary.org/obo/GO_0006915 (degree=161)\n",
      "Label: glucose\n",
      "http://purl.obolibrary.org/obo/CHEBI_17234 (degree=153)\n",
      "Label: Mus <genus>\n",
      "http://purl.obolibrary.org/obo/NCBITaxon_10088 (degree=144)\n",
      "The density of the graph is: 0.0018261944754580483\n"
     ]
    }
   ],
   "source": [
    "# get the number of nodes, edges, and self-loops\n",
    "print('Green Tea Machine Read REACH: ')\n",
    "get_graph_stats(mr_kg)\n"
   ]
  },
  {
   "cell_type": "code",
   "execution_count": 20,
   "id": "9dcccfd1-bfb0-4ab3-a0b4-16abef8916a8",
   "metadata": {},
   "outputs": [
    {
     "name": "stdout",
     "output_type": "stream",
     "text": [
      "Kratom Machine Read REACH: \n",
      "There are 272 nodes, 362 edges, and 5 self-loop(s)\n",
      "The Average Degree is 1.3308823529411764\n",
      "Nodes with highest degree:\n",
      "Label: Mitragynine\n",
      "http://purl.obolibrary.org/obo/CHEBI_6956 (degree=52)\n",
      "Label: carbon monoxide\n",
      "http://purl.obolibrary.org/obo/CHEBI_17245 (degree=19)\n",
      "Label: high-density lipoprotein particle\n",
      "http://purl.obolibrary.org/obo/GO_0034364 (degree=16)\n",
      "Label: potassium voltage-gated channel subfamily H member 2 (human)\n",
      "http://purl.obolibrary.org/obo/PR_Q12809 (degree=13)\n",
      "Label: phosphatidic acid\n",
      "http://purl.obolibrary.org/obo/CHEBI_16337 (degree=13)\n",
      "Label: NPC1-like intracellular cholesterol transporter 1 (human)\n",
      "http://purl.obolibrary.org/obo/PR_Q9UHC9 (degree=12)\n",
      "The density of the graph is: 0.004911004992402865\n"
     ]
    }
   ],
   "source": [
    "\n",
    "print('Kratom Machine Read REACH: ')\n",
    "get_graph_stats(mr_kg2)\n"
   ]
  },
  {
   "cell_type": "code",
   "execution_count": 19,
   "id": "f8b1cc28-35af-4fb9-9e93-fbe84b1965f2",
   "metadata": {},
   "outputs": [
    {
     "name": "stdout",
     "output_type": "stream",
     "text": [
      "SemRep machine read: \n",
      "There are 2710 nodes, 9232 edges, and 10 self-loop(s)\n",
      "The Average Degree is 3.4066420664206642\n",
      "Nodes with highest degree:\n",
      "Label: (-)-epigallocatechin gallate\n",
      "http://napdi.org/napdi_srs_imports:epigallocatechin_gallate (degree=1141)\n",
      "Label: catechin\n",
      "http://purl.obolibrary.org/obo/CHEBI_23053 (degree=344)\n",
      "Label: polyphenol\n",
      "http://purl.obolibrary.org/obo/CHEBI_26195 (degree=263)\n",
      "Label: flavonoids\n",
      "http://purl.obolibrary.org/obo/CHEBI_72544 (degree=257)\n",
      "Label: Rattus norvegicus\n",
      "http://purl.obolibrary.org/obo/NCBITaxon_10116 (degree=165)\n",
      "Label: import into cell\n",
      "http://purl.obolibrary.org/obo/GO_0098657 (degree=161)\n",
      "The density of the graph is: 0.0012575275254413673\n"
     ]
    }
   ],
   "source": [
    "\n",
    "print('SemRep machine read: ')\n",
    "get_graph_stats(mr_kg3)\n",
    "\n"
   ]
  },
  {
   "cell_type": "code",
   "execution_count": 20,
   "id": "b6d6e17b-2cc9-444e-ad2f-970f4f0a2d3b",
   "metadata": {},
   "outputs": [
    {
     "name": "stdout",
     "output_type": "stream",
     "text": [
      "Inferred graph stats: \n",
      "There are 1599 nodes, 13658 edges, and 43 self-loop(s)\n",
      "The Average Degree is 8.541588492808005\n",
      "Nodes with highest degree:\n",
      "Label: (-)-epigallocatechin gallate\n",
      "http://napdi.org/napdi_srs_imports:epigallocatechin_gallate (degree=665)\n",
      "Label: catechin\n",
      "http://purl.obolibrary.org/obo/CHEBI_23053 (degree=378)\n",
      "Label: flavonoids\n",
      "http://purl.obolibrary.org/obo/CHEBI_72544 (degree=354)\n",
      "Label: rosoxacin\n",
      "http://purl.obolibrary.org/obo/CHEBI_131715 (degree=297)\n",
      "Label: calcium ion\n",
      "http://purl.obolibrary.org/obo/CHEBI_39124 (degree=286)\n",
      "Label: polyphenol\n",
      "http://purl.obolibrary.org/obo/CHEBI_26195 (degree=285)\n",
      "The density of the graph is: 0.0053451742758498155\n"
     ]
    }
   ],
   "source": [
    "print('Inferred graph stats: ')\n",
    "get_graph_stats(mr_kginf)"
   ]
  },
  {
   "cell_type": "code",
   "execution_count": null,
   "id": "331eed90-3656-466d-8a04-92b8cb69262e",
   "metadata": {},
   "outputs": [
    {
     "name": "stdout",
     "output_type": "stream",
     "text": [
      "<class 'networkx.classes.multidigraph.MultiDiGraph'>\n",
      "There are 4157 nodes, 27784 edges, and 154 self-loop(s)\n",
      "The Average Degree is 6.683666105364446\n",
      "Nodes with highest degree:\n",
      "Label: (-)-epigallocatechin gallate\n",
      "http://napdi.org/napdi_srs_imports:epigallocatechin_gallate (degree=1366)\n",
      "Label: (-)-epigallocatechin 3-gallate\n",
      "http://purl.obolibrary.org/obo/CHEBI_4806 (degree=941)\n",
      "Label: catechin\n",
      "http://purl.obolibrary.org/obo/CHEBI_23053 (degree=781)\n",
      "Label: flavonoids\n",
      "http://purl.obolibrary.org/obo/CHEBI_72544 (degree=566)\n",
      "Label: polyphenol\n",
      "http://purl.obolibrary.org/obo/CHEBI_26195 (degree=505)\n",
      "Label: rosoxacin\n",
      "http://purl.obolibrary.org/obo/CHEBI_131715 (degree=498)\n",
      "The density of the graph is: 0.0016081968492214738\n"
     ]
    }
   ],
   "source": [
    "#combine graphs - all MR (inferred also?)\n",
    "mr_graph = nx.compose_all([mr_kg, mr_kg2, mr_kg3, mr_kginf])\n",
    "print(type(mr_graph))\n",
    "get_graph_stats(mr_graph)"
   ]
  },
  {
   "cell_type": "code",
   "execution_count": 22,
   "id": "8d20a533-318d-43c6-ac1b-ef1439658005",
   "metadata": {},
   "outputs": [
    {
     "name": "stdout",
     "output_type": "stream",
     "text": [
      "<class 'networkx.classes.multidigraph.MultiDiGraph'>\n",
      "There are 4157 nodes, 27784 edges, and 154 self-loop(s)\n",
      "The Average Degree is 6.683666105364446\n",
      "Nodes with highest degree:\n",
      "Label: (-)-epigallocatechin gallate\n",
      "http://napdi.org/napdi_srs_imports:epigallocatechin_gallate (degree=1366)\n",
      "Label: (-)-epigallocatechin 3-gallate\n",
      "http://purl.obolibrary.org/obo/CHEBI_4806 (degree=941)\n",
      "Label: catechin\n",
      "http://purl.obolibrary.org/obo/CHEBI_23053 (degree=781)\n",
      "Label: flavonoids\n",
      "http://purl.obolibrary.org/obo/CHEBI_72544 (degree=566)\n",
      "Label: polyphenol\n",
      "http://purl.obolibrary.org/obo/CHEBI_26195 (degree=505)\n",
      "Label: rosoxacin\n",
      "http://purl.obolibrary.org/obo/CHEBI_131715 (degree=498)\n",
      "The density of the graph is: 0.0016081968492214738\n"
     ]
    }
   ],
   "source": [
    "nx_graph = nx.compose_all([mr_graph, pl_kg])\n",
    "print(type(nx_graph))\n",
    "get_graph_stats(nx_graph)"
   ]
  },
  {
   "cell_type": "code",
   "execution_count": 23,
   "id": "538d04ed-bb08-4e5f-8593-4db2524be871",
   "metadata": {},
   "outputs": [
    {
     "name": "stdout",
     "output_type": "stream",
     "text": [
      "There are 745763 nodes, 7251937 edges, and 562 self-loop(s)\n",
      "The Average Degree is 9.72418449292872\n",
      "Nodes with highest degree:\n",
      "Label: transcript\n",
      "http://purl.obolibrary.org/obo/SO_0000673 (degree=190858)\n",
      "Label: SNV\n",
      "http://purl.obolibrary.org/obo/SO_0001483 (degree=121020)\n",
      "Label: Homo sapiens\n",
      "http://purl.obolibrary.org/obo/NCBITaxon_9606 (degree=116704)\n",
      "Label: protein_coding_gene\n",
      "http://purl.obolibrary.org/obo/SO_0001217 (degree=105046)\n",
      "Label: testis\n",
      "http://purl.obolibrary.org/obo/UBERON_0000473 (degree=43818)\n",
      "Label: lncRNA_with_retained_intron\n",
      "http://purl.obolibrary.org/obo/SO_0002113 (degree=29340)\n",
      "The density of the graph is: 1.3039259834811533e-05\n"
     ]
    }
   ],
   "source": [
    "get_graph_stats(nx_graph)"
   ]
  },
  {
   "cell_type": "code",
   "execution_count": 25,
   "id": "f8453cea-1c90-4c5b-90e5-27b2f4adc5e4",
   "metadata": {},
   "outputs": [],
   "source": [
    "##save graph in merged_graphs\n",
    "nx.write_gpickle(nx_graph, KG_PATH+'merged_graphs/PheKnowLator_machine_read_merged_instance_based_OWLNETS_20220406.gpickle')"
   ]
  },
  {
   "cell_type": "code",
   "execution_count": 24,
   "id": "d677dd5a-f880-4042-96aa-c234c99de73b",
   "metadata": {},
   "outputs": [
    {
     "name": "stdout",
     "output_type": "stream",
     "text": [
      "(rdflib.term.URIRef('http://purl.obolibrary.org/obo/PR_Q5F4B1'), {'key': '<http://purl.obolibrary.org/obo/PR_Q5F4B1>'})\n"
     ]
    }
   ],
   "source": [
    "#nodes and edges examples\n",
    "nodes = list(nx_graph.nodes(data=True))\n",
    "for x in nodes:\n",
    "    print(x)\n",
    "    break"
   ]
  },
  {
   "cell_type": "code",
   "execution_count": 26,
   "id": "5f269516-d2a6-4b62-b7da-cc0d8f1447d6",
   "metadata": {},
   "outputs": [
    {
     "name": "stdout",
     "output_type": "stream",
     "text": [
      "<class 'networkx.classes.multidigraph.MultiDiGraph'>\n",
      "There are 745691 nodes, 7248571 edges, and 557 self-loop(s)\n",
      "The Average Degree is 9.720609474970196\n",
      "Nodes with highest degree:\n",
      "Label: transcript\n",
      "http://purl.obolibrary.org/obo/SO_0000673 (degree=190858)\n",
      "Label: SNV\n",
      "http://purl.obolibrary.org/obo/SO_0001483 (degree=121020)\n",
      "Label: Homo sapiens\n",
      "http://purl.obolibrary.org/obo/NCBITaxon_9606 (degree=116672)\n",
      "Label: protein_coding_gene\n",
      "http://purl.obolibrary.org/obo/SO_0001217 (degree=105046)\n",
      "Label: testis\n",
      "http://purl.obolibrary.org/obo/UBERON_0000473 (degree=43817)\n",
      "Label: lncRNA_with_retained_intron\n",
      "http://purl.obolibrary.org/obo/SO_0002113 (degree=29340)\n",
      "The density of the graph is: 1.3035724597312818e-05\n"
     ]
    }
   ],
   "source": [
    "#combine graphs - all MR (inferred also?) and PL\n",
    "nx_graph = nx.compose_all([pl_kg, mr_kg, mr_kg2, mr_kg3, mr_kginf])\n",
    "print(type(nx_graph))\n",
    "get_graph_stats(nx_graph)"
   ]
  },
  {
   "cell_type": "code",
   "execution_count": 28,
   "id": "cc597d91-1580-41c8-a768-88e74523b679",
   "metadata": {},
   "outputs": [
    {
     "data": {
      "text/plain": [
       "'(-)-epigallocatechin 3-gallate'"
      ]
     },
     "execution_count": 28,
     "metadata": {},
     "output_type": "execute_result"
    }
   ],
   "source": [
    "nodeLabels['http://purl.obolibrary.org/obo/CHEBI_4806']"
   ]
  },
  {
   "cell_type": "code",
   "execution_count": 29,
   "id": "d163e76e-c396-489c-be76-869e195ce489",
   "metadata": {},
   "outputs": [
    {
     "data": {
      "text/plain": [
       "'(-)-epigallocatechin gallate'"
      ]
     },
     "execution_count": 29,
     "metadata": {},
     "output_type": "execute_result"
    }
   ],
   "source": [
    "nodeLabels['http://napdi.org/napdi_srs_imports:epigallocatechin_gallate']"
   ]
  },
  {
   "cell_type": "markdown",
   "id": "0a941ec5-1942-43b3-af3f-724bb14103a7",
   "metadata": {},
   "source": [
    "## Path Searches\n",
    "1. Single source shortest path (saved)\n",
    "2. k-simple paths (saved for cyp3a4, midazolam)\n",
    "3. Bidirectional shortest paths (in nb)\n",
    "4. Shortest paths - do"
   ]
  },
  {
   "cell_type": "code",
   "execution_count": 30,
   "id": "375d900e-c5c7-4207-b126-271e83537500",
   "metadata": {},
   "outputs": [],
   "source": [
    "DIR_OUT = '/home/sanya/PheKnowLatorv2/output_files/'"
   ]
  },
  {
   "cell_type": "code",
   "execution_count": 31,
   "id": "bd719e55-dfe2-493e-8b39-c4b87e9ec726",
   "metadata": {},
   "outputs": [],
   "source": [
    "obo = Namespace('http://purl.obolibrary.org/obo/')\n",
    "napdi = Namespace('http://napdi.org/napdi_srs_imports:')"
   ]
  },
  {
   "cell_type": "markdown",
   "id": "ce4d5424-b793-45c2-bbeb-05b822cd9970",
   "metadata": {},
   "source": [
    "Functions. Create function for -\n",
    "1. Get path narrative given path or list of paths\n",
    "2. Get path URIs given path or list of paths\n",
    "3. Get path with machine reading output from 2017 and prior\n",
    "4. Save path with labels to file\n"
   ]
  },
  {
   "cell_type": "code",
   "execution_count": 67,
   "id": "b8c9218f-9aaf-401a-8fde-284516db146f",
   "metadata": {},
   "outputs": [],
   "source": [
    "def get_path_labels(path):\n",
    "    path_labels = []\n",
    "    if len(path) < 1:\n",
    "        print('Path length 1, skipping')\n",
    "        return\n",
    "    for edge in zip(path, path[1:]):\n",
    "        data = nx_graph.get_edge_data(*edge)\n",
    "        pred = list(data.keys())[0]\n",
    "        node1_lab = str(edge[0])\n",
    "        node2_lab = str(edge[1])\n",
    "        if node1_lab in nodeLabels:\n",
    "            node1_lab = nodeLabels[node1_lab]\n",
    "        if node2_lab in nodeLabels:\n",
    "            node2_lab = nodeLabels[node2_lab]\n",
    "        pred_lab = nodeLabels[str(pred)]\n",
    "        if list(data.values())[0]:\n",
    "            if 'source_graph' in list(data.values())[0]:\n",
    "                source_graph = 'machine_read'\n",
    "            else:\n",
    "                source_graph = ''\n",
    "        else:\n",
    "            source_graph = ''\n",
    "        labels = [node1_lab, pred_lab, node2_lab, source_graph]\n",
    "        path_labels.append(labels)\n",
    "    return path_labels"
   ]
  },
  {
   "cell_type": "code",
   "execution_count": 68,
   "id": "351e7595-29c3-431e-a4b9-a0bad0d569c9",
   "metadata": {},
   "outputs": [],
   "source": [
    "def get_path_uri(path):\n",
    "    path_uri = []\n",
    "    if len(path) < 1:\n",
    "        print('Path length 1, skipping')\n",
    "        return\n",
    "    for edge in zip(path, path[1:]):\n",
    "        data = nx_graph.get_edge_data(*edge)\n",
    "        pred = list(data.keys())[0]\n",
    "        attribute = list(data.values())\n",
    "        uri = [str(edge[0]), pred, str(edge[1]), attribute]\n",
    "        path_uri.append(uri)\n",
    "    return path_uri"
   ]
  },
  {
   "cell_type": "code",
   "execution_count": null,
   "id": "98fbd90f-4568-4af9-90a2-8b543be2f810",
   "metadata": {},
   "outputs": [],
   "source": []
  },
  {
   "cell_type": "code",
   "execution_count": 69,
   "id": "1cf8d52b-6297-45cd-89c8-4ed23a9f4a03",
   "metadata": {},
   "outputs": [],
   "source": [
    "#get shortest path from green tea leaf\n",
    "greentea_path = nx.single_source_shortest_path(nx_graph, napdi.camellia_sinensis_leaf)"
   ]
  },
  {
   "cell_type": "code",
   "execution_count": 70,
   "id": "e9a062e8-5308-48c9-a1f3-24568dd4e095",
   "metadata": {},
   "outputs": [
    {
     "data": {
      "text/plain": [
       "dict"
      ]
     },
     "execution_count": 70,
     "metadata": {},
     "output_type": "execute_result"
    }
   ],
   "source": [
    "type(greentea_path)"
   ]
  },
  {
   "cell_type": "code",
   "execution_count": 71,
   "id": "9c675946-a3e5-4395-abfe-e9daa05a7e5b",
   "metadata": {},
   "outputs": [],
   "source": [
    "save1 = 'greentea_single_source_shortest_path_50.txt'"
   ]
  },
  {
   "cell_type": "code",
   "execution_count": 72,
   "id": "49a59b74-ab4b-43ad-a03d-b774b6cb8334",
   "metadata": {},
   "outputs": [
    {
     "name": "stdout",
     "output_type": "stream",
     "text": [
      "\n",
      "napdi_srs_imports:camellia_sinensis_leaf - (-)-epicatechin Path:\n",
      "[['Camellia_sinensis_leaf', 'has component', '(-)-epicatechin', '']]\n",
      "\n",
      "napdi_srs_imports:camellia_sinensis_leaf - gallocatechin Path:\n",
      "[['Camellia_sinensis_leaf', 'has component', 'gallocatechin', '']]\n",
      "\n",
      "napdi_srs_imports:camellia_sinensis_leaf - Camellia_sinensis_whole Path:\n",
      "[['Camellia_sinensis_leaf', 'part of', 'Camellia_sinensis_whole', '']]\n",
      "\n",
      "napdi_srs_imports:camellia_sinensis_leaf - plant anatomical entity Path:\n",
      "[['Camellia_sinensis_leaf', 'subClassOf', 'plant anatomical entity', '']]\n",
      "\n",
      "napdi_srs_imports:camellia_sinensis_leaf - (-)-epigallocatechin gallate Path:\n",
      "[['Camellia_sinensis_leaf', 'has component', '(-)-epigallocatechin gallate', '']]\n",
      "\n",
      "napdi_srs_imports:camellia_sinensis_leaf - (-)-epigallocatechin Path:\n",
      "[['Camellia_sinensis_leaf', 'has component', '(-)-epigallocatechin', '']]\n",
      "\n",
      "napdi_srs_imports:camellia_sinensis_leaf - (-)-epicatechin-3-O-gallate Path:\n",
      "[['Camellia_sinensis_leaf', 'has component', '(-)-epicatechin-3-O-gallate', '']]\n",
      "\n",
      "napdi_srs_imports:camellia_sinensis_leaf - (+)-epicatechin Path:\n",
      "[['Camellia_sinensis_leaf', 'has component', '(-)-epicatechin', ''], ['(-)-epicatechin', 'is enantiomer of', '(+)-epicatechin', '']]\n",
      "\n",
      "napdi_srs_imports:camellia_sinensis_leaf - catechin Path:\n",
      "[['Camellia_sinensis_leaf', 'has component', '(-)-epicatechin', ''], ['(-)-epicatechin', 'subClassOf', 'catechin', '']]\n",
      "\n",
      "napdi_srs_imports:camellia_sinensis_leaf - antioxidant Path:\n",
      "[['Camellia_sinensis_leaf', 'has component', '(-)-epicatechin', ''], ['(-)-epicatechin', 'has role', 'antioxidant', '']]\n",
      "\n",
      "napdi_srs_imports:camellia_sinensis_leaf - chemical entity Path:\n",
      "[['Camellia_sinensis_leaf', 'has component', '(-)-epicatechin', ''], ['(-)-epicatechin', 'subClassOf', 'chemical entity', '']]\n",
      "\n",
      "napdi_srs_imports:camellia_sinensis_leaf - polyphenol Path:\n",
      "[['Camellia_sinensis_leaf', 'has component', '(-)-epicatechin', ''], ['(-)-epicatechin', 'subClassOf', 'polyphenol', '']]\n",
      "\n",
      "napdi_srs_imports:camellia_sinensis_leaf - doxorubicin Path:\n",
      "[['Camellia_sinensis_leaf', 'has component', '(-)-epicatechin', ''], ['(-)-epicatechin', 'molecularly interacts with', 'doxorubicin', 'machine_read']]\n",
      "\n",
      "napdi_srs_imports:camellia_sinensis_leaf - mitogen-activated protein kinase 3 Path:\n",
      "[['Camellia_sinensis_leaf', 'has component', '(-)-epicatechin', ''], ['(-)-epicatechin', 'IncreaseAmount', 'mitogen-activated protein kinase 3', 'machine_read']]\n",
      "\n",
      "napdi_srs_imports:camellia_sinensis_leaf - neuron death Path:\n",
      "[['Camellia_sinensis_leaf', 'has component', '(-)-epicatechin', ''], ['(-)-epicatechin', 'directly negatively regulates activity of', 'neuron death', 'machine_read']]\n",
      "\n",
      "napdi_srs_imports:camellia_sinensis_leaf - gene expression Path:\n",
      "[['Camellia_sinensis_leaf', 'has component', '(-)-epicatechin', ''], ['(-)-epicatechin', 'molecularly interacts with', 'gene expression', 'machine_read']]\n",
      "\n",
      "napdi_srs_imports:camellia_sinensis_leaf - voltage-gated potassium channel KCNH2 Path:\n",
      "[['Camellia_sinensis_leaf', 'has component', '(-)-epicatechin', ''], ['(-)-epicatechin', 'IncreaseAmount', 'voltage-gated potassium channel KCNH2', 'machine_read']]\n",
      "\n",
      "napdi_srs_imports:camellia_sinensis_leaf - Peroxidase Path:\n",
      "[['Camellia_sinensis_leaf', 'has component', '(-)-epicatechin', ''], ['(-)-epicatechin', 'molecularly interacts with', 'Peroxidase', 'machine_read']]\n",
      "\n",
      "napdi_srs_imports:camellia_sinensis_leaf - SLCO2B1_gene Path:\n",
      "[['Camellia_sinensis_leaf', 'has component', '(-)-epicatechin', ''], ['(-)-epicatechin', 'directly negatively regulates activity of', 'SLCO2B1_gene', 'machine_read']]\n"
     ]
    }
   ],
   "source": [
    "#get 20 paths from green tea single source shortest path\n",
    "#if returned paths are dictionary\n",
    "count = 0\n",
    "for target, node_list in greentea_path.items():\n",
    "    count += 1\n",
    "    if target != napdi.camellia_sinensis_leaf:\n",
    "        if str(target) not in nodeLabels:\n",
    "            target_label = str(target).split('/')[-1]\n",
    "        else:\n",
    "            target_label = nodeLabels[str(target)]\n",
    "        print('\\n{} - {} Path:'.format(str(napdi.camellia_sinensis_leaf).split('/')[-1], target_label))\n",
    "        path_labels = get_path_labels(node_list)\n",
    "        print(path_labels)\n",
    "    if count == 20:\n",
    "        break"
   ]
  },
  {
   "cell_type": "code",
   "execution_count": 73,
   "id": "cf4afe6b-0f79-4093-9e96-658e05020421",
   "metadata": {},
   "outputs": [],
   "source": [
    "#save 100 paths from green tea single source shortest path to file\n",
    "#if returned paths are dictionary\n",
    "count = 0\n",
    "file_save = open(DIR_OUT+save1, 'w')\n",
    "for target, node_list in greentea_path.items():\n",
    "    count += 1\n",
    "    if target != napdi.camellia_sinensis_leaf:\n",
    "        if str(target) not in nodeLabels:\n",
    "            target_label = str(target).split('/')[-1]\n",
    "        else:\n",
    "            target_label = nodeLabels[str(target)]\n",
    "        file_save.write('\\n{} - {} Path:\\n'.format(str(napdi.camellia_sinensis_leaf).split('/')[-1], target_label))\n",
    "        path_labels = get_path_labels(node_list)\n",
    "        for triples in path_labels:\n",
    "            for item in triples:\n",
    "                file_save.write(str(item)+' ')\n",
    "            file_save.write('\\n')\n",
    "    if count == 100:\n",
    "        break\n",
    "file_save.close()"
   ]
  },
  {
   "cell_type": "code",
   "execution_count": null,
   "id": "c2bbbfed-4ac5-4bc9-9be2-46f1b9b201b0",
   "metadata": {},
   "outputs": [],
   "source": [
    "#obo.CHEBI_83161 - St. Johns Wort extract (to test graph)"
   ]
  },
  {
   "cell_type": "code",
   "execution_count": null,
   "id": "4959e2ea-8fb4-4071-bb0c-2b88c0398328",
   "metadata": {},
   "outputs": [],
   "source": []
  },
  {
   "cell_type": "code",
   "execution_count": 74,
   "id": "4aab468e-4378-44a4-920e-7827a2f41c20",
   "metadata": {},
   "outputs": [],
   "source": [
    "#green tea and warfarin\n",
    "pathx = nx.bidirectional_shortest_path(nx_graph, napdi.camellia_sinensis_leaf, obo.CHEBI_10033)"
   ]
  },
  {
   "cell_type": "code",
   "execution_count": 75,
   "id": "9f013ef1-929b-4f2b-aee9-59a8e62511c0",
   "metadata": {},
   "outputs": [
    {
     "data": {
      "text/plain": [
       "[rdflib.term.URIRef('http://napdi.org/napdi_srs_imports:camellia_sinensis_leaf'),\n",
       " rdflib.term.URIRef('http://purl.obolibrary.org/obo/CHEBI_68330'),\n",
       " rdflib.term.URIRef('http://napdi.org/napdi-srs-imports:camellia_sinensis_leaf'),\n",
       " rdflib.term.URIRef('http://purl.obolibrary.org/obo/CHEBI_10033')]"
      ]
     },
     "execution_count": 75,
     "metadata": {},
     "output_type": "execute_result"
    }
   ],
   "source": [
    "pathx"
   ]
  },
  {
   "cell_type": "code",
   "execution_count": 35,
   "id": "93fa9b2d-9935-4ffb-9830-9ee9d5fbf991",
   "metadata": {},
   "outputs": [
    {
     "name": "stdout",
     "output_type": "stream",
     "text": [
      "Edge info: \n",
      "dict_values([{'predicate_key': '4bbadcc28097247fd55f77cbeb77ab74', 'weight': 0.0}])\n",
      "False\n",
      "Edge info: \n",
      "dict_values([{'predicate_key': 'cf627db0a97bc9798bf6f089a06581c9', 'weight': 0.0, 'pmid': '30286210', 'timestamp': '2018', 'source_graph': 'machine_read', 'belief': 0.65}])\n",
      "True\n",
      "Edge info: \n",
      "dict_values([{'predicate_key': '6dae54e8b8bbe9cdb6c615e404a5d7ce', 'weight': 0.0, 'pmid': '30286210', 'timestamp': '2018', 'source_graph': 'machine_read', 'belief': 0.65}])\n",
      "True\n"
     ]
    }
   ],
   "source": [
    "#scratch try\n",
    "for edge in zip(pathx,pathx[1:]):                                                 \n",
    "    data = nx_graph.get_edge_data(*edge)    \n",
    "    print('Edge info: ')\n",
    "    print(data.values())\n",
    "    print('source_graph' in list(data.values())[0])"
   ]
  },
  {
   "cell_type": "code",
   "execution_count": 21,
   "id": "3d802ac0-afda-44f9-9177-9d6ee7b7cf78",
   "metadata": {},
   "outputs": [
    {
     "data": {
      "text/plain": [
       "[['Camellia_sinensis_leaf',\n",
       "  'has component',\n",
       "  '(-)-epicatechin-3-O-gallate',\n",
       "  ''],\n",
       " ['(-)-epicatechin-3-O-gallate',\n",
       "  'molecularly interacts with',\n",
       "  'UDP-glucuronosyltransferase 1A1 (human)',\n",
       "  'machine_read']]"
      ]
     },
     "execution_count": 21,
     "metadata": {},
     "output_type": "execute_result"
    }
   ],
   "source": [
    "path_labels"
   ]
  },
  {
   "cell_type": "code",
   "execution_count": 76,
   "id": "c7b2a062-1fef-45a9-b493-08128797ad8a",
   "metadata": {},
   "outputs": [],
   "source": [
    "epicatechin = obo.CHEBI_90\n",
    "catechin = obo.CHEBI_23053\n",
    "egcg = obo.CHEBI_4806\n",
    "greentea = napdi.camellia_sinensis_leaf"
   ]
  },
  {
   "cell_type": "code",
   "execution_count": 60,
   "id": "40aecb79-09e3-4db6-8f08-5ee86b94e757",
   "metadata": {},
   "outputs": [],
   "source": [
    "edge_path_test = nx.all_simple_edge_paths(nx_graph, catechin, obo.PR_P08684, 10)"
   ]
  },
  {
   "cell_type": "code",
   "execution_count": 61,
   "id": "8743c989-8c9d-4ae9-8597-92afe9ed3d87",
   "metadata": {},
   "outputs": [
    {
     "name": "stdout",
     "output_type": "stream",
     "text": [
      "[(rdflib.term.URIRef('http://purl.obolibrary.org/obo/CHEBI_23053'), rdflib.term.URIRef('http://purl.obolibrary.org/obo/GO_0018130'), rdflib.term.URIRef('http://purl.obolibrary.org/obo/RO_0002436')), (rdflib.term.URIRef('http://purl.obolibrary.org/obo/GO_0018130'), rdflib.term.URIRef('http://purl.obolibrary.org/obo/GO_0044249'), rdflib.term.URIRef('http://www.w3.org/2000/01/rdf-schema#subClassOf')), (rdflib.term.URIRef('http://purl.obolibrary.org/obo/GO_0044249'), rdflib.term.URIRef('http://purl.obolibrary.org/obo/GO_0009058'), rdflib.term.URIRef('http://www.w3.org/2000/01/rdf-schema#subClassOf')), (rdflib.term.URIRef('http://purl.obolibrary.org/obo/GO_0009058'), rdflib.term.URIRef('http://purl.obolibrary.org/obo/PR_P17735'), rdflib.term.URIRef('http://purl.obolibrary.org/obo/RO_0000057')), (rdflib.term.URIRef('http://purl.obolibrary.org/obo/PR_P17735'), rdflib.term.URIRef('https://uswest.ensembl.org/Homo_sapiens/Transcript/Summary?t=ENST00000355962'), rdflib.term.URIRef('http://purl.obolibrary.org/obo/RO_0002512')), (rdflib.term.URIRef('https://uswest.ensembl.org/Homo_sapiens/Transcript/Summary?t=ENST00000355962'), rdflib.term.URIRef('http://purl.obolibrary.org/obo/SO_0000673'), rdflib.term.URIRef('http://www.w3.org/2000/01/rdf-schema#subClassOf')), (rdflib.term.URIRef('http://purl.obolibrary.org/obo/SO_0000673'), rdflib.term.URIRef('http://purl.obolibrary.org/obo/SO_0000831'), rdflib.term.URIRef('http://www.w3.org/2000/01/rdf-schema#subClassOf')), (rdflib.term.URIRef('http://purl.obolibrary.org/obo/SO_0000831'), rdflib.term.URIRef('http://purl.obolibrary.org/obo/SO_0000704'), rdflib.term.URIRef('http://purl.obolibrary.org/obo/so#member_of')), (rdflib.term.URIRef('http://purl.obolibrary.org/obo/SO_0000704'), rdflib.term.URIRef('http://purl.obolibrary.org/obo/CHEBI_27902'), rdflib.term.URIRef('http://purl.obolibrary.org/obo/RO_0002436')), (rdflib.term.URIRef('http://purl.obolibrary.org/obo/CHEBI_27902'), rdflib.term.URIRef('http://purl.obolibrary.org/obo/PR_P08684'), rdflib.term.URIRef('http://purl.obolibrary.org/obo/RO_0002434'))]\n",
      "[(rdflib.term.URIRef('http://purl.obolibrary.org/obo/CHEBI_23053'), rdflib.term.URIRef('http://purl.obolibrary.org/obo/GO_0018130'), rdflib.term.URIRef('http://purl.obolibrary.org/obo/RO_0002436')), (rdflib.term.URIRef('http://purl.obolibrary.org/obo/GO_0018130'), rdflib.term.URIRef('http://purl.obolibrary.org/obo/GO_0044249'), rdflib.term.URIRef('http://www.w3.org/2000/01/rdf-schema#subClassOf')), (rdflib.term.URIRef('http://purl.obolibrary.org/obo/GO_0044249'), rdflib.term.URIRef('http://purl.obolibrary.org/obo/GO_0009058'), rdflib.term.URIRef('http://www.w3.org/2000/01/rdf-schema#subClassOf')), (rdflib.term.URIRef('http://purl.obolibrary.org/obo/GO_0009058'), rdflib.term.URIRef('http://purl.obolibrary.org/obo/PR_P17735'), rdflib.term.URIRef('http://purl.obolibrary.org/obo/RO_0000057')), (rdflib.term.URIRef('http://purl.obolibrary.org/obo/PR_P17735'), rdflib.term.URIRef('https://uswest.ensembl.org/Homo_sapiens/Transcript/Summary?t=ENST00000355962'), rdflib.term.URIRef('http://purl.obolibrary.org/obo/RO_0002512')), (rdflib.term.URIRef('https://uswest.ensembl.org/Homo_sapiens/Transcript/Summary?t=ENST00000355962'), rdflib.term.URIRef('http://purl.obolibrary.org/obo/SO_0000673'), rdflib.term.URIRef('http://www.w3.org/2000/01/rdf-schema#subClassOf')), (rdflib.term.URIRef('http://purl.obolibrary.org/obo/SO_0000673'), rdflib.term.URIRef('http://purl.obolibrary.org/obo/SO_0000831'), rdflib.term.URIRef('http://www.w3.org/2000/01/rdf-schema#subClassOf')), (rdflib.term.URIRef('http://purl.obolibrary.org/obo/SO_0000831'), rdflib.term.URIRef('http://purl.obolibrary.org/obo/SO_0000704'), rdflib.term.URIRef('http://purl.obolibrary.org/obo/so#member_of')), (rdflib.term.URIRef('http://purl.obolibrary.org/obo/SO_0000704'), rdflib.term.URIRef('http://purl.obolibrary.org/obo/CHEBI_2955'), rdflib.term.URIRef('http://purl.obolibrary.org/obo/RO_0002449')), (rdflib.term.URIRef('http://purl.obolibrary.org/obo/CHEBI_2955'), rdflib.term.URIRef('http://purl.obolibrary.org/obo/PR_P08684'), rdflib.term.URIRef('http://purl.obolibrary.org/obo/RO_0002449'))]\n",
      "[(rdflib.term.URIRef('http://purl.obolibrary.org/obo/CHEBI_23053'), rdflib.term.URIRef('http://purl.obolibrary.org/obo/GO_0018130'), rdflib.term.URIRef('http://purl.obolibrary.org/obo/RO_0002436')), (rdflib.term.URIRef('http://purl.obolibrary.org/obo/GO_0018130'), rdflib.term.URIRef('http://purl.obolibrary.org/obo/GO_0044249'), rdflib.term.URIRef('http://www.w3.org/2000/01/rdf-schema#subClassOf')), (rdflib.term.URIRef('http://purl.obolibrary.org/obo/GO_0044249'), rdflib.term.URIRef('http://purl.obolibrary.org/obo/GO_0009058'), rdflib.term.URIRef('http://www.w3.org/2000/01/rdf-schema#subClassOf')), (rdflib.term.URIRef('http://purl.obolibrary.org/obo/GO_0009058'), rdflib.term.URIRef('http://purl.obolibrary.org/obo/PR_P17735'), rdflib.term.URIRef('http://purl.obolibrary.org/obo/RO_0000057')), (rdflib.term.URIRef('http://purl.obolibrary.org/obo/PR_P17735'), rdflib.term.URIRef('https://uswest.ensembl.org/Homo_sapiens/Transcript/Summary?t=ENST00000355962'), rdflib.term.URIRef('http://purl.obolibrary.org/obo/RO_0002512')), (rdflib.term.URIRef('https://uswest.ensembl.org/Homo_sapiens/Transcript/Summary?t=ENST00000355962'), rdflib.term.URIRef('http://www.ncbi.nlm.nih.gov/gene/6898'), rdflib.term.URIRef('http://purl.obolibrary.org/obo/RO_0002510')), (rdflib.term.URIRef('http://www.ncbi.nlm.nih.gov/gene/6898'), rdflib.term.URIRef('http://purl.obolibrary.org/obo/SO_0000704'), rdflib.term.URIRef('http://www.w3.org/2000/01/rdf-schema#subClassOf')), (rdflib.term.URIRef('http://purl.obolibrary.org/obo/SO_0000704'), rdflib.term.URIRef('http://purl.obolibrary.org/obo/PR_Q9H9S0'), rdflib.term.URIRef('http://purl.obolibrary.org/obo/RO_0002449')), (rdflib.term.URIRef('http://purl.obolibrary.org/obo/PR_Q9H9S0'), rdflib.term.URIRef('http://purl.obolibrary.org/obo/GO_0043231'), rdflib.term.URIRef('http://purl.obolibrary.org/obo/RO_0001025')), (rdflib.term.URIRef('http://purl.obolibrary.org/obo/GO_0043231'), rdflib.term.URIRef('http://purl.obolibrary.org/obo/PR_P08684'), rdflib.term.URIRef('http://purl.obolibrary.org/obo/RO_0001015'))]\n"
     ]
    }
   ],
   "source": [
    "i = 0\n",
    "for x in edge_path_test:\n",
    "    print(x)\n",
    "    i += 1\n",
    "    if i==3:\n",
    "        break"
   ]
  },
  {
   "cell_type": "code",
   "execution_count": 77,
   "id": "d98a4e47-d1cf-4358-9cc2-09801545af3b",
   "metadata": {},
   "outputs": [],
   "source": [
    "#returns simple paths nodes and edges, \n",
    "def k_simple_edge_paths(G, source, target, k, shortestLen):\n",
    "    paths = nx.all_simple_edge_paths(G, source, target, cutoff=shortestLen+20)\n",
    "    path_l = []\n",
    "    path_n = []\n",
    "    i = 0\n",
    "    while i<k:\n",
    "        try:\n",
    "            print('[info] applying next operator to search for a simple path of max length {}'.format(shortestLen+20))\n",
    "            path = next(paths)\n",
    "        except StopIteration:\n",
    "            break\n",
    "        print('[info] Simple path found of length {}'.format(len(path))) \n",
    "        if len(path) > shortestLen:\n",
    "            print('[info] Simple path length greater than shortest path length ({}) so adding to results'.format(shortestLen))\n",
    "            path_l.append(path)\n",
    "        i += 1\n",
    "    for path in path_l:\n",
    "        triple_list = []\n",
    "        for triple in path:\n",
    "            subj_lab = ''\n",
    "            pred_lab = ''\n",
    "            obj_lab = ''\n",
    "            subj = str(triple[0])\n",
    "            pred = str(triple[2])\n",
    "            obj = str(triple[1])\n",
    "            if subj in nodeLabels:\n",
    "                subj_lab = nodeLabels[subj]\n",
    "            if obj in nodeLabels:\n",
    "                obj_lab = nodeLabels[obj]\n",
    "            if pred in nodeLabels:\n",
    "                pred_lab = nodeLabels[pred]\n",
    "            triple_labels = (subj_lab, pred_lab, obj_lab)\n",
    "            triple_list.append(triple_labels)\n",
    "        path_n.append(triple_list)\n",
    "    return path_l, path_n"
   ]
  },
  {
   "cell_type": "code",
   "execution_count": 79,
   "id": "65efc39d-c8c0-445d-99c4-f75f3cbeb946",
   "metadata": {},
   "outputs": [
    {
     "name": "stdout",
     "output_type": "stream",
     "text": [
      "[info] applying next operator to search for a simple path of max length 20\n",
      "[info] Simple path found of length 20\n",
      "[info] Simple path length greater than shortest path length (0) so adding to results\n",
      "[info] applying next operator to search for a simple path of max length 20\n",
      "[info] Simple path found of length 20\n",
      "[info] Simple path length greater than shortest path length (0) so adding to results\n",
      "[info] applying next operator to search for a simple path of max length 20\n",
      "[info] Simple path found of length 20\n",
      "[info] Simple path length greater than shortest path length (0) so adding to results\n",
      "[info] applying next operator to search for a simple path of max length 20\n",
      "[info] Simple path found of length 20\n",
      "[info] Simple path length greater than shortest path length (0) so adding to results\n",
      "[info] applying next operator to search for a simple path of max length 20\n",
      "[info] Simple path found of length 20\n",
      "[info] Simple path length greater than shortest path length (0) so adding to results\n",
      "[info] applying next operator to search for a simple path of max length 20\n",
      "[info] Simple path found of length 20\n",
      "[info] Simple path length greater than shortest path length (0) so adding to results\n",
      "[info] applying next operator to search for a simple path of max length 20\n",
      "[info] Simple path found of length 20\n",
      "[info] Simple path length greater than shortest path length (0) so adding to results\n",
      "[info] applying next operator to search for a simple path of max length 20\n",
      "[info] Simple path found of length 20\n",
      "[info] Simple path length greater than shortest path length (0) so adding to results\n",
      "[info] applying next operator to search for a simple path of max length 20\n",
      "[info] Simple path found of length 20\n",
      "[info] Simple path length greater than shortest path length (0) so adding to results\n",
      "[info] applying next operator to search for a simple path of max length 20\n",
      "[info] Simple path found of length 20\n",
      "[info] Simple path length greater than shortest path length (0) so adding to results\n"
     ]
    }
   ],
   "source": [
    "cyp3a4_edge_paths, cyp3a4_edge_path_labs = k_simple_edge_paths(nx_graph, greentea, obo.PR_P08684, 10, 0)"
   ]
  },
  {
   "cell_type": "code",
   "execution_count": 80,
   "id": "b07ee3ca-cd7d-45d8-a32c-99a330dd097d",
   "metadata": {},
   "outputs": [],
   "source": [
    "source = str(greentea)\n",
    "target = str(obo.PR_P08684)\n",
    "save2 = 'greentea_cyp3a4_simple_paths_20.txt'\n",
    "file_save = open(DIR_OUT+save2, 'w')\n",
    "if source in nodeLabels:\n",
    "    source_label = nodeLabels[source]\n",
    "if target in nodeLabels:\n",
    "    target_label = nodeLabels[target]\n",
    "file_save.write('\\n{} - {} Simple Path (cutoff=20):\\n'.format(source_label, target_label))\n",
    "i = 0\n",
    "for path_list in cyp3a4_edge_path_labs:\n",
    "    file_save.write('\\nPATH: '+str(i)+'\\n')\n",
    "    for triples in path_list:\n",
    "        for item in triples:\n",
    "            file_save.write(str(item)+' ')\n",
    "        file_save.write('\\n')\n",
    "    i += 1\n",
    "file_save.close()"
   ]
  },
  {
   "cell_type": "code",
   "execution_count": 81,
   "id": "b5c089ef-2b42-49a9-acd4-0bd626718723",
   "metadata": {},
   "outputs": [
    {
     "name": "stdout",
     "output_type": "stream",
     "text": [
      "['catechin', 'molecularly interacts with', 'protein binding', '']\n",
      "['protein binding', 'function of', 'cytochrome P450 3A4 (human)', '']\n"
     ]
    }
   ],
   "source": [
    "pathx = nx.bidirectional_shortest_path(nx_graph, obo.CHEBI_23053, obo.PR_P08684)\n",
    "path_labels = get_path_labels(pathx)\n",
    "for triples in path_labels:\n",
    "    print(triples)"
   ]
  },
  {
   "cell_type": "code",
   "execution_count": 82,
   "id": "d9c6058d-3c5f-4083-a760-0b44cd6871a3",
   "metadata": {},
   "outputs": [
    {
     "name": "stdout",
     "output_type": "stream",
     "text": [
      "[info] applying next operator to search for a simple path of max length 22\n",
      "[info] Simple path found of length 21\n",
      "[info] Simple path length greater than shortest path length (2) so adding to results\n",
      "[info] applying next operator to search for a simple path of max length 22\n",
      "[info] Simple path found of length 22\n",
      "[info] Simple path length greater than shortest path length (2) so adding to results\n",
      "[info] applying next operator to search for a simple path of max length 22\n",
      "[info] Simple path found of length 22\n",
      "[info] Simple path length greater than shortest path length (2) so adding to results\n",
      "[info] applying next operator to search for a simple path of max length 22\n",
      "[info] Simple path found of length 22\n",
      "[info] Simple path length greater than shortest path length (2) so adding to results\n",
      "[info] applying next operator to search for a simple path of max length 22\n",
      "[info] Simple path found of length 22\n",
      "[info] Simple path length greater than shortest path length (2) so adding to results\n",
      "[info] applying next operator to search for a simple path of max length 22\n",
      "[info] Simple path found of length 22\n",
      "[info] Simple path length greater than shortest path length (2) so adding to results\n",
      "[info] applying next operator to search for a simple path of max length 22\n",
      "[info] Simple path found of length 22\n",
      "[info] Simple path length greater than shortest path length (2) so adding to results\n",
      "[info] applying next operator to search for a simple path of max length 22\n",
      "[info] Simple path found of length 22\n",
      "[info] Simple path length greater than shortest path length (2) so adding to results\n",
      "[info] applying next operator to search for a simple path of max length 22\n",
      "[info] Simple path found of length 22\n",
      "[info] Simple path length greater than shortest path length (2) so adding to results\n",
      "[info] applying next operator to search for a simple path of max length 22\n",
      "[info] Simple path found of length 22\n",
      "[info] Simple path length greater than shortest path length (2) so adding to results\n",
      "[info] applying next operator to search for a simple path of max length 22\n",
      "[info] Simple path found of length 22\n",
      "[info] Simple path length greater than shortest path length (2) so adding to results\n",
      "[info] applying next operator to search for a simple path of max length 22\n",
      "[info] Simple path found of length 22\n",
      "[info] Simple path length greater than shortest path length (2) so adding to results\n",
      "[info] applying next operator to search for a simple path of max length 22\n",
      "[info] Simple path found of length 22\n",
      "[info] Simple path length greater than shortest path length (2) so adding to results\n",
      "[info] applying next operator to search for a simple path of max length 22\n",
      "[info] Simple path found of length 22\n",
      "[info] Simple path length greater than shortest path length (2) so adding to results\n",
      "[info] applying next operator to search for a simple path of max length 22\n",
      "[info] Simple path found of length 22\n",
      "[info] Simple path length greater than shortest path length (2) so adding to results\n",
      "[info] applying next operator to search for a simple path of max length 22\n",
      "[info] Simple path found of length 22\n",
      "[info] Simple path length greater than shortest path length (2) so adding to results\n",
      "[info] applying next operator to search for a simple path of max length 22\n",
      "[info] Simple path found of length 22\n",
      "[info] Simple path length greater than shortest path length (2) so adding to results\n",
      "[info] applying next operator to search for a simple path of max length 22\n",
      "[info] Simple path found of length 22\n",
      "[info] Simple path length greater than shortest path length (2) so adding to results\n",
      "[info] applying next operator to search for a simple path of max length 22\n",
      "[info] Simple path found of length 22\n",
      "[info] Simple path length greater than shortest path length (2) so adding to results\n",
      "[info] applying next operator to search for a simple path of max length 22\n",
      "[info] Simple path found of length 22\n",
      "[info] Simple path length greater than shortest path length (2) so adding to results\n"
     ]
    }
   ],
   "source": [
    "source = str(obo.CHEBI_23053)\n",
    "target = str(obo.PR_P08684)\n",
    "save2 = 'catechin_cyp3a4_simple_paths_20.txt'\n",
    "file_save = open(DIR_OUT+save2, 'w')\n",
    "cyp3a4_edge_paths, cyp3a4_edge_path_labs = k_simple_edge_paths(nx_graph, obo.CHEBI_23053, obo.PR_P08684, 20, 2)\n",
    "if source in nodeLabels:\n",
    "    source_label = nodeLabels[source]\n",
    "if target in nodeLabels:\n",
    "    target_label = nodeLabels[target]\n",
    "file_save.write('\\n{} - {} Simple Path (cutoff=20):\\n'.format(source_label, target_label))\n",
    "i = 0\n",
    "for path_list in cyp3a4_edge_path_labs:\n",
    "    file_save.write('\\nPATH: '+str(i)+'\\n')\n",
    "    for triples in path_list:\n",
    "        for item in triples:\n",
    "            file_save.write(str(item)+' ')\n",
    "        file_save.write('\\n')\n",
    "    i += 1\n",
    "file_save.close()"
   ]
  },
  {
   "cell_type": "code",
   "execution_count": 83,
   "id": "d7127703-d16f-4af2-8607-8b1437d2c505",
   "metadata": {},
   "outputs": [
    {
     "name": "stdout",
     "output_type": "stream",
     "text": [
      "[info] applying next operator to search for a simple path of max length 20\n",
      "[info] Simple path found of length 20\n",
      "[info] Simple path length greater than shortest path length (0) so adding to results\n",
      "[info] applying next operator to search for a simple path of max length 20\n",
      "[info] Simple path found of length 20\n",
      "[info] Simple path length greater than shortest path length (0) so adding to results\n",
      "[info] applying next operator to search for a simple path of max length 20\n",
      "[info] Simple path found of length 20\n",
      "[info] Simple path length greater than shortest path length (0) so adding to results\n",
      "[info] applying next operator to search for a simple path of max length 20\n",
      "[info] Simple path found of length 20\n",
      "[info] Simple path length greater than shortest path length (0) so adding to results\n",
      "[info] applying next operator to search for a simple path of max length 20\n",
      "[info] Simple path found of length 20\n",
      "[info] Simple path length greater than shortest path length (0) so adding to results\n",
      "[info] applying next operator to search for a simple path of max length 20\n",
      "[info] Simple path found of length 20\n",
      "[info] Simple path length greater than shortest path length (0) so adding to results\n",
      "[info] applying next operator to search for a simple path of max length 20\n",
      "[info] Simple path found of length 20\n",
      "[info] Simple path length greater than shortest path length (0) so adding to results\n",
      "[info] applying next operator to search for a simple path of max length 20\n",
      "[info] Simple path found of length 20\n",
      "[info] Simple path length greater than shortest path length (0) so adding to results\n",
      "[info] applying next operator to search for a simple path of max length 20\n",
      "[info] Simple path found of length 20\n",
      "[info] Simple path length greater than shortest path length (0) so adding to results\n",
      "[info] applying next operator to search for a simple path of max length 20\n",
      "[info] Simple path found of length 20\n",
      "[info] Simple path length greater than shortest path length (0) so adding to results\n",
      "[info] applying next operator to search for a simple path of max length 20\n",
      "[info] Simple path found of length 20\n",
      "[info] Simple path length greater than shortest path length (0) so adding to results\n",
      "[info] applying next operator to search for a simple path of max length 20\n",
      "[info] Simple path found of length 20\n",
      "[info] Simple path length greater than shortest path length (0) so adding to results\n",
      "[info] applying next operator to search for a simple path of max length 20\n",
      "[info] Simple path found of length 20\n",
      "[info] Simple path length greater than shortest path length (0) so adding to results\n",
      "[info] applying next operator to search for a simple path of max length 20\n",
      "[info] Simple path found of length 20\n",
      "[info] Simple path length greater than shortest path length (0) so adding to results\n",
      "[info] applying next operator to search for a simple path of max length 20\n",
      "[info] Simple path found of length 20\n",
      "[info] Simple path length greater than shortest path length (0) so adding to results\n",
      "[info] applying next operator to search for a simple path of max length 20\n",
      "[info] Simple path found of length 20\n",
      "[info] Simple path length greater than shortest path length (0) so adding to results\n",
      "[info] applying next operator to search for a simple path of max length 20\n",
      "[info] Simple path found of length 20\n",
      "[info] Simple path length greater than shortest path length (0) so adding to results\n",
      "[info] applying next operator to search for a simple path of max length 20\n",
      "[info] Simple path found of length 20\n",
      "[info] Simple path length greater than shortest path length (0) so adding to results\n",
      "[info] applying next operator to search for a simple path of max length 20\n",
      "[info] Simple path found of length 20\n",
      "[info] Simple path length greater than shortest path length (0) so adding to results\n",
      "[info] applying next operator to search for a simple path of max length 20\n",
      "[info] Simple path found of length 20\n",
      "[info] Simple path length greater than shortest path length (0) so adding to results\n"
     ]
    }
   ],
   "source": [
    "source = str(obo.CHEBI_4806)\n",
    "target = str(obo.CHEBI_41879)\n",
    "save2 = 'EGCG_dexamethasone_simple_paths_20.txt'\n",
    "file_save = open(DIR_OUT+save2, 'w')\n",
    "cyp3a4_edge_paths, cyp3a4_edge_path_labs = k_simple_edge_paths(nx_graph, obo.CHEBI_4806, obo.CHEBI_41879, 20, 0)\n",
    "if source in nodeLabels:\n",
    "    source_label = nodeLabels[source]\n",
    "if target in nodeLabels:\n",
    "    target_label = nodeLabels[target]\n",
    "file_save.write('\\n{} - {} Simple Path (cutoff=20):\\n'.format(source_label, target_label))\n",
    "i = 0\n",
    "for path_list in cyp3a4_edge_path_labs:\n",
    "    file_save.write('\\nPATH: '+str(i)+'\\n')\n",
    "    for triples in path_list:\n",
    "        for item in triples:\n",
    "            file_save.write(str(item)+' ')\n",
    "        file_save.write('\\n')\n",
    "    i += 1\n",
    "file_save.close()"
   ]
  },
  {
   "cell_type": "code",
   "execution_count": 84,
   "id": "48055cbd-6811-4e68-a6a6-3cc5f37214da",
   "metadata": {},
   "outputs": [
    {
     "name": "stdout",
     "output_type": "stream",
     "text": [
      "[info] applying next operator to search for a simple path of max length 20\n",
      "[info] Simple path found of length 20\n",
      "[info] Simple path length greater than shortest path length (0) so adding to results\n",
      "[info] applying next operator to search for a simple path of max length 20\n",
      "[info] Simple path found of length 20\n",
      "[info] Simple path length greater than shortest path length (0) so adding to results\n",
      "[info] applying next operator to search for a simple path of max length 20\n",
      "[info] Simple path found of length 20\n",
      "[info] Simple path length greater than shortest path length (0) so adding to results\n",
      "[info] applying next operator to search for a simple path of max length 20\n",
      "[info] Simple path found of length 20\n",
      "[info] Simple path length greater than shortest path length (0) so adding to results\n",
      "[info] applying next operator to search for a simple path of max length 20\n",
      "[info] Simple path found of length 20\n",
      "[info] Simple path length greater than shortest path length (0) so adding to results\n",
      "[info] applying next operator to search for a simple path of max length 20\n",
      "[info] Simple path found of length 20\n",
      "[info] Simple path length greater than shortest path length (0) so adding to results\n",
      "[info] applying next operator to search for a simple path of max length 20\n",
      "[info] Simple path found of length 20\n",
      "[info] Simple path length greater than shortest path length (0) so adding to results\n",
      "[info] applying next operator to search for a simple path of max length 20\n",
      "[info] Simple path found of length 20\n",
      "[info] Simple path length greater than shortest path length (0) so adding to results\n",
      "[info] applying next operator to search for a simple path of max length 20\n",
      "[info] Simple path found of length 20\n",
      "[info] Simple path length greater than shortest path length (0) so adding to results\n",
      "[info] applying next operator to search for a simple path of max length 20\n",
      "[info] Simple path found of length 20\n",
      "[info] Simple path length greater than shortest path length (0) so adding to results\n",
      "[info] applying next operator to search for a simple path of max length 20\n",
      "[info] Simple path found of length 20\n",
      "[info] Simple path length greater than shortest path length (0) so adding to results\n",
      "[info] applying next operator to search for a simple path of max length 20\n",
      "[info] Simple path found of length 20\n",
      "[info] Simple path length greater than shortest path length (0) so adding to results\n",
      "[info] applying next operator to search for a simple path of max length 20\n",
      "[info] Simple path found of length 20\n",
      "[info] Simple path length greater than shortest path length (0) so adding to results\n",
      "[info] applying next operator to search for a simple path of max length 20\n",
      "[info] Simple path found of length 20\n",
      "[info] Simple path length greater than shortest path length (0) so adding to results\n",
      "[info] applying next operator to search for a simple path of max length 20\n",
      "[info] Simple path found of length 20\n",
      "[info] Simple path length greater than shortest path length (0) so adding to results\n",
      "[info] applying next operator to search for a simple path of max length 20\n",
      "[info] Simple path found of length 20\n",
      "[info] Simple path length greater than shortest path length (0) so adding to results\n",
      "[info] applying next operator to search for a simple path of max length 20\n",
      "[info] Simple path found of length 20\n",
      "[info] Simple path length greater than shortest path length (0) so adding to results\n",
      "[info] applying next operator to search for a simple path of max length 20\n",
      "[info] Simple path found of length 20\n",
      "[info] Simple path length greater than shortest path length (0) so adding to results\n",
      "[info] applying next operator to search for a simple path of max length 20\n",
      "[info] Simple path found of length 20\n",
      "[info] Simple path length greater than shortest path length (0) so adding to results\n",
      "[info] applying next operator to search for a simple path of max length 20\n",
      "[info] Simple path found of length 20\n",
      "[info] Simple path length greater than shortest path length (0) so adding to results\n"
     ]
    }
   ],
   "source": [
    "source = str(obo.CHEBI_4806)\n",
    "target = str(obo.UBERON_0000468)\n",
    "save2 = 'EGCG_bodyweight_simple_paths_20.txt'\n",
    "file_save = open(DIR_OUT+save2, 'w')\n",
    "cyp3a4_edge_paths, cyp3a4_edge_path_labs = k_simple_edge_paths(nx_graph, obo.CHEBI_4806, obo.UBERON_0000468, 20, 0)\n",
    "if source in nodeLabels:\n",
    "    source_label = nodeLabels[source]\n",
    "if target in nodeLabels:\n",
    "    target_label = nodeLabels[target]\n",
    "file_save.write('\\n{} - {} Simple Path (cutoff=20):\\n'.format(source_label, target_label))\n",
    "i = 0\n",
    "for path_list in cyp3a4_edge_path_labs:\n",
    "    file_save.write('\\nPATH: '+str(i)+'\\n')\n",
    "    for triples in path_list:\n",
    "        for item in triples:\n",
    "            file_save.write(str(item)+' ')\n",
    "        file_save.write('\\n')\n",
    "    i += 1\n",
    "file_save.close()"
   ]
  },
  {
   "cell_type": "code",
   "execution_count": 85,
   "id": "55f32134-8cb1-40ac-8550-a606844863d3",
   "metadata": {},
   "outputs": [
    {
     "name": "stdout",
     "output_type": "stream",
     "text": [
      "(('(-)-epigallocatechin 3-gallate', 'subClassOf', 'flavans'), (rdflib.term.URIRef('http://purl.obolibrary.org/obo/CHEBI_4806'), rdflib.term.URIRef('http://purl.obolibrary.org/obo/CHEBI_38672'), rdflib.term.URIRef('http://www.w3.org/2000/01/rdf-schema#subClassOf')))\n",
      "(('flavans', 'subClassOf', '1-benzopyran'), (rdflib.term.URIRef('http://purl.obolibrary.org/obo/CHEBI_38672'), rdflib.term.URIRef('http://purl.obolibrary.org/obo/CHEBI_38443'), rdflib.term.URIRef('http://www.w3.org/2000/01/rdf-schema#subClassOf')))\n",
      "(('1-benzopyran', 'subClassOf', 'benzopyran'), (rdflib.term.URIRef('http://purl.obolibrary.org/obo/CHEBI_38443'), rdflib.term.URIRef('http://purl.obolibrary.org/obo/CHEBI_22727'), rdflib.term.URIRef('http://www.w3.org/2000/01/rdf-schema#subClassOf')))\n",
      "(('benzopyran', 'molecularly interacts with', 'secretory granule lumen'), (rdflib.term.URIRef('http://purl.obolibrary.org/obo/CHEBI_22727'), rdflib.term.URIRef('http://purl.obolibrary.org/obo/GO_0034774'), rdflib.term.URIRef('http://purl.obolibrary.org/obo/RO_0002436')))\n",
      "(('secretory granule lumen', 'location of', '26S proteasome regulatory subunit 7 (human)'), (rdflib.term.URIRef('http://purl.obolibrary.org/obo/GO_0034774'), rdflib.term.URIRef('http://purl.obolibrary.org/obo/PR_P35998'), rdflib.term.URIRef('http://purl.obolibrary.org/obo/RO_0001015')))\n",
      "(('26S proteasome regulatory subunit 7 (human)', 'molecularly interacts with', 'cyclin-dependent kinase inhibitor 1B (human)'), (rdflib.term.URIRef('http://purl.obolibrary.org/obo/PR_P35998'), rdflib.term.URIRef('http://purl.obolibrary.org/obo/PR_P46527'), rdflib.term.URIRef('http://purl.obolibrary.org/obo/RO_0002436')))\n",
      "(('cyclin-dependent kinase inhibitor 1B (human)', 'molecularly interacts with', 'vitronectin (human)'), (rdflib.term.URIRef('http://purl.obolibrary.org/obo/PR_P46527'), rdflib.term.URIRef('http://purl.obolibrary.org/obo/PR_P04004'), rdflib.term.URIRef('http://purl.obolibrary.org/obo/RO_0002436')))\n",
      "(('vitronectin (human)', 'ribosomal translation of', 'VTN-201'), (rdflib.term.URIRef('http://purl.obolibrary.org/obo/PR_P04004'), rdflib.term.URIRef('https://uswest.ensembl.org/Homo_sapiens/Transcript/Summary?t=ENST00000226218'), rdflib.term.URIRef('http://purl.obolibrary.org/obo/RO_0002512')))\n",
      "(('VTN-201', 'transcribed from', 'VTN (human)'), (rdflib.term.URIRef('https://uswest.ensembl.org/Homo_sapiens/Transcript/Summary?t=ENST00000226218'), rdflib.term.URIRef('http://www.ncbi.nlm.nih.gov/gene/7448'), rdflib.term.URIRef('http://purl.obolibrary.org/obo/RO_0002510')))\n",
      "(('VTN (human)', 'participates_in', 'Molecules associated with elastic fibres'), (rdflib.term.URIRef('http://www.ncbi.nlm.nih.gov/gene/7448'), rdflib.term.URIRef('https://reactome.org/content/detail/R-HSA-2129379'), rdflib.term.URIRef('http://purl.obolibrary.org/obo/RO_0000056')))\n",
      "(('Molecules associated with elastic fibres', '', 'FBLN5 (human)'), (rdflib.term.URIRef('https://reactome.org/content/detail/R-HSA-2129379'), rdflib.term.URIRef('http://www.ncbi.nlm.nih.gov/gene/10516'), rdflib.term.URIRef('http://purl.obolibrary.org/obo/RO_0000057')))\n",
      "(('FBLN5 (human)', 'transcribed to', 'FBLN5-207'), (rdflib.term.URIRef('http://www.ncbi.nlm.nih.gov/gene/10516'), rdflib.term.URIRef('https://uswest.ensembl.org/Homo_sapiens/Transcript/Summary?t=ENST00000557088'), rdflib.term.URIRef('http://purl.obolibrary.org/obo/RO_0002511')))\n",
      "(('FBLN5-207', 'subClassOf', 'transcript'), (rdflib.term.URIRef('https://uswest.ensembl.org/Homo_sapiens/Transcript/Summary?t=ENST00000557088'), rdflib.term.URIRef('http://purl.obolibrary.org/obo/SO_0000673'), rdflib.term.URIRef('http://www.w3.org/2000/01/rdf-schema#subClassOf')))\n",
      "(('transcript', 'subClassOf', 'gene_member_region'), (rdflib.term.URIRef('http://purl.obolibrary.org/obo/SO_0000673'), rdflib.term.URIRef('http://purl.obolibrary.org/obo/SO_0000831'), rdflib.term.URIRef('http://www.w3.org/2000/01/rdf-schema#subClassOf')))\n",
      "(('gene_member_region', 'member_of', 'gene'), (rdflib.term.URIRef('http://purl.obolibrary.org/obo/SO_0000831'), rdflib.term.URIRef('http://purl.obolibrary.org/obo/SO_0000704'), rdflib.term.URIRef('http://purl.obolibrary.org/obo/so#member_of')))\n",
      "(('gene', 'directly negatively regulates activity of', 'homeobox protein NANOG (human)'), (rdflib.term.URIRef('http://purl.obolibrary.org/obo/SO_0000704'), rdflib.term.URIRef('http://purl.obolibrary.org/obo/PR_Q9H9S0'), rdflib.term.URIRef('http://purl.obolibrary.org/obo/RO_0002449')))\n",
      "(('homeobox protein NANOG (human)', 'molecularly interacts with', 'alpha-(1,3)-fucosyltransferase 4 (human)'), (rdflib.term.URIRef('http://purl.obolibrary.org/obo/PR_Q9H9S0'), rdflib.term.URIRef('http://purl.obolibrary.org/obo/PR_P22083'), rdflib.term.URIRef('http://purl.obolibrary.org/obo/RO_0002436')))\n",
      "(('alpha-(1,3)-fucosyltransferase 4 (human)', 'molecularly interacts with', 'transcription factor SOX-2 (human)'), (rdflib.term.URIRef('http://purl.obolibrary.org/obo/PR_P22083'), rdflib.term.URIRef('http://purl.obolibrary.org/obo/PR_P48431'), rdflib.term.URIRef('http://purl.obolibrary.org/obo/RO_0002436')))\n",
      "(('transcription factor SOX-2 (human)', 'located_in', 'brain'), (rdflib.term.URIRef('http://purl.obolibrary.org/obo/PR_P48431'), rdflib.term.URIRef('http://purl.obolibrary.org/obo/UBERON_0000955'), rdflib.term.URIRef('http://purl.obolibrary.org/obo/RO_0001025')))\n",
      "(('brain', 'in anterior side of', 'multicellular organism'), (rdflib.term.URIRef('http://purl.obolibrary.org/obo/UBERON_0000955'), rdflib.term.URIRef('http://purl.obolibrary.org/obo/UBERON_0000468'), rdflib.term.URIRef('http://purl.obolibrary.org/obo/BSPO_0000123')))\n"
     ]
    }
   ],
   "source": [
    "for item in zip(cyp3a4_edge_path_labs[0], cyp3a4_edge_paths[0]):\n",
    "    print(item)"
   ]
  },
  {
   "cell_type": "code",
   "execution_count": 87,
   "id": "66a061ab-ec1a-41bf-a3a2-8a02a46c8f9d",
   "metadata": {},
   "outputs": [
    {
     "name": "stdout",
     "output_type": "stream",
     "text": [
      "[info] applying next operator to search for a simple path of max length 20\n",
      "[info] Simple path found of length 20\n",
      "[info] Simple path length greater than shortest path length (0) so adding to results\n",
      "[info] applying next operator to search for a simple path of max length 20\n",
      "[info] Simple path found of length 20\n",
      "[info] Simple path length greater than shortest path length (0) so adding to results\n",
      "[info] applying next operator to search for a simple path of max length 20\n",
      "[info] Simple path found of length 20\n",
      "[info] Simple path length greater than shortest path length (0) so adding to results\n",
      "[info] applying next operator to search for a simple path of max length 20\n",
      "[info] Simple path found of length 20\n",
      "[info] Simple path length greater than shortest path length (0) so adding to results\n",
      "[info] applying next operator to search for a simple path of max length 20\n",
      "[info] Simple path found of length 20\n",
      "[info] Simple path length greater than shortest path length (0) so adding to results\n",
      "[info] applying next operator to search for a simple path of max length 20\n",
      "[info] Simple path found of length 20\n",
      "[info] Simple path length greater than shortest path length (0) so adding to results\n",
      "[info] applying next operator to search for a simple path of max length 20\n",
      "[info] Simple path found of length 20\n",
      "[info] Simple path length greater than shortest path length (0) so adding to results\n",
      "[info] applying next operator to search for a simple path of max length 20\n",
      "[info] Simple path found of length 20\n",
      "[info] Simple path length greater than shortest path length (0) so adding to results\n",
      "[info] applying next operator to search for a simple path of max length 20\n",
      "[info] Simple path found of length 20\n",
      "[info] Simple path length greater than shortest path length (0) so adding to results\n",
      "[info] applying next operator to search for a simple path of max length 20\n",
      "[info] Simple path found of length 20\n",
      "[info] Simple path length greater than shortest path length (0) so adding to results\n",
      "[info] applying next operator to search for a simple path of max length 20\n",
      "[info] Simple path found of length 20\n",
      "[info] Simple path length greater than shortest path length (0) so adding to results\n",
      "[info] applying next operator to search for a simple path of max length 20\n",
      "[info] Simple path found of length 20\n",
      "[info] Simple path length greater than shortest path length (0) so adding to results\n",
      "[info] applying next operator to search for a simple path of max length 20\n",
      "[info] Simple path found of length 20\n",
      "[info] Simple path length greater than shortest path length (0) so adding to results\n",
      "[info] applying next operator to search for a simple path of max length 20\n",
      "[info] Simple path found of length 20\n",
      "[info] Simple path length greater than shortest path length (0) so adding to results\n",
      "[info] applying next operator to search for a simple path of max length 20\n",
      "[info] Simple path found of length 20\n",
      "[info] Simple path length greater than shortest path length (0) so adding to results\n",
      "[info] applying next operator to search for a simple path of max length 20\n",
      "[info] Simple path found of length 20\n",
      "[info] Simple path length greater than shortest path length (0) so adding to results\n",
      "[info] applying next operator to search for a simple path of max length 20\n",
      "[info] Simple path found of length 20\n",
      "[info] Simple path length greater than shortest path length (0) so adding to results\n",
      "[info] applying next operator to search for a simple path of max length 20\n",
      "[info] Simple path found of length 20\n",
      "[info] Simple path length greater than shortest path length (0) so adding to results\n",
      "[info] applying next operator to search for a simple path of max length 20\n",
      "[info] Simple path found of length 20\n",
      "[info] Simple path length greater than shortest path length (0) so adding to results\n",
      "[info] applying next operator to search for a simple path of max length 20\n",
      "[info] Simple path found of length 20\n",
      "[info] Simple path length greater than shortest path length (0) so adding to results\n"
     ]
    }
   ],
   "source": [
    "source = str(obo.CHEBI_23053)\n",
    "target = str(obo.PR_P08684)\n",
    "save2 = 'catechin_cyp3a4_simple_paths_20.txt'\n",
    "file_save = open(DIR_OUT+save2, 'w')\n",
    "cyp3a4_edge_paths, cyp3a4_edge_path_labs = k_simple_edge_paths(nx_graph, obo.CHEBI_23053, obo.PR_P08684, 20, 0)\n",
    "if source in nodeLabels:\n",
    "    source_label = nodeLabels[source]\n",
    "if target in nodeLabels:\n",
    "    target_label = nodeLabels[target]\n",
    "file_save.write('\\n{} - {} Simple Path (cutoff=20):\\n'.format(source_label, target_label))\n",
    "i = 0\n",
    "for path_list in cyp3a4_edge_path_labs:\n",
    "    file_save.write('\\nPATH: '+str(i)+'\\n')\n",
    "    for triples in path_list:\n",
    "        for item in triples:\n",
    "            file_save.write(str(item)+' ')\n",
    "        file_save.write('\\n')\n",
    "    i += 1\n",
    "file_save.close()"
   ]
  },
  {
   "cell_type": "code",
   "execution_count": 88,
   "id": "e254c0ef-b8ad-4156-9854-09da18bb1e4f",
   "metadata": {},
   "outputs": [
    {
     "name": "stdout",
     "output_type": "stream",
     "text": [
      "[info] applying next operator to search for a simple path of max length 20\n",
      "[info] Simple path found of length 20\n",
      "[info] Simple path length greater than shortest path length (0) so adding to results\n",
      "[info] applying next operator to search for a simple path of max length 20\n",
      "[info] Simple path found of length 20\n",
      "[info] Simple path length greater than shortest path length (0) so adding to results\n",
      "[info] applying next operator to search for a simple path of max length 20\n",
      "[info] Simple path found of length 20\n",
      "[info] Simple path length greater than shortest path length (0) so adding to results\n",
      "[info] applying next operator to search for a simple path of max length 20\n",
      "[info] Simple path found of length 20\n",
      "[info] Simple path length greater than shortest path length (0) so adding to results\n",
      "[info] applying next operator to search for a simple path of max length 20\n",
      "[info] Simple path found of length 20\n",
      "[info] Simple path length greater than shortest path length (0) so adding to results\n",
      "[info] applying next operator to search for a simple path of max length 20\n",
      "[info] Simple path found of length 20\n",
      "[info] Simple path length greater than shortest path length (0) so adding to results\n",
      "[info] applying next operator to search for a simple path of max length 20\n",
      "[info] Simple path found of length 20\n",
      "[info] Simple path length greater than shortest path length (0) so adding to results\n",
      "[info] applying next operator to search for a simple path of max length 20\n",
      "[info] Simple path found of length 20\n",
      "[info] Simple path length greater than shortest path length (0) so adding to results\n",
      "[info] applying next operator to search for a simple path of max length 20\n",
      "[info] Simple path found of length 20\n",
      "[info] Simple path length greater than shortest path length (0) so adding to results\n",
      "[info] applying next operator to search for a simple path of max length 20\n",
      "[info] Simple path found of length 20\n",
      "[info] Simple path length greater than shortest path length (0) so adding to results\n",
      "[info] applying next operator to search for a simple path of max length 20\n",
      "[info] Simple path found of length 20\n",
      "[info] Simple path length greater than shortest path length (0) so adding to results\n",
      "[info] applying next operator to search for a simple path of max length 20\n",
      "[info] Simple path found of length 20\n",
      "[info] Simple path length greater than shortest path length (0) so adding to results\n",
      "[info] applying next operator to search for a simple path of max length 20\n",
      "[info] Simple path found of length 20\n",
      "[info] Simple path length greater than shortest path length (0) so adding to results\n",
      "[info] applying next operator to search for a simple path of max length 20\n",
      "[info] Simple path found of length 20\n",
      "[info] Simple path length greater than shortest path length (0) so adding to results\n",
      "[info] applying next operator to search for a simple path of max length 20\n",
      "[info] Simple path found of length 20\n",
      "[info] Simple path length greater than shortest path length (0) so adding to results\n",
      "[info] applying next operator to search for a simple path of max length 20\n",
      "[info] Simple path found of length 20\n",
      "[info] Simple path length greater than shortest path length (0) so adding to results\n",
      "[info] applying next operator to search for a simple path of max length 20\n",
      "[info] Simple path found of length 20\n",
      "[info] Simple path length greater than shortest path length (0) so adding to results\n",
      "[info] applying next operator to search for a simple path of max length 20\n",
      "[info] Simple path found of length 20\n",
      "[info] Simple path length greater than shortest path length (0) so adding to results\n",
      "[info] applying next operator to search for a simple path of max length 20\n",
      "[info] Simple path found of length 20\n",
      "[info] Simple path length greater than shortest path length (0) so adding to results\n",
      "[info] applying next operator to search for a simple path of max length 20\n",
      "[info] Simple path found of length 20\n",
      "[info] Simple path length greater than shortest path length (0) so adding to results\n"
     ]
    }
   ],
   "source": [
    "source = str(obo.CHEBI_23053)\n",
    "target = str(obo.HP_0003074)\n",
    "save2 = 'catechin_hyperglycemia_simple_paths_20.txt'\n",
    "file_save = open(DIR_OUT+save2, 'w')\n",
    "cyp3a4_edge_paths, cyp3a4_edge_path_labs = k_simple_edge_paths(nx_graph, obo.CHEBI_23053, obo.HP_0003074, 20, 0)\n",
    "if source in nodeLabels:\n",
    "    source_label = nodeLabels[source]\n",
    "if target in nodeLabels:\n",
    "    target_label = nodeLabels[target]\n",
    "file_save.write('\\n{} - {} Simple Path (cutoff=20):\\n'.format(source_label, target_label))\n",
    "i = 0\n",
    "for path_list in cyp3a4_edge_path_labs:\n",
    "    file_save.write('\\nPATH: '+str(i)+'\\n')\n",
    "    for triples in path_list:\n",
    "        for item in triples:\n",
    "            file_save.write(str(item)+' ')\n",
    "        file_save.write('\\n')\n",
    "    i += 1\n",
    "file_save.close()"
   ]
  },
  {
   "cell_type": "code",
   "execution_count": 89,
   "id": "95a15b98-6c60-4f1d-9fad-ff93f1df953f",
   "metadata": {},
   "outputs": [
    {
     "name": "stdout",
     "output_type": "stream",
     "text": [
      "[info] applying next operator to search for a simple path of max length 20\n",
      "[info] Simple path found of length 20\n",
      "[info] Simple path length greater than shortest path length (0) so adding to results\n",
      "[info] applying next operator to search for a simple path of max length 20\n",
      "[info] Simple path found of length 20\n",
      "[info] Simple path length greater than shortest path length (0) so adding to results\n",
      "[info] applying next operator to search for a simple path of max length 20\n",
      "[info] Simple path found of length 20\n",
      "[info] Simple path length greater than shortest path length (0) so adding to results\n",
      "[info] applying next operator to search for a simple path of max length 20\n",
      "[info] Simple path found of length 20\n",
      "[info] Simple path length greater than shortest path length (0) so adding to results\n",
      "[info] applying next operator to search for a simple path of max length 20\n",
      "[info] Simple path found of length 20\n",
      "[info] Simple path length greater than shortest path length (0) so adding to results\n",
      "[info] applying next operator to search for a simple path of max length 20\n",
      "[info] Simple path found of length 20\n",
      "[info] Simple path length greater than shortest path length (0) so adding to results\n",
      "[info] applying next operator to search for a simple path of max length 20\n",
      "[info] Simple path found of length 20\n",
      "[info] Simple path length greater than shortest path length (0) so adding to results\n",
      "[info] applying next operator to search for a simple path of max length 20\n",
      "[info] Simple path found of length 20\n",
      "[info] Simple path length greater than shortest path length (0) so adding to results\n",
      "[info] applying next operator to search for a simple path of max length 20\n",
      "[info] Simple path found of length 20\n",
      "[info] Simple path length greater than shortest path length (0) so adding to results\n",
      "[info] applying next operator to search for a simple path of max length 20\n",
      "[info] Simple path found of length 20\n",
      "[info] Simple path length greater than shortest path length (0) so adding to results\n",
      "[info] applying next operator to search for a simple path of max length 20\n",
      "[info] Simple path found of length 20\n",
      "[info] Simple path length greater than shortest path length (0) so adding to results\n",
      "[info] applying next operator to search for a simple path of max length 20\n",
      "[info] Simple path found of length 20\n",
      "[info] Simple path length greater than shortest path length (0) so adding to results\n",
      "[info] applying next operator to search for a simple path of max length 20\n",
      "[info] Simple path found of length 20\n",
      "[info] Simple path length greater than shortest path length (0) so adding to results\n",
      "[info] applying next operator to search for a simple path of max length 20\n",
      "[info] Simple path found of length 20\n",
      "[info] Simple path length greater than shortest path length (0) so adding to results\n",
      "[info] applying next operator to search for a simple path of max length 20\n",
      "[info] Simple path found of length 20\n",
      "[info] Simple path length greater than shortest path length (0) so adding to results\n",
      "[info] applying next operator to search for a simple path of max length 20\n",
      "[info] Simple path found of length 20\n",
      "[info] Simple path length greater than shortest path length (0) so adding to results\n",
      "[info] applying next operator to search for a simple path of max length 20\n",
      "[info] Simple path found of length 20\n",
      "[info] Simple path length greater than shortest path length (0) so adding to results\n",
      "[info] applying next operator to search for a simple path of max length 20\n",
      "[info] Simple path found of length 20\n",
      "[info] Simple path length greater than shortest path length (0) so adding to results\n",
      "[info] applying next operator to search for a simple path of max length 20\n",
      "[info] Simple path found of length 20\n",
      "[info] Simple path length greater than shortest path length (0) so adding to results\n",
      "[info] applying next operator to search for a simple path of max length 20\n",
      "[info] Simple path found of length 20\n",
      "[info] Simple path length greater than shortest path length (0) so adding to results\n"
     ]
    }
   ],
   "source": [
    "source = str(napdi.camellia_sinensis_leaf)\n",
    "target = str(obo.PR_O08684)\n",
    "save2 = 'greentea_cyp3a4_simple_paths_20.txt'\n",
    "file_save = open(DIR_OUT+save2, 'w')\n",
    "cyp3a4_edge_paths, cyp3a4_edge_path_labs = k_simple_edge_paths(nx_graph, napdi.camellia_sinensis_leaf, obo.PR_P08684, 20, 0)\n",
    "if source in nodeLabels:\n",
    "    source_label = nodeLabels[source]\n",
    "if target in nodeLabels:\n",
    "    target_label = nodeLabels[target]\n",
    "file_save.write('\\n{} - {} Simple Path (cutoff=20):\\n'.format(source_label, target_label))\n",
    "i = 0\n",
    "for path_list in cyp3a4_edge_path_labs:\n",
    "    file_save.write('\\nPATH: '+str(i)+'\\n')\n",
    "    for triples in path_list:\n",
    "        for item in triples:\n",
    "            file_save.write(str(item)+' ')\n",
    "        file_save.write('\\n')\n",
    "    i += 1\n",
    "file_save.close()"
   ]
  },
  {
   "cell_type": "code",
   "execution_count": 90,
   "id": "38ba91e3-eb48-4e8a-b6ac-04c7c621f2ad",
   "metadata": {},
   "outputs": [
    {
     "data": {
      "text/plain": [
       "[('Camellia_sinensis_leaf', 'has component', '(-)-epicatechin'),\n",
       " ('(-)-epicatechin', 'is enantiomer of', '(+)-epicatechin'),\n",
       " ('(+)-epicatechin', 'subClassOf', 'polyphenol'),\n",
       " ('polyphenol',\n",
       "  'molecularly interacts with',\n",
       "  'regulation of immune system process'),\n",
       " ('regulation of immune system process',\n",
       "  '',\n",
       "  'alpha-1-acid glycoprotein 1 (human)'),\n",
       " ('alpha-1-acid glycoprotein 1 (human)',\n",
       "  'participates_in',\n",
       "  'Innate Immune System'),\n",
       " ('Innate Immune System', '', 'CD3G (human)'),\n",
       " ('CD3G (human)', 'participates_in', 'TCR signaling'),\n",
       " ('TCR signaling', '', 'proteasome subunit beta type-8 (human)'),\n",
       " ('proteasome subunit beta type-8 (human)',\n",
       "  'participates_in',\n",
       "  'Beta-catenin independent WNT signaling'),\n",
       " ('Beta-catenin independent WNT signaling', '', 'GNGT2 (human)'),\n",
       " ('GNGT2 (human)', 'participates_in', 'Ca2+ pathway'),\n",
       " ('Ca2+ pathway', '', 'inositol 1,4,5-trisphosphate receptor type 2 (human)'),\n",
       " ('inositol 1,4,5-trisphosphate receptor type 2 (human)',\n",
       "  'molecularly interacts with',\n",
       "  'Ras GTPase-activating-like protein IQGAP1 (human)'),\n",
       " ('Ras GTPase-activating-like protein IQGAP1 (human)',\n",
       "  'molecularly interacts with',\n",
       "  'protein FAM114A2 (human)'),\n",
       " ('protein FAM114A2 (human)', 'participates_in', 'Oncogenic MAPK signaling'),\n",
       " ('Oncogenic MAPK signaling',\n",
       "  '',\n",
       "  'sprouty-related, EVH1 domain-containing protein 2 (human)'),\n",
       " ('sprouty-related, EVH1 domain-containing protein 2 (human)',\n",
       "  'molecularly interacts with',\n",
       "  'sprouty-related, EVH1 domain-containing protein 1 (human)'),\n",
       " ('sprouty-related, EVH1 domain-containing protein 1 (human)',\n",
       "  'has function',\n",
       "  'protein binding'),\n",
       " ('protein binding', 'function of', 'cytochrome P450 3A4 (human)')]"
      ]
     },
     "execution_count": 90,
     "metadata": {},
     "output_type": "execute_result"
    }
   ],
   "source": [
    "cyp3a4_edge_path_labs[0]"
   ]
  },
  {
   "cell_type": "code",
   "execution_count": 41,
   "id": "a722fff6-987c-4ca5-9ee4-6f4f5e9062e2",
   "metadata": {},
   "outputs": [
    {
     "data": {
      "text/plain": [
       "[(rdflib.term.URIRef('http://napdi.org/napdi_srs_imports:camellia_sinensis_leaf'),\n",
       "  rdflib.term.URIRef('http://purl.obolibrary.org/obo/CHEBI_90'),\n",
       "  rdflib.term.URIRef('http://purl.obolibrary.org/obo/RO_0002180')),\n",
       " (rdflib.term.URIRef('http://purl.obolibrary.org/obo/CHEBI_90'),\n",
       "  rdflib.term.URIRef('http://purl.obolibrary.org/obo/CHEBI_76125'),\n",
       "  rdflib.term.URIRef('http://purl.obolibrary.org/obo/chebi#is_enantiomer_of')),\n",
       " (rdflib.term.URIRef('http://purl.obolibrary.org/obo/CHEBI_76125'),\n",
       "  rdflib.term.URIRef('http://purl.obolibrary.org/obo/CHEBI_26195'),\n",
       "  rdflib.term.URIRef('http://www.w3.org/2000/01/rdf-schema#subClassOf')),\n",
       " (rdflib.term.URIRef('http://purl.obolibrary.org/obo/CHEBI_26195'),\n",
       "  rdflib.term.URIRef('http://purl.obolibrary.org/obo/GO_0002682'),\n",
       "  rdflib.term.URIRef('http://purl.obolibrary.org/obo/RO_0002436')),\n",
       " (rdflib.term.URIRef('http://purl.obolibrary.org/obo/GO_0002682'),\n",
       "  rdflib.term.URIRef('http://purl.obolibrary.org/obo/PR_P02763'),\n",
       "  rdflib.term.URIRef('http://purl.obolibrary.org/obo/RO_0000057')),\n",
       " (rdflib.term.URIRef('http://purl.obolibrary.org/obo/PR_P02763'),\n",
       "  rdflib.term.URIRef('https://reactome.org/content/detail/R-HSA-168249'),\n",
       "  rdflib.term.URIRef('http://purl.obolibrary.org/obo/RO_0000056')),\n",
       " (rdflib.term.URIRef('https://reactome.org/content/detail/R-HSA-168249'),\n",
       "  rdflib.term.URIRef('http://www.ncbi.nlm.nih.gov/gene/917'),\n",
       "  rdflib.term.URIRef('http://purl.obolibrary.org/obo/RO_0000057')),\n",
       " (rdflib.term.URIRef('http://www.ncbi.nlm.nih.gov/gene/917'),\n",
       "  rdflib.term.URIRef('https://reactome.org/content/detail/R-HSA-202403'),\n",
       "  rdflib.term.URIRef('http://purl.obolibrary.org/obo/RO_0000056')),\n",
       " (rdflib.term.URIRef('https://reactome.org/content/detail/R-HSA-202403'),\n",
       "  rdflib.term.URIRef('http://purl.obolibrary.org/obo/PR_P28062'),\n",
       "  rdflib.term.URIRef('http://purl.obolibrary.org/obo/RO_0000057')),\n",
       " (rdflib.term.URIRef('http://purl.obolibrary.org/obo/PR_P28062'),\n",
       "  rdflib.term.URIRef('https://reactome.org/content/detail/R-HSA-3858494'),\n",
       "  rdflib.term.URIRef('http://purl.obolibrary.org/obo/RO_0000056')),\n",
       " (rdflib.term.URIRef('https://reactome.org/content/detail/R-HSA-3858494'),\n",
       "  rdflib.term.URIRef('http://www.ncbi.nlm.nih.gov/gene/2793'),\n",
       "  rdflib.term.URIRef('http://purl.obolibrary.org/obo/RO_0000057')),\n",
       " (rdflib.term.URIRef('http://www.ncbi.nlm.nih.gov/gene/2793'),\n",
       "  rdflib.term.URIRef('https://reactome.org/content/detail/R-HSA-4086398'),\n",
       "  rdflib.term.URIRef('http://purl.obolibrary.org/obo/RO_0000056')),\n",
       " (rdflib.term.URIRef('https://reactome.org/content/detail/R-HSA-4086398'),\n",
       "  rdflib.term.URIRef('http://purl.obolibrary.org/obo/PR_Q14571'),\n",
       "  rdflib.term.URIRef('http://purl.obolibrary.org/obo/RO_0000057')),\n",
       " (rdflib.term.URIRef('http://purl.obolibrary.org/obo/PR_Q14571'),\n",
       "  rdflib.term.URIRef('http://purl.obolibrary.org/obo/PR_P46940'),\n",
       "  rdflib.term.URIRef('http://purl.obolibrary.org/obo/RO_0002436')),\n",
       " (rdflib.term.URIRef('http://purl.obolibrary.org/obo/PR_P46940'),\n",
       "  rdflib.term.URIRef('http://purl.obolibrary.org/obo/PR_Q9NRY5'),\n",
       "  rdflib.term.URIRef('http://purl.obolibrary.org/obo/RO_0002436')),\n",
       " (rdflib.term.URIRef('http://purl.obolibrary.org/obo/PR_Q9NRY5'),\n",
       "  rdflib.term.URIRef('https://reactome.org/content/detail/R-HSA-6802957'),\n",
       "  rdflib.term.URIRef('http://purl.obolibrary.org/obo/RO_0000056')),\n",
       " (rdflib.term.URIRef('https://reactome.org/content/detail/R-HSA-6802957'),\n",
       "  rdflib.term.URIRef('http://purl.obolibrary.org/obo/PR_Q7Z698'),\n",
       "  rdflib.term.URIRef('http://purl.obolibrary.org/obo/RO_0000057')),\n",
       " (rdflib.term.URIRef('http://purl.obolibrary.org/obo/PR_Q7Z698'),\n",
       "  rdflib.term.URIRef('http://purl.obolibrary.org/obo/PR_Q7Z699'),\n",
       "  rdflib.term.URIRef('http://purl.obolibrary.org/obo/RO_0002436')),\n",
       " (rdflib.term.URIRef('http://purl.obolibrary.org/obo/PR_Q7Z699'),\n",
       "  rdflib.term.URIRef('http://purl.obolibrary.org/obo/GO_0005515'),\n",
       "  rdflib.term.URIRef('http://purl.obolibrary.org/obo/RO_0000085')),\n",
       " (rdflib.term.URIRef('http://purl.obolibrary.org/obo/GO_0005515'),\n",
       "  rdflib.term.URIRef('http://purl.obolibrary.org/obo/PR_P08684'),\n",
       "  rdflib.term.URIRef('http://purl.obolibrary.org/obo/RO_0000079'))]"
      ]
     },
     "execution_count": 41,
     "metadata": {},
     "output_type": "execute_result"
    }
   ],
   "source": [
    "cyp3a4_edge_paths[0]"
   ]
  },
  {
   "cell_type": "code",
   "execution_count": null,
   "id": "9f7b098d-46cb-462a-9370-0c5f72d98bdf",
   "metadata": {},
   "outputs": [],
   "source": []
  },
  {
   "cell_type": "code",
   "execution_count": 91,
   "id": "c4d1388f-b44f-4658-b591-6a0e2d1a2052",
   "metadata": {},
   "outputs": [],
   "source": [
    "def k_shortest_paths(G, source, target, k, weight='weight'):\n",
    "    return list(islice(nx.all_shortest_paths(G, source, target, weight=weight), k))"
   ]
  },
  {
   "cell_type": "code",
   "execution_count": 92,
   "id": "48b665fd-91ec-4715-b6be-0bf51e1bb398",
   "metadata": {},
   "outputs": [],
   "source": [
    "#only returns node list, use get_path_labels to generate edges and get labels\n",
    "def k_simple_paths(G, source, target, k, shortestLen):\n",
    "    paths = nx.all_simple_paths(G, source, target, cutoff=shortestLen+20)\n",
    "    path_l = []\n",
    "    i = 0\n",
    "    while i < k:\n",
    "        try:\n",
    "            print('[info] applying next operator to search for a simple path of max length {}'.format(shortestLen+20))\n",
    "            path = next(paths)\n",
    "        except StopIteration:\n",
    "            break\n",
    "        print('[info] Simple path found of length {}'.format(len(path))) \n",
    "        if len(path) > shortestLen:\n",
    "            print('[info] Simple path length greater than shortest path length ({}) so adding to results'.format(shortestLen))\n",
    "            path_l.append(path)\n",
    "        i += 1\n",
    "    return path_l"
   ]
  },
  {
   "cell_type": "code",
   "execution_count": 25,
   "id": "57c4192f-7263-4f24-af7d-eee5bd90ca30",
   "metadata": {},
   "outputs": [
    {
     "name": "stdout",
     "output_type": "stream",
     "text": [
      "[info] applying next operator to search for a simple path of max length 24\n",
      "[info] Simple path found of length 25\n",
      "[info] Simple path length greater than shortest path length (4) so adding to results\n",
      "[info] applying next operator to search for a simple path of max length 24\n",
      "[info] Simple path found of length 25\n",
      "[info] Simple path length greater than shortest path length (4) so adding to results\n",
      "[info] applying next operator to search for a simple path of max length 24\n",
      "[info] Simple path found of length 25\n",
      "[info] Simple path length greater than shortest path length (4) so adding to results\n",
      "[info] applying next operator to search for a simple path of max length 24\n",
      "[info] Simple path found of length 25\n",
      "[info] Simple path length greater than shortest path length (4) so adding to results\n",
      "[info] applying next operator to search for a simple path of max length 24\n",
      "[info] Simple path found of length 25\n",
      "[info] Simple path length greater than shortest path length (4) so adding to results\n",
      "[info] applying next operator to search for a simple path of max length 24\n",
      "[info] Simple path found of length 25\n",
      "[info] Simple path length greater than shortest path length (4) so adding to results\n",
      "[info] applying next operator to search for a simple path of max length 24\n",
      "[info] Simple path found of length 25\n",
      "[info] Simple path length greater than shortest path length (4) so adding to results\n",
      "[info] applying next operator to search for a simple path of max length 24\n",
      "[info] Simple path found of length 25\n",
      "[info] Simple path length greater than shortest path length (4) so adding to results\n",
      "[info] applying next operator to search for a simple path of max length 24\n",
      "[info] Simple path found of length 25\n",
      "[info] Simple path length greater than shortest path length (4) so adding to results\n",
      "[info] applying next operator to search for a simple path of max length 24\n",
      "[info] Simple path found of length 25\n",
      "[info] Simple path length greater than shortest path length (4) so adding to results\n"
     ]
    }
   ],
   "source": [
    "cyp3a4_paths = k_simple_paths(nx_graph, napdi.camellia_sinensis_leaf, obo.PR_P08684, 10, 4)"
   ]
  },
  {
   "cell_type": "code",
   "execution_count": 179,
   "id": "5c810a52-756f-418a-904d-095239745bcc",
   "metadata": {},
   "outputs": [
    {
     "data": {
      "text/plain": [
       "'PR_P08684'"
      ]
     },
     "execution_count": 179,
     "metadata": {},
     "output_type": "execute_result"
    }
   ],
   "source": [
    "str(obo.PR_P08684).split('/')[-1]"
   ]
  },
  {
   "cell_type": "code",
   "execution_count": 43,
   "id": "fcb880de-3b7c-407b-8598-fc31e9734ada",
   "metadata": {},
   "outputs": [],
   "source": [
    "#if returned paths are list\n",
    "#simple paths with max length 25\n",
    "save2 = 'greentea_cyp3a4_simple_paths_10.txt'\n",
    "file_save = open(DIR_OUT+save2, 'w')\n",
    "source = str(napdi.camellia_sinensis_leaf)\n",
    "target = str(obo.PR_P08684)\n",
    "source_label = source\n",
    "target_label = target\n",
    "if source in nodeLabels:\n",
    "    source_label = nodeLabels[source]\n",
    "if target in nodeLabels:\n",
    "    target_label = nodeLabels[target]\n",
    "file_save.write('\\n{} - {} Simple Path (cutoff=24):\\n'.format(source_label, target_label))\n",
    "i = 0\n",
    "for node_list in cyp3a4_paths:\n",
    "    file_save.write('\\nPATH: '+str(i)+'\\n')\n",
    "    path_labels = get_path_labels(node_list)\n",
    "    for triples in path_labels:\n",
    "        for item in triples:\n",
    "            file_save.write(str(item)+' ')\n",
    "        file_save.write('\\n')\n",
    "    i += 1\n",
    "file_save.close()"
   ]
  },
  {
   "cell_type": "code",
   "execution_count": 75,
   "id": "8c5324b4-76ed-41ce-936c-be667b3cefa0",
   "metadata": {},
   "outputs": [
    {
     "name": "stdout",
     "output_type": "stream",
     "text": [
      "[info] applying next operator to search for a simple path of max length 20\n",
      "[info] Simple path found of length 20\n",
      "[info] Simple path length greater than shortest path length (0) so adding to results\n",
      "[info] applying next operator to search for a simple path of max length 20\n",
      "[info] Simple path found of length 19\n",
      "[info] Simple path length greater than shortest path length (0) so adding to results\n",
      "[info] applying next operator to search for a simple path of max length 20\n",
      "[info] Simple path found of length 20\n",
      "[info] Simple path length greater than shortest path length (0) so adding to results\n",
      "[info] applying next operator to search for a simple path of max length 20\n",
      "[info] Simple path found of length 20\n",
      "[info] Simple path length greater than shortest path length (0) so adding to results\n",
      "[info] applying next operator to search for a simple path of max length 20\n",
      "[info] Simple path found of length 20\n",
      "[info] Simple path length greater than shortest path length (0) so adding to results\n",
      "[info] applying next operator to search for a simple path of max length 20\n",
      "[info] Simple path found of length 20\n",
      "[info] Simple path length greater than shortest path length (0) so adding to results\n",
      "[info] applying next operator to search for a simple path of max length 20\n",
      "[info] Simple path found of length 20\n",
      "[info] Simple path length greater than shortest path length (0) so adding to results\n",
      "[info] applying next operator to search for a simple path of max length 20\n",
      "[info] Simple path found of length 20\n",
      "[info] Simple path length greater than shortest path length (0) so adding to results\n",
      "[info] applying next operator to search for a simple path of max length 20\n",
      "[info] Simple path found of length 20\n",
      "[info] Simple path length greater than shortest path length (0) so adding to results\n",
      "[info] applying next operator to search for a simple path of max length 20\n",
      "[info] Simple path found of length 20\n",
      "[info] Simple path length greater than shortest path length (0) so adding to results\n",
      "[info] applying next operator to search for a simple path of max length 20\n",
      "[info] Simple path found of length 20\n",
      "[info] Simple path length greater than shortest path length (0) so adding to results\n",
      "[info] applying next operator to search for a simple path of max length 20\n",
      "[info] Simple path found of length 20\n",
      "[info] Simple path length greater than shortest path length (0) so adding to results\n",
      "[info] applying next operator to search for a simple path of max length 20\n",
      "[info] Simple path found of length 20\n",
      "[info] Simple path length greater than shortest path length (0) so adding to results\n",
      "[info] applying next operator to search for a simple path of max length 20\n",
      "[info] Simple path found of length 20\n",
      "[info] Simple path length greater than shortest path length (0) so adding to results\n",
      "[info] applying next operator to search for a simple path of max length 20\n",
      "[info] Simple path found of length 20\n",
      "[info] Simple path length greater than shortest path length (0) so adding to results\n",
      "[info] applying next operator to search for a simple path of max length 20\n",
      "[info] Simple path found of length 20\n",
      "[info] Simple path length greater than shortest path length (0) so adding to results\n",
      "[info] applying next operator to search for a simple path of max length 20\n",
      "[info] Simple path found of length 20\n",
      "[info] Simple path length greater than shortest path length (0) so adding to results\n",
      "[info] applying next operator to search for a simple path of max length 20\n",
      "[info] Simple path found of length 20\n",
      "[info] Simple path length greater than shortest path length (0) so adding to results\n",
      "[info] applying next operator to search for a simple path of max length 20\n",
      "[info] Simple path found of length 20\n",
      "[info] Simple path length greater than shortest path length (0) so adding to results\n",
      "[info] applying next operator to search for a simple path of max length 20\n",
      "[info] Simple path found of length 20\n",
      "[info] Simple path length greater than shortest path length (0) so adding to results\n"
     ]
    }
   ],
   "source": [
    "source = str(napdi.camellia_sinensis_leaf)\n",
    "target = str(obo.CHEBI_6931)\n",
    "save2 = 'greentea_midazolam_simple_paths_20.txt'\n",
    "file_save = open(DIR_OUT+save2, 'w')\n",
    "cyp3a4_edge_paths, cyp3a4_edge_path_labs = k_simple_edge_paths(nx_graph, napdi.camellia_sinensis_leaf, obo.CHEBI_6931, 20, 0)\n",
    "if source in nodeLabels:\n",
    "    source_label = nodeLabels[source]\n",
    "if target in nodeLabels:\n",
    "    target_label = nodeLabels[target]\n",
    "file_save.write('\\n{} - {} Simple Path (cutoff=20):\\n'.format(source_label, target_label))\n",
    "i = 0\n",
    "for path_list in cyp3a4_edge_path_labs:\n",
    "    file_save.write('\\nPATH: '+str(i)+'\\n')\n",
    "    for triples in path_list:\n",
    "        for item in triples:\n",
    "            file_save.write(str(item)+' ')\n",
    "        file_save.write('\\n')\n",
    "    i += 1\n",
    "file_save.close()"
   ]
  },
  {
   "cell_type": "code",
   "execution_count": 93,
   "id": "4c24252c-67dd-400e-a4e5-cf26cc22aea7",
   "metadata": {},
   "outputs": [
    {
     "ename": "NameError",
     "evalue": "name 'midazolam_paths' is not defined",
     "output_type": "error",
     "traceback": [
      "\u001b[0;31m---------------------------------------------------------------------------\u001b[0m",
      "\u001b[0;31mNameError\u001b[0m                                 Traceback (most recent call last)",
      "\u001b[0;32m<ipython-input-93-715edf8a0246>\u001b[0m in \u001b[0;36m<module>\u001b[0;34m\u001b[0m\n\u001b[1;32m     13\u001b[0m \u001b[0mfile_save\u001b[0m\u001b[0;34m.\u001b[0m\u001b[0mwrite\u001b[0m\u001b[0;34m(\u001b[0m\u001b[0;34m'\\n{} - {} Simple Path (cutoff=20):\\n'\u001b[0m\u001b[0;34m.\u001b[0m\u001b[0mformat\u001b[0m\u001b[0;34m(\u001b[0m\u001b[0msource_label\u001b[0m\u001b[0;34m,\u001b[0m \u001b[0mtarget_label\u001b[0m\u001b[0;34m)\u001b[0m\u001b[0;34m)\u001b[0m\u001b[0;34m\u001b[0m\u001b[0;34m\u001b[0m\u001b[0m\n\u001b[1;32m     14\u001b[0m \u001b[0mi\u001b[0m \u001b[0;34m=\u001b[0m \u001b[0;36m0\u001b[0m\u001b[0;34m\u001b[0m\u001b[0;34m\u001b[0m\u001b[0m\n\u001b[0;32m---> 15\u001b[0;31m \u001b[0;32mfor\u001b[0m \u001b[0mnode_list\u001b[0m \u001b[0;32min\u001b[0m \u001b[0mmidazolam_paths\u001b[0m\u001b[0;34m:\u001b[0m\u001b[0;34m\u001b[0m\u001b[0;34m\u001b[0m\u001b[0m\n\u001b[0m\u001b[1;32m     16\u001b[0m     \u001b[0mfile_save\u001b[0m\u001b[0;34m.\u001b[0m\u001b[0mwrite\u001b[0m\u001b[0;34m(\u001b[0m\u001b[0;34m'\\nPATH: '\u001b[0m\u001b[0;34m+\u001b[0m\u001b[0mstr\u001b[0m\u001b[0;34m(\u001b[0m\u001b[0mi\u001b[0m\u001b[0;34m)\u001b[0m\u001b[0;34m+\u001b[0m\u001b[0;34m'\\n'\u001b[0m\u001b[0;34m)\u001b[0m\u001b[0;34m\u001b[0m\u001b[0;34m\u001b[0m\u001b[0m\n\u001b[1;32m     17\u001b[0m     \u001b[0mpath_labels\u001b[0m \u001b[0;34m=\u001b[0m \u001b[0mget_path_labels\u001b[0m\u001b[0;34m(\u001b[0m\u001b[0mnode_list\u001b[0m\u001b[0;34m)\u001b[0m\u001b[0;34m\u001b[0m\u001b[0;34m\u001b[0m\u001b[0m\n",
      "\u001b[0;31mNameError\u001b[0m: name 'midazolam_paths' is not defined"
     ]
    }
   ],
   "source": [
    "#if returned paths are list\n",
    "#simple paths with max length 25\n",
    "save3 = 'greentea_midazolam_simple_paths_10.txt'\n",
    "file_save = open(DIR_OUT+save3, 'w')\n",
    "source = str(napdi.camellia_sinensis_leaf)\n",
    "target = str(obo.CHEBI_6931)\n",
    "source_label = source\n",
    "target_label = target\n",
    "if source in nodeLabels:\n",
    "    source_label = nodeLabels[source]\n",
    "if target in nodeLabels:\n",
    "    target_label = nodeLabels[target]\n",
    "file_save.write('\\n{} - {} Simple Path (cutoff=20):\\n'.format(source_label, target_label))\n",
    "i = 0\n",
    "for node_list in midazolam_paths:\n",
    "    file_save.write('\\nPATH: '+str(i)+'\\n')\n",
    "    path_labels = get_path_labels(node_list)\n",
    "    for triples in path_labels:\n",
    "        for item in triples:\n",
    "            file_save.write(str(item)+' ')\n",
    "        file_save.write('\\n')\n",
    "    i += 1\n",
    "file_save.close()"
   ]
  },
  {
   "cell_type": "code",
   "execution_count": 94,
   "id": "f8be8d5a-f26e-4529-92ab-692d73f9a041",
   "metadata": {},
   "outputs": [
    {
     "name": "stdout",
     "output_type": "stream",
     "text": [
      "['Camellia_sinensis_leaf', 'has component', 'gallocatechin', '']\n",
      "['gallocatechin', 'directly negatively regulates activity of', 'Tea', 'machine_read']\n",
      "['Tea', 'directly negatively regulates activity of', 'warfarin', 'machine_read']\n"
     ]
    }
   ],
   "source": [
    "##Bidirectional shortest paths\n",
    "pathx = nx.bidirectional_shortest_path(nx_graph, napdi.camellia_sinensis_leaf, obo.CHEBI_10033)\n",
    "path_labels = get_path_labels(pathx)\n",
    "for triples in path_labels:\n",
    "    print(triples)"
   ]
  },
  {
   "cell_type": "code",
   "execution_count": 95,
   "id": "1ec883cb-b3fc-498c-baf9-ce7cdd32174b",
   "metadata": {},
   "outputs": [
    {
     "name": "stdout",
     "output_type": "stream",
     "text": [
      "['Camellia_sinensis_leaf', 'has component', '(-)-epicatechin', '']\n",
      "['(-)-epicatechin', 'negatively regulates', 'etoposide', 'machine_read']\n",
      "['etoposide', 'interacts with', 'cytochrome P450 3A4 (human)', '']\n"
     ]
    }
   ],
   "source": [
    "pathx = nx.bidirectional_shortest_path(nx_graph, napdi.camellia_sinensis_leaf, obo.PR_P08684)\n",
    "path_labels = get_path_labels(pathx)\n",
    "for triples in path_labels:\n",
    "    print(triples)"
   ]
  },
  {
   "cell_type": "code",
   "execution_count": 96,
   "id": "15de118a-2de9-4e26-aeff-143cd181ac37",
   "metadata": {},
   "outputs": [
    {
     "name": "stdout",
     "output_type": "stream",
     "text": [
      "['Camellia_sinensis_leaf', 'has component', '(-)-epicatechin', '']\n",
      "['(-)-epicatechin', 'IncreaseAmount', 'taurochenodeoxycholate 6alpha-hydroxylase activity', 'machine_read']\n",
      "['taurochenodeoxycholate 6alpha-hydroxylase activity', 'molecularly interacts with', 'midazolam', 'machine_read']\n"
     ]
    }
   ],
   "source": [
    "pathx = nx.bidirectional_shortest_path(nx_graph, napdi.camellia_sinensis_leaf, obo.CHEBI_6931)\n",
    "path_labels = get_path_labels(pathx)\n",
    "for triples in path_labels:\n",
    "    print(triples)"
   ]
  },
  {
   "cell_type": "code",
   "execution_count": 97,
   "id": "a3ee2bce-ea43-4088-9c76-6c0c792918ad",
   "metadata": {},
   "outputs": [
    {
     "name": "stdout",
     "output_type": "stream",
     "text": [
      "['Camellia_sinensis_leaf', 'has component', '(-)-epicatechin', '']\n",
      "['(-)-epicatechin', 'subClassOf', 'catechin', '']\n",
      "['catechin', 'molecularly interacts with', 'daunorubicin', 'machine_read']\n",
      "['daunorubicin', 'is substance that treats', 'Back pain', '']\n"
     ]
    }
   ],
   "source": [
    "pathx = nx.bidirectional_shortest_path(nx_graph, napdi.camellia_sinensis_leaf, obo.HP_0003418)\n",
    "path_labels = get_path_labels(pathx)\n",
    "for triples in path_labels:\n",
    "    print(triples)"
   ]
  },
  {
   "cell_type": "code",
   "execution_count": 98,
   "id": "3e7b1ed6-66f9-4dbe-95f9-fe0e108552e1",
   "metadata": {},
   "outputs": [
    {
     "name": "stdout",
     "output_type": "stream",
     "text": [
      "['Camellia_sinensis_leaf', 'has component', '(-)-epicatechin', '']\n",
      "['(-)-epicatechin', 'subClassOf', 'catechin', '']\n",
      "['catechin', 'molecularly interacts with', 'simvastatin', 'machine_read']\n"
     ]
    }
   ],
   "source": [
    "pathx = nx.bidirectional_shortest_path(nx_graph, napdi.camellia_sinensis_leaf, obo.CHEBI_9150)\n",
    "path_labels = get_path_labels(pathx)\n",
    "for triples in path_labels:\n",
    "    print(triples)"
   ]
  },
  {
   "cell_type": "code",
   "execution_count": 99,
   "id": "d6a2db90-1b1f-42f5-9805-10c0909d9364",
   "metadata": {},
   "outputs": [
    {
     "name": "stdout",
     "output_type": "stream",
     "text": [
      "['Camellia_sinensis_leaf', 'has component', 'gallocatechin', '']\n",
      "['gallocatechin', 'directly negatively regulates activity of', 'Tea', 'machine_read']\n",
      "['Tea', 'directly negatively regulates activity of', 'nadolol', 'machine_read']\n"
     ]
    }
   ],
   "source": [
    "pathx = nx.bidirectional_shortest_path(nx_graph, napdi.camellia_sinensis_leaf, obo.CHEBI_7444)\n",
    "path_labels = get_path_labels(pathx)\n",
    "for triples in path_labels:\n",
    "    print(triples)"
   ]
  },
  {
   "cell_type": "markdown",
   "id": "8c6f030b-4a3e-48a3-b93e-1ad048532691",
   "metadata": {},
   "source": [
    "KRATOM"
   ]
  },
  {
   "cell_type": "code",
   "execution_count": 100,
   "id": "a28fd58b-2519-4211-af67-91d828fb664c",
   "metadata": {},
   "outputs": [
    {
     "data": {
      "text/plain": [
       "rdflib.term.URIRef('http://napdi.org/napdi_srs_imports:7_hydroxy_mitragynine')"
      ]
     },
     "execution_count": 100,
     "metadata": {},
     "output_type": "execute_result"
    }
   ],
   "source": [
    "kratom = napdi.mitragyna_speciosa\n",
    "mitragynine = obo.CHEBI_6956\n",
    "hydroxy_mitragynine = napdi['7_hydroxy_mitragynine']\n",
    "hydroxy_mitragynine"
   ]
  },
  {
   "cell_type": "code",
   "execution_count": 101,
   "id": "870431da-ffdc-4e53-bfa5-da339e582fae",
   "metadata": {},
   "outputs": [
    {
     "name": "stdout",
     "output_type": "stream",
     "text": [
      "['Mitragyna_speciosa', 'has component', 'Mitragynine', '']\n",
      "['Mitragynine', 'interacts with', 'cytochrome P450 3A4 (human)', '']\n"
     ]
    }
   ],
   "source": [
    "pathx = nx.bidirectional_shortest_path(nx_graph, kratom, obo.PR_P08684)\n",
    "path_labels = get_path_labels(pathx)\n",
    "for triples in path_labels:\n",
    "    print(triples)"
   ]
  },
  {
   "cell_type": "code",
   "execution_count": 22,
   "id": "f2c388e2-9331-4c8c-a5e0-d24da40c1096",
   "metadata": {},
   "outputs": [
    {
     "name": "stdout",
     "output_type": "stream",
     "text": [
      "https://uswest.ensembl.org/Homo_sapiens/Transcript/Summary?t=ENST00000558233\n",
      "IPO4-205\n"
     ]
    }
   ],
   "source": [
    "for key in nodeLabels:\n",
    "    print(key)\n",
    "    print(nodeLabels[key])\n",
    "    break"
   ]
  },
  {
   "cell_type": "code",
   "execution_count": null,
   "id": "dd40a134-f3e9-4c45-a536-ccb19b9907f0",
   "metadata": {},
   "outputs": [],
   "source": []
  },
  {
   "cell_type": "code",
   "execution_count": null,
   "id": "64fdc505-5fc8-47c0-a729-e2398ee99afe",
   "metadata": {},
   "outputs": [],
   "source": []
  },
  {
   "cell_type": "code",
   "execution_count": null,
   "id": "00593d4b-904f-4033-899d-d92cb5096a2a",
   "metadata": {},
   "outputs": [],
   "source": []
  },
  {
   "cell_type": "code",
   "execution_count": null,
   "id": "5c6c1a44-d837-4dff-9e81-2a5d508dd4ed",
   "metadata": {},
   "outputs": [],
   "source": []
  },
  {
   "cell_type": "code",
   "execution_count": null,
   "id": "8cda234d-fcb2-43b7-9921-b0c8d23a85fe",
   "metadata": {},
   "outputs": [],
   "source": []
  },
  {
   "cell_type": "code",
   "execution_count": null,
   "id": "8820712b-0806-41bb-adad-8260eb1b6415",
   "metadata": {},
   "outputs": [],
   "source": []
  },
  {
   "cell_type": "code",
   "execution_count": null,
   "id": "b5cab844-9910-47e5-8036-21fc6874ffb2",
   "metadata": {},
   "outputs": [],
   "source": []
  },
  {
   "cell_type": "code",
   "execution_count": null,
   "id": "20213b72-3265-41bd-a079-27e1dadc99c3",
   "metadata": {},
   "outputs": [],
   "source": []
  },
  {
   "cell_type": "code",
   "execution_count": null,
   "id": "3993e5e6-cd3c-48f8-9b75-116d8f98e6a3",
   "metadata": {},
   "outputs": [],
   "source": []
  },
  {
   "cell_type": "markdown",
   "id": "ce8beacf-29b2-4a72-aa7a-220173684f68",
   "metadata": {},
   "source": [
    "### Path searches with MR nodes as end points - predications with highest belief scores\n",
    "1. Get MR predications with belief scores > 0.65\n",
    "2. Use subject and object nodes as start and end points for simple path searches (shortest path would just be direct link between the nodes)"
   ]
  },
  {
   "cell_type": "code",
   "execution_count": 67,
   "id": "271937e6-eaba-4c21-bb95-e135f3d82e9f",
   "metadata": {},
   "outputs": [
    {
     "data": {
      "text/html": [
       "<div>\n",
       "<style scoped>\n",
       "    .dataframe tbody tr th:only-of-type {\n",
       "        vertical-align: middle;\n",
       "    }\n",
       "\n",
       "    .dataframe tbody tr th {\n",
       "        vertical-align: top;\n",
       "    }\n",
       "\n",
       "    .dataframe thead th {\n",
       "        text-align: right;\n",
       "    }\n",
       "</style>\n",
       "<table border=\"1\" class=\"dataframe\">\n",
       "  <thead>\n",
       "    <tr style=\"text-align: right;\">\n",
       "      <th></th>\n",
       "      <th>subject_cui</th>\n",
       "      <th>subject_name</th>\n",
       "      <th>subject_source</th>\n",
       "      <th>predicate</th>\n",
       "      <th>object_source</th>\n",
       "      <th>object_cui</th>\n",
       "      <th>object_name</th>\n",
       "      <th>subj_reach_grounding</th>\n",
       "      <th>obj_reach_grounding</th>\n",
       "      <th>pmid</th>\n",
       "      <th>pub_year</th>\n",
       "      <th>belief</th>\n",
       "      <th>predicate_obo</th>\n",
       "      <th>subject_obo</th>\n",
       "      <th>object_obo</th>\n",
       "    </tr>\n",
       "  </thead>\n",
       "  <tbody>\n",
       "    <tr>\n",
       "      <th>0</th>\n",
       "      <td>C0017337</td>\n",
       "      <td>Genes</td>\n",
       "      <td>gene encoding SERCA2a</td>\n",
       "      <td>Acetylation</td>\n",
       "      <td>Histone_H3</td>\n",
       "      <td>C0019652</td>\n",
       "      <td>Histones</td>\n",
       "      <td>(None, None)</td>\n",
       "      <td>('FPLX', 'Histone_H3')</td>\n",
       "      <td>30286210</td>\n",
       "      <td>2018</td>\n",
       "      <td>0.65</td>\n",
       "      <td>http://purl.obolibrary.org/obo/GO_0006473</td>\n",
       "      <td>http://purl.obolibrary.org/obo/SO_0000704</td>\n",
       "      <td>http://purl.obolibrary.org/obo/PR_000041244</td>\n",
       "    </tr>\n",
       "    <tr>\n",
       "      <th>1</th>\n",
       "      <td>C1418880</td>\n",
       "      <td>PRDX2_gene</td>\n",
       "      <td>trichostatin A</td>\n",
       "      <td>Acetylation</td>\n",
       "      <td>Tubulin</td>\n",
       "      <td>C0041348</td>\n",
       "      <td>Tubulin</td>\n",
       "      <td>('CHEBI', 'CHEBI:46024')</td>\n",
       "      <td>('FPLX', 'Tubulin')</td>\n",
       "      <td>25680958</td>\n",
       "      <td>2015 Apr</td>\n",
       "      <td>0.65</td>\n",
       "      <td>http://purl.obolibrary.org/obo/GO_0006473</td>\n",
       "      <td>http://purl.obolibrary.org/obo/CHEBI_46024</td>\n",
       "      <td>http://purl.obolibrary.org/obo/PR_000028799</td>\n",
       "    </tr>\n",
       "    <tr>\n",
       "      <th>2</th>\n",
       "      <td>C0059438</td>\n",
       "      <td>epigallocatechin_gallate</td>\n",
       "      <td>--epigallocatechin 3-gallate</td>\n",
       "      <td>Acetylation</td>\n",
       "      <td>Histone</td>\n",
       "      <td>C0019652</td>\n",
       "      <td>Histones</td>\n",
       "      <td>('CHEBI', 'CHEBI:4806')</td>\n",
       "      <td>('FPLX', 'Histone')</td>\n",
       "      <td>23210776</td>\n",
       "      <td>2013</td>\n",
       "      <td>0.65</td>\n",
       "      <td>http://purl.obolibrary.org/obo/GO_0006473</td>\n",
       "      <td>http://purl.obolibrary.org/obo/CHEBI_4806</td>\n",
       "      <td>http://purl.obolibrary.org/obo/PR_000041244</td>\n",
       "    </tr>\n",
       "    <tr>\n",
       "      <th>3</th>\n",
       "      <td>C0073591</td>\n",
       "      <td>rosoxacin</td>\n",
       "      <td>ROS1</td>\n",
       "      <td>Acetylation</td>\n",
       "      <td>TMPRSS11D</td>\n",
       "      <td>C0444765</td>\n",
       "      <td>Hat_-_Headwear</td>\n",
       "      <td>('HGNC', '10261')</td>\n",
       "      <td>('HGNC', '24059')</td>\n",
       "      <td>25847253</td>\n",
       "      <td>2015</td>\n",
       "      <td>0.65</td>\n",
       "      <td>http://purl.obolibrary.org/obo/GO_0006473</td>\n",
       "      <td>http://purl.obolibrary.org/obo/CHEBI_131715</td>\n",
       "      <td>http://purl.obolibrary.org/obo/PR_Q9M2N5</td>\n",
       "    </tr>\n",
       "    <tr>\n",
       "      <th>4</th>\n",
       "      <td>C3539643</td>\n",
       "      <td>EIF4E_wt_Allele</td>\n",
       "      <td>CREBBP</td>\n",
       "      <td>Acetylation</td>\n",
       "      <td>RELA</td>\n",
       "      <td>C1453853</td>\n",
       "      <td>WNK1_protein,_human</td>\n",
       "      <td>('HGNC', '2348')</td>\n",
       "      <td>('HGNC', '9955')</td>\n",
       "      <td>25847253</td>\n",
       "      <td>2015</td>\n",
       "      <td>0.86</td>\n",
       "      <td>http://purl.obolibrary.org/obo/GO_0006473</td>\n",
       "      <td>http://purl.obolibrary.org/obo/PR_P63074</td>\n",
       "      <td>http://purl.obolibrary.org/obo/PR_000017431</td>\n",
       "    </tr>\n",
       "  </tbody>\n",
       "</table>\n",
       "</div>"
      ],
      "text/plain": [
       "  subject_cui              subject_name                subject_source  \\\n",
       "0    C0017337                     Genes         gene encoding SERCA2a   \n",
       "1    C1418880                PRDX2_gene                trichostatin A   \n",
       "2    C0059438  epigallocatechin_gallate  --epigallocatechin 3-gallate   \n",
       "3    C0073591                 rosoxacin                          ROS1   \n",
       "4    C3539643           EIF4E_wt_Allele                        CREBBP   \n",
       "\n",
       "     predicate object_source object_cui          object_name  \\\n",
       "0  Acetylation    Histone_H3   C0019652             Histones   \n",
       "1  Acetylation       Tubulin   C0041348              Tubulin   \n",
       "2  Acetylation       Histone   C0019652             Histones   \n",
       "3  Acetylation     TMPRSS11D   C0444765       Hat_-_Headwear   \n",
       "4  Acetylation          RELA   C1453853  WNK1_protein,_human   \n",
       "\n",
       "       subj_reach_grounding     obj_reach_grounding      pmid  pub_year  \\\n",
       "0              (None, None)  ('FPLX', 'Histone_H3')  30286210      2018   \n",
       "1  ('CHEBI', 'CHEBI:46024')     ('FPLX', 'Tubulin')  25680958  2015 Apr   \n",
       "2   ('CHEBI', 'CHEBI:4806')     ('FPLX', 'Histone')  23210776      2013   \n",
       "3         ('HGNC', '10261')       ('HGNC', '24059')  25847253      2015   \n",
       "4          ('HGNC', '2348')        ('HGNC', '9955')  25847253      2015   \n",
       "\n",
       "   belief                              predicate_obo  \\\n",
       "0    0.65  http://purl.obolibrary.org/obo/GO_0006473   \n",
       "1    0.65  http://purl.obolibrary.org/obo/GO_0006473   \n",
       "2    0.65  http://purl.obolibrary.org/obo/GO_0006473   \n",
       "3    0.65  http://purl.obolibrary.org/obo/GO_0006473   \n",
       "4    0.86  http://purl.obolibrary.org/obo/GO_0006473   \n",
       "\n",
       "                                   subject_obo  \\\n",
       "0    http://purl.obolibrary.org/obo/SO_0000704   \n",
       "1   http://purl.obolibrary.org/obo/CHEBI_46024   \n",
       "2    http://purl.obolibrary.org/obo/CHEBI_4806   \n",
       "3  http://purl.obolibrary.org/obo/CHEBI_131715   \n",
       "4     http://purl.obolibrary.org/obo/PR_P63074   \n",
       "\n",
       "                                    object_obo  \n",
       "0  http://purl.obolibrary.org/obo/PR_000041244  \n",
       "1  http://purl.obolibrary.org/obo/PR_000028799  \n",
       "2  http://purl.obolibrary.org/obo/PR_000041244  \n",
       "3     http://purl.obolibrary.org/obo/PR_Q9M2N5  \n",
       "4  http://purl.obolibrary.org/obo/PR_000017431  "
      ]
     },
     "execution_count": 67,
     "metadata": {},
     "output_type": "execute_result"
    }
   ],
   "source": [
    "df = pd.read_csv('../machine_read/greentea_pmid_all_predicates_umls_processed.tsv', sep='\\t')\n",
    "df.head()"
   ]
  },
  {
   "cell_type": "code",
   "execution_count": 68,
   "id": "64ab3239-9e82-4182-a36d-7cae44b73798",
   "metadata": {},
   "outputs": [
    {
     "name": "stdout",
     "output_type": "stream",
     "text": [
      "<class 'pandas.core.frame.DataFrame'>\n",
      "RangeIndex: 7677 entries, 0 to 7676\n",
      "Data columns (total 15 columns):\n",
      " #   Column                Non-Null Count  Dtype  \n",
      "---  ------                --------------  -----  \n",
      " 0   subject_cui           7677 non-null   object \n",
      " 1   subject_name          7677 non-null   object \n",
      " 2   subject_source        7677 non-null   object \n",
      " 3   predicate             7677 non-null   object \n",
      " 4   object_source         7677 non-null   object \n",
      " 5   object_cui            7677 non-null   object \n",
      " 6   object_name           7677 non-null   object \n",
      " 7   subj_reach_grounding  7677 non-null   object \n",
      " 8   obj_reach_grounding   7677 non-null   object \n",
      " 9   pmid                  7677 non-null   int64  \n",
      " 10  pub_year              7677 non-null   object \n",
      " 11  belief                7677 non-null   float64\n",
      " 12  predicate_obo         7677 non-null   object \n",
      " 13  subject_obo           7677 non-null   object \n",
      " 14  object_obo            7677 non-null   object \n",
      "dtypes: float64(1), int64(1), object(13)\n",
      "memory usage: 899.8+ KB\n"
     ]
    }
   ],
   "source": [
    "df.info()"
   ]
  },
  {
   "cell_type": "code",
   "execution_count": 70,
   "id": "9e4404f4-a3a5-4774-b337-275981612c78",
   "metadata": {},
   "outputs": [
    {
     "name": "stdout",
     "output_type": "stream",
     "text": [
      "<class 'pandas.core.frame.DataFrame'>\n",
      "Int64Index: 2012 entries, 4 to 7675\n",
      "Data columns (total 15 columns):\n",
      " #   Column                Non-Null Count  Dtype  \n",
      "---  ------                --------------  -----  \n",
      " 0   subject_cui           2012 non-null   object \n",
      " 1   subject_name          2012 non-null   object \n",
      " 2   subject_source        2012 non-null   object \n",
      " 3   predicate             2012 non-null   object \n",
      " 4   object_source         2012 non-null   object \n",
      " 5   object_cui            2012 non-null   object \n",
      " 6   object_name           2012 non-null   object \n",
      " 7   subj_reach_grounding  2012 non-null   object \n",
      " 8   obj_reach_grounding   2012 non-null   object \n",
      " 9   pmid                  2012 non-null   int64  \n",
      " 10  pub_year              2012 non-null   object \n",
      " 11  belief                2012 non-null   float64\n",
      " 12  predicate_obo         2012 non-null   object \n",
      " 13  subject_obo           2012 non-null   object \n",
      " 14  object_obo            2012 non-null   object \n",
      "dtypes: float64(1), int64(1), object(13)\n",
      "memory usage: 251.5+ KB\n"
     ]
    }
   ],
   "source": [
    "df = df.loc[df['belief'] > 0.8]\n",
    "df.info()"
   ]
  },
  {
   "cell_type": "code",
   "execution_count": 71,
   "id": "d38cdfc1-d753-45d8-92b6-aae79ba86326",
   "metadata": {},
   "outputs": [
    {
     "data": {
      "text/html": [
       "<div>\n",
       "<style scoped>\n",
       "    .dataframe tbody tr th:only-of-type {\n",
       "        vertical-align: middle;\n",
       "    }\n",
       "\n",
       "    .dataframe tbody tr th {\n",
       "        vertical-align: top;\n",
       "    }\n",
       "\n",
       "    .dataframe thead th {\n",
       "        text-align: right;\n",
       "    }\n",
       "</style>\n",
       "<table border=\"1\" class=\"dataframe\">\n",
       "  <thead>\n",
       "    <tr style=\"text-align: right;\">\n",
       "      <th></th>\n",
       "      <th>subject_cui</th>\n",
       "      <th>subject_name</th>\n",
       "      <th>subject_source</th>\n",
       "      <th>predicate</th>\n",
       "      <th>object_source</th>\n",
       "      <th>object_cui</th>\n",
       "      <th>object_name</th>\n",
       "      <th>subj_reach_grounding</th>\n",
       "      <th>obj_reach_grounding</th>\n",
       "      <th>pmid</th>\n",
       "      <th>pub_year</th>\n",
       "      <th>belief</th>\n",
       "      <th>predicate_obo</th>\n",
       "      <th>subject_obo</th>\n",
       "      <th>object_obo</th>\n",
       "    </tr>\n",
       "  </thead>\n",
       "  <tbody>\n",
       "    <tr>\n",
       "      <th>0</th>\n",
       "      <td>C3539643</td>\n",
       "      <td>EIF4E_wt_Allele</td>\n",
       "      <td>CREBBP</td>\n",
       "      <td>Acetylation</td>\n",
       "      <td>RELA</td>\n",
       "      <td>C1453853</td>\n",
       "      <td>WNK1_protein,_human</td>\n",
       "      <td>('HGNC', '2348')</td>\n",
       "      <td>('HGNC', '9955')</td>\n",
       "      <td>25847253</td>\n",
       "      <td>2015</td>\n",
       "      <td>0.860000</td>\n",
       "      <td>http://purl.obolibrary.org/obo/GO_0006473</td>\n",
       "      <td>http://purl.obolibrary.org/obo/PR_P63074</td>\n",
       "      <td>http://purl.obolibrary.org/obo/PR_000017431</td>\n",
       "    </tr>\n",
       "    <tr>\n",
       "      <th>1</th>\n",
       "      <td>C1530358</td>\n",
       "      <td>EP300_protein,_human</td>\n",
       "      <td>EP300</td>\n",
       "      <td>Acetylation</td>\n",
       "      <td>RELA</td>\n",
       "      <td>C1453853</td>\n",
       "      <td>WNK1_protein,_human</td>\n",
       "      <td>('HGNC', '3373')</td>\n",
       "      <td>('HGNC', '9955')</td>\n",
       "      <td>25847253</td>\n",
       "      <td>2015</td>\n",
       "      <td>0.860000</td>\n",
       "      <td>http://purl.obolibrary.org/obo/GO_0006473</td>\n",
       "      <td>http://purl.obolibrary.org/obo/PR_000007102</td>\n",
       "      <td>http://purl.obolibrary.org/obo/PR_000017431</td>\n",
       "    </tr>\n",
       "    <tr>\n",
       "      <th>2</th>\n",
       "      <td>C1843013</td>\n",
       "      <td>Alzheimer_disease,_familial,_type_3</td>\n",
       "      <td>AD</td>\n",
       "      <td>Activation</td>\n",
       "      <td>long-term synaptic potentiation</td>\n",
       "      <td>C0206249</td>\n",
       "      <td>Long-Term_Potentiation</td>\n",
       "      <td>(None, None)</td>\n",
       "      <td>('GO', 'GO:0060291')</td>\n",
       "      <td>29944861</td>\n",
       "      <td>2018 Aug</td>\n",
       "      <td>0.923000</td>\n",
       "      <td>http://purl.obolibrary.org/obo/RO_0002436</td>\n",
       "      <td>http://purl.obolibrary.org/obo/MONDO_0100087</td>\n",
       "      <td>http://purl.obolibrary.org/obo/GO_0060291</td>\n",
       "    </tr>\n",
       "    <tr>\n",
       "      <th>3</th>\n",
       "      <td>C0025918</td>\n",
       "      <td>Mice,_Inbred_AKR</td>\n",
       "      <td>AKR</td>\n",
       "      <td>Activation</td>\n",
       "      <td>secondary alcohol</td>\n",
       "      <td>C0001962</td>\n",
       "      <td>Ethanol</td>\n",
       "      <td>(None, None)</td>\n",
       "      <td>('CHEBI', 'CHEBI:35681')</td>\n",
       "      <td>28283780</td>\n",
       "      <td>2017 Jun</td>\n",
       "      <td>0.860000</td>\n",
       "      <td>http://purl.obolibrary.org/obo/RO_0002436</td>\n",
       "      <td>http://purl.obolibrary.org/obo/NCBITaxon_10088</td>\n",
       "      <td>http://purl.obolibrary.org/obo/CHEBI_16236</td>\n",
       "    </tr>\n",
       "    <tr>\n",
       "      <th>4</th>\n",
       "      <td>C3814396</td>\n",
       "      <td>CYP3A_Gene_Locus</td>\n",
       "      <td>CYP3A</td>\n",
       "      <td>Activation</td>\n",
       "      <td>metabolic process</td>\n",
       "      <td>C0025520</td>\n",
       "      <td>metabolic_aspects</td>\n",
       "      <td>(None, None)</td>\n",
       "      <td>('GO', 'GO:0008152')</td>\n",
       "      <td>29368187</td>\n",
       "      <td>2018 May</td>\n",
       "      <td>0.949271</td>\n",
       "      <td>http://purl.obolibrary.org/obo/RO_0002436</td>\n",
       "      <td>http://purl.obolibrary.org/obo/CHEBI_38559</td>\n",
       "      <td>http://purl.obolibrary.org/obo/GO_0008152</td>\n",
       "    </tr>\n",
       "  </tbody>\n",
       "</table>\n",
       "</div>"
      ],
      "text/plain": [
       "  subject_cui                         subject_name subject_source  \\\n",
       "0    C3539643                      EIF4E_wt_Allele         CREBBP   \n",
       "1    C1530358                 EP300_protein,_human          EP300   \n",
       "2    C1843013  Alzheimer_disease,_familial,_type_3             AD   \n",
       "3    C0025918                     Mice,_Inbred_AKR            AKR   \n",
       "4    C3814396                     CYP3A_Gene_Locus          CYP3A   \n",
       "\n",
       "     predicate                    object_source object_cui  \\\n",
       "0  Acetylation                             RELA   C1453853   \n",
       "1  Acetylation                             RELA   C1453853   \n",
       "2   Activation  long-term synaptic potentiation   C0206249   \n",
       "3   Activation                secondary alcohol   C0001962   \n",
       "4   Activation                metabolic process   C0025520   \n",
       "\n",
       "              object_name subj_reach_grounding       obj_reach_grounding  \\\n",
       "0     WNK1_protein,_human     ('HGNC', '2348')          ('HGNC', '9955')   \n",
       "1     WNK1_protein,_human     ('HGNC', '3373')          ('HGNC', '9955')   \n",
       "2  Long-Term_Potentiation         (None, None)      ('GO', 'GO:0060291')   \n",
       "3                 Ethanol         (None, None)  ('CHEBI', 'CHEBI:35681')   \n",
       "4       metabolic_aspects         (None, None)      ('GO', 'GO:0008152')   \n",
       "\n",
       "       pmid  pub_year    belief                              predicate_obo  \\\n",
       "0  25847253      2015  0.860000  http://purl.obolibrary.org/obo/GO_0006473   \n",
       "1  25847253      2015  0.860000  http://purl.obolibrary.org/obo/GO_0006473   \n",
       "2  29944861  2018 Aug  0.923000  http://purl.obolibrary.org/obo/RO_0002436   \n",
       "3  28283780  2017 Jun  0.860000  http://purl.obolibrary.org/obo/RO_0002436   \n",
       "4  29368187  2018 May  0.949271  http://purl.obolibrary.org/obo/RO_0002436   \n",
       "\n",
       "                                      subject_obo  \\\n",
       "0        http://purl.obolibrary.org/obo/PR_P63074   \n",
       "1     http://purl.obolibrary.org/obo/PR_000007102   \n",
       "2    http://purl.obolibrary.org/obo/MONDO_0100087   \n",
       "3  http://purl.obolibrary.org/obo/NCBITaxon_10088   \n",
       "4      http://purl.obolibrary.org/obo/CHEBI_38559   \n",
       "\n",
       "                                    object_obo  \n",
       "0  http://purl.obolibrary.org/obo/PR_000017431  \n",
       "1  http://purl.obolibrary.org/obo/PR_000017431  \n",
       "2    http://purl.obolibrary.org/obo/GO_0060291  \n",
       "3   http://purl.obolibrary.org/obo/CHEBI_16236  \n",
       "4    http://purl.obolibrary.org/obo/GO_0008152  "
      ]
     },
     "execution_count": 71,
     "metadata": {},
     "output_type": "execute_result"
    }
   ],
   "source": [
    "df = df.reset_index(drop=True)\n",
    "df.head()"
   ]
  },
  {
   "cell_type": "code",
   "execution_count": 72,
   "id": "5114978b-0ae4-4815-b242-f7eedf11fa6c",
   "metadata": {},
   "outputs": [
    {
     "data": {
      "text/html": [
       "<div>\n",
       "<style scoped>\n",
       "    .dataframe tbody tr th:only-of-type {\n",
       "        vertical-align: middle;\n",
       "    }\n",
       "\n",
       "    .dataframe tbody tr th {\n",
       "        vertical-align: top;\n",
       "    }\n",
       "\n",
       "    .dataframe thead th {\n",
       "        text-align: right;\n",
       "    }\n",
       "</style>\n",
       "<table border=\"1\" class=\"dataframe\">\n",
       "  <thead>\n",
       "    <tr style=\"text-align: right;\">\n",
       "      <th></th>\n",
       "      <th>subject_cui</th>\n",
       "      <th>subject_name</th>\n",
       "      <th>subject_source</th>\n",
       "      <th>predicate</th>\n",
       "      <th>object_source</th>\n",
       "      <th>object_cui</th>\n",
       "      <th>object_name</th>\n",
       "      <th>subj_reach_grounding</th>\n",
       "      <th>obj_reach_grounding</th>\n",
       "      <th>pmid</th>\n",
       "      <th>pub_year</th>\n",
       "      <th>belief</th>\n",
       "      <th>predicate_obo</th>\n",
       "      <th>subject_obo</th>\n",
       "      <th>object_obo</th>\n",
       "    </tr>\n",
       "  </thead>\n",
       "  <tbody>\n",
       "    <tr>\n",
       "      <th>0</th>\n",
       "      <td>C0596577</td>\n",
       "      <td>Flavonoids</td>\n",
       "      <td>flavonoids</td>\n",
       "      <td>Activation</td>\n",
       "      <td>apoptotic process</td>\n",
       "      <td>C0162638</td>\n",
       "      <td>Apoptosis</td>\n",
       "      <td>('CHEBI', 'CHEBI:72544')</td>\n",
       "      <td>('GO', 'GO:0006915')</td>\n",
       "      <td>22830339</td>\n",
       "      <td>2012</td>\n",
       "      <td>0.95</td>\n",
       "      <td>http://purl.obolibrary.org/obo/RO_0002436</td>\n",
       "      <td>http://purl.obolibrary.org/obo/CHEBI_72544</td>\n",
       "      <td>http://purl.obolibrary.org/obo/GO_0006915</td>\n",
       "    </tr>\n",
       "    <tr>\n",
       "      <th>1</th>\n",
       "      <td>C0059438</td>\n",
       "      <td>epigallocatechin_gallate</td>\n",
       "      <td>--epigallocatechin 3-gallate</td>\n",
       "      <td>Inhibition</td>\n",
       "      <td>Neoplasms</td>\n",
       "      <td>C0027651</td>\n",
       "      <td>Neoplasms</td>\n",
       "      <td>('CHEBI', 'CHEBI:4806')</td>\n",
       "      <td>('MESH', 'D009369')</td>\n",
       "      <td>29137307</td>\n",
       "      <td>2017 Oct 10</td>\n",
       "      <td>0.95</td>\n",
       "      <td>http://purl.obolibrary.org/obo/RO_0002449</td>\n",
       "      <td>http://purl.obolibrary.org/obo/CHEBI_4806</td>\n",
       "      <td>http://purl.obolibrary.org/obo/HP_0002664</td>\n",
       "    </tr>\n",
       "    <tr>\n",
       "      <th>2</th>\n",
       "      <td>C0016979</td>\n",
       "      <td>Gallic_acid</td>\n",
       "      <td>gallic acid</td>\n",
       "      <td>Activation</td>\n",
       "      <td>Mice</td>\n",
       "      <td>C0026809</td>\n",
       "      <td>Mus</td>\n",
       "      <td>('CHEBI', 'CHEBI:30778')</td>\n",
       "      <td>('MESH', 'D051379')</td>\n",
       "      <td>24722818</td>\n",
       "      <td>2014 Jul</td>\n",
       "      <td>0.95</td>\n",
       "      <td>http://purl.obolibrary.org/obo/RO_0002436</td>\n",
       "      <td>http://purl.obolibrary.org/obo/CHEBI_30778</td>\n",
       "      <td>http://purl.obolibrary.org/obo/NCBITaxon_10088</td>\n",
       "    </tr>\n",
       "    <tr>\n",
       "      <th>3</th>\n",
       "      <td>C0016993</td>\n",
       "      <td>Gambia</td>\n",
       "      <td>gallic acid</td>\n",
       "      <td>Activation</td>\n",
       "      <td>apoptotic process</td>\n",
       "      <td>C0162638</td>\n",
       "      <td>Apoptosis</td>\n",
       "      <td>('CHEBI', 'CHEBI:30778')</td>\n",
       "      <td>('GO', 'GO:0006915')</td>\n",
       "      <td>26251571</td>\n",
       "      <td>2015</td>\n",
       "      <td>0.95</td>\n",
       "      <td>http://purl.obolibrary.org/obo/RO_0002436</td>\n",
       "      <td>http://purl.obolibrary.org/obo/CHEBI_30778</td>\n",
       "      <td>http://purl.obolibrary.org/obo/GO_0006915</td>\n",
       "    </tr>\n",
       "    <tr>\n",
       "      <th>4</th>\n",
       "      <td>C0071649</td>\n",
       "      <td>polyphenols</td>\n",
       "      <td>polyphenol</td>\n",
       "      <td>Inhibition</td>\n",
       "      <td>glucose transmembrane transport</td>\n",
       "      <td>C0178666</td>\n",
       "      <td>glucose_transport</td>\n",
       "      <td>('CHEBI', 'CHEBI:26195')</td>\n",
       "      <td>('GO', 'GO:1904659')</td>\n",
       "      <td>30667442</td>\n",
       "      <td>2019 Feb 20</td>\n",
       "      <td>0.95</td>\n",
       "      <td>http://purl.obolibrary.org/obo/RO_0002449</td>\n",
       "      <td>http://purl.obolibrary.org/obo/CHEBI_26195</td>\n",
       "      <td>http://purl.obolibrary.org/obo/GO_1904659</td>\n",
       "    </tr>\n",
       "  </tbody>\n",
       "</table>\n",
       "</div>"
      ],
      "text/plain": [
       "  subject_cui              subject_name                subject_source  \\\n",
       "0    C0596577                Flavonoids                    flavonoids   \n",
       "1    C0059438  epigallocatechin_gallate  --epigallocatechin 3-gallate   \n",
       "2    C0016979               Gallic_acid                   gallic acid   \n",
       "3    C0016993                    Gambia                   gallic acid   \n",
       "4    C0071649               polyphenols                    polyphenol   \n",
       "\n",
       "    predicate                    object_source object_cui        object_name  \\\n",
       "0  Activation                apoptotic process   C0162638          Apoptosis   \n",
       "1  Inhibition                        Neoplasms   C0027651          Neoplasms   \n",
       "2  Activation                             Mice   C0026809                Mus   \n",
       "3  Activation                apoptotic process   C0162638          Apoptosis   \n",
       "4  Inhibition  glucose transmembrane transport   C0178666  glucose_transport   \n",
       "\n",
       "       subj_reach_grounding   obj_reach_grounding      pmid     pub_year  \\\n",
       "0  ('CHEBI', 'CHEBI:72544')  ('GO', 'GO:0006915')  22830339         2012   \n",
       "1   ('CHEBI', 'CHEBI:4806')   ('MESH', 'D009369')  29137307  2017 Oct 10   \n",
       "2  ('CHEBI', 'CHEBI:30778')   ('MESH', 'D051379')  24722818     2014 Jul   \n",
       "3  ('CHEBI', 'CHEBI:30778')  ('GO', 'GO:0006915')  26251571         2015   \n",
       "4  ('CHEBI', 'CHEBI:26195')  ('GO', 'GO:1904659')  30667442  2019 Feb 20   \n",
       "\n",
       "   belief                              predicate_obo  \\\n",
       "0    0.95  http://purl.obolibrary.org/obo/RO_0002436   \n",
       "1    0.95  http://purl.obolibrary.org/obo/RO_0002449   \n",
       "2    0.95  http://purl.obolibrary.org/obo/RO_0002436   \n",
       "3    0.95  http://purl.obolibrary.org/obo/RO_0002436   \n",
       "4    0.95  http://purl.obolibrary.org/obo/RO_0002449   \n",
       "\n",
       "                                  subject_obo  \\\n",
       "0  http://purl.obolibrary.org/obo/CHEBI_72544   \n",
       "1   http://purl.obolibrary.org/obo/CHEBI_4806   \n",
       "2  http://purl.obolibrary.org/obo/CHEBI_30778   \n",
       "3  http://purl.obolibrary.org/obo/CHEBI_30778   \n",
       "4  http://purl.obolibrary.org/obo/CHEBI_26195   \n",
       "\n",
       "                                       object_obo  \n",
       "0       http://purl.obolibrary.org/obo/GO_0006915  \n",
       "1       http://purl.obolibrary.org/obo/HP_0002664  \n",
       "2  http://purl.obolibrary.org/obo/NCBITaxon_10088  \n",
       "3       http://purl.obolibrary.org/obo/GO_0006915  \n",
       "4       http://purl.obolibrary.org/obo/GO_1904659  "
      ]
     },
     "execution_count": 72,
     "metadata": {},
     "output_type": "execute_result"
    }
   ],
   "source": [
    "df = df.sort_values(by=['belief'], ascending=False)\n",
    "df = df.reset_index(drop=True)\n",
    "df.head()"
   ]
  },
  {
   "cell_type": "code",
   "execution_count": 58,
   "id": "0cab9340-02e9-4468-bc9f-f8345281cd42",
   "metadata": {},
   "outputs": [],
   "source": [
    "df.to_csv('../machine_read/MR_triples_searchpath.tsv', sep='\\t', index=False)"
   ]
  },
  {
   "cell_type": "code",
   "execution_count": null,
   "id": "6ab01b9a-b622-4fd3-813d-2af768bdb616",
   "metadata": {},
   "outputs": [],
   "source": [
    "#Subject-Object pairs (testing paths) for triples from machine reading with belief scores > 0.8\n",
    "'''\n",
    "1. catechin (CHEBI_90) -> ABCB1 (), biosynthetic process (), transport (), apoptotic process (), coronary disease (),\n",
    "cholesterol (), myocardial eschemia, cisplatin, heart disease, glucose, glucose import, glucose metabolic process,\n",
    "hyperglycemia, intestinal absorption\n",
    "2. epigallocatechin gallate (CHEBI_4806) -> quinone, paracetamol, Endoplasmic Reticulum Stress, ATP, ATPase, autophagy, bile acid,\n",
    "transport, cell death, cholesterol, cisplatin, dexamethasone, diclofenac, digoxin, dopamine, drug metabolic process, \n",
    "erythromycin, glutathione, heart failure, hemolysis, angiotensin-2, cortisol, insulin secretion, insulin resistance,\n",
    "liver failure, nadolol, obesity, quercetin, tamoxifen, verapamil\n",
    "3. greentea -> atorvastatin, rosuvastatin, benzo[a]pyrene, cardiovascular disease, stroke, cholesterol,\n",
    "Myocardial Ischemia, Coronary Disease, Diabetes Mellitus, diclofenac, digoxin, doxorubicin, hypertension, liver disease,\n",
    "nadolol, obesity, warfarin, glucose import, glutathione\n",
    "EXTENDED LISTS BELOW\n",
    "'''"
   ]
  },
  {
   "cell_type": "code",
   "execution_count": 95,
   "id": "2a699d04-85b5-4b95-b5da-5796979848c6",
   "metadata": {},
   "outputs": [],
   "source": [
    "catechin_list = ['ABCB1_gene', 'Anabolism', 'Biological_Transport', 'Apoptosis', 'Cell_Proliferation', \n",
    "                 'Coronary_Arteriosclerosis', 'Cholesterol', 'Cytochrome_P-450_CYP1A1', 'Cytochrome_P-450_CYP1A2',\n",
    "                 'Cytochrome_P-450_CYP3A4', 'Insulin_Secretion', 'Cisplatin', 'Heart_Diseases', 'Glucose', \n",
    "                 'glucose_uptake', 'glucose_transport', 'Hyperglycemia', 'Obesity', 'P-Glycoprotein',\n",
    "                'UGT1A1_gene', 'Weight_decreased']\n",
    "egcg_list = ['1,4-benzoquinone', 'ABCA1_gene', 'Acetaminophen', 'Adenosine_Triphosphatases', 'Autophagy',\n",
    "            'Bile_Acids', 'Bilirubin', 'Biological_Transport', 'Body_Weight', 'BRCA1_protein,_human',\n",
    "             'Cell_Death', 'Cell_Proliferation', 'Cholesterol', 'Cisplatin', 'Collagen', 'Coronary_Arteriosclerosis',\n",
    "             'Cytochrome_P-450_CYP1A1', 'Cytochrome_P-450_CYP1A2', 'Cytochrome_P-450_CYP3A4', 'Cytochrome_P-450_CYP2D6',\n",
    "             'Cytochrome_P-450_CYP2C19', 'drug_metabolism', 'Dexamethasone', 'Diclofenac', 'Digoxin', 'Dopamine', \n",
    "             'GA-Binding_Protein_Transcription_Factor', 'Gluconeogenesis', 'Glucose_Transporter', \n",
    "             'glucose_transport', 'glucose_uptake', 'Glutathione', 'Glycogen', 'Erythromycin',  'Heart_failure', \n",
    "             'Hemolysis_(disorder)', 'Inflammation', 'Hydrocortisone',\n",
    "             'Interleukin-1', 'Interleukin-6', 'Intestinal_Absorption', 'rosoxacin', 'UGT1A1_gene',\n",
    "              'Insulin_Secretion', 'Insulin_Resistance', 'Liver_Failure',\n",
    "             'Nadolol', 'Obesity', 'Quercetin', 'Tamoxifen', 'Verapamil']\n",
    "greentea_list = ['ABCB1_gene', 'ABCG2_gene', 'Acetaminophen', 'Biological_Transport', 'Cardiovascular_Diseases',\n",
    "            'Cerebrovascular_accident', 'Coronary_Arteriosclerosis', 'atorvastatin',  'Benzopyrenes', 'Cholesterol',\n",
    "            'Cytochrome_P450', 'Cytochromes', 'Cytochrome_P-450_CYP1A1', 'Cytochrome_P-450_CYP1A2',\n",
    "            'Cytochrome_P-450_CYP3A4', 'Diabetes_Mellitus', 'Diclofenac', 'Digoxin', 'Doxorubicin', 'glucose_transport',\n",
    "            'Hypertensive_disease', 'Hay_fever', 'Interleukin-10', 'Lipid_Metabolism', 'Liver_diseases', \n",
    "            'Low-Density_Lipoproteins', 'Nadolol', 'Obesity', 'glucose_uptake', 'Glutathione',\n",
    "            'SLC2A1_protein,_human', 'SLC5A1_gene', 'SLCO1A2_gene', 'SLCO2B1_gene', 'Warfarin',\n",
    "            'rosuvastatin', 'rosoxacin', 'TNFSF11_protein,_human', 'TRPA1_gene', 'TRPV1_gene']\n"
   ]
  },
  {
   "cell_type": "code",
   "execution_count": 96,
   "id": "dbf268b2-298f-49d7-bf79-e580c5c1485e",
   "metadata": {},
   "outputs": [
    {
     "name": "stdout",
     "output_type": "stream",
     "text": [
      "ABCB1_gene\n",
      "Anabolism\n",
      "Biological_Transport\n",
      "Apoptosis\n",
      "Cell_Proliferation\n",
      "Coronary_Arteriosclerosis\n",
      "Cholesterol\n",
      "Cytochrome_P-450_CYP1A1\n",
      "Cytochrome_P-450_CYP1A2\n",
      "Cytochrome_P-450_CYP3A4\n",
      "Insulin_Secretion\n",
      "Cisplatin\n",
      "Heart_Diseases\n",
      "Glucose\n",
      "glucose_uptake\n",
      "glucose_transport\n",
      "Hyperglycemia\n",
      "Obesity\n",
      "P-Glycoprotein\n",
      "UGT1A1_gene\n",
      "Weight_decreased\n",
      "1,4-benzoquinone\n",
      "ABCA1_gene\n",
      "Acetaminophen\n",
      "Adenosine_Triphosphatases\n",
      "Autophagy\n",
      "Bile_Acids\n",
      "Bilirubin\n",
      "Body_Weight\n",
      "BRCA1_protein,_human\n",
      "Cell_Death\n",
      "Collagen\n",
      "Cytochrome_P-450_CYP2D6\n",
      "Cytochrome_P-450_CYP2C19\n",
      "drug_metabolism\n",
      "Dexamethasone\n",
      "Diclofenac\n",
      "Digoxin\n",
      "Dopamine\n",
      "GA-Binding_Protein_Transcription_Factor\n",
      "Gluconeogenesis\n",
      "Glucose_Transporter\n",
      "Glutathione\n",
      "Glycogen\n",
      "Erythromycin\n",
      "Heart_failure\n",
      "Hemolysis_(disorder)\n",
      "Inflammation\n",
      "Hydrocortisone\n",
      "Interleukin-1\n",
      "Interleukin-6\n",
      "Intestinal_Absorption\n",
      "rosoxacin\n",
      "Insulin_Resistance\n",
      "Liver_Failure\n",
      "Nadolol\n",
      "Quercetin\n",
      "Tamoxifen\n",
      "Verapamil\n",
      "ABCG2_gene\n",
      "Cardiovascular_Diseases\n",
      "Cerebrovascular_accident\n",
      "atorvastatin\n",
      "Benzopyrenes\n",
      "Cytochrome_P450\n",
      "Cytochromes\n",
      "Diabetes_Mellitus\n",
      "Doxorubicin\n",
      "Hypertensive_disease\n",
      "Hay_fever\n",
      "Interleukin-10\n",
      "Lipid_Metabolism\n",
      "Liver_diseases\n",
      "Low-Density_Lipoproteins\n",
      "SLC2A1_protein,_human\n",
      "SLC5A1_gene\n",
      "SLCO1A2_gene\n",
      "SLCO2B1_gene\n",
      "Warfarin\n",
      "rosuvastatin\n",
      "TNFSF11_protein,_human\n",
      "TRPA1_gene\n",
      "TRPV1_gene\n"
     ]
    },
    {
     "data": {
      "text/plain": [
       "83"
      ]
     },
     "execution_count": 96,
     "metadata": {},
     "output_type": "execute_result"
    }
   ],
   "source": [
    "#get OBO identifiers from dataframe\n",
    "node_dict = {}\n",
    "for item in catechin_list:\n",
    "    if item not in node_dict:\n",
    "        print(item)\n",
    "        obo_id = df.loc[df['object_name'] == item]['object_obo'].values[0]\n",
    "        node_dict[item] = obo_id.split('/')[-1]\n",
    "for item in egcg_list:\n",
    "    if item not in node_dict:\n",
    "        print(item)\n",
    "        obo_id = df.loc[df['object_name'] == item]['object_obo'].values[0]\n",
    "        node_dict[item] = obo_id.split('/')[-1]\n",
    "for item in tea_list:\n",
    "    if item not in node_dict:\n",
    "        print(item)\n",
    "        obo_id = df.loc[df['object_name'] == item]['object_obo'].values[0]\n",
    "        node_dict[item] = obo_id.split('/')[-1]\n",
    "len(node_dict)\n"
   ]
  },
  {
   "cell_type": "code",
   "execution_count": 122,
   "id": "c4f227a5-5ca5-4acf-9fb4-984f88de2202",
   "metadata": {},
   "outputs": [
    {
     "data": {
      "text/plain": [
       "'HP_0003074'"
      ]
     },
     "execution_count": 122,
     "metadata": {},
     "output_type": "execute_result"
    }
   ],
   "source": [
    "node_dict['Hyperglycemia']"
   ]
  },
  {
   "cell_type": "code",
   "execution_count": 35,
   "id": "66625bec-d8ad-49c2-87d6-4396d2af201b",
   "metadata": {},
   "outputs": [],
   "source": [
    "x = zip(cyp3a4_edge_paths, cyp3a4_edge_path_labs)"
   ]
  },
  {
   "cell_type": "code",
   "execution_count": 38,
   "id": "1cbc9d6b-6bcc-4422-86f0-ccf8a005a1c3",
   "metadata": {},
   "outputs": [
    {
     "name": "stdout",
     "output_type": "stream",
     "text": [
      "([(rdflib.term.URIRef('http://purl.obolibrary.org/obo/CHEBI_23053'), rdflib.term.URIRef('http://purl.obolibrary.org/obo/GO_0018130'), rdflib.term.URIRef('http://purl.obolibrary.org/obo/RO_0002436')), (rdflib.term.URIRef('http://purl.obolibrary.org/obo/GO_0018130'), rdflib.term.URIRef('http://purl.obolibrary.org/obo/GO_0044249'), rdflib.term.URIRef('http://www.w3.org/2000/01/rdf-schema#subClassOf')), (rdflib.term.URIRef('http://purl.obolibrary.org/obo/GO_0044249'), rdflib.term.URIRef('http://purl.obolibrary.org/obo/GO_0009058'), rdflib.term.URIRef('http://www.w3.org/2000/01/rdf-schema#subClassOf')), (rdflib.term.URIRef('http://purl.obolibrary.org/obo/GO_0009058'), rdflib.term.URIRef('http://purl.obolibrary.org/obo/PR_P17735'), rdflib.term.URIRef('http://purl.obolibrary.org/obo/RO_0000057')), (rdflib.term.URIRef('http://purl.obolibrary.org/obo/PR_P17735'), rdflib.term.URIRef('https://uswest.ensembl.org/Homo_sapiens/Transcript/Summary?t=ENST00000355962'), rdflib.term.URIRef('http://purl.obolibrary.org/obo/RO_0002512')), (rdflib.term.URIRef('https://uswest.ensembl.org/Homo_sapiens/Transcript/Summary?t=ENST00000355962'), rdflib.term.URIRef('http://purl.obolibrary.org/obo/SO_0000673'), rdflib.term.URIRef('http://www.w3.org/2000/01/rdf-schema#subClassOf')), (rdflib.term.URIRef('http://purl.obolibrary.org/obo/SO_0000673'), rdflib.term.URIRef('http://purl.obolibrary.org/obo/SO_0000831'), rdflib.term.URIRef('http://www.w3.org/2000/01/rdf-schema#subClassOf')), (rdflib.term.URIRef('http://purl.obolibrary.org/obo/SO_0000831'), rdflib.term.URIRef('http://purl.obolibrary.org/obo/SO_0000704'), rdflib.term.URIRef('http://purl.obolibrary.org/obo/so#member_of')), (rdflib.term.URIRef('http://purl.obolibrary.org/obo/SO_0000704'), rdflib.term.URIRef('http://purl.obolibrary.org/obo/PR_Q9H9S0'), rdflib.term.URIRef('http://purl.obolibrary.org/obo/RO_0002449')), (rdflib.term.URIRef('http://purl.obolibrary.org/obo/PR_Q9H9S0'), rdflib.term.URIRef('http://purl.obolibrary.org/obo/PR_P22083'), rdflib.term.URIRef('http://purl.obolibrary.org/obo/RO_0002436')), (rdflib.term.URIRef('http://purl.obolibrary.org/obo/PR_P22083'), rdflib.term.URIRef('http://purl.obolibrary.org/obo/CLO_0007947'), rdflib.term.URIRef('http://purl.obolibrary.org/obo/RO_0001025')), (rdflib.term.URIRef('http://purl.obolibrary.org/obo/CLO_0007947'), rdflib.term.URIRef('https://uswest.ensembl.org/Homo_sapiens/Transcript/Summary?t=ENST00000381153'), rdflib.term.URIRef('http://purl.obolibrary.org/obo/RO_0001015')), (rdflib.term.URIRef('https://uswest.ensembl.org/Homo_sapiens/Transcript/Summary?t=ENST00000381153'), rdflib.term.URIRef('http://purl.obolibrary.org/obo/PR_Q9P2W6'), rdflib.term.URIRef('http://purl.obolibrary.org/obo/RO_0002513')), (rdflib.term.URIRef('http://purl.obolibrary.org/obo/PR_Q9P2W6'), rdflib.term.URIRef('http://purl.obolibrary.org/obo/PR_000029067'), rdflib.term.URIRef('http://www.w3.org/2000/01/rdf-schema#subClassOf')), (rdflib.term.URIRef('http://purl.obolibrary.org/obo/PR_000029067'), rdflib.term.URIRef('http://purl.obolibrary.org/obo/PR_000000001'), rdflib.term.URIRef('http://www.w3.org/2000/01/rdf-schema#subClassOf')), (rdflib.term.URIRef('http://purl.obolibrary.org/obo/PR_000000001'), rdflib.term.URIRef('http://purl.obolibrary.org/obo/PR_000018263'), rdflib.term.URIRef('http://www.w3.org/2000/01/rdf-schema#subClassOf')), (rdflib.term.URIRef('http://purl.obolibrary.org/obo/PR_000018263'), rdflib.term.URIRef('http://purl.obolibrary.org/obo/CHEBI_50047'), rdflib.term.URIRef('http://www.w3.org/2000/01/rdf-schema#subClassOf')), (rdflib.term.URIRef('http://purl.obolibrary.org/obo/CHEBI_50047'), rdflib.term.URIRef('http://purl.obolibrary.org/obo/CHEBI_16134'), rdflib.term.URIRef('http://purl.obolibrary.org/obo/chebi#has_parent_hydride')), (rdflib.term.URIRef('http://purl.obolibrary.org/obo/CHEBI_16134'), rdflib.term.URIRef('https://reactome.org/content/detail/R-HSA-556833'), rdflib.term.URIRef('http://purl.obolibrary.org/obo/RO_0000056')), (rdflib.term.URIRef('https://reactome.org/content/detail/R-HSA-556833'), rdflib.term.URIRef('http://purl.obolibrary.org/obo/PR_P08684'), rdflib.term.URIRef('http://purl.obolibrary.org/obo/RO_0000057'))], [('catechin', 'molecularly interacts with', 'heterocycle biosynthetic process'), ('heterocycle biosynthetic process', 'subClassOf', 'cellular biosynthetic process'), ('cellular biosynthetic process', 'subClassOf', 'biosynthetic process'), ('biosynthetic process', '', 'tyrosine aminotransferase (human)'), ('tyrosine aminotransferase (human)', 'ribosomal translation of', 'TAT-201'), ('TAT-201', 'subClassOf', 'transcript'), ('transcript', 'subClassOf', 'gene_member_region'), ('gene_member_region', 'member_of', '基因'), ('基因', 'directly negatively regulates activity of', 'homeobox protein NANOG (human)'), ('homeobox protein NANOG (human)', 'molecularly interacts with', 'alpha-(1,3)-fucosyltransferase 4 (human)'), ('alpha-(1,3)-fucosyltransferase 4 (human)', 'located_in', 'NB-4 cell'), ('NB-4 cell', 'location of', 'C11orf21-201'), ('C11orf21-201', 'ribosomally translates to', 'uncharacterized protein C11orf21 (human)'), ('uncharacterized protein C11orf21 (human)', 'subClassOf', 'Homo sapiens protein'), ('Homo sapiens protein', 'subClassOf', '蛋白质'), ('蛋白质', 'subClassOf', '氨基酸链'), ('氨基酸链', 'subClassOf', 'organic amino compound'), ('organic amino compound', 'has parent hydride', 'ammonia'), ('ammonia', 'participates_in', 'Metabolism of lipids'), ('Metabolism of lipids', '', 'cytochrome P450 3A4 (human)')])\n",
      "<class 'tuple'>\n"
     ]
    }
   ],
   "source": [
    "for item in x:\n",
    "    print(item)\n",
    "    print(type(item))\n",
    "    break"
   ]
  },
  {
   "cell_type": "code",
   "execution_count": 61,
   "id": "9dc54a77-914a-42c0-bbc0-08aee3ef4e6d",
   "metadata": {},
   "outputs": [],
   "source": [
    "from typing import Dict, List, Optional, Set, Tuple, Union\n",
    "\n",
    "def n3(node: Union[URIRef, BNode, Literal]) -> str:\n",
    "    \"\"\"Method takes an RDFLib node of type BNode, URIRef, or Literal and serializes it to meet the RDF 1.1 NTriples\n",
    "    format.\n",
    "    Src: https://github.com/RDFLib/rdflib/blob/c11f7b503b50b7c3cdeec0f36261fa09b0615380/rdflib/plugins/serializers/nt.py\n",
    "    Args:\n",
    "        node: An RDFLib\n",
    "    Returns:\n",
    "        serialized_node: A string containing the serialized\n",
    "    \"\"\"\n",
    "    if isinstance(node, Literal): serialized_node = \"%s\" % _quoteLiteral(node)\n",
    "    else: serialized_node = \"%s\" % node.n3()\n",
    "    return serialized_node"
   ]
  },
  {
   "cell_type": "code",
   "execution_count": 59,
   "id": "69a49c06-41fd-4f2a-81b0-0f1dec1fffd8",
   "metadata": {},
   "outputs": [],
   "source": [
    "s = URIRef('http://napdi.org/napdi_srs_imports:camellia_sinensis_leaf')\n",
    "p = URIRef('http://purl.obolibrary.org/obo/RO_0002180')\n",
    "o = URIRef('http://purl.obolibrary.org/obo/CHEBI_90')"
   ]
  },
  {
   "cell_type": "code",
   "execution_count": 62,
   "id": "e28297ac-8a52-4b7f-8914-b98fd27a4aba",
   "metadata": {},
   "outputs": [],
   "source": [
    "pred_key = hashlib.md5('{}{}{}'.format(n3(s), n3(p), n3(o)).encode()).hexdigest()"
   ]
  },
  {
   "cell_type": "code",
   "execution_count": 63,
   "id": "caecdd0d-99d2-4111-a0d7-2b43b47855b1",
   "metadata": {},
   "outputs": [
    {
     "data": {
      "text/plain": [
       "'65161e94646ef7334785bf7ac25257be'"
      ]
     },
     "execution_count": 63,
     "metadata": {},
     "output_type": "execute_result"
    }
   ],
   "source": [
    "pred_key"
   ]
  },
  {
   "cell_type": "code",
   "execution_count": 71,
   "id": "864a181c-2284-4958-ba92-e245d8acf367",
   "metadata": {},
   "outputs": [
    {
     "data": {
      "text/plain": [
       "{'predicate_key': '65161e94646ef7334785bf7ac25257be', 'weight': 0.0}"
      ]
     },
     "execution_count": 71,
     "metadata": {},
     "output_type": "execute_result"
    }
   ],
   "source": [
    "nx_graph[s][o][p]"
   ]
  },
  {
   "cell_type": "markdown",
   "id": "ffc56191-1959-4fc1-9d59-85c75dafff35",
   "metadata": {},
   "source": [
    "### Fix nodeLabels in file from build 3.0.0"
   ]
  },
  {
   "cell_type": "code",
   "execution_count": 1,
   "id": "dd97b498-2e28-4ab2-8671-04c4a2003651",
   "metadata": {},
   "outputs": [],
   "source": [
    "import json\n",
    "import pickle"
   ]
  },
  {
   "cell_type": "code",
   "execution_count": 2,
   "id": "9957da8b-0ddb-4344-96d0-1a3bd4ef2d99",
   "metadata": {},
   "outputs": [],
   "source": [
    "import re"
   ]
  },
  {
   "cell_type": "code",
   "execution_count": 50,
   "id": "8730a4b7-46c4-4a10-8ac8-66d703ce8cad",
   "metadata": {},
   "outputs": [
    {
     "data": {
      "text/plain": [
       "753217"
      ]
     },
     "execution_count": 50,
     "metadata": {},
     "output_type": "execute_result"
    }
   ],
   "source": [
    "len(nodeLabels)"
   ]
  },
  {
   "cell_type": "code",
   "execution_count": 4,
   "id": "0094da7d-e8ea-49f1-bde6-8acc0a359202",
   "metadata": {},
   "outputs": [],
   "source": [
    "file1 = open('/home/sanya/PheKnowLatorv2/resources/knowledge_graphs/' + 'nodeLabels_20211021.pickle', 'rb')\n",
    "nods = pickle.load(file1)"
   ]
  },
  {
   "cell_type": "code",
   "execution_count": 5,
   "id": "2bc4a149-bab5-4db0-ac74-26a9e4eacc26",
   "metadata": {},
   "outputs": [
    {
     "data": {
      "text/plain": [
       "'homeobox protein NANOG (human)'"
      ]
     },
     "execution_count": 5,
     "metadata": {},
     "output_type": "execute_result"
    }
   ],
   "source": [
    "nods['http://purl.obolibrary.org/obo/PR_Q9H9S0']"
   ]
  },
  {
   "cell_type": "code",
   "execution_count": 6,
   "id": "88e0fd41-b993-47fa-9e14-ec51ae524cb7",
   "metadata": {},
   "outputs": [
    {
     "data": {
      "text/plain": [
       "'homeobox protein NANOG (human)'"
      ]
     },
     "execution_count": 6,
     "metadata": {},
     "output_type": "execute_result"
    }
   ],
   "source": [
    "nods['http://purl.obolibrary.org/obo/PR_Q9H9S0']"
   ]
  },
  {
   "cell_type": "code",
   "execution_count": 12,
   "id": "3bf68897-c0a5-42a3-a9d3-5ca566e66021",
   "metadata": {},
   "outputs": [],
   "source": [
    "nods['http://purl.obolibrary.org/obo/DIDEO_00000041'] = 'is substrate of'"
   ]
  },
  {
   "cell_type": "code",
   "execution_count": 9,
   "id": "52a7c870-c3da-4ca8-b6f2-e6a6beedc20a",
   "metadata": {},
   "outputs": [],
   "source": [
    "nods['http://purl.obolibrary.org/obo/RO_0002204'] = 'gene product of'"
   ]
  },
  {
   "cell_type": "code",
   "execution_count": null,
   "id": "1e09078b-99ce-4d9d-91f0-360a2e6a0f3d",
   "metadata": {},
   "outputs": [],
   "source": [
    "#check inhibits, RO_0002204, DIDEO_"
   ]
  },
  {
   "cell_type": "code",
   "execution_count": 14,
   "id": "1dd6b7a2-f928-4ffc-8199-da06473a3b2c",
   "metadata": {},
   "outputs": [],
   "source": [
    "fileo = open('/home/sanya/PheKnowLatorv2/resources/knowledge_graphs/' + 'nodeLabels_20220329.pickle', 'wb')\n"
   ]
  },
  {
   "cell_type": "code",
   "execution_count": 15,
   "id": "ade11526-0d57-42b9-8b9f-0cac1676da79",
   "metadata": {},
   "outputs": [
    {
     "data": {
      "text/plain": [
       "753219"
      ]
     },
     "execution_count": 15,
     "metadata": {},
     "output_type": "execute_result"
    }
   ],
   "source": [
    "len(nods)"
   ]
  },
  {
   "cell_type": "code",
   "execution_count": 52,
   "id": "72a112bc-9600-408f-bc0d-2a219b48eb03",
   "metadata": {},
   "outputs": [
    {
     "name": "stdout",
     "output_type": "stream",
     "text": [
      "<http://purl.obolibrary.org/obo/VO_0002752>\n",
      "{'label': 'E2 from Western equine encephalomyelitis virus', 'description/definition': 'N/A'}\n"
     ]
    }
   ],
   "source": [
    "for key in correctLabels:\n",
    "    print(key)\n",
    "    print(correctLabels[key])\n",
    "    break"
   ]
  },
  {
   "cell_type": "code",
   "execution_count": 53,
   "id": "ec2a6813-55b8-4acd-97f4-d84331e6139a",
   "metadata": {},
   "outputs": [
    {
     "data": {
      "text/plain": [
       "753217"
      ]
     },
     "execution_count": 53,
     "metadata": {},
     "output_type": "execute_result"
    }
   ],
   "source": [
    "for key in correctLabels:\n",
    "    node = key.strip('<')\n",
    "    node = node.strip('>')\n",
    "    newLabel = correctLabels[key]['label']\n",
    "    if node in nods:\n",
    "        if newLabel != 'N/A':\n",
    "            nods[node] = newLabel\n",
    "len(nods)"
   ]
  },
  {
   "cell_type": "code",
   "execution_count": 16,
   "id": "27725e38-0129-4750-bde7-82c135239503",
   "metadata": {},
   "outputs": [
    {
     "data": {
      "text/plain": [
       "'gene'"
      ]
     },
     "execution_count": 16,
     "metadata": {},
     "output_type": "execute_result"
    }
   ],
   "source": [
    "nods['http://purl.obolibrary.org/obo/SO_0000704']"
   ]
  },
  {
   "cell_type": "code",
   "execution_count": 20,
   "id": "dc09acce-93ac-4449-8f6e-89b769a5f536",
   "metadata": {},
   "outputs": [],
   "source": [
    "##add NCBI labels for kratom and green tea. Add others when including more NPs\n",
    "nods['http://purl.obolibrary.org/obo/NCBITaxon_4442'] = 'Camellia sinensis'\n",
    "nods['http://purl.obolibrary.org/obo/NCBITaxon_170351'] = 'Mitragyna speciosa'\n"
   ]
  },
  {
   "cell_type": "code",
   "execution_count": null,
   "id": "9f8316cf-da99-44ec-a6ea-4c9b92750fd4",
   "metadata": {},
   "outputs": [],
   "source": []
  },
  {
   "cell_type": "code",
   "execution_count": null,
   "id": "5c7f2f46-1a2d-48f9-825e-912490b07e15",
   "metadata": {},
   "outputs": [],
   "source": []
  },
  {
   "cell_type": "code",
   "execution_count": 17,
   "id": "292f9c69-d4b0-4ac2-840c-c9410efce212",
   "metadata": {},
   "outputs": [
    {
     "data": {
      "text/plain": [
       "'homeobox protein NANOG (human)'"
      ]
     },
     "execution_count": 17,
     "metadata": {},
     "output_type": "execute_result"
    }
   ],
   "source": [
    "nods['http://purl.obolibrary.org/obo/PR_Q9H9S0']"
   ]
  },
  {
   "cell_type": "code",
   "execution_count": 63,
   "id": "4388459a-6de4-4797-97a3-21fce9070de1",
   "metadata": {},
   "outputs": [
    {
     "data": {
      "text/plain": [
       "['<http://purl.obolibrary.org/obo/PR_Q6V1P9>',\n",
       " '<http://purl.obolibrary.org/obo/PR_Q9NZV6-1>',\n",
       " '<http://purl.obolibrary.org/obo/PR_Q9GZL7>',\n",
       " '<http://purl.obolibrary.org/obo/PR_O76083-5>',\n",
       " '<http://purl.obolibrary.org/obo/PR_A0A087WT02>',\n",
       " '<http://purl.obolibrary.org/obo/PR_A0AVF1-1>',\n",
       " '<http://purl.obolibrary.org/obo/PR_Q12968-4>',\n",
       " '<http://purl.obolibrary.org/obo/PR_Q9HBI1-2>',\n",
       " '<http://purl.obolibrary.org/obo/PR_Q86SZ2>',\n",
       " '<http://purl.obolibrary.org/obo/PR_Q5HYK9>',\n",
       " '<http://purl.obolibrary.org/obo/PR_Q9H2P9-4>',\n",
       " '<http://purl.obolibrary.org/obo/PR_O60381-1>',\n",
       " '<http://purl.obolibrary.org/obo/PR_Q16667>',\n",
       " '<http://purl.obolibrary.org/obo/PR_A2NJV5>',\n",
       " '<http://purl.obolibrary.org/obo/PR_Q6P461-3>',\n",
       " '<http://purl.obolibrary.org/obo/PR_Q8TDC0>',\n",
       " '<http://purl.obolibrary.org/obo/PR_000054919>',\n",
       " '<http://purl.obolibrary.org/obo/PR_P53667-4>',\n",
       " '<http://purl.obolibrary.org/obo/PR_O14647-1>',\n",
       " '<http://purl.obolibrary.org/obo/PR_Q6ZSI9>']"
      ]
     },
     "execution_count": 63,
     "metadata": {},
     "output_type": "execute_result"
    }
   ],
   "source": [
    "nas[:20]"
   ]
  },
  {
   "cell_type": "code",
   "execution_count": 58,
   "id": "d6ee47e6-e153-4223-9525-79e76266231f",
   "metadata": {},
   "outputs": [
    {
     "data": {
      "text/plain": [
       "54903"
      ]
     },
     "execution_count": 58,
     "metadata": {},
     "output_type": "execute_result"
    }
   ],
   "source": [
    "nas = []\n",
    "for key in correctLabels:\n",
    "    label = correctLabels[key]['label']\n",
    "    if label == 'N/A':\n",
    "        nas.append(key)\n",
    "len(nas)"
   ]
  },
  {
   "cell_type": "code",
   "execution_count": 62,
   "id": "29db0c21-ff04-49b2-90e8-c827a2fc2230",
   "metadata": {},
   "outputs": [
    {
     "data": {
      "text/plain": [
       "54844"
      ]
     },
     "execution_count": 62,
     "metadata": {},
     "output_type": "execute_result"
    }
   ],
   "source": [
    "count = 1\n",
    "for item in nas:\n",
    "    if 'PR' in item:\n",
    "        count += 1\n",
    "count"
   ]
  },
  {
   "cell_type": "code",
   "execution_count": 21,
   "id": "9bf77453-9f24-4df2-bc36-d64a01f3a798",
   "metadata": {},
   "outputs": [],
   "source": [
    "pickle.dump(nods, fileo)"
   ]
  },
  {
   "cell_type": "code",
   "execution_count": 22,
   "id": "636ee4eb-6768-46fe-8ea0-6dea769afb24",
   "metadata": {},
   "outputs": [
    {
     "name": "stdout",
     "output_type": "stream",
     "text": [
      "https://uswest.ensembl.org/Homo_sapiens/Transcript/Summary?t=ENST00000558233\n",
      "IPO4-205\n",
      "https://www.ncbi.nlm.nih.gov/snp/rs777826971\n",
      "NM_002397.5(MEF2C):c.860C>T (p.Ser287Leu)\n",
      "https://www.ncbi.nlm.nih.gov/snp/rs781825074\n",
      "NM_000489.5(ATRX):c.3218G>C (p.Ser1073Thr)\n",
      "http://purl.obolibrary.org/obo/CHEBI_136208\n",
      "phosphatidylethanolamine (P-18:0/18:3)\n",
      "http://purl.obolibrary.org/obo/PR_O15079-1\n",
      "syntaphilin isoform h1 (human)\n",
      "http://purl.obolibrary.org/obo/PR_O43688-1\n",
      "phospholipid phosphatase 2 isoform h1 (human)\n",
      "https://www.ncbi.nlm.nih.gov/snp/rs5404\n",
      "NM_000340.2(SLC2A2):c.594G>A (p.Thr198=)\n",
      "http://purl.obolibrary.org/obo/CHEBI_29828\n",
      "sulfonothioyl group\n",
      "http://purl.obolibrary.org/obo/CHEBI_17410\n",
      "pteridine-2,4,6,7-tetrol\n",
      "http://www.ncbi.nlm.nih.gov/gene/731157\n",
      "LOC731157\n"
     ]
    }
   ],
   "source": [
    "i = 0\n",
    "for key in nods:\n",
    "    print(key)\n",
    "    print(nods[key])\n",
    "    i+=1\n",
    "    if i == 10:\n",
    "        break"
   ]
  },
  {
   "cell_type": "code",
   "execution_count": null,
   "id": "6471f5bb-fe00-44b8-a971-5636bdd83d13",
   "metadata": {},
   "outputs": [],
   "source": [
    "##see merge_machine_read for ntriples of nodelabels"
   ]
  },
  {
   "cell_type": "code",
   "execution_count": null,
   "id": "3a796578-69fc-4962-83a5-b555330c4632",
   "metadata": {},
   "outputs": [],
   "source": []
  },
  {
   "cell_type": "markdown",
   "id": "7a2f0adc-fc3c-47a7-b6dc-dfda3d7d19c8",
   "metadata": {},
   "source": [
    "## Kratom - seizures"
   ]
  },
  {
   "cell_type": "code",
   "execution_count": 221,
   "id": "a2648d2e-0f9c-4dae-8520-91e5e4107592",
   "metadata": {},
   "outputs": [],
   "source": [
    "nodeLabels['http://purl.obolibrary.org/obo/MONDO_0016227'] = 'seizure'"
   ]
  },
  {
   "cell_type": "code",
   "execution_count": 229,
   "id": "3dae19a6-1f34-47f1-b0ca-3326e4c407f3",
   "metadata": {},
   "outputs": [
    {
     "data": {
      "text/plain": [
       "<dict_keyiterator at 0x7f8999b47868>"
      ]
     },
     "execution_count": 229,
     "metadata": {},
     "output_type": "execute_result"
    }
   ],
   "source": [
    "nx.neighbors(nx_graph, obo.HP_0001250)"
   ]
  },
  {
   "cell_type": "code",
   "execution_count": 227,
   "id": "584efed8-1e23-4fc6-be00-620f866ccd9d",
   "metadata": {},
   "outputs": [],
   "source": [
    "seizure = obo.HP_0001250"
   ]
  },
  {
   "cell_type": "code",
   "execution_count": 233,
   "id": "a14ec257-bf5f-48ac-8434-047966a67653",
   "metadata": {},
   "outputs": [
    {
     "name": "stdout",
     "output_type": "stream",
     "text": [
      "Searching for path from http://napdi.org/napdi_srs_imports:mitragyna_speciosa - http://purl.obolibrary.org/obo/HP_0001250\n",
      "(['Mitragyna_speciosa', 'has component', 'Mitragynine', ''], ['http://napdi.org/napdi_srs_imports:mitragyna_speciosa', 'http://purl.obolibrary.org/obo/RO_0002180', 'http://purl.obolibrary.org/obo/CHEBI_6956', [{'predicate_key': '92919f4d7a39d7db676c369dd45a1c1c', 'weight': 0.0}]])\n",
      "(['Mitragynine', {'entity_type': 'RELATIONS', 'label': 'Activation'}, 'digoxin', 'machine_read'], ['http://purl.obolibrary.org/obo/CHEBI_6956', 'http://purl.obolibrary.org/obo/RO_0002448', 'http://purl.obolibrary.org/obo/CHEBI_4551', [{'predicate_key': '923ec5bcc14b673e70e2b2df5375b60a', 'weight': 0.0, 'pmid': '30604191', 'timestamp': '2019 Apr', 'source_graph': 'machine_read', 'belief': 0.65}, {'predicate_key': '9fdebc8bbe18c72c594081e9ae378bfa', 'weight': 0.0, 'pmid': '30604191', 'timestamp': '2019 Apr', 'source_graph': 'machine_read', 'belief': 0.65}]])\n",
      "(['digoxin', 'is substance that treats', 'Seizure', ''], ['http://purl.obolibrary.org/obo/CHEBI_4551', 'http://purl.obolibrary.org/obo/RO_0002606', 'http://purl.obolibrary.org/obo/HP_0001250', [{'predicate_key': '49ba38648cc29d53cb9bd33dc7cd52b5', 'weight': 0.0}]])\n"
     ]
    },
    {
     "data": {
      "text/plain": [
       "([['Mitragyna_speciosa', 'has component', 'Mitragynine', ''],\n",
       "  ['Mitragynine',\n",
       "   {'entity_type': 'RELATIONS', 'label': 'Activation'},\n",
       "   'digoxin',\n",
       "   'machine_read'],\n",
       "  ['digoxin', 'is substance that treats', 'Seizure', '']],\n",
       " [['http://napdi.org/napdi_srs_imports:mitragyna_speciosa',\n",
       "   'http://purl.obolibrary.org/obo/RO_0002180',\n",
       "   'http://purl.obolibrary.org/obo/CHEBI_6956',\n",
       "   [{'predicate_key': '92919f4d7a39d7db676c369dd45a1c1c', 'weight': 0.0}]],\n",
       "  ['http://purl.obolibrary.org/obo/CHEBI_6956',\n",
       "   'http://purl.obolibrary.org/obo/RO_0002448',\n",
       "   'http://purl.obolibrary.org/obo/CHEBI_4551',\n",
       "   [{'predicate_key': '923ec5bcc14b673e70e2b2df5375b60a',\n",
       "     'weight': 0.0,\n",
       "     'pmid': '30604191',\n",
       "     'timestamp': '2019 Apr',\n",
       "     'source_graph': 'machine_read',\n",
       "     'belief': 0.65},\n",
       "    {'predicate_key': '9fdebc8bbe18c72c594081e9ae378bfa',\n",
       "     'weight': 0.0,\n",
       "     'pmid': '30604191',\n",
       "     'timestamp': '2019 Apr',\n",
       "     'source_graph': 'machine_read',\n",
       "     'belief': 0.65}]],\n",
       "  ['http://purl.obolibrary.org/obo/CHEBI_4551',\n",
       "   'http://purl.obolibrary.org/obo/RO_0002606',\n",
       "   'http://purl.obolibrary.org/obo/HP_0001250',\n",
       "   [{'predicate_key': '49ba38648cc29d53cb9bd33dc7cd52b5', 'weight': 0.0}]]])"
      ]
     },
     "execution_count": 233,
     "metadata": {},
     "output_type": "execute_result"
    }
   ],
   "source": [
    "KG_path_searches.get_bidirectional_shortest_path(nx_graph, obodict['kratom'][0], seizure, nodeLabels)"
   ]
  },
  {
   "cell_type": "code",
   "execution_count": 241,
   "id": "f5b05fd4-1ed6-4866-a30e-dfa38b878d27",
   "metadata": {},
   "outputs": [
    {
     "name": "stdout",
     "output_type": "stream",
     "text": [
      "Searching for paths from http://napdi.org/napdi_srs_imports:mitragyna_speciosa - http://purl.obolibrary.org/obo/HP_0001250\n",
      "[info] applying next operator to search for a simple path of max length 10\n",
      "[info] Simple path found of length 10\n",
      "[info] Simple path length greater than shortest path length (3) so adding to results\n",
      "[info] applying next operator to search for a simple path of max length 10\n",
      "[info] Simple path found of length 10\n",
      "[info] Simple path length greater than shortest path length (3) so adding to results\n",
      "[info] applying next operator to search for a simple path of max length 10\n",
      "[info] Simple path found of length 10\n",
      "[info] Simple path length greater than shortest path length (3) so adding to results\n",
      "[info] applying next operator to search for a simple path of max length 10\n",
      "[info] Simple path found of length 10\n",
      "[info] Simple path length greater than shortest path length (3) so adding to results\n",
      "[info] applying next operator to search for a simple path of max length 10\n",
      "[info] Simple path found of length 10\n",
      "[info] Simple path length greater than shortest path length (3) so adding to results\n"
     ]
    }
   ],
   "source": [
    "kpaths = KG_path_searches.get_k_simple_paths(nx_graph, obodict['kratom'][0], seizure, 5, 10, 3)"
   ]
  },
  {
   "cell_type": "code",
   "execution_count": 242,
   "id": "ff782618-aa60-44d6-8813-5177e6d7f1a8",
   "metadata": {},
   "outputs": [
    {
     "name": "stdout",
     "output_type": "stream",
     "text": [
      "[('Mitragyna_speciosa', 'subClassOf', 'plant anatomical entity'), ('plant anatomical entity', 'only in taxon', 'Viridiplantae'), ('Viridiplantae', 'subClassOf', 'Eukaryota'), ('Eukaryota', 'has_part', 'genome of Eukaryota'), ('genome of Eukaryota', 'has_part', 'gene of Eukaryota'), ('gene of Eukaryota', 'subClassOf', 'gene'), ('gene', 'subClassOf', 'gene'), ('gene', 'directly negatively regulates activity of', 'rosoxacin'), ('rosoxacin', '', 'lipopolysaccharide'), ('lipopolysaccharide', 'is substance that treats', 'Seizure')]\n",
      "[('Mitragyna_speciosa', 'subClassOf', 'plant anatomical entity'), ('plant anatomical entity', 'only in taxon', 'Viridiplantae'), ('Viridiplantae', 'subClassOf', 'Eukaryota'), ('Eukaryota', 'has_part', 'genome of Eukaryota'), ('genome of Eukaryota', 'has_part', 'gene of Eukaryota'), ('gene of Eukaryota', 'subClassOf', 'gene'), ('gene', 'subClassOf', 'gene'), ('gene', 'directly negatively regulates activity of', 'rosoxacin'), ('rosoxacin', 'positively regulates', 'lipopolysaccharide'), ('lipopolysaccharide', 'is substance that treats', 'Seizure')]\n",
      "[('Mitragyna_speciosa', 'subClassOf', 'plant anatomical entity'), ('plant anatomical entity', 'only in taxon', 'Viridiplantae'), ('Viridiplantae', 'subClassOf', 'Eukaryota'), ('Eukaryota', 'has_part', 'genome of Eukaryota'), ('genome of Eukaryota', 'has_part', 'gene of Eukaryota'), ('gene of Eukaryota', 'subClassOf', 'gene'), ('gene', 'subClassOf', 'gene'), ('gene', 'directly negatively regulates activity of', 'rosoxacin'), ('rosoxacin', '', 'familial thrombocytosis'), ('familial thrombocytosis', 'has phenotype', 'Seizure')]\n",
      "[('Mitragyna_speciosa', 'subClassOf', 'plant anatomical entity'), ('plant anatomical entity', 'only in taxon', 'Viridiplantae'), ('Viridiplantae', 'subClassOf', 'Eukaryota'), ('Eukaryota', 'has_part', 'genome of Eukaryota'), ('genome of Eukaryota', 'has_part', 'gene of Eukaryota'), ('gene of Eukaryota', 'subClassOf', 'gene'), ('gene', 'subClassOf', 'gene'), ('gene', 'directly negatively regulates activity of', 'rosoxacin'), ('rosoxacin', '', 'nitric oxide'), ('nitric oxide', 'is substance that treats', 'Seizure')]\n",
      "[('Mitragyna_speciosa', 'subClassOf', 'plant anatomical entity'), ('plant anatomical entity', 'only in taxon', 'Viridiplantae'), ('Viridiplantae', 'subClassOf', 'Eukaryota'), ('Eukaryota', 'has_part', 'genome of Eukaryota'), ('genome of Eukaryota', 'has_part', 'gene of Eukaryota'), ('gene of Eukaryota', 'subClassOf', 'gene'), ('gene', 'subClassOf', 'gene'), ('gene', 'directly negatively regulates activity of', 'rosoxacin'), ('rosoxacin', 'interacts with', 'paracetamol'), ('paracetamol', 'is substance that treats', 'Seizure')]\n",
      "\n",
      "\n",
      "\n",
      "\n",
      "[(rdflib.term.URIRef('http://napdi.org/napdi_srs_imports:mitragyna_speciosa'), rdflib.term.URIRef('http://purl.obolibrary.org/obo/PO_0025131'), rdflib.term.URIRef('http://www.w3.org/2000/01/rdf-schema#subClassOf')), (rdflib.term.URIRef('http://purl.obolibrary.org/obo/PO_0025131'), rdflib.term.URIRef('http://purl.obolibrary.org/obo/NCBITaxon_33090'), rdflib.term.URIRef('http://purl.obolibrary.org/obo/RO_0002160')), (rdflib.term.URIRef('http://purl.obolibrary.org/obo/NCBITaxon_33090'), rdflib.term.URIRef('http://purl.obolibrary.org/obo/NCBITaxon_2759'), rdflib.term.URIRef('http://www.w3.org/2000/01/rdf-schema#subClassOf')), (rdflib.term.URIRef('http://purl.obolibrary.org/obo/NCBITaxon_2759'), rdflib.term.URIRef('http://purl.obolibrary.org/obo/OGG_1000002759'), rdflib.term.URIRef('http://purl.obolibrary.org/obo/BFO_0000051')), (rdflib.term.URIRef('http://purl.obolibrary.org/obo/OGG_1000002759'), rdflib.term.URIRef('http://purl.obolibrary.org/obo/OGG_2000002759'), rdflib.term.URIRef('http://purl.obolibrary.org/obo/BFO_0000051')), (rdflib.term.URIRef('http://purl.obolibrary.org/obo/OGG_2000002759'), rdflib.term.URIRef('http://purl.obolibrary.org/obo/OGG_0000000002'), rdflib.term.URIRef('http://www.w3.org/2000/01/rdf-schema#subClassOf')), (rdflib.term.URIRef('http://purl.obolibrary.org/obo/OGG_0000000002'), rdflib.term.URIRef('http://purl.obolibrary.org/obo/SO_0000704'), rdflib.term.URIRef('http://www.w3.org/2000/01/rdf-schema#subClassOf')), (rdflib.term.URIRef('http://purl.obolibrary.org/obo/SO_0000704'), rdflib.term.URIRef('http://purl.obolibrary.org/obo/CHEBI_131715'), rdflib.term.URIRef('http://purl.obolibrary.org/obo/RO_0002449')), (rdflib.term.URIRef('http://purl.obolibrary.org/obo/CHEBI_131715'), rdflib.term.URIRef('http://purl.obolibrary.org/obo/CHEBI_16412'), rdflib.term.URIRef('http://purl.obolibrary.org/obo/RO_0002448')), (rdflib.term.URIRef('http://purl.obolibrary.org/obo/CHEBI_16412'), rdflib.term.URIRef('http://purl.obolibrary.org/obo/HP_0001250'), rdflib.term.URIRef('http://purl.obolibrary.org/obo/RO_0002606'))]\n",
      "[(rdflib.term.URIRef('http://napdi.org/napdi_srs_imports:mitragyna_speciosa'), rdflib.term.URIRef('http://purl.obolibrary.org/obo/PO_0025131'), rdflib.term.URIRef('http://www.w3.org/2000/01/rdf-schema#subClassOf')), (rdflib.term.URIRef('http://purl.obolibrary.org/obo/PO_0025131'), rdflib.term.URIRef('http://purl.obolibrary.org/obo/NCBITaxon_33090'), rdflib.term.URIRef('http://purl.obolibrary.org/obo/RO_0002160')), (rdflib.term.URIRef('http://purl.obolibrary.org/obo/NCBITaxon_33090'), rdflib.term.URIRef('http://purl.obolibrary.org/obo/NCBITaxon_2759'), rdflib.term.URIRef('http://www.w3.org/2000/01/rdf-schema#subClassOf')), (rdflib.term.URIRef('http://purl.obolibrary.org/obo/NCBITaxon_2759'), rdflib.term.URIRef('http://purl.obolibrary.org/obo/OGG_1000002759'), rdflib.term.URIRef('http://purl.obolibrary.org/obo/BFO_0000051')), (rdflib.term.URIRef('http://purl.obolibrary.org/obo/OGG_1000002759'), rdflib.term.URIRef('http://purl.obolibrary.org/obo/OGG_2000002759'), rdflib.term.URIRef('http://purl.obolibrary.org/obo/BFO_0000051')), (rdflib.term.URIRef('http://purl.obolibrary.org/obo/OGG_2000002759'), rdflib.term.URIRef('http://purl.obolibrary.org/obo/OGG_0000000002'), rdflib.term.URIRef('http://www.w3.org/2000/01/rdf-schema#subClassOf')), (rdflib.term.URIRef('http://purl.obolibrary.org/obo/OGG_0000000002'), rdflib.term.URIRef('http://purl.obolibrary.org/obo/SO_0000704'), rdflib.term.URIRef('http://www.w3.org/2000/01/rdf-schema#subClassOf')), (rdflib.term.URIRef('http://purl.obolibrary.org/obo/SO_0000704'), rdflib.term.URIRef('http://purl.obolibrary.org/obo/CHEBI_131715'), rdflib.term.URIRef('http://purl.obolibrary.org/obo/RO_0002449')), (rdflib.term.URIRef('http://purl.obolibrary.org/obo/CHEBI_131715'), rdflib.term.URIRef('http://purl.obolibrary.org/obo/CHEBI_16412'), rdflib.term.URIRef('http://purl.obolibrary.org/obo/RO_0002213')), (rdflib.term.URIRef('http://purl.obolibrary.org/obo/CHEBI_16412'), rdflib.term.URIRef('http://purl.obolibrary.org/obo/HP_0001250'), rdflib.term.URIRef('http://purl.obolibrary.org/obo/RO_0002606'))]\n",
      "[(rdflib.term.URIRef('http://napdi.org/napdi_srs_imports:mitragyna_speciosa'), rdflib.term.URIRef('http://purl.obolibrary.org/obo/PO_0025131'), rdflib.term.URIRef('http://www.w3.org/2000/01/rdf-schema#subClassOf')), (rdflib.term.URIRef('http://purl.obolibrary.org/obo/PO_0025131'), rdflib.term.URIRef('http://purl.obolibrary.org/obo/NCBITaxon_33090'), rdflib.term.URIRef('http://purl.obolibrary.org/obo/RO_0002160')), (rdflib.term.URIRef('http://purl.obolibrary.org/obo/NCBITaxon_33090'), rdflib.term.URIRef('http://purl.obolibrary.org/obo/NCBITaxon_2759'), rdflib.term.URIRef('http://www.w3.org/2000/01/rdf-schema#subClassOf')), (rdflib.term.URIRef('http://purl.obolibrary.org/obo/NCBITaxon_2759'), rdflib.term.URIRef('http://purl.obolibrary.org/obo/OGG_1000002759'), rdflib.term.URIRef('http://purl.obolibrary.org/obo/BFO_0000051')), (rdflib.term.URIRef('http://purl.obolibrary.org/obo/OGG_1000002759'), rdflib.term.URIRef('http://purl.obolibrary.org/obo/OGG_2000002759'), rdflib.term.URIRef('http://purl.obolibrary.org/obo/BFO_0000051')), (rdflib.term.URIRef('http://purl.obolibrary.org/obo/OGG_2000002759'), rdflib.term.URIRef('http://purl.obolibrary.org/obo/OGG_0000000002'), rdflib.term.URIRef('http://www.w3.org/2000/01/rdf-schema#subClassOf')), (rdflib.term.URIRef('http://purl.obolibrary.org/obo/OGG_0000000002'), rdflib.term.URIRef('http://purl.obolibrary.org/obo/SO_0000704'), rdflib.term.URIRef('http://www.w3.org/2000/01/rdf-schema#subClassOf')), (rdflib.term.URIRef('http://purl.obolibrary.org/obo/SO_0000704'), rdflib.term.URIRef('http://purl.obolibrary.org/obo/CHEBI_131715'), rdflib.term.URIRef('http://purl.obolibrary.org/obo/RO_0002449')), (rdflib.term.URIRef('http://purl.obolibrary.org/obo/CHEBI_131715'), rdflib.term.URIRef('http://purl.obolibrary.org/obo/MONDO_0019111'), rdflib.term.URIRef('http://purl.obolibrary.org/obo/RO_0002448')), (rdflib.term.URIRef('http://purl.obolibrary.org/obo/MONDO_0019111'), rdflib.term.URIRef('http://purl.obolibrary.org/obo/HP_0001250'), rdflib.term.URIRef('http://purl.obolibrary.org/obo/RO_0002200'))]\n",
      "[(rdflib.term.URIRef('http://napdi.org/napdi_srs_imports:mitragyna_speciosa'), rdflib.term.URIRef('http://purl.obolibrary.org/obo/PO_0025131'), rdflib.term.URIRef('http://www.w3.org/2000/01/rdf-schema#subClassOf')), (rdflib.term.URIRef('http://purl.obolibrary.org/obo/PO_0025131'), rdflib.term.URIRef('http://purl.obolibrary.org/obo/NCBITaxon_33090'), rdflib.term.URIRef('http://purl.obolibrary.org/obo/RO_0002160')), (rdflib.term.URIRef('http://purl.obolibrary.org/obo/NCBITaxon_33090'), rdflib.term.URIRef('http://purl.obolibrary.org/obo/NCBITaxon_2759'), rdflib.term.URIRef('http://www.w3.org/2000/01/rdf-schema#subClassOf')), (rdflib.term.URIRef('http://purl.obolibrary.org/obo/NCBITaxon_2759'), rdflib.term.URIRef('http://purl.obolibrary.org/obo/OGG_1000002759'), rdflib.term.URIRef('http://purl.obolibrary.org/obo/BFO_0000051')), (rdflib.term.URIRef('http://purl.obolibrary.org/obo/OGG_1000002759'), rdflib.term.URIRef('http://purl.obolibrary.org/obo/OGG_2000002759'), rdflib.term.URIRef('http://purl.obolibrary.org/obo/BFO_0000051')), (rdflib.term.URIRef('http://purl.obolibrary.org/obo/OGG_2000002759'), rdflib.term.URIRef('http://purl.obolibrary.org/obo/OGG_0000000002'), rdflib.term.URIRef('http://www.w3.org/2000/01/rdf-schema#subClassOf')), (rdflib.term.URIRef('http://purl.obolibrary.org/obo/OGG_0000000002'), rdflib.term.URIRef('http://purl.obolibrary.org/obo/SO_0000704'), rdflib.term.URIRef('http://www.w3.org/2000/01/rdf-schema#subClassOf')), (rdflib.term.URIRef('http://purl.obolibrary.org/obo/SO_0000704'), rdflib.term.URIRef('http://purl.obolibrary.org/obo/CHEBI_131715'), rdflib.term.URIRef('http://purl.obolibrary.org/obo/RO_0002449')), (rdflib.term.URIRef('http://purl.obolibrary.org/obo/CHEBI_131715'), rdflib.term.URIRef('http://purl.obolibrary.org/obo/CHEBI_16480'), rdflib.term.URIRef('http://purl.obolibrary.org/obo/RO_0011009')), (rdflib.term.URIRef('http://purl.obolibrary.org/obo/CHEBI_16480'), rdflib.term.URIRef('http://purl.obolibrary.org/obo/HP_0001250'), rdflib.term.URIRef('http://purl.obolibrary.org/obo/RO_0002606'))]\n",
      "[(rdflib.term.URIRef('http://napdi.org/napdi_srs_imports:mitragyna_speciosa'), rdflib.term.URIRef('http://purl.obolibrary.org/obo/PO_0025131'), rdflib.term.URIRef('http://www.w3.org/2000/01/rdf-schema#subClassOf')), (rdflib.term.URIRef('http://purl.obolibrary.org/obo/PO_0025131'), rdflib.term.URIRef('http://purl.obolibrary.org/obo/NCBITaxon_33090'), rdflib.term.URIRef('http://purl.obolibrary.org/obo/RO_0002160')), (rdflib.term.URIRef('http://purl.obolibrary.org/obo/NCBITaxon_33090'), rdflib.term.URIRef('http://purl.obolibrary.org/obo/NCBITaxon_2759'), rdflib.term.URIRef('http://www.w3.org/2000/01/rdf-schema#subClassOf')), (rdflib.term.URIRef('http://purl.obolibrary.org/obo/NCBITaxon_2759'), rdflib.term.URIRef('http://purl.obolibrary.org/obo/OGG_1000002759'), rdflib.term.URIRef('http://purl.obolibrary.org/obo/BFO_0000051')), (rdflib.term.URIRef('http://purl.obolibrary.org/obo/OGG_1000002759'), rdflib.term.URIRef('http://purl.obolibrary.org/obo/OGG_2000002759'), rdflib.term.URIRef('http://purl.obolibrary.org/obo/BFO_0000051')), (rdflib.term.URIRef('http://purl.obolibrary.org/obo/OGG_2000002759'), rdflib.term.URIRef('http://purl.obolibrary.org/obo/OGG_0000000002'), rdflib.term.URIRef('http://www.w3.org/2000/01/rdf-schema#subClassOf')), (rdflib.term.URIRef('http://purl.obolibrary.org/obo/OGG_0000000002'), rdflib.term.URIRef('http://purl.obolibrary.org/obo/SO_0000704'), rdflib.term.URIRef('http://www.w3.org/2000/01/rdf-schema#subClassOf')), (rdflib.term.URIRef('http://purl.obolibrary.org/obo/SO_0000704'), rdflib.term.URIRef('http://purl.obolibrary.org/obo/CHEBI_131715'), rdflib.term.URIRef('http://purl.obolibrary.org/obo/RO_0002449')), (rdflib.term.URIRef('http://purl.obolibrary.org/obo/CHEBI_131715'), rdflib.term.URIRef('http://purl.obolibrary.org/obo/CHEBI_46195'), rdflib.term.URIRef('http://purl.obolibrary.org/obo/RO_0002434')), (rdflib.term.URIRef('http://purl.obolibrary.org/obo/CHEBI_46195'), rdflib.term.URIRef('http://purl.obolibrary.org/obo/HP_0001250'), rdflib.term.URIRef('http://purl.obolibrary.org/obo/RO_0002606'))]\n",
      "\n",
      "\n",
      "\n",
      "\n"
     ]
    }
   ],
   "source": [
    "for path in kpaths:\n",
    "    print('\\n'.join([str(x) for x in path]))\n",
    "    print('\\n\\n\\n')"
   ]
  },
  {
   "cell_type": "code",
   "execution_count": 239,
   "id": "74d1f212-f566-4f03-99c3-251555804c89",
   "metadata": {},
   "outputs": [
    {
     "name": "stdout",
     "output_type": "stream",
     "text": [
      "Searching for paths from http://napdi.org/napdi_srs_imports:mitragyna_speciosa - http://purl.obolibrary.org/obo/HP_0001250\n",
      "[info] applying next operator to search for a simple path of max length 20\n",
      "[info] Simple path found of length 20\n",
      "[info] Simple path length greater than shortest path length (3) so adding to results\n",
      "[info] applying next operator to search for a simple path of max length 20\n",
      "[info] Simple path found of length 20\n",
      "[info] Simple path length greater than shortest path length (3) so adding to results\n",
      "[info] applying next operator to search for a simple path of max length 20\n",
      "[info] Simple path found of length 20\n",
      "[info] Simple path length greater than shortest path length (3) so adding to results\n",
      "[info] applying next operator to search for a simple path of max length 20\n",
      "[info] Simple path found of length 20\n",
      "[info] Simple path length greater than shortest path length (3) so adding to results\n",
      "[info] applying next operator to search for a simple path of max length 20\n",
      "[info] Simple path found of length 20\n",
      "[info] Simple path length greater than shortest path length (3) so adding to results\n"
     ]
    }
   ],
   "source": [
    "kpaths = KG_path_searches.get_k_simple_paths(nx_graph, obodict['kratom'][0], seizure, 5, 20, 3)"
   ]
  },
  {
   "cell_type": "code",
   "execution_count": 240,
   "id": "23969d8b-afbe-418d-8922-e7e96bc36d44",
   "metadata": {},
   "outputs": [
    {
     "name": "stdout",
     "output_type": "stream",
     "text": [
      "[('Mitragyna_speciosa', 'subClassOf', 'plant anatomical entity'), ('plant anatomical entity', 'only in taxon', 'Viridiplantae'), ('Viridiplantae', 'subClassOf', 'Eukaryota'), ('Eukaryota', 'has_part', 'genome of Eukaryota'), ('genome of Eukaryota', 'has_part', 'gene of Eukaryota'), ('gene of Eukaryota', 'subClassOf', 'gene'), ('gene', 'subClassOf', 'gene'), ('gene', 'directly negatively regulates activity of', 'apoptotic process'), ('apoptotic process', 'directly negatively regulates activity of', 'BCL2_gene'), ('BCL2_gene', 'directly negatively regulates activity of', 'apoptosis regulator BAX (human)'), ('apoptosis regulator BAX (human)', '', 'Cytochromes_c'), ('Cytochromes_c', '', 'Cytochromes_c'), ('Cytochromes_c', 'directly negatively regulates activity of', '(-)-epigallocatechin 3-gallate'), ('(-)-epigallocatechin 3-gallate', '', 'NOS3_protein,_human'), ('NOS3_protein,_human', 'Phosphorylation', 'calmodulin'), ('calmodulin', 'Phosphorylation', 'photon'), ('photon', '', 'calcium ion'), ('calcium ion', '', 'phosphatidylinositol'), ('phosphatidylinositol', '', 'phosphatidylinositol'), ('phosphatidylinositol', 'is substance that treats', 'Seizure')]\n",
      "[('Mitragyna_speciosa', 'subClassOf', 'plant anatomical entity'), ('plant anatomical entity', 'only in taxon', 'Viridiplantae'), ('Viridiplantae', 'subClassOf', 'Eukaryota'), ('Eukaryota', 'has_part', 'genome of Eukaryota'), ('genome of Eukaryota', 'has_part', 'gene of Eukaryota'), ('gene of Eukaryota', 'subClassOf', 'gene'), ('gene', 'subClassOf', 'gene'), ('gene', 'directly negatively regulates activity of', 'apoptotic process'), ('apoptotic process', 'directly negatively regulates activity of', 'BCL2_gene'), ('BCL2_gene', 'directly negatively regulates activity of', 'apoptosis regulator BAX (human)'), ('apoptosis regulator BAX (human)', '', 'Cytochromes_c'), ('Cytochromes_c', '', 'Cytochromes_c'), ('Cytochromes_c', 'directly negatively regulates activity of', '(-)-epigallocatechin 3-gallate'), ('(-)-epigallocatechin 3-gallate', '', 'NOS3_protein,_human'), ('NOS3_protein,_human', 'Phosphorylation', 'calmodulin'), ('calmodulin', 'Phosphorylation', 'photon'), ('photon', '', 'calcium ion'), ('calcium ion', '', 'phosphatidylinositol'), ('phosphatidylinositol', '', 'phosphatidylinositol'), ('phosphatidylinositol', 'is substance that treats', 'Seizure')]\n",
      "[('Mitragyna_speciosa', 'subClassOf', 'plant anatomical entity'), ('plant anatomical entity', 'only in taxon', 'Viridiplantae'), ('Viridiplantae', 'subClassOf', 'Eukaryota'), ('Eukaryota', 'has_part', 'genome of Eukaryota'), ('genome of Eukaryota', 'has_part', 'gene of Eukaryota'), ('gene of Eukaryota', 'subClassOf', 'gene'), ('gene', 'subClassOf', 'gene'), ('gene', 'directly negatively regulates activity of', 'apoptotic process'), ('apoptotic process', 'directly negatively regulates activity of', 'BCL2_gene'), ('BCL2_gene', 'directly negatively regulates activity of', 'apoptosis regulator BAX (human)'), ('apoptosis regulator BAX (human)', '', 'Cytochromes_c'), ('Cytochromes_c', '', 'Cytochromes_c'), ('Cytochromes_c', 'directly negatively regulates activity of', '(-)-epigallocatechin 3-gallate'), ('(-)-epigallocatechin 3-gallate', '', 'NOS3_protein,_human'), ('NOS3_protein,_human', 'Phosphorylation', 'calmodulin'), ('calmodulin', 'Phosphorylation', 'photon'), ('photon', '', 'calcium ion'), ('calcium ion', '', 'phosphatidylinositol'), ('phosphatidylinositol', 'Phosphorylation', 'phosphatidylinositol'), ('phosphatidylinositol', 'is substance that treats', 'Seizure')]\n",
      "[('Mitragyna_speciosa', 'subClassOf', 'plant anatomical entity'), ('plant anatomical entity', 'only in taxon', 'Viridiplantae'), ('Viridiplantae', 'subClassOf', 'Eukaryota'), ('Eukaryota', 'has_part', 'genome of Eukaryota'), ('genome of Eukaryota', 'has_part', 'gene of Eukaryota'), ('gene of Eukaryota', 'subClassOf', 'gene'), ('gene', 'subClassOf', 'gene'), ('gene', 'directly negatively regulates activity of', 'apoptotic process'), ('apoptotic process', 'directly negatively regulates activity of', 'BCL2_gene'), ('BCL2_gene', 'directly negatively regulates activity of', 'apoptosis regulator BAX (human)'), ('apoptosis regulator BAX (human)', '', 'Cytochromes_c'), ('Cytochromes_c', '', 'Cytochromes_c'), ('Cytochromes_c', 'directly negatively regulates activity of', '(-)-epigallocatechin 3-gallate'), ('(-)-epigallocatechin 3-gallate', '', 'NOS3_protein,_human'), ('NOS3_protein,_human', 'Phosphorylation', 'calmodulin'), ('calmodulin', 'Phosphorylation', 'photon'), ('photon', '', 'calcium ion'), ('calcium ion', '', 'phosphatidylinositol'), ('phosphatidylinositol', '', 'phosphatidylinositol'), ('phosphatidylinositol', 'is substance that treats', 'Seizure')]\n",
      "[('Mitragyna_speciosa', 'subClassOf', 'plant anatomical entity'), ('plant anatomical entity', 'only in taxon', 'Viridiplantae'), ('Viridiplantae', 'subClassOf', 'Eukaryota'), ('Eukaryota', 'has_part', 'genome of Eukaryota'), ('genome of Eukaryota', 'has_part', 'gene of Eukaryota'), ('gene of Eukaryota', 'subClassOf', 'gene'), ('gene', 'subClassOf', 'gene'), ('gene', 'directly negatively regulates activity of', 'apoptotic process'), ('apoptotic process', 'directly negatively regulates activity of', 'BCL2_gene'), ('BCL2_gene', 'directly negatively regulates activity of', 'apoptosis regulator BAX (human)'), ('apoptosis regulator BAX (human)', '', 'Cytochromes_c'), ('Cytochromes_c', '', 'Cytochromes_c'), ('Cytochromes_c', 'directly negatively regulates activity of', '(-)-epigallocatechin 3-gallate'), ('(-)-epigallocatechin 3-gallate', '', 'NOS3_protein,_human'), ('NOS3_protein,_human', 'Phosphorylation', 'calmodulin'), ('calmodulin', 'Phosphorylation', 'photon'), ('photon', '', 'calcium ion'), ('calcium ion', '', 'phosphatidylinositol'), ('phosphatidylinositol', '', 'D-glucopyranose'), ('D-glucopyranose', 'is substance that treats', 'Seizure')]\n",
      "\n",
      "\n",
      "\n",
      "\n",
      "[(rdflib.term.URIRef('http://napdi.org/napdi_srs_imports:mitragyna_speciosa'), rdflib.term.URIRef('http://purl.obolibrary.org/obo/PO_0025131'), rdflib.term.URIRef('http://www.w3.org/2000/01/rdf-schema#subClassOf')), (rdflib.term.URIRef('http://purl.obolibrary.org/obo/PO_0025131'), rdflib.term.URIRef('http://purl.obolibrary.org/obo/NCBITaxon_33090'), rdflib.term.URIRef('http://purl.obolibrary.org/obo/RO_0002160')), (rdflib.term.URIRef('http://purl.obolibrary.org/obo/NCBITaxon_33090'), rdflib.term.URIRef('http://purl.obolibrary.org/obo/NCBITaxon_2759'), rdflib.term.URIRef('http://www.w3.org/2000/01/rdf-schema#subClassOf')), (rdflib.term.URIRef('http://purl.obolibrary.org/obo/NCBITaxon_2759'), rdflib.term.URIRef('http://purl.obolibrary.org/obo/OGG_1000002759'), rdflib.term.URIRef('http://purl.obolibrary.org/obo/BFO_0000051')), (rdflib.term.URIRef('http://purl.obolibrary.org/obo/OGG_1000002759'), rdflib.term.URIRef('http://purl.obolibrary.org/obo/OGG_2000002759'), rdflib.term.URIRef('http://purl.obolibrary.org/obo/BFO_0000051')), (rdflib.term.URIRef('http://purl.obolibrary.org/obo/OGG_2000002759'), rdflib.term.URIRef('http://purl.obolibrary.org/obo/OGG_0000000002'), rdflib.term.URIRef('http://www.w3.org/2000/01/rdf-schema#subClassOf')), (rdflib.term.URIRef('http://purl.obolibrary.org/obo/OGG_0000000002'), rdflib.term.URIRef('http://purl.obolibrary.org/obo/SO_0000704'), rdflib.term.URIRef('http://www.w3.org/2000/01/rdf-schema#subClassOf')), (rdflib.term.URIRef('http://purl.obolibrary.org/obo/SO_0000704'), rdflib.term.URIRef('http://purl.obolibrary.org/obo/GO_0006915'), rdflib.term.URIRef('http://purl.obolibrary.org/obo/RO_0002449')), (rdflib.term.URIRef('http://purl.obolibrary.org/obo/GO_0006915'), rdflib.term.URIRef('http://purl.obolibrary.org/obo/PR_P49950'), rdflib.term.URIRef('http://purl.obolibrary.org/obo/RO_0002449')), (rdflib.term.URIRef('http://purl.obolibrary.org/obo/PR_P49950'), rdflib.term.URIRef('http://purl.obolibrary.org/obo/PR_Q07812'), rdflib.term.URIRef('http://purl.obolibrary.org/obo/RO_0002449')), (rdflib.term.URIRef('http://purl.obolibrary.org/obo/PR_Q07812'), rdflib.term.URIRef('http://purl.obolibrary.org/obo/GO_0045155'), rdflib.term.URIRef('http://purl.obolibrary.org/obo/RO_0011010')), (rdflib.term.URIRef('http://purl.obolibrary.org/obo/GO_0045155'), rdflib.term.URIRef('http://purl.obolibrary.org/obo/GO_0045155'), rdflib.term.URIRef('http://purl.obolibrary.org/obo/RO_0002448')), (rdflib.term.URIRef('http://purl.obolibrary.org/obo/GO_0045155'), rdflib.term.URIRef('http://purl.obolibrary.org/obo/CHEBI_4806'), rdflib.term.URIRef('http://purl.obolibrary.org/obo/RO_0002449')), (rdflib.term.URIRef('http://purl.obolibrary.org/obo/CHEBI_4806'), rdflib.term.URIRef('http://purl.obolibrary.org/obo/PR_Q62600'), rdflib.term.URIRef('http://purl.obolibrary.org/obo/RO_0011009')), (rdflib.term.URIRef('http://purl.obolibrary.org/obo/PR_Q62600'), rdflib.term.URIRef('http://purl.obolibrary.org/obo/PR_000004978'), rdflib.term.URIRef('http://purl.obolibrary.org/obo/RO_0002447')), (rdflib.term.URIRef('http://purl.obolibrary.org/obo/PR_000004978'), rdflib.term.URIRef('http://purl.obolibrary.org/obo/CHEBI_30212'), rdflib.term.URIRef('http://purl.obolibrary.org/obo/RO_0002447')), (rdflib.term.URIRef('http://purl.obolibrary.org/obo/CHEBI_30212'), rdflib.term.URIRef('http://purl.obolibrary.org/obo/CHEBI_39124'), rdflib.term.URIRef('http://purl.obolibrary.org/obo/RO_0002448')), (rdflib.term.URIRef('http://purl.obolibrary.org/obo/CHEBI_39124'), rdflib.term.URIRef('http://purl.obolibrary.org/obo/CHEBI_28874'), rdflib.term.URIRef('http://purl.obolibrary.org/obo/RO_0002448')), (rdflib.term.URIRef('http://purl.obolibrary.org/obo/CHEBI_28874'), rdflib.term.URIRef('http://purl.obolibrary.org/obo/CHEBI_28874'), rdflib.term.URIRef('http://purl.obolibrary.org/obo/RO_0002448')), (rdflib.term.URIRef('http://purl.obolibrary.org/obo/CHEBI_28874'), rdflib.term.URIRef('http://purl.obolibrary.org/obo/HP_0001250'), rdflib.term.URIRef('http://purl.obolibrary.org/obo/RO_0002606'))]\n",
      "[(rdflib.term.URIRef('http://napdi.org/napdi_srs_imports:mitragyna_speciosa'), rdflib.term.URIRef('http://purl.obolibrary.org/obo/PO_0025131'), rdflib.term.URIRef('http://www.w3.org/2000/01/rdf-schema#subClassOf')), (rdflib.term.URIRef('http://purl.obolibrary.org/obo/PO_0025131'), rdflib.term.URIRef('http://purl.obolibrary.org/obo/NCBITaxon_33090'), rdflib.term.URIRef('http://purl.obolibrary.org/obo/RO_0002160')), (rdflib.term.URIRef('http://purl.obolibrary.org/obo/NCBITaxon_33090'), rdflib.term.URIRef('http://purl.obolibrary.org/obo/NCBITaxon_2759'), rdflib.term.URIRef('http://www.w3.org/2000/01/rdf-schema#subClassOf')), (rdflib.term.URIRef('http://purl.obolibrary.org/obo/NCBITaxon_2759'), rdflib.term.URIRef('http://purl.obolibrary.org/obo/OGG_1000002759'), rdflib.term.URIRef('http://purl.obolibrary.org/obo/BFO_0000051')), (rdflib.term.URIRef('http://purl.obolibrary.org/obo/OGG_1000002759'), rdflib.term.URIRef('http://purl.obolibrary.org/obo/OGG_2000002759'), rdflib.term.URIRef('http://purl.obolibrary.org/obo/BFO_0000051')), (rdflib.term.URIRef('http://purl.obolibrary.org/obo/OGG_2000002759'), rdflib.term.URIRef('http://purl.obolibrary.org/obo/OGG_0000000002'), rdflib.term.URIRef('http://www.w3.org/2000/01/rdf-schema#subClassOf')), (rdflib.term.URIRef('http://purl.obolibrary.org/obo/OGG_0000000002'), rdflib.term.URIRef('http://purl.obolibrary.org/obo/SO_0000704'), rdflib.term.URIRef('http://www.w3.org/2000/01/rdf-schema#subClassOf')), (rdflib.term.URIRef('http://purl.obolibrary.org/obo/SO_0000704'), rdflib.term.URIRef('http://purl.obolibrary.org/obo/GO_0006915'), rdflib.term.URIRef('http://purl.obolibrary.org/obo/RO_0002449')), (rdflib.term.URIRef('http://purl.obolibrary.org/obo/GO_0006915'), rdflib.term.URIRef('http://purl.obolibrary.org/obo/PR_P49950'), rdflib.term.URIRef('http://purl.obolibrary.org/obo/RO_0002449')), (rdflib.term.URIRef('http://purl.obolibrary.org/obo/PR_P49950'), rdflib.term.URIRef('http://purl.obolibrary.org/obo/PR_Q07812'), rdflib.term.URIRef('http://purl.obolibrary.org/obo/RO_0002449')), (rdflib.term.URIRef('http://purl.obolibrary.org/obo/PR_Q07812'), rdflib.term.URIRef('http://purl.obolibrary.org/obo/GO_0045155'), rdflib.term.URIRef('http://purl.obolibrary.org/obo/RO_0011010')), (rdflib.term.URIRef('http://purl.obolibrary.org/obo/GO_0045155'), rdflib.term.URIRef('http://purl.obolibrary.org/obo/GO_0045155'), rdflib.term.URIRef('http://purl.obolibrary.org/obo/RO_0002448')), (rdflib.term.URIRef('http://purl.obolibrary.org/obo/GO_0045155'), rdflib.term.URIRef('http://purl.obolibrary.org/obo/CHEBI_4806'), rdflib.term.URIRef('http://purl.obolibrary.org/obo/RO_0002449')), (rdflib.term.URIRef('http://purl.obolibrary.org/obo/CHEBI_4806'), rdflib.term.URIRef('http://purl.obolibrary.org/obo/PR_Q62600'), rdflib.term.URIRef('http://purl.obolibrary.org/obo/RO_0011009')), (rdflib.term.URIRef('http://purl.obolibrary.org/obo/PR_Q62600'), rdflib.term.URIRef('http://purl.obolibrary.org/obo/PR_000004978'), rdflib.term.URIRef('http://purl.obolibrary.org/obo/RO_0002447')), (rdflib.term.URIRef('http://purl.obolibrary.org/obo/PR_000004978'), rdflib.term.URIRef('http://purl.obolibrary.org/obo/CHEBI_30212'), rdflib.term.URIRef('http://purl.obolibrary.org/obo/RO_0002447')), (rdflib.term.URIRef('http://purl.obolibrary.org/obo/CHEBI_30212'), rdflib.term.URIRef('http://purl.obolibrary.org/obo/CHEBI_39124'), rdflib.term.URIRef('http://purl.obolibrary.org/obo/RO_0002448')), (rdflib.term.URIRef('http://purl.obolibrary.org/obo/CHEBI_39124'), rdflib.term.URIRef('http://purl.obolibrary.org/obo/CHEBI_28874'), rdflib.term.URIRef('http://purl.obolibrary.org/obo/RO_0002448')), (rdflib.term.URIRef('http://purl.obolibrary.org/obo/CHEBI_28874'), rdflib.term.URIRef('http://purl.obolibrary.org/obo/CHEBI_28874'), rdflib.term.URIRef('http://purl.obolibrary.org/obo/RO_0011009')), (rdflib.term.URIRef('http://purl.obolibrary.org/obo/CHEBI_28874'), rdflib.term.URIRef('http://purl.obolibrary.org/obo/HP_0001250'), rdflib.term.URIRef('http://purl.obolibrary.org/obo/RO_0002606'))]\n",
      "[(rdflib.term.URIRef('http://napdi.org/napdi_srs_imports:mitragyna_speciosa'), rdflib.term.URIRef('http://purl.obolibrary.org/obo/PO_0025131'), rdflib.term.URIRef('http://www.w3.org/2000/01/rdf-schema#subClassOf')), (rdflib.term.URIRef('http://purl.obolibrary.org/obo/PO_0025131'), rdflib.term.URIRef('http://purl.obolibrary.org/obo/NCBITaxon_33090'), rdflib.term.URIRef('http://purl.obolibrary.org/obo/RO_0002160')), (rdflib.term.URIRef('http://purl.obolibrary.org/obo/NCBITaxon_33090'), rdflib.term.URIRef('http://purl.obolibrary.org/obo/NCBITaxon_2759'), rdflib.term.URIRef('http://www.w3.org/2000/01/rdf-schema#subClassOf')), (rdflib.term.URIRef('http://purl.obolibrary.org/obo/NCBITaxon_2759'), rdflib.term.URIRef('http://purl.obolibrary.org/obo/OGG_1000002759'), rdflib.term.URIRef('http://purl.obolibrary.org/obo/BFO_0000051')), (rdflib.term.URIRef('http://purl.obolibrary.org/obo/OGG_1000002759'), rdflib.term.URIRef('http://purl.obolibrary.org/obo/OGG_2000002759'), rdflib.term.URIRef('http://purl.obolibrary.org/obo/BFO_0000051')), (rdflib.term.URIRef('http://purl.obolibrary.org/obo/OGG_2000002759'), rdflib.term.URIRef('http://purl.obolibrary.org/obo/OGG_0000000002'), rdflib.term.URIRef('http://www.w3.org/2000/01/rdf-schema#subClassOf')), (rdflib.term.URIRef('http://purl.obolibrary.org/obo/OGG_0000000002'), rdflib.term.URIRef('http://purl.obolibrary.org/obo/SO_0000704'), rdflib.term.URIRef('http://www.w3.org/2000/01/rdf-schema#subClassOf')), (rdflib.term.URIRef('http://purl.obolibrary.org/obo/SO_0000704'), rdflib.term.URIRef('http://purl.obolibrary.org/obo/GO_0006915'), rdflib.term.URIRef('http://purl.obolibrary.org/obo/RO_0002449')), (rdflib.term.URIRef('http://purl.obolibrary.org/obo/GO_0006915'), rdflib.term.URIRef('http://purl.obolibrary.org/obo/PR_P49950'), rdflib.term.URIRef('http://purl.obolibrary.org/obo/RO_0002449')), (rdflib.term.URIRef('http://purl.obolibrary.org/obo/PR_P49950'), rdflib.term.URIRef('http://purl.obolibrary.org/obo/PR_Q07812'), rdflib.term.URIRef('http://purl.obolibrary.org/obo/RO_0002449')), (rdflib.term.URIRef('http://purl.obolibrary.org/obo/PR_Q07812'), rdflib.term.URIRef('http://purl.obolibrary.org/obo/GO_0045155'), rdflib.term.URIRef('http://purl.obolibrary.org/obo/RO_0011010')), (rdflib.term.URIRef('http://purl.obolibrary.org/obo/GO_0045155'), rdflib.term.URIRef('http://purl.obolibrary.org/obo/GO_0045155'), rdflib.term.URIRef('http://purl.obolibrary.org/obo/RO_0002448')), (rdflib.term.URIRef('http://purl.obolibrary.org/obo/GO_0045155'), rdflib.term.URIRef('http://purl.obolibrary.org/obo/CHEBI_4806'), rdflib.term.URIRef('http://purl.obolibrary.org/obo/RO_0002449')), (rdflib.term.URIRef('http://purl.obolibrary.org/obo/CHEBI_4806'), rdflib.term.URIRef('http://purl.obolibrary.org/obo/PR_Q62600'), rdflib.term.URIRef('http://purl.obolibrary.org/obo/RO_0011009')), (rdflib.term.URIRef('http://purl.obolibrary.org/obo/PR_Q62600'), rdflib.term.URIRef('http://purl.obolibrary.org/obo/PR_000004978'), rdflib.term.URIRef('http://purl.obolibrary.org/obo/RO_0002447')), (rdflib.term.URIRef('http://purl.obolibrary.org/obo/PR_000004978'), rdflib.term.URIRef('http://purl.obolibrary.org/obo/CHEBI_30212'), rdflib.term.URIRef('http://purl.obolibrary.org/obo/RO_0002447')), (rdflib.term.URIRef('http://purl.obolibrary.org/obo/CHEBI_30212'), rdflib.term.URIRef('http://purl.obolibrary.org/obo/CHEBI_39124'), rdflib.term.URIRef('http://purl.obolibrary.org/obo/RO_0002448')), (rdflib.term.URIRef('http://purl.obolibrary.org/obo/CHEBI_39124'), rdflib.term.URIRef('http://purl.obolibrary.org/obo/CHEBI_28874'), rdflib.term.URIRef('http://purl.obolibrary.org/obo/RO_0002448')), (rdflib.term.URIRef('http://purl.obolibrary.org/obo/CHEBI_28874'), rdflib.term.URIRef('http://purl.obolibrary.org/obo/CHEBI_28874'), rdflib.term.URIRef('http://purl.obolibrary.org/obo/RO_0002447')), (rdflib.term.URIRef('http://purl.obolibrary.org/obo/CHEBI_28874'), rdflib.term.URIRef('http://purl.obolibrary.org/obo/HP_0001250'), rdflib.term.URIRef('http://purl.obolibrary.org/obo/RO_0002606'))]\n",
      "[(rdflib.term.URIRef('http://napdi.org/napdi_srs_imports:mitragyna_speciosa'), rdflib.term.URIRef('http://purl.obolibrary.org/obo/PO_0025131'), rdflib.term.URIRef('http://www.w3.org/2000/01/rdf-schema#subClassOf')), (rdflib.term.URIRef('http://purl.obolibrary.org/obo/PO_0025131'), rdflib.term.URIRef('http://purl.obolibrary.org/obo/NCBITaxon_33090'), rdflib.term.URIRef('http://purl.obolibrary.org/obo/RO_0002160')), (rdflib.term.URIRef('http://purl.obolibrary.org/obo/NCBITaxon_33090'), rdflib.term.URIRef('http://purl.obolibrary.org/obo/NCBITaxon_2759'), rdflib.term.URIRef('http://www.w3.org/2000/01/rdf-schema#subClassOf')), (rdflib.term.URIRef('http://purl.obolibrary.org/obo/NCBITaxon_2759'), rdflib.term.URIRef('http://purl.obolibrary.org/obo/OGG_1000002759'), rdflib.term.URIRef('http://purl.obolibrary.org/obo/BFO_0000051')), (rdflib.term.URIRef('http://purl.obolibrary.org/obo/OGG_1000002759'), rdflib.term.URIRef('http://purl.obolibrary.org/obo/OGG_2000002759'), rdflib.term.URIRef('http://purl.obolibrary.org/obo/BFO_0000051')), (rdflib.term.URIRef('http://purl.obolibrary.org/obo/OGG_2000002759'), rdflib.term.URIRef('http://purl.obolibrary.org/obo/OGG_0000000002'), rdflib.term.URIRef('http://www.w3.org/2000/01/rdf-schema#subClassOf')), (rdflib.term.URIRef('http://purl.obolibrary.org/obo/OGG_0000000002'), rdflib.term.URIRef('http://purl.obolibrary.org/obo/SO_0000704'), rdflib.term.URIRef('http://www.w3.org/2000/01/rdf-schema#subClassOf')), (rdflib.term.URIRef('http://purl.obolibrary.org/obo/SO_0000704'), rdflib.term.URIRef('http://purl.obolibrary.org/obo/GO_0006915'), rdflib.term.URIRef('http://purl.obolibrary.org/obo/RO_0002449')), (rdflib.term.URIRef('http://purl.obolibrary.org/obo/GO_0006915'), rdflib.term.URIRef('http://purl.obolibrary.org/obo/PR_P49950'), rdflib.term.URIRef('http://purl.obolibrary.org/obo/RO_0002449')), (rdflib.term.URIRef('http://purl.obolibrary.org/obo/PR_P49950'), rdflib.term.URIRef('http://purl.obolibrary.org/obo/PR_Q07812'), rdflib.term.URIRef('http://purl.obolibrary.org/obo/RO_0002449')), (rdflib.term.URIRef('http://purl.obolibrary.org/obo/PR_Q07812'), rdflib.term.URIRef('http://purl.obolibrary.org/obo/GO_0045155'), rdflib.term.URIRef('http://purl.obolibrary.org/obo/RO_0011010')), (rdflib.term.URIRef('http://purl.obolibrary.org/obo/GO_0045155'), rdflib.term.URIRef('http://purl.obolibrary.org/obo/GO_0045155'), rdflib.term.URIRef('http://purl.obolibrary.org/obo/RO_0002448')), (rdflib.term.URIRef('http://purl.obolibrary.org/obo/GO_0045155'), rdflib.term.URIRef('http://purl.obolibrary.org/obo/CHEBI_4806'), rdflib.term.URIRef('http://purl.obolibrary.org/obo/RO_0002449')), (rdflib.term.URIRef('http://purl.obolibrary.org/obo/CHEBI_4806'), rdflib.term.URIRef('http://purl.obolibrary.org/obo/PR_Q62600'), rdflib.term.URIRef('http://purl.obolibrary.org/obo/RO_0011009')), (rdflib.term.URIRef('http://purl.obolibrary.org/obo/PR_Q62600'), rdflib.term.URIRef('http://purl.obolibrary.org/obo/PR_000004978'), rdflib.term.URIRef('http://purl.obolibrary.org/obo/RO_0002447')), (rdflib.term.URIRef('http://purl.obolibrary.org/obo/PR_000004978'), rdflib.term.URIRef('http://purl.obolibrary.org/obo/CHEBI_30212'), rdflib.term.URIRef('http://purl.obolibrary.org/obo/RO_0002447')), (rdflib.term.URIRef('http://purl.obolibrary.org/obo/CHEBI_30212'), rdflib.term.URIRef('http://purl.obolibrary.org/obo/CHEBI_39124'), rdflib.term.URIRef('http://purl.obolibrary.org/obo/RO_0002448')), (rdflib.term.URIRef('http://purl.obolibrary.org/obo/CHEBI_39124'), rdflib.term.URIRef('http://purl.obolibrary.org/obo/CHEBI_28874'), rdflib.term.URIRef('http://purl.obolibrary.org/obo/RO_0002448')), (rdflib.term.URIRef('http://purl.obolibrary.org/obo/CHEBI_28874'), rdflib.term.URIRef('http://purl.obolibrary.org/obo/CHEBI_28874'), rdflib.term.URIRef('http://purl.obolibrary.org/obo/RO_0011010')), (rdflib.term.URIRef('http://purl.obolibrary.org/obo/CHEBI_28874'), rdflib.term.URIRef('http://purl.obolibrary.org/obo/HP_0001250'), rdflib.term.URIRef('http://purl.obolibrary.org/obo/RO_0002606'))]\n",
      "[(rdflib.term.URIRef('http://napdi.org/napdi_srs_imports:mitragyna_speciosa'), rdflib.term.URIRef('http://purl.obolibrary.org/obo/PO_0025131'), rdflib.term.URIRef('http://www.w3.org/2000/01/rdf-schema#subClassOf')), (rdflib.term.URIRef('http://purl.obolibrary.org/obo/PO_0025131'), rdflib.term.URIRef('http://purl.obolibrary.org/obo/NCBITaxon_33090'), rdflib.term.URIRef('http://purl.obolibrary.org/obo/RO_0002160')), (rdflib.term.URIRef('http://purl.obolibrary.org/obo/NCBITaxon_33090'), rdflib.term.URIRef('http://purl.obolibrary.org/obo/NCBITaxon_2759'), rdflib.term.URIRef('http://www.w3.org/2000/01/rdf-schema#subClassOf')), (rdflib.term.URIRef('http://purl.obolibrary.org/obo/NCBITaxon_2759'), rdflib.term.URIRef('http://purl.obolibrary.org/obo/OGG_1000002759'), rdflib.term.URIRef('http://purl.obolibrary.org/obo/BFO_0000051')), (rdflib.term.URIRef('http://purl.obolibrary.org/obo/OGG_1000002759'), rdflib.term.URIRef('http://purl.obolibrary.org/obo/OGG_2000002759'), rdflib.term.URIRef('http://purl.obolibrary.org/obo/BFO_0000051')), (rdflib.term.URIRef('http://purl.obolibrary.org/obo/OGG_2000002759'), rdflib.term.URIRef('http://purl.obolibrary.org/obo/OGG_0000000002'), rdflib.term.URIRef('http://www.w3.org/2000/01/rdf-schema#subClassOf')), (rdflib.term.URIRef('http://purl.obolibrary.org/obo/OGG_0000000002'), rdflib.term.URIRef('http://purl.obolibrary.org/obo/SO_0000704'), rdflib.term.URIRef('http://www.w3.org/2000/01/rdf-schema#subClassOf')), (rdflib.term.URIRef('http://purl.obolibrary.org/obo/SO_0000704'), rdflib.term.URIRef('http://purl.obolibrary.org/obo/GO_0006915'), rdflib.term.URIRef('http://purl.obolibrary.org/obo/RO_0002449')), (rdflib.term.URIRef('http://purl.obolibrary.org/obo/GO_0006915'), rdflib.term.URIRef('http://purl.obolibrary.org/obo/PR_P49950'), rdflib.term.URIRef('http://purl.obolibrary.org/obo/RO_0002449')), (rdflib.term.URIRef('http://purl.obolibrary.org/obo/PR_P49950'), rdflib.term.URIRef('http://purl.obolibrary.org/obo/PR_Q07812'), rdflib.term.URIRef('http://purl.obolibrary.org/obo/RO_0002449')), (rdflib.term.URIRef('http://purl.obolibrary.org/obo/PR_Q07812'), rdflib.term.URIRef('http://purl.obolibrary.org/obo/GO_0045155'), rdflib.term.URIRef('http://purl.obolibrary.org/obo/RO_0011010')), (rdflib.term.URIRef('http://purl.obolibrary.org/obo/GO_0045155'), rdflib.term.URIRef('http://purl.obolibrary.org/obo/GO_0045155'), rdflib.term.URIRef('http://purl.obolibrary.org/obo/RO_0002448')), (rdflib.term.URIRef('http://purl.obolibrary.org/obo/GO_0045155'), rdflib.term.URIRef('http://purl.obolibrary.org/obo/CHEBI_4806'), rdflib.term.URIRef('http://purl.obolibrary.org/obo/RO_0002449')), (rdflib.term.URIRef('http://purl.obolibrary.org/obo/CHEBI_4806'), rdflib.term.URIRef('http://purl.obolibrary.org/obo/PR_Q62600'), rdflib.term.URIRef('http://purl.obolibrary.org/obo/RO_0011009')), (rdflib.term.URIRef('http://purl.obolibrary.org/obo/PR_Q62600'), rdflib.term.URIRef('http://purl.obolibrary.org/obo/PR_000004978'), rdflib.term.URIRef('http://purl.obolibrary.org/obo/RO_0002447')), (rdflib.term.URIRef('http://purl.obolibrary.org/obo/PR_000004978'), rdflib.term.URIRef('http://purl.obolibrary.org/obo/CHEBI_30212'), rdflib.term.URIRef('http://purl.obolibrary.org/obo/RO_0002447')), (rdflib.term.URIRef('http://purl.obolibrary.org/obo/CHEBI_30212'), rdflib.term.URIRef('http://purl.obolibrary.org/obo/CHEBI_39124'), rdflib.term.URIRef('http://purl.obolibrary.org/obo/RO_0002448')), (rdflib.term.URIRef('http://purl.obolibrary.org/obo/CHEBI_39124'), rdflib.term.URIRef('http://purl.obolibrary.org/obo/CHEBI_28874'), rdflib.term.URIRef('http://purl.obolibrary.org/obo/RO_0002448')), (rdflib.term.URIRef('http://purl.obolibrary.org/obo/CHEBI_28874'), rdflib.term.URIRef('http://purl.obolibrary.org/obo/CHEBI_4167'), rdflib.term.URIRef('http://purl.obolibrary.org/obo/RO_0011009')), (rdflib.term.URIRef('http://purl.obolibrary.org/obo/CHEBI_4167'), rdflib.term.URIRef('http://purl.obolibrary.org/obo/HP_0001250'), rdflib.term.URIRef('http://purl.obolibrary.org/obo/RO_0002606'))]\n",
      "\n",
      "\n",
      "\n",
      "\n"
     ]
    }
   ],
   "source": [
    "for path in kpaths:\n",
    "    print('\\n'.join([str(x) for x in path]))\n",
    "    print('\\n\\n\\n')"
   ]
  },
  {
   "cell_type": "code",
   "execution_count": null,
   "id": "c2da4085-d5df-43b1-bf60-ea233aac7b26",
   "metadata": {},
   "outputs": [],
   "source": []
  },
  {
   "cell_type": "markdown",
   "id": "29a72487-0ad9-4fde-a7b7-38458298f103",
   "metadata": {},
   "source": [
    "## Reweighting the KG"
   ]
  },
  {
   "cell_type": "markdown",
   "id": "3045ea40-a1a4-48dc-8af2-13d5701bded9",
   "metadata": {},
   "source": [
    "1. Fix subclassof chemical entity\n",
    "2. maybe downweight subclassof\n",
    "3. use belief scores of MR to weight?\n",
    "4. centrality measures - node degree centrality\n",
    "5. Fix mapping to TEA in REACH/SemRep (maps to triethylamine CHEBI_35026)"
   ]
  },
  {
   "cell_type": "code",
   "execution_count": null,
   "id": "ac417be8-be75-444e-acd3-d241e4be242c",
   "metadata": {},
   "outputs": [],
   "source": [
    "#INDRA pathfinding module also searches in nx multidigraph \n",
    "#https://indra.readthedocs.io/en/latest/modules/explanation/pathfinding.html\n",
    "#uses belief in metadata (I think)"
   ]
  }
 ],
 "metadata": {
  "kernelspec": {
   "display_name": "Python 3",
   "language": "python",
   "name": "python3"
  },
  "language_info": {
   "codemirror_mode": {
    "name": "ipython",
    "version": 3
   },
   "file_extension": ".py",
   "mimetype": "text/x-python",
   "name": "python",
   "nbconvert_exporter": "python",
   "pygments_lexer": "ipython3",
   "version": "3.6.13"
  }
 },
 "nbformat": 4,
 "nbformat_minor": 5
}
