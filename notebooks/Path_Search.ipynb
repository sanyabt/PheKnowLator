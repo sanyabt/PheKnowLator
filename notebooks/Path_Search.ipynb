{
 "cells": [
  {
   "cell_type": "markdown",
   "id": "296024c6-eb00-48f9-8508-17952a7c431e",
   "metadata": {},
   "source": [
    "## Notebook to implement path searches in graph with -\n",
    "1. Networkx algorithms\n",
    "2. Discovery patterns\n",
    "3. SPARQL queries\n",
    "\n",
    "* Author: Sanya B Taneja\n",
    "* Created: 2021-09-24\n",
    "* Last edited: 2021-09-24"
   ]
  },
  {
   "cell_type": "code",
   "execution_count": 1,
   "id": "2fd2e387-eb09-4c59-9812-249446b5a028",
   "metadata": {},
   "outputs": [],
   "source": [
    "import os\n",
    "import os.path\n",
    "import networkx as nx\n",
    "import json\n",
    "import urllib\n",
    "import traceback\n",
    "from itertools import islice\n",
    "from rdflib import Graph, URIRef, BNode, Namespace, Literal\n",
    "from rdflib.namespace import RDF, OWL\n",
    "from tqdm import tqdm\n",
    "import json"
   ]
  },
  {
   "cell_type": "code",
   "execution_count": 2,
   "id": "0ff6ba47-d078-45b3-8993-7c6adcd8d5c3",
   "metadata": {},
   "outputs": [],
   "source": [
    "import pickle\n",
    "import pandas as pd\n",
    "import numpy as np"
   ]
  },
  {
   "cell_type": "code",
   "execution_count": 3,
   "id": "4f1d65a4-5e39-430b-85a2-0e3263711736",
   "metadata": {},
   "outputs": [],
   "source": [
    "#import pheknowlator kg_utils \n",
    "import sys\n",
    "sys.path.append('../')\n",
    "from pkt_kg.utils import *"
   ]
  },
  {
   "cell_type": "code",
   "execution_count": 4,
   "id": "dd17c6ad-4e4d-4380-a9f4-c2049a2fefb7",
   "metadata": {},
   "outputs": [],
   "source": [
    "KG_PATH = '/home/sanya/PheKnowLator/resources/knowledge_graphs/'\n",
    "MR_PATH = '/home/sanya/PheKnowLator/machine_read/'\n",
    "KG_NAME = 'PheKnowLator_v2.1.0_full_instance_inverseRelations_OWLNETS_NetworkxMultiDiGraph.gpickle'\n",
    "#MR_GRAPH_NAME = 'machineread_greentea_version1.gpickle'\n",
    "MR_GRAPH_NAME = 'machineread_greentea_version1_belief.gpickle'\n",
    "NodeLabelsFilePL = 'PheKnowLator_v2.1.0_full_instance_inverseRelations_OWLNETS_NodeLabels.txt'\n",
    "NodeLabelsFileMR = 'machineread_greentea_version1_NodeLabels.tsv'"
   ]
  },
  {
   "cell_type": "code",
   "execution_count": 5,
   "id": "84a0202f-10bc-42c2-85dc-5d149d49f822",
   "metadata": {},
   "outputs": [
    {
     "name": "stderr",
     "output_type": "stream",
     "text": [
      "/home/sanya/.conda/envs/sanya_kg/lib/python3.6/site-packages/IPython/core/interactiveshell.py:3072: DtypeWarning: Columns (1) have mixed types.Specify dtype option on import or set low_memory=False.\n",
      "  interactivity=interactivity, compiler=compiler, result=result)\n"
     ]
    }
   ],
   "source": [
    "#create dictionary for node labels from node labels files\n",
    "df1 = pd.read_csv(KG_PATH+NodeLabelsFilePL, sep='\\t')\n",
    "df2 = pd.read_csv(MR_PATH+NodeLabelsFileMR, sep='\\t')"
   ]
  },
  {
   "cell_type": "code",
   "execution_count": 6,
   "id": "b4784b9f-2591-4994-a413-f8a68e1cb2cd",
   "metadata": {},
   "outputs": [
    {
     "data": {
      "text/html": [
       "<div>\n",
       "<style scoped>\n",
       "    .dataframe tbody tr th:only-of-type {\n",
       "        vertical-align: middle;\n",
       "    }\n",
       "\n",
       "    .dataframe tbody tr th {\n",
       "        vertical-align: top;\n",
       "    }\n",
       "\n",
       "    .dataframe thead th {\n",
       "        text-align: right;\n",
       "    }\n",
       "</style>\n",
       "<table border=\"1\" class=\"dataframe\">\n",
       "  <thead>\n",
       "    <tr style=\"text-align: right;\">\n",
       "      <th></th>\n",
       "      <th>entity_type</th>\n",
       "      <th>integer_id</th>\n",
       "      <th>entity_uri</th>\n",
       "      <th>label</th>\n",
       "      <th>description/definition</th>\n",
       "      <th>synonym</th>\n",
       "    </tr>\n",
       "  </thead>\n",
       "  <tbody>\n",
       "    <tr>\n",
       "      <th>0</th>\n",
       "      <td>NODES</td>\n",
       "      <td>9921</td>\n",
       "      <td>&lt;http://purl.obolibrary.org/obo/PR_Q96BF3&gt;</td>\n",
       "      <td>transmembrane and immunoglobulin domain-contai...</td>\n",
       "      <td>A transmembrane and immunoglobulin domain-cont...</td>\n",
       "      <td>immunoglobulin and proline-rich receptor 1 (hu...</td>\n",
       "    </tr>\n",
       "    <tr>\n",
       "      <th>1</th>\n",
       "      <td>NODES</td>\n",
       "      <td>508494</td>\n",
       "      <td>&lt;http://purl.obolibrary.org/obo/PR_P56177-1&gt;</td>\n",
       "      <td>homeobox protein DLX-1 isoform 1 (human)</td>\n",
       "      <td>A homeobox protein DLX-1 isoform 1 that is enc...</td>\n",
       "      <td>hDLX1/iso:1</td>\n",
       "    </tr>\n",
       "    <tr>\n",
       "      <th>2</th>\n",
       "      <td>NODES</td>\n",
       "      <td>12547</td>\n",
       "      <td>&lt;http://purl.obolibrary.org/obo/PR_Q9Y6T7&gt;</td>\n",
       "      <td>diacylglycerol kinase beta (human)</td>\n",
       "      <td>A diacylglycerol kinase beta that is encoded i...</td>\n",
       "      <td>hDGKB|DAGK2|DGKB|diglyceride kinase beta (huma...</td>\n",
       "    </tr>\n",
       "    <tr>\n",
       "      <th>3</th>\n",
       "      <td>NODES</td>\n",
       "      <td>370262</td>\n",
       "      <td>&lt;https://uswest.ensembl.org/Homo_sapiens/Trans...</td>\n",
       "      <td>DBH-202</td>\n",
       "      <td>Transcript DBH-202 is classified as type 'prot...</td>\n",
       "      <td>None</td>\n",
       "    </tr>\n",
       "    <tr>\n",
       "      <th>4</th>\n",
       "      <td>NODES</td>\n",
       "      <td>509034</td>\n",
       "      <td>&lt;http://purl.obolibrary.org/obo/PR_Q9Y5F6-2&gt;</td>\n",
       "      <td>protocadherin gamma-C5 isoform h2 (human)</td>\n",
       "      <td>A protocadherin gamma-C5 (human) that is a tra...</td>\n",
       "      <td>hPCDHGC5/iso:h2|protocadherin gamma-C5 isoform...</td>\n",
       "    </tr>\n",
       "  </tbody>\n",
       "</table>\n",
       "</div>"
      ],
      "text/plain": [
       "  entity_type integer_id                                         entity_uri  \\\n",
       "0       NODES       9921         <http://purl.obolibrary.org/obo/PR_Q96BF3>   \n",
       "1       NODES     508494       <http://purl.obolibrary.org/obo/PR_P56177-1>   \n",
       "2       NODES      12547         <http://purl.obolibrary.org/obo/PR_Q9Y6T7>   \n",
       "3       NODES     370262  <https://uswest.ensembl.org/Homo_sapiens/Trans...   \n",
       "4       NODES     509034       <http://purl.obolibrary.org/obo/PR_Q9Y5F6-2>   \n",
       "\n",
       "                                               label  \\\n",
       "0  transmembrane and immunoglobulin domain-contai...   \n",
       "1           homeobox protein DLX-1 isoform 1 (human)   \n",
       "2                 diacylglycerol kinase beta (human)   \n",
       "3                                            DBH-202   \n",
       "4          protocadherin gamma-C5 isoform h2 (human)   \n",
       "\n",
       "                              description/definition  \\\n",
       "0  A transmembrane and immunoglobulin domain-cont...   \n",
       "1  A homeobox protein DLX-1 isoform 1 that is enc...   \n",
       "2  A diacylglycerol kinase beta that is encoded i...   \n",
       "3  Transcript DBH-202 is classified as type 'prot...   \n",
       "4  A protocadherin gamma-C5 (human) that is a tra...   \n",
       "\n",
       "                                             synonym  \n",
       "0  immunoglobulin and proline-rich receptor 1 (hu...  \n",
       "1                                        hDLX1/iso:1  \n",
       "2  hDGKB|DAGK2|DGKB|diglyceride kinase beta (huma...  \n",
       "3                                               None  \n",
       "4  hPCDHGC5/iso:h2|protocadherin gamma-C5 isoform...  "
      ]
     },
     "execution_count": 6,
     "metadata": {},
     "output_type": "execute_result"
    }
   ],
   "source": [
    "df1.head()"
   ]
  },
  {
   "cell_type": "code",
   "execution_count": 7,
   "id": "4a679e58-5d93-4214-b40e-e7e28de564f9",
   "metadata": {},
   "outputs": [
    {
     "data": {
      "text/html": [
       "<div>\n",
       "<style scoped>\n",
       "    .dataframe tbody tr th:only-of-type {\n",
       "        vertical-align: middle;\n",
       "    }\n",
       "\n",
       "    .dataframe tbody tr th {\n",
       "        vertical-align: top;\n",
       "    }\n",
       "\n",
       "    .dataframe thead th {\n",
       "        text-align: right;\n",
       "    }\n",
       "</style>\n",
       "<table border=\"1\" class=\"dataframe\">\n",
       "  <thead>\n",
       "    <tr style=\"text-align: right;\">\n",
       "      <th></th>\n",
       "      <th>entity_uri</th>\n",
       "      <th>entity_type</th>\n",
       "      <th>label</th>\n",
       "      <th>cui</th>\n",
       "    </tr>\n",
       "  </thead>\n",
       "  <tbody>\n",
       "    <tr>\n",
       "      <th>0</th>\n",
       "      <td>http://purl.obolibrary.org/obo/SO_0000704</td>\n",
       "      <td>NODES</td>\n",
       "      <td>Genes</td>\n",
       "      <td>C0017337</td>\n",
       "    </tr>\n",
       "    <tr>\n",
       "      <th>1</th>\n",
       "      <td>http://purl.obolibrary.org/obo/PR_000041244</td>\n",
       "      <td>NODES</td>\n",
       "      <td>Histones</td>\n",
       "      <td>C0019652</td>\n",
       "    </tr>\n",
       "    <tr>\n",
       "      <th>2</th>\n",
       "      <td>http://purl.obolibrary.org/obo/GO_0006473</td>\n",
       "      <td>RELATIONS</td>\n",
       "      <td>Acetylation</td>\n",
       "      <td>NaN</td>\n",
       "    </tr>\n",
       "    <tr>\n",
       "      <th>3</th>\n",
       "      <td>http://purl.obolibrary.org/obo/CHEBI_46024</td>\n",
       "      <td>NODES</td>\n",
       "      <td>PRDX2_gene</td>\n",
       "      <td>C1418880</td>\n",
       "    </tr>\n",
       "    <tr>\n",
       "      <th>4</th>\n",
       "      <td>http://purl.obolibrary.org/obo/PR_000028799</td>\n",
       "      <td>NODES</td>\n",
       "      <td>Tubulin</td>\n",
       "      <td>C0041348</td>\n",
       "    </tr>\n",
       "  </tbody>\n",
       "</table>\n",
       "</div>"
      ],
      "text/plain": [
       "                                    entity_uri entity_type        label  \\\n",
       "0    http://purl.obolibrary.org/obo/SO_0000704       NODES        Genes   \n",
       "1  http://purl.obolibrary.org/obo/PR_000041244       NODES     Histones   \n",
       "2    http://purl.obolibrary.org/obo/GO_0006473   RELATIONS  Acetylation   \n",
       "3   http://purl.obolibrary.org/obo/CHEBI_46024       NODES   PRDX2_gene   \n",
       "4  http://purl.obolibrary.org/obo/PR_000028799       NODES      Tubulin   \n",
       "\n",
       "        cui  \n",
       "0  C0017337  \n",
       "1  C0019652  \n",
       "2       NaN  \n",
       "3  C1418880  \n",
       "4  C0041348  "
      ]
     },
     "execution_count": 7,
     "metadata": {},
     "output_type": "execute_result"
    }
   ],
   "source": [
    "df2.head()"
   ]
  },
  {
   "cell_type": "code",
   "execution_count": 8,
   "id": "fffe1ef6-af2d-43a0-8df2-a51a1c32e1da",
   "metadata": {},
   "outputs": [
    {
     "data": {
      "text/plain": [
       "742747"
      ]
     },
     "execution_count": 8,
     "metadata": {},
     "output_type": "execute_result"
    }
   ],
   "source": [
    "nodeLabels = {}\n",
    "for i in range(len(df1.index)):\n",
    "    uri = df1.at[i, 'entity_uri']\n",
    "    if isinstance(uri, str):\n",
    "        uri = uri.replace('<', '')\n",
    "        uri = uri.replace('>', '')\n",
    "        if uri not in nodeLabels:\n",
    "            nodeLabels[uri] = df1.at[i, 'label']\n",
    "len(nodeLabels)"
   ]
  },
  {
   "cell_type": "code",
   "execution_count": 9,
   "id": "ce4e7089-ff75-42a8-8743-96ae4ff1ac8c",
   "metadata": {},
   "outputs": [
    {
     "data": {
      "text/plain": [
       "742923"
      ]
     },
     "execution_count": 9,
     "metadata": {},
     "output_type": "execute_result"
    }
   ],
   "source": [
    "#N(nodeLabels) = 742923 (both PL and MR nodes combined)\n",
    "for i in range(len(df2.index)):\n",
    "    uri = df2.at[i, 'entity_uri']\n",
    "    if isinstance(uri, str):\n",
    "        uri = uri.replace('<', '')\n",
    "        uri = uri.replace('>', '')\n",
    "        if uri not in nodeLabels:\n",
    "            nodeLabels[uri] = df2.at[i, 'label']\n",
    "len(nodeLabels)"
   ]
  },
  {
   "cell_type": "code",
   "execution_count": 10,
   "id": "4e8ebc69-cc46-474b-b182-97116c35076b",
   "metadata": {},
   "outputs": [],
   "source": [
    "#save to pickle file\n",
    "with open(KG_PATH+'nodeLabels_20210924.pickle', 'wb') as filep:\n",
    "    pickle.dump(nodeLabels, filep)\n",
    "#with open(KG_PATH+'nodeLabels_20210924.pickle', 'rb') as filep:\n",
    "    #nodeLabels = pickle.load(filep)"
   ]
  },
  {
   "cell_type": "code",
   "execution_count": 10,
   "id": "ceda6e39-4f4a-4062-8aaa-7e254f0c99d5",
   "metadata": {},
   "outputs": [],
   "source": [
    "pl_kg = nx.read_gpickle(KG_PATH+KG_NAME)"
   ]
  },
  {
   "cell_type": "code",
   "execution_count": 14,
   "id": "2275c94b-65bd-4a9c-9a94-c86a272befa4",
   "metadata": {},
   "outputs": [
    {
     "name": "stdout",
     "output_type": "stream",
     "text": [
      "There are 743772 nodes, 4759979 edges, and 16 self-loop(s)\n",
      "The Average Degree is 6.3997824602163025\n"
     ]
    }
   ],
   "source": [
    "# get the number of nodes, edges, and self-loops\n",
    "nodes = nx.number_of_nodes(pl_kg)\n",
    "edges = nx.number_of_edges(pl_kg)\n",
    "self_loops = nx.number_of_selfloops(pl_kg)\n",
    "\n",
    "print('There are {} nodes, {} edges, and {} self-loop(s)'.format(nodes, edges, self_loops))\n",
    "# get degree information\n",
    "avg_degree = float(edges) / nodes\n",
    "\n",
    "print('The Average Degree is {}'.format(avg_degree))"
   ]
  },
  {
   "cell_type": "code",
   "execution_count": 21,
   "id": "7fe976e8-a35a-4f48-ba21-22b266db7d7c",
   "metadata": {},
   "outputs": [
    {
     "name": "stdout",
     "output_type": "stream",
     "text": [
      "Label: protein_coding_gene\n",
      "http://purl.obolibrary.org/obo/SO_0001217 (degree=184732)\n",
      "Label: transcript\n",
      "http://purl.obolibrary.org/obo/SO_0000673 (degree=180194)\n",
      "Label: Homo sapiens\n",
      "http://purl.obolibrary.org/obo/NCBITaxon_9606 (degree=85578)\n",
      "Label: protein\n",
      "http://purl.obolibrary.org/obo/PR_000000001 (degree=57850)\n",
      "Label: Mus musculus\n",
      "http://purl.obolibrary.org/obo/NCBITaxon_10090 (degree=52725)\n",
      "Label: Arabidopsis thaliana\n",
      "http://purl.obolibrary.org/obo/NCBITaxon_3702 (degree=37565)\n",
      "The density of the graph is: 8.60450657556735e-06\n"
     ]
    }
   ],
   "source": [
    "# get 5 nodes with the highest degress\n",
    "n_deg = sorted([(str(x[0]), x[1]) for x in  pl_kg.degree], key=lambda x: x[1], reverse=1)[:6]\n",
    "\n",
    "for x in n_deg:\n",
    "    print('Label: {}'.format(nodeLabels[x[0]]))\n",
    "    print('{} (degree={})'.format(x[0], x[1]))\n",
    "# get network density\n",
    "density = nx.density(pl_kg)\n",
    "\n",
    "print('The density of the graph is: {}'.format(density))"
   ]
  },
  {
   "cell_type": "code",
   "execution_count": 11,
   "id": "6842e21c-0392-4893-8b05-019b62d1906a",
   "metadata": {},
   "outputs": [],
   "source": [
    "mr_kg = nx.read_gpickle(MR_PATH+MR_GRAPH_NAME)"
   ]
  },
  {
   "cell_type": "code",
   "execution_count": 16,
   "id": "e6be257b-cd32-48a4-91a7-2a1e09f0097b",
   "metadata": {},
   "outputs": [
    {
     "name": "stdout",
     "output_type": "stream",
     "text": [
      "There are 2009 nodes, 7365 edges, and 103 self-loop(s)\n",
      "The Average Degree is 3.666002986560478\n"
     ]
    }
   ],
   "source": [
    "# get the number of nodes, edges, and self-loops\n",
    "nodes = nx.number_of_nodes(mr_kg)\n",
    "edges = nx.number_of_edges(mr_kg)\n",
    "self_loops = nx.number_of_selfloops(mr_kg)\n",
    "\n",
    "print('There are {} nodes, {} edges, and {} self-loop(s)'.format(nodes, edges, self_loops))\n",
    "# get degree information\n",
    "avg_degree = float(edges) / nodes\n",
    "\n",
    "print('The Average Degree is {}'.format(avg_degree))"
   ]
  },
  {
   "cell_type": "code",
   "execution_count": 22,
   "id": "83bb585e-83c1-48c8-9f7b-3a8d7b70cf64",
   "metadata": {},
   "outputs": [
    {
     "name": "stdout",
     "output_type": "stream",
     "text": [
      "Label: (-)-epigallocatechin 3-gallate\n",
      "http://purl.obolibrary.org/obo/CHEBI_4806 (degree=939)\n",
      "Label: triethylamine\n",
      "http://purl.obolibrary.org/obo/CHEBI_35026 (degree=369)\n",
      "Label: catechin\n",
      "http://purl.obolibrary.org/obo/CHEBI_23053 (degree=206)\n",
      "Label: apoptotic process\n",
      "http://purl.obolibrary.org/obo/GO_0006915 (degree=161)\n",
      "Label: glucose\n",
      "http://purl.obolibrary.org/obo/CHEBI_17234 (degree=153)\n",
      "Label: Mus <genus>\n",
      "http://purl.obolibrary.org/obo/NCBITaxon_10088 (degree=144)\n",
      "The density of the graph is: 0.0018256986984862937\n"
     ]
    }
   ],
   "source": [
    "# get 5 nodes with the highest degress\n",
    "n_deg = sorted([(str(x[0]), x[1]) for x in  mr_kg.degree], key=lambda x: x[1], reverse=1)[:6]\n",
    "\n",
    "for x in n_deg:\n",
    "    print('Label: {}'.format(nodeLabels[x[0]]))\n",
    "    print('{} (degree={})'.format(x[0], x[1]))\n",
    "# get network density\n",
    "density = nx.density(mr_kg)\n",
    "\n",
    "print('The density of the graph is: {}'.format(density))"
   ]
  },
  {
   "cell_type": "code",
   "execution_count": 12,
   "id": "331eed90-3656-466d-8a04-92b8cb69262e",
   "metadata": {},
   "outputs": [
    {
     "name": "stdout",
     "output_type": "stream",
     "text": [
      "<class 'networkx.classes.multidigraph.MultiDiGraph'>\n"
     ]
    }
   ],
   "source": [
    "#combine graphs - PL and MR\n",
    "nx_graph = nx.compose(pl_kg, mr_kg)\n",
    "print(type(nx_graph))"
   ]
  },
  {
   "cell_type": "code",
   "execution_count": 18,
   "id": "98e51be9-1d94-4af5-a668-42e6539220be",
   "metadata": {},
   "outputs": [
    {
     "name": "stdout",
     "output_type": "stream",
     "text": [
      "<class 'networkx.classes.multidigraph.MultiDiGraph'>\n",
      "There are 743942 nodes, 4767246 edges, and 119 self-loop(s)\n",
      "The Average Degree is 6.408088264945386\n"
     ]
    }
   ],
   "source": [
    "# get the number of nodes, edges, and self-loops\n",
    "nodes = nx.number_of_nodes(nx_graph)\n",
    "edges = nx.number_of_edges(nx_graph)\n",
    "self_loops = nx.number_of_selfloops(nx_graph)\n",
    "\n",
    "print('There are {} nodes, {} edges, and {} self-loop(s)'.format(nodes, edges, self_loops))\n",
    "# get degree information\n",
    "avg_degree = float(edges) / nodes\n",
    "\n",
    "print('The Average Degree is {}'.format(avg_degree))"
   ]
  },
  {
   "cell_type": "code",
   "execution_count": 19,
   "id": "780fd418-34f2-45a5-a6a3-53642659c491",
   "metadata": {},
   "outputs": [
    {
     "name": "stdout",
     "output_type": "stream",
     "text": [
      "http://purl.obolibrary.org/obo/SO_0001217 (degree=184732)\n",
      "http://purl.obolibrary.org/obo/SO_0000673 (degree=180194)\n",
      "http://purl.obolibrary.org/obo/NCBITaxon_9606 (degree=85578)\n",
      "http://purl.obolibrary.org/obo/PR_000000001 (degree=57850)\n",
      "http://purl.obolibrary.org/obo/NCBITaxon_10090 (degree=52725)\n",
      "http://purl.obolibrary.org/obo/NCBITaxon_3702 (degree=37565)\n",
      "The density of the graph is: 8.613704937549329e-06\n"
     ]
    }
   ],
   "source": [
    "# get 5 nodes with the highest degress\n",
    "n_deg = sorted([(str(x[0]), x[1]) for x in  nx_graph.degree], key=lambda x: x[1], reverse=1)[:6]\n",
    "\n",
    "for x in n_deg:\n",
    "    print('{} (degree={})'.format(x[0], x[1]))\n",
    "# get network density\n",
    "density = nx.density(nx_graph)\n",
    "\n",
    "print('The density of the graph is: {}'.format(density))"
   ]
  },
  {
   "cell_type": "code",
   "execution_count": 13,
   "id": "d677dd5a-f880-4042-96aa-c234c99de73b",
   "metadata": {},
   "outputs": [
    {
     "name": "stdout",
     "output_type": "stream",
     "text": [
      "(rdflib.term.URIRef('http://www.informatics.jax.org/marker/MGI:107953'), {'key': '<http://www.informatics.jax.org/marker/MGI:107953>'})\n"
     ]
    }
   ],
   "source": [
    "#nodes and edges examples\n",
    "nodes = list(nx_graph.nodes(data=True))\n",
    "for x in nodes:\n",
    "    print(x)\n",
    "    break"
   ]
  },
  {
   "cell_type": "code",
   "execution_count": 32,
   "id": "1268c70a-e581-4ab5-b6ea-6bc34c2f734f",
   "metadata": {},
   "outputs": [
    {
     "name": "stdout",
     "output_type": "stream",
     "text": [
      "Edge 1\n",
      "http://www.informatics.jax.org/marker/MGI:107953 Klc2 (mouse)\n",
      "http://www.w3.org/2000/01/rdf-schema#subClassOf subClassOf\n",
      "http://purl.obolibrary.org/obo/SO_0001217 protein_coding_gene\n",
      "Edge 2\n",
      "http://www.informatics.jax.org/marker/MGI:107953 Klc2 (mouse)\n",
      "http://purl.obolibrary.org/obo/RO_0002160 only in taxon\n",
      "http://purl.obolibrary.org/obo/NCBITaxon_10090 Mus musculus\n",
      "Edge 3\n",
      "http://purl.obolibrary.org/obo/SO_0001217 protein_coding_gene\n",
      "http://purl.obolibrary.org/obo/so#has_quality has_quality\n",
      "http://purl.obolibrary.org/obo/SO_0000010 protein_coding\n",
      "Edge 4\n",
      "http://purl.obolibrary.org/obo/SO_0001217 protein_coding_gene\n",
      "http://purl.obolibrary.org/obo/RO_0000086 has_quality\n",
      "http://purl.obolibrary.org/obo/SO_0000010 protein_coding\n",
      "Edge 5\n",
      "http://purl.obolibrary.org/obo/SO_0001217 protein_coding_gene\n",
      "http://www.w3.org/2000/01/rdf-schema#subClassOf subClassOf\n",
      "http://purl.obolibrary.org/obo/SO_0000704 gene\n",
      "Edge 6\n",
      "http://purl.obolibrary.org/obo/CHEBI_47495 N-[2-(4-bromocinnamylamino)ethyl]isoquinoline-5-sulfonamide\n",
      "http://purl.obolibrary.org/obo/RO_0002436 molecularly interacts with\n",
      "http://purl.obolibrary.org/obo/GO_0071417 cellular response to organonitrogen compound\n",
      "Edge 7\n",
      "http://purl.obolibrary.org/obo/CHEBI_47495 N-[2-(4-bromocinnamylamino)ethyl]isoquinoline-5-sulfonamide\n",
      "http://purl.obolibrary.org/obo/RO_0002436 molecularly interacts with\n",
      "http://purl.obolibrary.org/obo/GO_0010243 response to organonitrogen compound\n",
      "Edge 8\n",
      "http://purl.obolibrary.org/obo/CHEBI_47495 N-[2-(4-bromocinnamylamino)ethyl]isoquinoline-5-sulfonamide\n",
      "http://purl.obolibrary.org/obo/chebi#is_conjugate_base_of is conjugate base of\n",
      "http://purl.obolibrary.org/obo/CHEBI_131489 N-[2-(4-bromocinnamylamino)ethyl]isoquinoline-5-sulfonamide(2+)\n",
      "Edge 9\n",
      "http://purl.obolibrary.org/obo/CHEBI_47495 N-[2-(4-bromocinnamylamino)ethyl]isoquinoline-5-sulfonamide\n",
      "http://purl.obolibrary.org/obo/RO_0002436 molecularly interacts with\n",
      "http://purl.obolibrary.org/obo/GO_1901362 organic cyclic compound biosynthetic process\n",
      "Edge 10\n",
      "http://purl.obolibrary.org/obo/CHEBI_47495 N-[2-(4-bromocinnamylamino)ethyl]isoquinoline-5-sulfonamide\n",
      "http://purl.obolibrary.org/obo/RO_0002436 molecularly interacts with\n",
      "http://purl.obolibrary.org/obo/GO_0031325 positive regulation of cellular metabolic process\n"
     ]
    }
   ],
   "source": [
    "i = 0\n",
    "for u, v, keys in nx_graph.edges(keys=True):\n",
    "    i = i+1\n",
    "    print('Edge', i)\n",
    "    print(u, nodeLabels[str(u)])\n",
    "    print(keys, nodeLabels[str(keys)])\n",
    "    print(v, nodeLabels[str(v)])\n",
    "    if i==10:\n",
    "        break"
   ]
  },
  {
   "cell_type": "code",
   "execution_count": 14,
   "id": "1d519d32-6433-4fa4-861a-43e19cb65751",
   "metadata": {},
   "outputs": [
    {
     "name": "stdout",
     "output_type": "stream",
     "text": [
      "http://purl.obolibrary.org/obo/RO_0002436\n",
      "molecularly interacts with\n"
     ]
    }
   ],
   "source": [
    "#Useful functions\n",
    "#nx_graph.get_edge_data(u, v, key=None, default=None]) \n",
    "#Returns the attribute dictionary associated with edge (u, v).\n",
    "#key = hashable identifier, optional (default=None), Return data only for the edge with specified key.\n",
    "node1 = URIRef('http://purl.obolibrary.org/obo/CHEBI_47495')\n",
    "node2 = URIRef('http://purl.obolibrary.org/obo/GO_0031325')\n",
    "edge_keys = list(nx_graph.get_edge_data(node1, node2).keys())\n",
    "for item in edge_keys:\n",
    "    print(str(item))\n",
    "    print(nodeLabels[str(item)])"
   ]
  },
  {
   "cell_type": "code",
   "execution_count": 52,
   "id": "c742a4ac-26ea-41f9-ad91-d3ff9e459ae3",
   "metadata": {},
   "outputs": [
    {
     "data": {
      "text/plain": [
       "AtlasView({rdflib.term.URIRef('http://purl.obolibrary.org/obo/RO_0002436'): {'predicate_key': '97f9f8732bc99bed95691c65240cf1b7', 'weight': 0.0}})"
      ]
     },
     "execution_count": 52,
     "metadata": {},
     "output_type": "execute_result"
    }
   ],
   "source": [
    "nx_graph[node1][node2]"
   ]
  },
  {
   "cell_type": "code",
   "execution_count": 107,
   "id": "3c922cfe-4505-4066-86ea-799944d298e5",
   "metadata": {},
   "outputs": [
    {
     "data": {
      "text/plain": [
       "AtlasView({rdflib.term.URIRef('http://purl.obolibrary.org/obo/RO_0002449'): {'predicate_key': '6dae54e8b8bbe9cdb6c615e404a5d7ce', 'weight': 0.0, 'pmid': '29356593', 'timestamp': '2018 Feb', 'source_graph': 'machine_read'}})"
      ]
     },
     "execution_count": 107,
     "metadata": {},
     "output_type": "execute_result"
    }
   ],
   "source": [
    "nx_graph[node1][node2]"
   ]
  },
  {
   "cell_type": "code",
   "execution_count": 54,
   "id": "44b6f1a9-ffa8-4935-93d4-b65e88891263",
   "metadata": {},
   "outputs": [
    {
     "data": {
      "text/plain": [
       "[0.0]"
      ]
     },
     "execution_count": 54,
     "metadata": {},
     "output_type": "execute_result"
    }
   ],
   "source": [
    "ewt = [e['weight'] for e in nx_graph[node1][node2].values()]\n",
    "ewt"
   ]
  },
  {
   "cell_type": "code",
   "execution_count": 15,
   "id": "c437fc73-3f3c-42d2-9140-9d2b080ec8b7",
   "metadata": {},
   "outputs": [
    {
     "data": {
      "text/plain": [
       "{rdflib.term.URIRef('http://purl.obolibrary.org/obo/RO_0002436'): {'predicate_key': '97f9f8732bc99bed95691c65240cf1b7',\n",
       "  'weight': 0.0}}"
      ]
     },
     "execution_count": 15,
     "metadata": {},
     "output_type": "execute_result"
    }
   ],
   "source": [
    "nx_graph.get_edge_data(node1, node2, default=0)"
   ]
  },
  {
   "cell_type": "code",
   "execution_count": 108,
   "id": "ac864dfe-ec20-490a-afb5-a26a9948762e",
   "metadata": {},
   "outputs": [
    {
     "ename": "ValueError",
     "evalue": "not enough values to unpack (expected 3, got 2)",
     "output_type": "error",
     "traceback": [
      "\u001b[0;31m---------------------------------------------------------------------------\u001b[0m",
      "\u001b[0;31mValueError\u001b[0m                                Traceback (most recent call last)",
      "\u001b[0;32m<ipython-input-108-52218b548e89>\u001b[0m in \u001b[0;36m<module>\u001b[0;34m\u001b[0m\n\u001b[1;32m      1\u001b[0m \u001b[0;31m#nx_graph.edges[node1, node2, 'key'] = key is hashable of triple -- how do we decipher/unhash?\u001b[0m\u001b[0;34m\u001b[0m\u001b[0;34m\u001b[0m\u001b[0;34m\u001b[0m\u001b[0m\n\u001b[0;32m----> 2\u001b[0;31m \u001b[0mnx_graph\u001b[0m\u001b[0;34m.\u001b[0m\u001b[0medges\u001b[0m\u001b[0;34m[\u001b[0m\u001b[0mnode1\u001b[0m\u001b[0;34m,\u001b[0m \u001b[0mnode2\u001b[0m\u001b[0;34m]\u001b[0m\u001b[0;34m\u001b[0m\u001b[0;34m\u001b[0m\u001b[0m\n\u001b[0m",
      "\u001b[0;32m~/.conda/envs/sanya_kg/lib/python3.6/site-packages/networkx/classes/reportviews.py\u001b[0m in \u001b[0;36m__getitem__\u001b[0;34m(self, e)\u001b[0m\n\u001b[1;32m   1198\u001b[0m \u001b[0;34m\u001b[0m\u001b[0m\n\u001b[1;32m   1199\u001b[0m     \u001b[0;32mdef\u001b[0m \u001b[0m__getitem__\u001b[0m\u001b[0;34m(\u001b[0m\u001b[0mself\u001b[0m\u001b[0;34m,\u001b[0m \u001b[0me\u001b[0m\u001b[0;34m)\u001b[0m\u001b[0;34m:\u001b[0m\u001b[0;34m\u001b[0m\u001b[0;34m\u001b[0m\u001b[0m\n\u001b[0;32m-> 1200\u001b[0;31m         \u001b[0mu\u001b[0m\u001b[0;34m,\u001b[0m \u001b[0mv\u001b[0m\u001b[0;34m,\u001b[0m \u001b[0mk\u001b[0m \u001b[0;34m=\u001b[0m \u001b[0me\u001b[0m\u001b[0;34m\u001b[0m\u001b[0;34m\u001b[0m\u001b[0m\n\u001b[0m\u001b[1;32m   1201\u001b[0m         \u001b[0;32mreturn\u001b[0m \u001b[0mself\u001b[0m\u001b[0;34m.\u001b[0m\u001b[0m_adjdict\u001b[0m\u001b[0;34m[\u001b[0m\u001b[0mu\u001b[0m\u001b[0;34m]\u001b[0m\u001b[0;34m[\u001b[0m\u001b[0mv\u001b[0m\u001b[0;34m]\u001b[0m\u001b[0;34m[\u001b[0m\u001b[0mk\u001b[0m\u001b[0;34m]\u001b[0m\u001b[0;34m\u001b[0m\u001b[0;34m\u001b[0m\u001b[0m\n\u001b[1;32m   1202\u001b[0m \u001b[0;34m\u001b[0m\u001b[0m\n",
      "\u001b[0;31mValueError\u001b[0m: not enough values to unpack (expected 3, got 2)"
     ]
    }
   ],
   "source": [
    "#nx_graph.edges[node1, node2, 'key'] = key is hashable of triple -- how do we decipher/unhash?\n",
    "nx_graph.edges[node1, node2]"
   ]
  },
  {
   "cell_type": "code",
   "execution_count": null,
   "id": "d163e76e-c396-489c-be76-869e195ce489",
   "metadata": {},
   "outputs": [],
   "source": []
  },
  {
   "cell_type": "markdown",
   "id": "0a941ec5-1942-43b3-af3f-724bb14103a7",
   "metadata": {},
   "source": [
    "## Path Searches\n",
    "1. Single source shortest path (saved)\n",
    "2. k-simple paths (saved for cyp3a4, midazolam)\n",
    "3. Bidirectional shortest paths (in nb)\n",
    "4. Shortest paths - do"
   ]
  },
  {
   "cell_type": "code",
   "execution_count": 16,
   "id": "375d900e-c5c7-4207-b126-271e83537500",
   "metadata": {},
   "outputs": [],
   "source": [
    "DIR_OUT = '/home/sanya/PheKnowLator/output_files/'"
   ]
  },
  {
   "cell_type": "code",
   "execution_count": 17,
   "id": "bd719e55-dfe2-493e-8b39-c4b87e9ec726",
   "metadata": {},
   "outputs": [],
   "source": [
    "obo = Namespace('http://purl.obolibrary.org/obo/')\n",
    "napdi = Namespace('http://napdi.org/napdi_srs_imports:')"
   ]
  },
  {
   "cell_type": "markdown",
   "id": "ce4d5424-b793-45c2-bbeb-05b822cd9970",
   "metadata": {},
   "source": [
    "Functions. Create function for -\n",
    "1. Get path narrative given path or list of paths\n",
    "2. Get path URIs given path or list of paths\n",
    "3. Get path with machine reading output from 2017 and prior\n",
    "4. Save path with labels to file\n"
   ]
  },
  {
   "cell_type": "code",
   "execution_count": 36,
   "id": "b8c9218f-9aaf-401a-8fde-284516db146f",
   "metadata": {},
   "outputs": [],
   "source": [
    "def get_path_labels(path):\n",
    "    path_labels = []\n",
    "    if len(path) < 1:\n",
    "        print('Path length 1, skipping')\n",
    "        return\n",
    "    for edge in zip(path, path[1:]):\n",
    "        data = nx_graph.get_edge_data(*edge)\n",
    "        pred = list(data.keys())[0]\n",
    "        node1_lab = str(edge[0])\n",
    "        node2_lab = str(edge[1])\n",
    "        if node1_lab in nodeLabels:\n",
    "            node1_lab = nodeLabels[node1_lab]\n",
    "        if node2_lab in nodeLabels:\n",
    "            node2_lab = nodeLabels[node2_lab]\n",
    "        pred_lab = nodeLabels[str(pred)]\n",
    "        if list(data.values())[0]:\n",
    "            if 'source_graph' in list(data.values())[0]:\n",
    "                source_graph = 'machine_read'\n",
    "            else:\n",
    "                source_graph = ''\n",
    "        else:\n",
    "            source_graph = ''\n",
    "        labels = [node1_lab, pred_lab, node2_lab, source_graph]\n",
    "        path_labels.append(labels)\n",
    "    return path_labels"
   ]
  },
  {
   "cell_type": "code",
   "execution_count": 19,
   "id": "351e7595-29c3-431e-a4b9-a0bad0d569c9",
   "metadata": {},
   "outputs": [],
   "source": [
    "def get_path_uri(path):\n",
    "    path_uri = []\n",
    "    if len(path) < 1:\n",
    "        print('Path length 1, skipping')\n",
    "        return\n",
    "    for edge in zip(path, path[1:]):\n",
    "        data = nx_graph.get_edge_data(*edge)\n",
    "        pred = list(data.keys())[0]\n",
    "        attribute = list(data.values())\n",
    "        uri = [str(edge[0]), pred, str(edge[1]), attribute]\n",
    "        path_uri.append(uri)\n",
    "    return path_uri"
   ]
  },
  {
   "cell_type": "code",
   "execution_count": null,
   "id": "98fbd90f-4568-4af9-90a2-8b543be2f810",
   "metadata": {},
   "outputs": [],
   "source": []
  },
  {
   "cell_type": "code",
   "execution_count": 20,
   "id": "1cf8d52b-6297-45cd-89c8-4ed23a9f4a03",
   "metadata": {},
   "outputs": [],
   "source": [
    "#get shortest path from green tea leaf\n",
    "greentea_path = nx.single_source_shortest_path(nx_graph, napdi.camellia_sinensis_leaf)"
   ]
  },
  {
   "cell_type": "code",
   "execution_count": 172,
   "id": "e9a062e8-5308-48c9-a1f3-24568dd4e095",
   "metadata": {},
   "outputs": [
    {
     "data": {
      "text/plain": [
       "dict"
      ]
     },
     "execution_count": 172,
     "metadata": {},
     "output_type": "execute_result"
    }
   ],
   "source": [
    "type(greentea_path)"
   ]
  },
  {
   "cell_type": "code",
   "execution_count": 38,
   "id": "9c675946-a3e5-4395-abfe-e9daa05a7e5b",
   "metadata": {},
   "outputs": [],
   "source": [
    "save1 = 'greentea_single_source_shortest_path_50.txt'"
   ]
  },
  {
   "cell_type": "code",
   "execution_count": 37,
   "id": "49a59b74-ab4b-43ad-a03d-b774b6cb8334",
   "metadata": {},
   "outputs": [
    {
     "name": "stdout",
     "output_type": "stream",
     "text": [
      "\n",
      "napdi_srs_imports:camellia_sinensis_leaf - Camellia sinensis whole Path:\n",
      "[['Camellia sinensis leaf', 'part of', 'Camellia sinensis whole', '']]\n",
      "\n",
      "napdi_srs_imports:camellia_sinensis_leaf - (-)-epigallocatechin Path:\n",
      "[['Camellia sinensis leaf', 'has component', '(-)-epigallocatechin', '']]\n",
      "\n",
      "napdi_srs_imports:camellia_sinensis_leaf - gallocatechin Path:\n",
      "[['Camellia sinensis leaf', 'has component', 'gallocatechin', '']]\n",
      "\n",
      "napdi_srs_imports:camellia_sinensis_leaf - chemical entity Path:\n",
      "[['Camellia sinensis leaf', 'subClassOf', 'chemical entity', '']]\n",
      "\n",
      "napdi_srs_imports:camellia_sinensis_leaf - (-)-epigallocatechin gallate Path:\n",
      "[['Camellia sinensis leaf', 'has component', '(-)-epigallocatechin gallate', '']]\n",
      "\n",
      "napdi_srs_imports:camellia_sinensis_leaf - nan Path:\n",
      "[['Camellia sinensis leaf', 'in taxon', nan, '']]\n",
      "\n",
      "napdi_srs_imports:camellia_sinensis_leaf - (-)-epicatechin-3-O-gallate Path:\n",
      "[['Camellia sinensis leaf', 'has component', '(-)-epicatechin-3-O-gallate', '']]\n",
      "\n",
      "napdi_srs_imports:camellia_sinensis_leaf - (-)-epicatechin Path:\n",
      "[['Camellia sinensis leaf', 'has component', '(-)-epicatechin', '']]\n",
      "\n",
      "napdi_srs_imports:camellia_sinensis_leaf - catechin Path:\n",
      "[['Camellia sinensis leaf', 'has component', '(-)-epigallocatechin', ''], ['(-)-epigallocatechin', 'subClassOf', 'catechin', '']]\n",
      "\n",
      "napdi_srs_imports:camellia_sinensis_leaf - flavan-3,3',4',5,5',7-hexol Path:\n",
      "[['Camellia sinensis leaf', 'has component', '(-)-epigallocatechin', ''], ['(-)-epigallocatechin', 'subClassOf', \"flavan-3,3',4',5,5',7-hexol\", '']]\n",
      "\n",
      "napdi_srs_imports:camellia_sinensis_leaf - CHEBI_71227 Path:\n",
      "[['Camellia sinensis leaf', 'has component', '(-)-epigallocatechin', ''], ['(-)-epigallocatechin', 'is enantiomer of', 'http://purl.obolibrary.org/obo/CHEBI_71227', '']]\n",
      "\n",
      "napdi_srs_imports:camellia_sinensis_leaf - plant metabolite Path:\n",
      "[['Camellia sinensis leaf', 'has component', '(-)-epigallocatechin', ''], ['(-)-epigallocatechin', 'has role', 'plant metabolite', '']]\n",
      "\n",
      "napdi_srs_imports:camellia_sinensis_leaf - food component Path:\n",
      "[['Camellia sinensis leaf', 'has component', '(-)-epigallocatechin', ''], ['(-)-epigallocatechin', 'has role', 'food component', '']]\n",
      "\n",
      "napdi_srs_imports:camellia_sinensis_leaf - antioxidant Path:\n",
      "[['Camellia sinensis leaf', 'has component', '(-)-epigallocatechin', ''], ['(-)-epigallocatechin', 'has role', 'antioxidant', '']]\n",
      "\n",
      "napdi_srs_imports:camellia_sinensis_leaf - myeloperoxidase (human) Path:\n",
      "[['Camellia sinensis leaf', 'has component', 'gallocatechin', ''], ['gallocatechin', 'interacts with', 'myeloperoxidase (human)', '']]\n",
      "\n",
      "napdi_srs_imports:camellia_sinensis_leaf - metabolite Path:\n",
      "[['Camellia sinensis leaf', 'has component', 'gallocatechin', ''], ['gallocatechin', 'has role', 'metabolite', '']]\n",
      "\n",
      "napdi_srs_imports:camellia_sinensis_leaf - transcription factor p65 (human) Path:\n",
      "[['Camellia sinensis leaf', 'has component', 'gallocatechin', ''], ['gallocatechin', 'interacts with', 'transcription factor p65 (human)', '']]\n",
      "\n",
      "napdi_srs_imports:camellia_sinensis_leaf - tumor necrosis factor (human) Path:\n",
      "[['Camellia sinensis leaf', 'has component', 'gallocatechin', ''], ['gallocatechin', 'interacts with', 'tumor necrosis factor (human)', '']]\n",
      "\n",
      "napdi_srs_imports:camellia_sinensis_leaf - bile acid receptor (human) Path:\n",
      "[['Camellia sinensis leaf', 'has component', 'gallocatechin', ''], ['gallocatechin', 'interacts with', 'bile acid receptor (human)', '']]\n"
     ]
    }
   ],
   "source": [
    "#get 20 paths from green tea single source shortest path\n",
    "#if returned paths are dictionary\n",
    "count = 0\n",
    "for target, node_list in greentea_path.items():\n",
    "    count += 1\n",
    "    if target != napdi.camellia_sinensis_leaf:\n",
    "        if str(target) not in nodeLabels:\n",
    "            target_label = str(target).split('/')[-1]\n",
    "        else:\n",
    "            target_label = nodeLabels[str(target)]\n",
    "        print('\\n{} - {} Path:'.format(str(napdi.camellia_sinensis_leaf).split('/')[-1], target_label))\n",
    "        path_labels = get_path_labels(node_list)\n",
    "        print(path_labels)\n",
    "    if count == 20:\n",
    "        break"
   ]
  },
  {
   "cell_type": "code",
   "execution_count": 59,
   "id": "48063678-33ee-406f-bedf-e968e3ab8d9a",
   "metadata": {},
   "outputs": [],
   "source": [
    "tea_path = nx.single_source_shortest_path(nx_graph, obo.CHEBI_35026)"
   ]
  },
  {
   "cell_type": "code",
   "execution_count": 39,
   "id": "cf4afe6b-0f79-4093-9e96-658e05020421",
   "metadata": {},
   "outputs": [],
   "source": [
    "#save 100 paths from green tea single source shortest path to file\n",
    "#if returned paths are dictionary\n",
    "count = 0\n",
    "file_save = open(DIR_OUT+save1, 'w')\n",
    "for target, node_list in greentea_path.items():\n",
    "    count += 1\n",
    "    if target != napdi.camellia_sinensis_leaf:\n",
    "        if str(target) not in nodeLabels:\n",
    "            target_label = str(target).split('/')[-1]\n",
    "        else:\n",
    "            target_label = nodeLabels[str(target)]\n",
    "        file_save.write('\\n{} - {} Path:\\n'.format(str(napdi.camellia_sinensis_leaf).split('/')[-1], target_label))\n",
    "        path_labels = get_path_labels(node_list)\n",
    "        for triples in path_labels:\n",
    "            for item in triples:\n",
    "                file_save.write(str(item)+' ')\n",
    "            file_save.write('\\n')\n",
    "    if count == 100:\n",
    "        break\n",
    "file_save.close()"
   ]
  },
  {
   "cell_type": "code",
   "execution_count": 61,
   "id": "e056a789-c948-4287-9406-fc40287640ab",
   "metadata": {},
   "outputs": [],
   "source": [
    "savex = 'tea_single_source_shortest_path_100.txt'\n",
    "#save 100 paths from green tea single source shortest path to file\n",
    "#if returned paths are dictionary\n",
    "count = 0\n",
    "file_save = open(DIR_OUT+savex, 'w')\n",
    "for target, node_list in tea_path.items():\n",
    "    count += 1\n",
    "    if target != obo.CHEBI_35026:\n",
    "        if str(target) not in nodeLabels:\n",
    "            target_label = str(target).split('/')[-1]\n",
    "        else:\n",
    "            target_label = nodeLabels[str(target)]\n",
    "        file_save.write('\\n{} - {} Path:\\n'.format(str(obo.CHEBI_35026).split('/')[-1], target_label))\n",
    "        path_labels = get_path_labels(node_list)\n",
    "        for triples in path_labels:\n",
    "            for item in triples:\n",
    "                file_save.write(str(item)+' ')\n",
    "            file_save.write('\\n')\n",
    "    if count == 100:\n",
    "        break\n",
    "file_save.close()"
   ]
  },
  {
   "cell_type": "code",
   "execution_count": 125,
   "id": "0bbfab49-3305-4206-9379-6bb76ed1c4df",
   "metadata": {},
   "outputs": [
    {
     "ename": "KeyError",
     "evalue": "'http://purl.obolibrary.org/obo/CHEBI_71227'",
     "output_type": "error",
     "traceback": [
      "\u001b[0;31m---------------------------------------------------------------------------\u001b[0m",
      "\u001b[0;31mKeyError\u001b[0m                                  Traceback (most recent call last)",
      "\u001b[0;32m<ipython-input-125-1caa06066445>\u001b[0m in \u001b[0;36m<module>\u001b[0;34m\u001b[0m\n\u001b[0;32m----> 1\u001b[0;31m \u001b[0mnodeLabels\u001b[0m\u001b[0;34m[\u001b[0m\u001b[0;34m'http://purl.obolibrary.org/obo/CHEBI_71227'\u001b[0m\u001b[0;34m]\u001b[0m\u001b[0;34m\u001b[0m\u001b[0;34m\u001b[0m\u001b[0m\n\u001b[0m",
      "\u001b[0;31mKeyError\u001b[0m: 'http://purl.obolibrary.org/obo/CHEBI_71227'"
     ]
    }
   ],
   "source": [
    "#why is this not in nodeLabels??\n",
    "nodeLabels['http://purl.obolibrary.org/obo/CHEBI_71227']"
   ]
  },
  {
   "cell_type": "code",
   "execution_count": null,
   "id": "c2bbbfed-4ac5-4bc9-9be2-46f1b9b201b0",
   "metadata": {},
   "outputs": [],
   "source": [
    "#obo.CHEBI_83161 - St. Johns Wort extract (to test graph)"
   ]
  },
  {
   "cell_type": "code",
   "execution_count": null,
   "id": "4959e2ea-8fb4-4071-bb0c-2b88c0398328",
   "metadata": {},
   "outputs": [],
   "source": []
  },
  {
   "cell_type": "code",
   "execution_count": 21,
   "id": "4aab468e-4378-44a4-920e-7827a2f41c20",
   "metadata": {},
   "outputs": [],
   "source": [
    "#green tea and warfarin\n",
    "pathx = nx.bidirectional_shortest_path(nx_graph, napdi.camellia_sinensis_leaf, obo.CHEBI_10033)"
   ]
  },
  {
   "cell_type": "code",
   "execution_count": 22,
   "id": "9f013ef1-929b-4f2b-aee9-59a8e62511c0",
   "metadata": {},
   "outputs": [
    {
     "data": {
      "text/plain": [
       "[rdflib.term.URIRef('http://napdi.org/napdi_srs_imports:camellia_sinensis_leaf'),\n",
       " rdflib.term.URIRef('http://purl.obolibrary.org/obo/CHEBI_68330'),\n",
       " rdflib.term.URIRef('http://purl.obolibrary.org/obo/CHEBI_35026'),\n",
       " rdflib.term.URIRef('http://purl.obolibrary.org/obo/CHEBI_10033')]"
      ]
     },
     "execution_count": 22,
     "metadata": {},
     "output_type": "execute_result"
    }
   ],
   "source": [
    "pathx"
   ]
  },
  {
   "cell_type": "code",
   "execution_count": 35,
   "id": "93fa9b2d-9935-4ffb-9830-9ee9d5fbf991",
   "metadata": {},
   "outputs": [
    {
     "name": "stdout",
     "output_type": "stream",
     "text": [
      "Edge info: \n",
      "dict_values([{'predicate_key': '4bbadcc28097247fd55f77cbeb77ab74', 'weight': 0.0}])\n",
      "False\n",
      "Edge info: \n",
      "dict_values([{'predicate_key': 'cf627db0a97bc9798bf6f089a06581c9', 'weight': 0.0, 'pmid': '30286210', 'timestamp': '2018', 'source_graph': 'machine_read', 'belief': 0.65}])\n",
      "True\n",
      "Edge info: \n",
      "dict_values([{'predicate_key': '6dae54e8b8bbe9cdb6c615e404a5d7ce', 'weight': 0.0, 'pmid': '30286210', 'timestamp': '2018', 'source_graph': 'machine_read', 'belief': 0.65}])\n",
      "True\n"
     ]
    }
   ],
   "source": [
    "#scratch try\n",
    "for edge in zip(pathx,pathx[1:]):                                                 \n",
    "    data = nx_graph.get_edge_data(*edge)    \n",
    "    print('Edge info: ')\n",
    "    print(data.values())\n",
    "    print('source_graph' in list(data.values())[0])"
   ]
  },
  {
   "cell_type": "code",
   "execution_count": 105,
   "id": "3d802ac0-afda-44f9-9177-9d6ee7b7cf78",
   "metadata": {},
   "outputs": [
    {
     "data": {
      "text/plain": [
       "[['Camellia sinensis leaf', 'has component', 'gallocatechin'],\n",
       " ['gallocatechin',\n",
       "  'directly negatively regulates activity of',\n",
       "  'triethylamine'],\n",
       " ['triethylamine', 'directly negatively regulates activity of', 'warfarin']]"
      ]
     },
     "execution_count": 105,
     "metadata": {},
     "output_type": "execute_result"
    }
   ],
   "source": [
    "path_labels"
   ]
  },
  {
   "cell_type": "code",
   "execution_count": 106,
   "id": "6c3b392d-5d06-411c-873e-c935435a4f84",
   "metadata": {},
   "outputs": [
    {
     "data": {
      "text/plain": [
       "[['http://napdi.org/napdi_srs_imports:camellia_sinensis_leaf',\n",
       "  rdflib.term.URIRef('http://purl.obolibrary.org/obo/RO_0002180'),\n",
       "  'http://purl.obolibrary.org/obo/CHEBI_68330',\n",
       "  [{'predicate_key': '4bbadcc28097247fd55f77cbeb77ab74', 'weight': 0.0}]],\n",
       " ['http://purl.obolibrary.org/obo/CHEBI_68330',\n",
       "  rdflib.term.URIRef('http://purl.obolibrary.org/obo/RO_0002449'),\n",
       "  'http://purl.obolibrary.org/obo/CHEBI_35026',\n",
       "  [{'predicate_key': 'cf627db0a97bc9798bf6f089a06581c9',\n",
       "    'weight': 0.0,\n",
       "    'pmid': '29356593',\n",
       "    'timestamp': '2018 Feb',\n",
       "    'source_graph': 'machine_read'}]],\n",
       " ['http://purl.obolibrary.org/obo/CHEBI_35026',\n",
       "  rdflib.term.URIRef('http://purl.obolibrary.org/obo/RO_0002449'),\n",
       "  'http://purl.obolibrary.org/obo/CHEBI_10033',\n",
       "  [{'predicate_key': '6dae54e8b8bbe9cdb6c615e404a5d7ce',\n",
       "    'weight': 0.0,\n",
       "    'pmid': '29356593',\n",
       "    'timestamp': '2018 Feb',\n",
       "    'source_graph': 'machine_read'}]]]"
      ]
     },
     "execution_count": 106,
     "metadata": {},
     "output_type": "execute_result"
    }
   ],
   "source": [
    "path_uri"
   ]
  },
  {
   "cell_type": "code",
   "execution_count": 98,
   "id": "40aecb79-09e3-4db6-8f08-5ee86b94e757",
   "metadata": {},
   "outputs": [],
   "source": [
    "edge_path_test = nx.all_simple_edge_paths(nx_graph, catechin, obo.PR_P08684, 10)"
   ]
  },
  {
   "cell_type": "code",
   "execution_count": 106,
   "id": "8743c989-8c9d-4ae9-8597-92afe9ed3d87",
   "metadata": {},
   "outputs": [
    {
     "name": "stdout",
     "output_type": "stream",
     "text": [
      "[(rdflib.term.URIRef('http://purl.obolibrary.org/obo/CHEBI_90'), rdflib.term.URIRef('http://purl.obolibrary.org/obo/CHEBI_76125'), rdflib.term.URIRef('http://purl.obolibrary.org/obo/chebi#is_enantiomer_of')), (rdflib.term.URIRef('http://purl.obolibrary.org/obo/CHEBI_76125'), rdflib.term.URIRef('http://purl.obolibrary.org/obo/CHEBI_23053'), rdflib.term.URIRef('http://www.w3.org/2000/01/rdf-schema#subClassOf')), (rdflib.term.URIRef('http://purl.obolibrary.org/obo/CHEBI_23053'), rdflib.term.URIRef('http://purl.obolibrary.org/obo/MONDO_0007256'), rdflib.term.URIRef('http://purl.obolibrary.org/obo/RO_0002606')), (rdflib.term.URIRef('http://purl.obolibrary.org/obo/MONDO_0007256'), rdflib.term.URIRef('http://purl.obolibrary.org/obo/CHEBI_15367'), rdflib.term.URIRef('http://purl.obolibrary.org/obo/RO_0002302')), (rdflib.term.URIRef('http://purl.obolibrary.org/obo/CHEBI_15367'), rdflib.term.URIRef('http://purl.obolibrary.org/obo/GO_0043085'), rdflib.term.URIRef('http://purl.obolibrary.org/obo/RO_0002436')), (rdflib.term.URIRef('http://purl.obolibrary.org/obo/GO_0043085'), rdflib.term.URIRef('http://purl.obolibrary.org/obo/GO_0003824'), rdflib.term.URIRef('http://purl.obolibrary.org/obo/RO_0002213')), (rdflib.term.URIRef('http://purl.obolibrary.org/obo/GO_0003824'), rdflib.term.URIRef('http://purl.obolibrary.org/obo/PR_Q92535'), rdflib.term.URIRef('http://purl.obolibrary.org/obo/RO_0000079')), (rdflib.term.URIRef('http://purl.obolibrary.org/obo/PR_Q92535'), rdflib.term.URIRef('http://purl.obolibrary.org/obo/PR_Q96I23'), rdflib.term.URIRef('http://purl.obolibrary.org/obo/RO_0002436')), (rdflib.term.URIRef('http://purl.obolibrary.org/obo/PR_Q96I23'), rdflib.term.URIRef('http://purl.obolibrary.org/obo/GO_0005789'), rdflib.term.URIRef('http://purl.obolibrary.org/obo/RO_0001025')), (rdflib.term.URIRef('http://purl.obolibrary.org/obo/GO_0005789'), rdflib.term.URIRef('http://purl.obolibrary.org/obo/PR_P08684'), rdflib.term.URIRef('http://purl.obolibrary.org/obo/RO_0001015'))]\n",
      "[(rdflib.term.URIRef('http://purl.obolibrary.org/obo/CHEBI_90'), rdflib.term.URIRef('http://purl.obolibrary.org/obo/CHEBI_76125'), rdflib.term.URIRef('http://purl.obolibrary.org/obo/chebi#is_enantiomer_of')), (rdflib.term.URIRef('http://purl.obolibrary.org/obo/CHEBI_76125'), rdflib.term.URIRef('http://purl.obolibrary.org/obo/CHEBI_23053'), rdflib.term.URIRef('http://www.w3.org/2000/01/rdf-schema#subClassOf')), (rdflib.term.URIRef('http://purl.obolibrary.org/obo/CHEBI_23053'), rdflib.term.URIRef('http://purl.obolibrary.org/obo/MONDO_0007256'), rdflib.term.URIRef('http://purl.obolibrary.org/obo/RO_0002606')), (rdflib.term.URIRef('http://purl.obolibrary.org/obo/MONDO_0007256'), rdflib.term.URIRef('http://purl.obolibrary.org/obo/CHEBI_15367'), rdflib.term.URIRef('http://purl.obolibrary.org/obo/RO_0002302')), (rdflib.term.URIRef('http://purl.obolibrary.org/obo/CHEBI_15367'), rdflib.term.URIRef('http://purl.obolibrary.org/obo/GO_0043085'), rdflib.term.URIRef('http://purl.obolibrary.org/obo/RO_0002436')), (rdflib.term.URIRef('http://purl.obolibrary.org/obo/GO_0043085'), rdflib.term.URIRef('http://purl.obolibrary.org/obo/GO_0003824'), rdflib.term.URIRef('http://purl.obolibrary.org/obo/RO_0002213')), (rdflib.term.URIRef('http://purl.obolibrary.org/obo/GO_0003824'), rdflib.term.URIRef('http://purl.obolibrary.org/obo/PR_Q92535'), rdflib.term.URIRef('http://purl.obolibrary.org/obo/RO_0000079')), (rdflib.term.URIRef('http://purl.obolibrary.org/obo/PR_Q92535'), rdflib.term.URIRef('http://purl.obolibrary.org/obo/GO_0005789'), rdflib.term.URIRef('http://purl.obolibrary.org/obo/RO_0001025')), (rdflib.term.URIRef('http://purl.obolibrary.org/obo/GO_0005789'), rdflib.term.URIRef('http://purl.obolibrary.org/obo/PR_P08684'), rdflib.term.URIRef('http://purl.obolibrary.org/obo/RO_0001015'))]\n",
      "[(rdflib.term.URIRef('http://purl.obolibrary.org/obo/CHEBI_90'), rdflib.term.URIRef('http://purl.obolibrary.org/obo/CHEBI_76125'), rdflib.term.URIRef('http://purl.obolibrary.org/obo/chebi#is_enantiomer_of')), (rdflib.term.URIRef('http://purl.obolibrary.org/obo/CHEBI_76125'), rdflib.term.URIRef('http://purl.obolibrary.org/obo/CHEBI_23053'), rdflib.term.URIRef('http://www.w3.org/2000/01/rdf-schema#subClassOf')), (rdflib.term.URIRef('http://purl.obolibrary.org/obo/CHEBI_23053'), rdflib.term.URIRef('http://purl.obolibrary.org/obo/MONDO_0007256'), rdflib.term.URIRef('http://purl.obolibrary.org/obo/RO_0002606')), (rdflib.term.URIRef('http://purl.obolibrary.org/obo/MONDO_0007256'), rdflib.term.URIRef('http://purl.obolibrary.org/obo/CHEBI_15367'), rdflib.term.URIRef('http://purl.obolibrary.org/obo/RO_0002302')), (rdflib.term.URIRef('http://purl.obolibrary.org/obo/CHEBI_15367'), rdflib.term.URIRef('http://purl.obolibrary.org/obo/GO_0043085'), rdflib.term.URIRef('http://purl.obolibrary.org/obo/RO_0002436')), (rdflib.term.URIRef('http://purl.obolibrary.org/obo/GO_0043085'), rdflib.term.URIRef('http://purl.obolibrary.org/obo/GO_0003824'), rdflib.term.URIRef('http://purl.obolibrary.org/obo/RO_0002213')), (rdflib.term.URIRef('http://purl.obolibrary.org/obo/GO_0003824'), rdflib.term.URIRef('http://purl.obolibrary.org/obo/PR_Q92535'), rdflib.term.URIRef('http://purl.obolibrary.org/obo/RO_0000079')), (rdflib.term.URIRef('http://purl.obolibrary.org/obo/PR_Q92535'), rdflib.term.URIRef('http://purl.obolibrary.org/obo/PR_Q92521'), rdflib.term.URIRef('http://purl.obolibrary.org/obo/RO_0002436')), (rdflib.term.URIRef('http://purl.obolibrary.org/obo/PR_Q92521'), rdflib.term.URIRef('http://purl.obolibrary.org/obo/GO_0005789'), rdflib.term.URIRef('http://purl.obolibrary.org/obo/RO_0001025')), (rdflib.term.URIRef('http://purl.obolibrary.org/obo/GO_0005789'), rdflib.term.URIRef('http://purl.obolibrary.org/obo/PR_P08684'), rdflib.term.URIRef('http://purl.obolibrary.org/obo/RO_0001015'))]\n"
     ]
    }
   ],
   "source": [
    "i = 0\n",
    "for x in edge_path_test:\n",
    "    print(x)\n",
    "    i += 1\n",
    "    if i==3:\n",
    "        break"
   ]
  },
  {
   "cell_type": "code",
   "execution_count": 110,
   "id": "9b7eb97d-a0c5-4fe7-a15f-b3d904e681db",
   "metadata": {},
   "outputs": [
    {
     "name": "stdout",
     "output_type": "stream",
     "text": [
      "[info] applying next operator to search for a simple path of max length 20\n",
      "[info] Simple path found of length 20\n",
      "[info] Simple path length greater than shortest path length (0) so adding to results\n",
      "[info] applying next operator to search for a simple path of max length 20\n",
      "[info] Simple path found of length 20\n",
      "[info] Simple path length greater than shortest path length (0) so adding to results\n",
      "[info] applying next operator to search for a simple path of max length 20\n",
      "[info] Simple path found of length 20\n",
      "[info] Simple path length greater than shortest path length (0) so adding to results\n",
      "[info] applying next operator to search for a simple path of max length 20\n",
      "[info] Simple path found of length 20\n",
      "[info] Simple path length greater than shortest path length (0) so adding to results\n",
      "[info] applying next operator to search for a simple path of max length 20\n",
      "[info] Simple path found of length 20\n",
      "[info] Simple path length greater than shortest path length (0) so adding to results\n",
      "[info] applying next operator to search for a simple path of max length 20\n",
      "[info] Simple path found of length 20\n",
      "[info] Simple path length greater than shortest path length (0) so adding to results\n",
      "[info] applying next operator to search for a simple path of max length 20\n",
      "[info] Simple path found of length 20\n",
      "[info] Simple path length greater than shortest path length (0) so adding to results\n",
      "[info] applying next operator to search for a simple path of max length 20\n",
      "[info] Simple path found of length 20\n",
      "[info] Simple path length greater than shortest path length (0) so adding to results\n",
      "[info] applying next operator to search for a simple path of max length 20\n",
      "[info] Simple path found of length 20\n",
      "[info] Simple path length greater than shortest path length (0) so adding to results\n",
      "[info] applying next operator to search for a simple path of max length 20\n",
      "[info] Simple path found of length 20\n",
      "[info] Simple path length greater than shortest path length (0) so adding to results\n"
     ]
    }
   ],
   "source": [
    "cyp3a4_edge_paths, cyp3a4_edge_path_labs = k_simple_edge_paths(nx_graph, catechin, obo.PR_P08684, 10, 0)"
   ]
  },
  {
   "cell_type": "code",
   "execution_count": 109,
   "id": "d98a4e47-d1cf-4358-9cc2-09801545af3b",
   "metadata": {},
   "outputs": [],
   "source": [
    "#returns simple paths nodes and edges, \n",
    "def k_simple_edge_paths(G, source, target, k, shortestLen):\n",
    "    paths = nx.all_simple_edge_paths(G, source, target, cutoff=shortestLen+20)\n",
    "    path_l = []\n",
    "    path_n = []\n",
    "    i = 0\n",
    "    while i<k:\n",
    "        try:\n",
    "            print('[info] applying next operator to search for a simple path of max length {}'.format(shortestLen+20))\n",
    "            path = next(paths)\n",
    "        except StopIteration:\n",
    "            break\n",
    "        print('[info] Simple path found of length {}'.format(len(path))) \n",
    "        if len(path) > shortestLen:\n",
    "            print('[info] Simple path length greater than shortest path length ({}) so adding to results'.format(shortestLen))\n",
    "            path_l.append(path)\n",
    "        i += 1\n",
    "    for path in path_l:\n",
    "        triple_list = []\n",
    "        for triple in path:\n",
    "            subj_lab = ''\n",
    "            pred_lab = ''\n",
    "            obj_lab = ''\n",
    "            subj = str(triple[0])\n",
    "            pred = str(triple[2])\n",
    "            obj = str(triple[1])\n",
    "            if subj in nodeLabels:\n",
    "                subj_lab = nodeLabels[subj]\n",
    "            if obj in nodeLabels:\n",
    "                obj_lab = nodeLabels[obj]\n",
    "            if pred in nodeLabels:\n",
    "                pred_lab = nodeLabels[pred]\n",
    "            triple_labels = (subj_lab, pred_lab, obj_lab)\n",
    "            triple_list.append(triple_labels)\n",
    "        path_n.append(triple_list)\n",
    "    return path_l, path_n"
   ]
  },
  {
   "cell_type": "code",
   "execution_count": 114,
   "id": "1c13dd50-e062-4143-a184-8fc3d1e05b58",
   "metadata": {},
   "outputs": [
    {
     "data": {
      "text/plain": [
       "[(rdflib.term.URIRef('http://purl.obolibrary.org/obo/CHEBI_90'),\n",
       "  rdflib.term.URIRef('http://purl.obolibrary.org/obo/CHEBI_76125'),\n",
       "  rdflib.term.URIRef('http://purl.obolibrary.org/obo/chebi#is_enantiomer_of')),\n",
       " (rdflib.term.URIRef('http://purl.obolibrary.org/obo/CHEBI_76125'),\n",
       "  rdflib.term.URIRef('http://purl.obolibrary.org/obo/CHEBI_23053'),\n",
       "  rdflib.term.URIRef('http://www.w3.org/2000/01/rdf-schema#subClassOf')),\n",
       " (rdflib.term.URIRef('http://purl.obolibrary.org/obo/CHEBI_23053'),\n",
       "  rdflib.term.URIRef('http://purl.obolibrary.org/obo/MONDO_0007256'),\n",
       "  rdflib.term.URIRef('http://purl.obolibrary.org/obo/RO_0002606')),\n",
       " (rdflib.term.URIRef('http://purl.obolibrary.org/obo/MONDO_0007256'),\n",
       "  rdflib.term.URIRef('http://purl.obolibrary.org/obo/CHEBI_15367'),\n",
       "  rdflib.term.URIRef('http://purl.obolibrary.org/obo/RO_0002302')),\n",
       " (rdflib.term.URIRef('http://purl.obolibrary.org/obo/CHEBI_15367'),\n",
       "  rdflib.term.URIRef('http://purl.obolibrary.org/obo/GO_0043085'),\n",
       "  rdflib.term.URIRef('http://purl.obolibrary.org/obo/RO_0002436')),\n",
       " (rdflib.term.URIRef('http://purl.obolibrary.org/obo/GO_0043085'),\n",
       "  rdflib.term.URIRef('http://purl.obolibrary.org/obo/GO_0003824'),\n",
       "  rdflib.term.URIRef('http://purl.obolibrary.org/obo/RO_0002213')),\n",
       " (rdflib.term.URIRef('http://purl.obolibrary.org/obo/GO_0003824'),\n",
       "  rdflib.term.URIRef('http://purl.obolibrary.org/obo/PR_Q92535'),\n",
       "  rdflib.term.URIRef('http://purl.obolibrary.org/obo/RO_0000079')),\n",
       " (rdflib.term.URIRef('http://purl.obolibrary.org/obo/PR_Q92535'),\n",
       "  rdflib.term.URIRef('http://purl.obolibrary.org/obo/PR_000012694'),\n",
       "  rdflib.term.URIRef('http://www.w3.org/2000/01/rdf-schema#subClassOf')),\n",
       " (rdflib.term.URIRef('http://purl.obolibrary.org/obo/PR_000012694'),\n",
       "  rdflib.term.URIRef('http://purl.obolibrary.org/obo/PR_000000001'),\n",
       "  rdflib.term.URIRef('http://www.w3.org/2000/01/rdf-schema#subClassOf')),\n",
       " (rdflib.term.URIRef('http://purl.obolibrary.org/obo/PR_000000001'),\n",
       "  rdflib.term.URIRef('http://purl.obolibrary.org/obo/GO_0006412'),\n",
       "  rdflib.term.URIRef('http://purl.obolibrary.org/obo/RO_0002353')),\n",
       " (rdflib.term.URIRef('http://purl.obolibrary.org/obo/GO_0006412'),\n",
       "  rdflib.term.URIRef('http://purl.obolibrary.org/obo/PR_Q96EH5'),\n",
       "  rdflib.term.URIRef('http://purl.obolibrary.org/obo/RO_0000057')),\n",
       " (rdflib.term.URIRef('http://purl.obolibrary.org/obo/PR_Q96EH5'),\n",
       "  rdflib.term.URIRef('http://purl.obolibrary.org/obo/PR_P25398'),\n",
       "  rdflib.term.URIRef('http://purl.obolibrary.org/obo/RO_0002436')),\n",
       " (rdflib.term.URIRef('http://purl.obolibrary.org/obo/PR_P25398'),\n",
       "  rdflib.term.URIRef('http://purl.obolibrary.org/obo/PR_P62280'),\n",
       "  rdflib.term.URIRef('http://purl.obolibrary.org/obo/RO_0002436')),\n",
       " (rdflib.term.URIRef('http://purl.obolibrary.org/obo/PR_P62280'),\n",
       "  rdflib.term.URIRef('http://purl.obolibrary.org/obo/GO_0005515'),\n",
       "  rdflib.term.URIRef('http://purl.obolibrary.org/obo/RO_0000085')),\n",
       " (rdflib.term.URIRef('http://purl.obolibrary.org/obo/GO_0005515'),\n",
       "  rdflib.term.URIRef('http://purl.obolibrary.org/obo/PR_Q86UP9'),\n",
       "  rdflib.term.URIRef('http://purl.obolibrary.org/obo/RO_0000079')),\n",
       " (rdflib.term.URIRef('http://purl.obolibrary.org/obo/PR_Q86UP9'),\n",
       "  rdflib.term.URIRef('http://purl.obolibrary.org/obo/PR_O14817'),\n",
       "  rdflib.term.URIRef('http://purl.obolibrary.org/obo/RO_0002436')),\n",
       " (rdflib.term.URIRef('http://purl.obolibrary.org/obo/PR_O14817'),\n",
       "  rdflib.term.URIRef('http://purl.obolibrary.org/obo/GO_0065003'),\n",
       "  rdflib.term.URIRef('http://purl.obolibrary.org/obo/RO_0000056')),\n",
       " (rdflib.term.URIRef('http://purl.obolibrary.org/obo/GO_0065003'),\n",
       "  rdflib.term.URIRef('http://purl.obolibrary.org/obo/PR_P29590'),\n",
       "  rdflib.term.URIRef('http://purl.obolibrary.org/obo/RO_0000057')),\n",
       " (rdflib.term.URIRef('http://purl.obolibrary.org/obo/PR_P29590'),\n",
       "  rdflib.term.URIRef('http://purl.obolibrary.org/obo/GO_0005737'),\n",
       "  rdflib.term.URIRef('http://purl.obolibrary.org/obo/RO_0001025')),\n",
       " (rdflib.term.URIRef('http://purl.obolibrary.org/obo/GO_0005737'),\n",
       "  rdflib.term.URIRef('http://purl.obolibrary.org/obo/PR_P08684'),\n",
       "  rdflib.term.URIRef('http://purl.obolibrary.org/obo/RO_0001015'))]"
      ]
     },
     "execution_count": 114,
     "metadata": {},
     "output_type": "execute_result"
    }
   ],
   "source": [
    "cyp3a4_edge_paths[0]"
   ]
  },
  {
   "cell_type": "code",
   "execution_count": 115,
   "id": "beb1ec23-12b8-414d-baf0-f4d4c7ac9d9f",
   "metadata": {},
   "outputs": [
    {
     "data": {
      "text/plain": [
       "[('(-)-epicatechin', 'is enantiomer of', '(+)-epicatechin'),\n",
       " ('(+)-epicatechin', 'subClassOf', 'catechin'),\n",
       " ('catechin', 'is substance that treats', 'hepatocellular carcinoma'),\n",
       " ('hepatocellular carcinoma',\n",
       "  'is treated by substance',\n",
       "  'all-trans-retinoic acid'),\n",
       " ('all-trans-retinoic acid',\n",
       "  'molecularly interacts with',\n",
       "  'positive regulation of catalytic activity'),\n",
       " ('positive regulation of catalytic activity',\n",
       "  'positively regulates',\n",
       "  'catalytic activity'),\n",
       " ('catalytic activity',\n",
       "  'function of',\n",
       "  'phosphatidylinositol N-acetylglucosaminyltransferase subunit C (human)'),\n",
       " ('phosphatidylinositol N-acetylglucosaminyltransferase subunit C (human)',\n",
       "  'subClassOf',\n",
       "  'phosphatidylinositol N-acetylglucosaminyltransferase subunit C'),\n",
       " ('phosphatidylinositol N-acetylglucosaminyltransferase subunit C',\n",
       "  'subClassOf',\n",
       "  'protein'),\n",
       " ('protein', 'output_of', 'translation'),\n",
       " ('translation', 'has participant', '60S ribosomal protein L39-like (human)'),\n",
       " ('60S ribosomal protein L39-like (human)',\n",
       "  'molecularly interacts with',\n",
       "  '40S ribosomal protein S12 (human)'),\n",
       " ('40S ribosomal protein S12 (human)',\n",
       "  'molecularly interacts with',\n",
       "  '40S ribosomal protein S11 (human)'),\n",
       " ('40S ribosomal protein S11 (human)', 'has function', 'protein binding'),\n",
       " ('protein binding',\n",
       "  'function of',\n",
       "  'LHFPL tetraspan subfamily member 3 protein (human)'),\n",
       " ('LHFPL tetraspan subfamily member 3 protein (human)',\n",
       "  'molecularly interacts with',\n",
       "  'tetraspanin-4 (human)'),\n",
       " ('tetraspanin-4 (human)',\n",
       "  'participates in',\n",
       "  'protein-containing complex assembly'),\n",
       " ('protein-containing complex assembly',\n",
       "  'has participant',\n",
       "  'protein PML (human)'),\n",
       " ('protein PML (human)', 'located in', 'cytoplasm'),\n",
       " ('cytoplasm', 'location_of', 'cytochrome P450 3A4 (human)')]"
      ]
     },
     "execution_count": 115,
     "metadata": {},
     "output_type": "execute_result"
    }
   ],
   "source": [
    "cyp3a4_edge_path_labs[0]"
   ]
  },
  {
   "cell_type": "code",
   "execution_count": 117,
   "id": "b5c089ef-2b42-49a9-acd4-0bd626718723",
   "metadata": {},
   "outputs": [
    {
     "name": "stdout",
     "output_type": "stream",
     "text": [
      "['catechin', 'molecularly interacts with', 'protein binding', '']\n",
      "['protein binding', 'function of', 'cytochrome P450 3A4 (human)', '']\n"
     ]
    }
   ],
   "source": [
    "pathx = nx.bidirectional_shortest_path(nx_graph, obo.CHEBI_23053, obo.PR_P08684)\n",
    "path_labels = get_path_labels(pathx)\n",
    "for triples in path_labels:\n",
    "    print(triples)"
   ]
  },
  {
   "cell_type": "code",
   "execution_count": 118,
   "id": "d9c6058d-3c5f-4083-a760-0b44cd6871a3",
   "metadata": {},
   "outputs": [
    {
     "name": "stdout",
     "output_type": "stream",
     "text": [
      "[info] applying next operator to search for a simple path of max length 22\n",
      "[info] Simple path found of length 22\n",
      "[info] Simple path length greater than shortest path length (2) so adding to results\n",
      "[info] applying next operator to search for a simple path of max length 22\n",
      "[info] Simple path found of length 22\n",
      "[info] Simple path length greater than shortest path length (2) so adding to results\n",
      "[info] applying next operator to search for a simple path of max length 22\n",
      "[info] Simple path found of length 22\n",
      "[info] Simple path length greater than shortest path length (2) so adding to results\n",
      "[info] applying next operator to search for a simple path of max length 22\n",
      "[info] Simple path found of length 22\n",
      "[info] Simple path length greater than shortest path length (2) so adding to results\n",
      "[info] applying next operator to search for a simple path of max length 22\n",
      "[info] Simple path found of length 22\n",
      "[info] Simple path length greater than shortest path length (2) so adding to results\n",
      "[info] applying next operator to search for a simple path of max length 22\n",
      "[info] Simple path found of length 22\n",
      "[info] Simple path length greater than shortest path length (2) so adding to results\n",
      "[info] applying next operator to search for a simple path of max length 22\n",
      "[info] Simple path found of length 22\n",
      "[info] Simple path length greater than shortest path length (2) so adding to results\n",
      "[info] applying next operator to search for a simple path of max length 22\n",
      "[info] Simple path found of length 22\n",
      "[info] Simple path length greater than shortest path length (2) so adding to results\n",
      "[info] applying next operator to search for a simple path of max length 22\n",
      "[info] Simple path found of length 22\n",
      "[info] Simple path length greater than shortest path length (2) so adding to results\n",
      "[info] applying next operator to search for a simple path of max length 22\n",
      "[info] Simple path found of length 22\n",
      "[info] Simple path length greater than shortest path length (2) so adding to results\n",
      "[info] applying next operator to search for a simple path of max length 22\n",
      "[info] Simple path found of length 22\n",
      "[info] Simple path length greater than shortest path length (2) so adding to results\n",
      "[info] applying next operator to search for a simple path of max length 22\n",
      "[info] Simple path found of length 22\n",
      "[info] Simple path length greater than shortest path length (2) so adding to results\n",
      "[info] applying next operator to search for a simple path of max length 22\n",
      "[info] Simple path found of length 22\n",
      "[info] Simple path length greater than shortest path length (2) so adding to results\n",
      "[info] applying next operator to search for a simple path of max length 22\n",
      "[info] Simple path found of length 22\n",
      "[info] Simple path length greater than shortest path length (2) so adding to results\n",
      "[info] applying next operator to search for a simple path of max length 22\n",
      "[info] Simple path found of length 22\n",
      "[info] Simple path length greater than shortest path length (2) so adding to results\n",
      "[info] applying next operator to search for a simple path of max length 22\n",
      "[info] Simple path found of length 22\n",
      "[info] Simple path length greater than shortest path length (2) so adding to results\n",
      "[info] applying next operator to search for a simple path of max length 22\n",
      "[info] Simple path found of length 22\n",
      "[info] Simple path length greater than shortest path length (2) so adding to results\n",
      "[info] applying next operator to search for a simple path of max length 22\n",
      "[info] Simple path found of length 22\n",
      "[info] Simple path length greater than shortest path length (2) so adding to results\n",
      "[info] applying next operator to search for a simple path of max length 22\n",
      "[info] Simple path found of length 22\n",
      "[info] Simple path length greater than shortest path length (2) so adding to results\n",
      "[info] applying next operator to search for a simple path of max length 22\n",
      "[info] Simple path found of length 22\n",
      "[info] Simple path length greater than shortest path length (2) so adding to results\n"
     ]
    }
   ],
   "source": [
    "source = str(obo.CHEBI_23053)\n",
    "target = str(obo.PR_P08684)\n",
    "save2 = 'catechin_cyp3a4_simple_paths_20.txt'\n",
    "file_save = open(DIR_OUT+save2, 'w')\n",
    "cyp3a4_edge_paths, cyp3a4_edge_path_labs = k_simple_edge_paths(nx_graph, obo.CHEBI_23053, obo.PR_P08684, 20, 2)\n",
    "if source in nodeLabels:\n",
    "    source_label = nodeLabels[source]\n",
    "if target in nodeLabels:\n",
    "    target_label = nodeLabels[target]\n",
    "file_save.write('\\n{} - {} Simple Path (cutoff=20):\\n'.format(source_label, target_label))\n",
    "i = 0\n",
    "for path_list in cyp3a4_edge_path_labs:\n",
    "    file_save.write('\\nPATH: '+str(i)+'\\n')\n",
    "    for triples in path_list:\n",
    "        for item in triples:\n",
    "            file_save.write(str(item)+' ')\n",
    "        file_save.write('\\n')\n",
    "    i += 1\n",
    "file_save.close()"
   ]
  },
  {
   "cell_type": "code",
   "execution_count": 123,
   "id": "d7127703-d16f-4af2-8607-8b1437d2c505",
   "metadata": {},
   "outputs": [
    {
     "name": "stdout",
     "output_type": "stream",
     "text": [
      "[info] applying next operator to search for a simple path of max length 20\n",
      "[info] Simple path found of length 20\n",
      "[info] Simple path length greater than shortest path length (0) so adding to results\n",
      "[info] applying next operator to search for a simple path of max length 20\n",
      "[info] Simple path found of length 20\n",
      "[info] Simple path length greater than shortest path length (0) so adding to results\n",
      "[info] applying next operator to search for a simple path of max length 20\n",
      "[info] Simple path found of length 20\n",
      "[info] Simple path length greater than shortest path length (0) so adding to results\n",
      "[info] applying next operator to search for a simple path of max length 20\n",
      "[info] Simple path found of length 20\n",
      "[info] Simple path length greater than shortest path length (0) so adding to results\n",
      "[info] applying next operator to search for a simple path of max length 20\n",
      "[info] Simple path found of length 20\n",
      "[info] Simple path length greater than shortest path length (0) so adding to results\n",
      "[info] applying next operator to search for a simple path of max length 20\n",
      "[info] Simple path found of length 20\n",
      "[info] Simple path length greater than shortest path length (0) so adding to results\n",
      "[info] applying next operator to search for a simple path of max length 20\n",
      "[info] Simple path found of length 20\n",
      "[info] Simple path length greater than shortest path length (0) so adding to results\n",
      "[info] applying next operator to search for a simple path of max length 20\n",
      "[info] Simple path found of length 20\n",
      "[info] Simple path length greater than shortest path length (0) so adding to results\n",
      "[info] applying next operator to search for a simple path of max length 20\n",
      "[info] Simple path found of length 20\n",
      "[info] Simple path length greater than shortest path length (0) so adding to results\n",
      "[info] applying next operator to search for a simple path of max length 20\n",
      "[info] Simple path found of length 20\n",
      "[info] Simple path length greater than shortest path length (0) so adding to results\n",
      "[info] applying next operator to search for a simple path of max length 20\n",
      "[info] Simple path found of length 20\n",
      "[info] Simple path length greater than shortest path length (0) so adding to results\n",
      "[info] applying next operator to search for a simple path of max length 20\n",
      "[info] Simple path found of length 20\n",
      "[info] Simple path length greater than shortest path length (0) so adding to results\n",
      "[info] applying next operator to search for a simple path of max length 20\n",
      "[info] Simple path found of length 20\n",
      "[info] Simple path length greater than shortest path length (0) so adding to results\n",
      "[info] applying next operator to search for a simple path of max length 20\n",
      "[info] Simple path found of length 20\n",
      "[info] Simple path length greater than shortest path length (0) so adding to results\n",
      "[info] applying next operator to search for a simple path of max length 20\n",
      "[info] Simple path found of length 20\n",
      "[info] Simple path length greater than shortest path length (0) so adding to results\n",
      "[info] applying next operator to search for a simple path of max length 20\n",
      "[info] Simple path found of length 20\n",
      "[info] Simple path length greater than shortest path length (0) so adding to results\n",
      "[info] applying next operator to search for a simple path of max length 20\n",
      "[info] Simple path found of length 20\n",
      "[info] Simple path length greater than shortest path length (0) so adding to results\n",
      "[info] applying next operator to search for a simple path of max length 20\n",
      "[info] Simple path found of length 20\n",
      "[info] Simple path length greater than shortest path length (0) so adding to results\n",
      "[info] applying next operator to search for a simple path of max length 20\n",
      "[info] Simple path found of length 20\n",
      "[info] Simple path length greater than shortest path length (0) so adding to results\n",
      "[info] applying next operator to search for a simple path of max length 20\n",
      "[info] Simple path found of length 20\n",
      "[info] Simple path length greater than shortest path length (0) so adding to results\n"
     ]
    }
   ],
   "source": [
    "source = str(obo.CHEBI_4806)\n",
    "target = str(obo.CHEBI_41879)\n",
    "save2 = 'EGCG_dexamethasone_simple_paths_20.txt'\n",
    "file_save = open(DIR_OUT+save2, 'w')\n",
    "cyp3a4_edge_paths, cyp3a4_edge_path_labs = k_simple_edge_paths(nx_graph, obo.CHEBI_4806, obo.CHEBI_41879, 20, 0)\n",
    "if source in nodeLabels:\n",
    "    source_label = nodeLabels[source]\n",
    "if target in nodeLabels:\n",
    "    target_label = nodeLabels[target]\n",
    "file_save.write('\\n{} - {} Simple Path (cutoff=20):\\n'.format(source_label, target_label))\n",
    "i = 0\n",
    "for path_list in cyp3a4_edge_path_labs:\n",
    "    file_save.write('\\nPATH: '+str(i)+'\\n')\n",
    "    for triples in path_list:\n",
    "        for item in triples:\n",
    "            file_save.write(str(item)+' ')\n",
    "        file_save.write('\\n')\n",
    "    i += 1\n",
    "file_save.close()"
   ]
  },
  {
   "cell_type": "code",
   "execution_count": 126,
   "id": "48055cbd-6811-4e68-a6a6-3cc5f37214da",
   "metadata": {},
   "outputs": [
    {
     "name": "stdout",
     "output_type": "stream",
     "text": [
      "[info] applying next operator to search for a simple path of max length 20\n",
      "[info] Simple path found of length 20\n",
      "[info] Simple path length greater than shortest path length (0) so adding to results\n",
      "[info] applying next operator to search for a simple path of max length 20\n",
      "[info] Simple path found of length 20\n",
      "[info] Simple path length greater than shortest path length (0) so adding to results\n",
      "[info] applying next operator to search for a simple path of max length 20\n",
      "[info] Simple path found of length 20\n",
      "[info] Simple path length greater than shortest path length (0) so adding to results\n",
      "[info] applying next operator to search for a simple path of max length 20\n",
      "[info] Simple path found of length 20\n",
      "[info] Simple path length greater than shortest path length (0) so adding to results\n",
      "[info] applying next operator to search for a simple path of max length 20\n",
      "[info] Simple path found of length 20\n",
      "[info] Simple path length greater than shortest path length (0) so adding to results\n",
      "[info] applying next operator to search for a simple path of max length 20\n",
      "[info] Simple path found of length 20\n",
      "[info] Simple path length greater than shortest path length (0) so adding to results\n",
      "[info] applying next operator to search for a simple path of max length 20\n",
      "[info] Simple path found of length 20\n",
      "[info] Simple path length greater than shortest path length (0) so adding to results\n",
      "[info] applying next operator to search for a simple path of max length 20\n",
      "[info] Simple path found of length 20\n",
      "[info] Simple path length greater than shortest path length (0) so adding to results\n",
      "[info] applying next operator to search for a simple path of max length 20\n",
      "[info] Simple path found of length 20\n",
      "[info] Simple path length greater than shortest path length (0) so adding to results\n",
      "[info] applying next operator to search for a simple path of max length 20\n",
      "[info] Simple path found of length 20\n",
      "[info] Simple path length greater than shortest path length (0) so adding to results\n",
      "[info] applying next operator to search for a simple path of max length 20\n",
      "[info] Simple path found of length 20\n",
      "[info] Simple path length greater than shortest path length (0) so adding to results\n",
      "[info] applying next operator to search for a simple path of max length 20\n",
      "[info] Simple path found of length 20\n",
      "[info] Simple path length greater than shortest path length (0) so adding to results\n",
      "[info] applying next operator to search for a simple path of max length 20\n",
      "[info] Simple path found of length 20\n",
      "[info] Simple path length greater than shortest path length (0) so adding to results\n",
      "[info] applying next operator to search for a simple path of max length 20\n",
      "[info] Simple path found of length 20\n",
      "[info] Simple path length greater than shortest path length (0) so adding to results\n",
      "[info] applying next operator to search for a simple path of max length 20\n",
      "[info] Simple path found of length 20\n",
      "[info] Simple path length greater than shortest path length (0) so adding to results\n",
      "[info] applying next operator to search for a simple path of max length 20\n",
      "[info] Simple path found of length 20\n",
      "[info] Simple path length greater than shortest path length (0) so adding to results\n",
      "[info] applying next operator to search for a simple path of max length 20\n",
      "[info] Simple path found of length 20\n",
      "[info] Simple path length greater than shortest path length (0) so adding to results\n",
      "[info] applying next operator to search for a simple path of max length 20\n",
      "[info] Simple path found of length 20\n",
      "[info] Simple path length greater than shortest path length (0) so adding to results\n",
      "[info] applying next operator to search for a simple path of max length 20\n",
      "[info] Simple path found of length 20\n",
      "[info] Simple path length greater than shortest path length (0) so adding to results\n",
      "[info] applying next operator to search for a simple path of max length 20\n",
      "[info] Simple path found of length 20\n",
      "[info] Simple path length greater than shortest path length (0) so adding to results\n"
     ]
    }
   ],
   "source": [
    "source = str(obo.CHEBI_4806)\n",
    "target = str(obo.UBERON_0000468)\n",
    "save2 = 'EGCG_bodyweight_simple_paths_20.txt'\n",
    "file_save = open(DIR_OUT+save2, 'w')\n",
    "cyp3a4_edge_paths, cyp3a4_edge_path_labs = k_simple_edge_paths(nx_graph, obo.CHEBI_4806, obo.UBERON_0000468, 20, 0)\n",
    "if source in nodeLabels:\n",
    "    source_label = nodeLabels[source]\n",
    "if target in nodeLabels:\n",
    "    target_label = nodeLabels[target]\n",
    "file_save.write('\\n{} - {} Simple Path (cutoff=20):\\n'.format(source_label, target_label))\n",
    "i = 0\n",
    "for path_list in cyp3a4_edge_path_labs:\n",
    "    file_save.write('\\nPATH: '+str(i)+'\\n')\n",
    "    for triples in path_list:\n",
    "        for item in triples:\n",
    "            file_save.write(str(item)+' ')\n",
    "        file_save.write('\\n')\n",
    "    i += 1\n",
    "file_save.close()"
   ]
  },
  {
   "cell_type": "code",
   "execution_count": 128,
   "id": "66a061ab-ec1a-41bf-a3a2-8a02a46c8f9d",
   "metadata": {},
   "outputs": [
    {
     "name": "stdout",
     "output_type": "stream",
     "text": [
      "[info] applying next operator to search for a simple path of max length 20\n",
      "[info] Simple path found of length 20\n",
      "[info] Simple path length greater than shortest path length (0) so adding to results\n",
      "[info] applying next operator to search for a simple path of max length 20\n",
      "[info] Simple path found of length 20\n",
      "[info] Simple path length greater than shortest path length (0) so adding to results\n",
      "[info] applying next operator to search for a simple path of max length 20\n",
      "[info] Simple path found of length 20\n",
      "[info] Simple path length greater than shortest path length (0) so adding to results\n",
      "[info] applying next operator to search for a simple path of max length 20\n",
      "[info] Simple path found of length 20\n",
      "[info] Simple path length greater than shortest path length (0) so adding to results\n",
      "[info] applying next operator to search for a simple path of max length 20\n",
      "[info] Simple path found of length 20\n",
      "[info] Simple path length greater than shortest path length (0) so adding to results\n",
      "[info] applying next operator to search for a simple path of max length 20\n",
      "[info] Simple path found of length 20\n",
      "[info] Simple path length greater than shortest path length (0) so adding to results\n",
      "[info] applying next operator to search for a simple path of max length 20\n",
      "[info] Simple path found of length 20\n",
      "[info] Simple path length greater than shortest path length (0) so adding to results\n",
      "[info] applying next operator to search for a simple path of max length 20\n",
      "[info] Simple path found of length 20\n",
      "[info] Simple path length greater than shortest path length (0) so adding to results\n",
      "[info] applying next operator to search for a simple path of max length 20\n",
      "[info] Simple path found of length 20\n",
      "[info] Simple path length greater than shortest path length (0) so adding to results\n",
      "[info] applying next operator to search for a simple path of max length 20\n",
      "[info] Simple path found of length 20\n",
      "[info] Simple path length greater than shortest path length (0) so adding to results\n",
      "[info] applying next operator to search for a simple path of max length 20\n",
      "[info] Simple path found of length 20\n",
      "[info] Simple path length greater than shortest path length (0) so adding to results\n",
      "[info] applying next operator to search for a simple path of max length 20\n",
      "[info] Simple path found of length 20\n",
      "[info] Simple path length greater than shortest path length (0) so adding to results\n",
      "[info] applying next operator to search for a simple path of max length 20\n",
      "[info] Simple path found of length 20\n",
      "[info] Simple path length greater than shortest path length (0) so adding to results\n",
      "[info] applying next operator to search for a simple path of max length 20\n",
      "[info] Simple path found of length 20\n",
      "[info] Simple path length greater than shortest path length (0) so adding to results\n",
      "[info] applying next operator to search for a simple path of max length 20\n",
      "[info] Simple path found of length 20\n",
      "[info] Simple path length greater than shortest path length (0) so adding to results\n",
      "[info] applying next operator to search for a simple path of max length 20\n",
      "[info] Simple path found of length 20\n",
      "[info] Simple path length greater than shortest path length (0) so adding to results\n",
      "[info] applying next operator to search for a simple path of max length 20\n",
      "[info] Simple path found of length 20\n",
      "[info] Simple path length greater than shortest path length (0) so adding to results\n",
      "[info] applying next operator to search for a simple path of max length 20\n",
      "[info] Simple path found of length 20\n",
      "[info] Simple path length greater than shortest path length (0) so adding to results\n",
      "[info] applying next operator to search for a simple path of max length 20\n",
      "[info] Simple path found of length 20\n",
      "[info] Simple path length greater than shortest path length (0) so adding to results\n",
      "[info] applying next operator to search for a simple path of max length 20\n",
      "[info] Simple path found of length 20\n",
      "[info] Simple path length greater than shortest path length (0) so adding to results\n"
     ]
    }
   ],
   "source": [
    "source = str(obo.CHEBI_23053)\n",
    "target = str(obo.PR_P08684)\n",
    "save2 = 'catechin_cyp3a4_simple_paths_20.txt'\n",
    "file_save = open(DIR_OUT+save2, 'w')\n",
    "cyp3a4_edge_paths, cyp3a4_edge_path_labs = k_simple_edge_paths(nx_graph, obo.CHEBI_23053, obo.PR_P08684, 20, 0)\n",
    "if source in nodeLabels:\n",
    "    source_label = nodeLabels[source]\n",
    "if target in nodeLabels:\n",
    "    target_label = nodeLabels[target]\n",
    "file_save.write('\\n{} - {} Simple Path (cutoff=20):\\n'.format(source_label, target_label))\n",
    "i = 0\n",
    "for path_list in cyp3a4_edge_path_labs:\n",
    "    file_save.write('\\nPATH: '+str(i)+'\\n')\n",
    "    for triples in path_list:\n",
    "        for item in triples:\n",
    "            file_save.write(str(item)+' ')\n",
    "        file_save.write('\\n')\n",
    "    i += 1\n",
    "file_save.close()"
   ]
  },
  {
   "cell_type": "code",
   "execution_count": 130,
   "id": "e254c0ef-b8ad-4156-9854-09da18bb1e4f",
   "metadata": {},
   "outputs": [
    {
     "name": "stdout",
     "output_type": "stream",
     "text": [
      "[info] applying next operator to search for a simple path of max length 20\n",
      "[info] Simple path found of length 20\n",
      "[info] Simple path length greater than shortest path length (0) so adding to results\n",
      "[info] applying next operator to search for a simple path of max length 20\n",
      "[info] Simple path found of length 20\n",
      "[info] Simple path length greater than shortest path length (0) so adding to results\n",
      "[info] applying next operator to search for a simple path of max length 20\n",
      "[info] Simple path found of length 20\n",
      "[info] Simple path length greater than shortest path length (0) so adding to results\n",
      "[info] applying next operator to search for a simple path of max length 20\n",
      "[info] Simple path found of length 20\n",
      "[info] Simple path length greater than shortest path length (0) so adding to results\n",
      "[info] applying next operator to search for a simple path of max length 20\n",
      "[info] Simple path found of length 20\n",
      "[info] Simple path length greater than shortest path length (0) so adding to results\n",
      "[info] applying next operator to search for a simple path of max length 20\n",
      "[info] Simple path found of length 20\n",
      "[info] Simple path length greater than shortest path length (0) so adding to results\n",
      "[info] applying next operator to search for a simple path of max length 20\n",
      "[info] Simple path found of length 20\n",
      "[info] Simple path length greater than shortest path length (0) so adding to results\n",
      "[info] applying next operator to search for a simple path of max length 20\n",
      "[info] Simple path found of length 20\n",
      "[info] Simple path length greater than shortest path length (0) so adding to results\n",
      "[info] applying next operator to search for a simple path of max length 20\n",
      "[info] Simple path found of length 20\n",
      "[info] Simple path length greater than shortest path length (0) so adding to results\n",
      "[info] applying next operator to search for a simple path of max length 20\n",
      "[info] Simple path found of length 20\n",
      "[info] Simple path length greater than shortest path length (0) so adding to results\n",
      "[info] applying next operator to search for a simple path of max length 20\n",
      "[info] Simple path found of length 20\n",
      "[info] Simple path length greater than shortest path length (0) so adding to results\n",
      "[info] applying next operator to search for a simple path of max length 20\n",
      "[info] Simple path found of length 20\n",
      "[info] Simple path length greater than shortest path length (0) so adding to results\n",
      "[info] applying next operator to search for a simple path of max length 20\n",
      "[info] Simple path found of length 20\n",
      "[info] Simple path length greater than shortest path length (0) so adding to results\n",
      "[info] applying next operator to search for a simple path of max length 20\n",
      "[info] Simple path found of length 20\n",
      "[info] Simple path length greater than shortest path length (0) so adding to results\n",
      "[info] applying next operator to search for a simple path of max length 20\n",
      "[info] Simple path found of length 20\n",
      "[info] Simple path length greater than shortest path length (0) so adding to results\n",
      "[info] applying next operator to search for a simple path of max length 20\n",
      "[info] Simple path found of length 20\n",
      "[info] Simple path length greater than shortest path length (0) so adding to results\n",
      "[info] applying next operator to search for a simple path of max length 20\n",
      "[info] Simple path found of length 20\n",
      "[info] Simple path length greater than shortest path length (0) so adding to results\n",
      "[info] applying next operator to search for a simple path of max length 20\n",
      "[info] Simple path found of length 20\n",
      "[info] Simple path length greater than shortest path length (0) so adding to results\n",
      "[info] applying next operator to search for a simple path of max length 20\n",
      "[info] Simple path found of length 20\n",
      "[info] Simple path length greater than shortest path length (0) so adding to results\n",
      "[info] applying next operator to search for a simple path of max length 20\n",
      "[info] Simple path found of length 20\n",
      "[info] Simple path length greater than shortest path length (0) so adding to results\n"
     ]
    }
   ],
   "source": [
    "source = str(obo.CHEBI_23053)\n",
    "target = str(obo.HP_0003074)\n",
    "save2 = 'catechin_hyperglycemia_simple_paths_20.txt'\n",
    "file_save = open(DIR_OUT+save2, 'w')\n",
    "cyp3a4_edge_paths, cyp3a4_edge_path_labs = k_simple_edge_paths(nx_graph, obo.CHEBI_23053, obo.HP_0003074, 20, 0)\n",
    "if source in nodeLabels:\n",
    "    source_label = nodeLabels[source]\n",
    "if target in nodeLabels:\n",
    "    target_label = nodeLabels[target]\n",
    "file_save.write('\\n{} - {} Simple Path (cutoff=20):\\n'.format(source_label, target_label))\n",
    "i = 0\n",
    "for path_list in cyp3a4_edge_path_labs:\n",
    "    file_save.write('\\nPATH: '+str(i)+'\\n')\n",
    "    for triples in path_list:\n",
    "        for item in triples:\n",
    "            file_save.write(str(item)+' ')\n",
    "        file_save.write('\\n')\n",
    "    i += 1\n",
    "file_save.close()"
   ]
  },
  {
   "cell_type": "code",
   "execution_count": 40,
   "id": "c4d1388f-b44f-4658-b591-6a0e2d1a2052",
   "metadata": {},
   "outputs": [],
   "source": [
    "def k_shortest_paths(G, source, target, k, weight='weight'):\n",
    "    return list(islice(nx.all_shortest_paths(G, source, target, weight=weight), k))"
   ]
  },
  {
   "cell_type": "code",
   "execution_count": 41,
   "id": "48b665fd-91ec-4715-b6be-0bf51e1bb398",
   "metadata": {},
   "outputs": [],
   "source": [
    "#only returns node list, use get_path_labels to generate edges and get labels\n",
    "def k_simple_paths(G, source, target, k, shortestLen):\n",
    "    paths = nx.all_simple_paths(G, source, target, cutoff=shortestLen+20)\n",
    "    path_l = []\n",
    "    i = 0\n",
    "    while i < k:\n",
    "        try:\n",
    "            print('[info] applying next operator to search for a simple path of max length {}'.format(shortestLen+20))\n",
    "            path = next(paths)\n",
    "        except StopIteration:\n",
    "            break\n",
    "        print('[info] Simple path found of length {}'.format(len(path))) \n",
    "        if len(path) > shortestLen:\n",
    "            print('[info] Simple path length greater than shortest path length ({}) so adding to results'.format(shortestLen))\n",
    "            path_l.append(path)\n",
    "        i += 1\n",
    "    return path_l"
   ]
  },
  {
   "cell_type": "code",
   "execution_count": 42,
   "id": "57c4192f-7263-4f24-af7d-eee5bd90ca30",
   "metadata": {},
   "outputs": [
    {
     "name": "stdout",
     "output_type": "stream",
     "text": [
      "[info] applying next operator to search for a simple path of max length 24\n",
      "[info] Simple path found of length 25\n",
      "[info] Simple path length greater than shortest path length (4) so adding to results\n",
      "[info] applying next operator to search for a simple path of max length 24\n",
      "[info] Simple path found of length 25\n",
      "[info] Simple path length greater than shortest path length (4) so adding to results\n",
      "[info] applying next operator to search for a simple path of max length 24\n",
      "[info] Simple path found of length 25\n",
      "[info] Simple path length greater than shortest path length (4) so adding to results\n",
      "[info] applying next operator to search for a simple path of max length 24\n",
      "[info] Simple path found of length 25\n",
      "[info] Simple path length greater than shortest path length (4) so adding to results\n",
      "[info] applying next operator to search for a simple path of max length 24\n",
      "[info] Simple path found of length 25\n",
      "[info] Simple path length greater than shortest path length (4) so adding to results\n",
      "[info] applying next operator to search for a simple path of max length 24\n",
      "[info] Simple path found of length 25\n",
      "[info] Simple path length greater than shortest path length (4) so adding to results\n",
      "[info] applying next operator to search for a simple path of max length 24\n",
      "[info] Simple path found of length 25\n",
      "[info] Simple path length greater than shortest path length (4) so adding to results\n",
      "[info] applying next operator to search for a simple path of max length 24\n",
      "[info] Simple path found of length 25\n",
      "[info] Simple path length greater than shortest path length (4) so adding to results\n",
      "[info] applying next operator to search for a simple path of max length 24\n",
      "[info] Simple path found of length 25\n",
      "[info] Simple path length greater than shortest path length (4) so adding to results\n",
      "[info] applying next operator to search for a simple path of max length 24\n",
      "[info] Simple path found of length 25\n",
      "[info] Simple path length greater than shortest path length (4) so adding to results\n"
     ]
    }
   ],
   "source": [
    "cyp3a4_paths = k_simple_paths(nx_graph, napdi.camellia_sinensis_leaf, obo.PR_P08684, 10, 4)"
   ]
  },
  {
   "cell_type": "code",
   "execution_count": 179,
   "id": "5c810a52-756f-418a-904d-095239745bcc",
   "metadata": {},
   "outputs": [
    {
     "data": {
      "text/plain": [
       "'PR_P08684'"
      ]
     },
     "execution_count": 179,
     "metadata": {},
     "output_type": "execute_result"
    }
   ],
   "source": [
    "str(obo.PR_P08684).split('/')[-1]"
   ]
  },
  {
   "cell_type": "code",
   "execution_count": 43,
   "id": "fcb880de-3b7c-407b-8598-fc31e9734ada",
   "metadata": {},
   "outputs": [],
   "source": [
    "#if returned paths are list\n",
    "#simple paths with max length 25\n",
    "save2 = 'greentea_cyp3a4_simple_paths_10.txt'\n",
    "file_save = open(DIR_OUT+save2, 'w')\n",
    "source = str(napdi.camellia_sinensis_leaf)\n",
    "target = str(obo.PR_P08684)\n",
    "source_label = source\n",
    "target_label = target\n",
    "if source in nodeLabels:\n",
    "    source_label = nodeLabels[source]\n",
    "if target in nodeLabels:\n",
    "    target_label = nodeLabels[target]\n",
    "file_save.write('\\n{} - {} Simple Path (cutoff=24):\\n'.format(source_label, target_label))\n",
    "i = 0\n",
    "for node_list in cyp3a4_paths:\n",
    "    file_save.write('\\nPATH: '+str(i)+'\\n')\n",
    "    path_labels = get_path_labels(node_list)\n",
    "    for triples in path_labels:\n",
    "        for item in triples:\n",
    "            file_save.write(str(item)+' ')\n",
    "        file_save.write('\\n')\n",
    "    i += 1\n",
    "file_save.close()"
   ]
  },
  {
   "cell_type": "code",
   "execution_count": 62,
   "id": "703d2be7-2863-44b2-a84c-3a831688bed3",
   "metadata": {},
   "outputs": [
    {
     "name": "stdout",
     "output_type": "stream",
     "text": [
      "[info] applying next operator to search for a simple path of max length 24\n",
      "[info] Simple path found of length 25\n",
      "[info] Simple path length greater than shortest path length (4) so adding to results\n",
      "[info] applying next operator to search for a simple path of max length 24\n",
      "[info] Simple path found of length 25\n",
      "[info] Simple path length greater than shortest path length (4) so adding to results\n",
      "[info] applying next operator to search for a simple path of max length 24\n",
      "[info] Simple path found of length 25\n",
      "[info] Simple path length greater than shortest path length (4) so adding to results\n",
      "[info] applying next operator to search for a simple path of max length 24\n",
      "[info] Simple path found of length 25\n",
      "[info] Simple path length greater than shortest path length (4) so adding to results\n",
      "[info] applying next operator to search for a simple path of max length 24\n",
      "[info] Simple path found of length 25\n",
      "[info] Simple path length greater than shortest path length (4) so adding to results\n",
      "[info] applying next operator to search for a simple path of max length 24\n",
      "[info] Simple path found of length 25\n",
      "[info] Simple path length greater than shortest path length (4) so adding to results\n",
      "[info] applying next operator to search for a simple path of max length 24\n",
      "[info] Simple path found of length 25\n",
      "[info] Simple path length greater than shortest path length (4) so adding to results\n",
      "[info] applying next operator to search for a simple path of max length 24\n",
      "[info] Simple path found of length 24\n",
      "[info] Simple path length greater than shortest path length (4) so adding to results\n",
      "[info] applying next operator to search for a simple path of max length 24\n",
      "[info] Simple path found of length 25\n",
      "[info] Simple path length greater than shortest path length (4) so adding to results\n",
      "[info] applying next operator to search for a simple path of max length 24\n",
      "[info] Simple path found of length 25\n",
      "[info] Simple path length greater than shortest path length (4) so adding to results\n"
     ]
    }
   ],
   "source": [
    "tea_cyp3a4 = k_simple_paths(nx_graph, obo.CHEBI_35026, obo.PR_P08684, 10, 4)"
   ]
  },
  {
   "cell_type": "code",
   "execution_count": 63,
   "id": "9b59d0f4-4036-4b83-8df9-d9e9ea5ed847",
   "metadata": {},
   "outputs": [],
   "source": [
    "#if returned paths are list\n",
    "#simple paths with max length 25\n",
    "savex = 'tea_cyp3a4_simple_paths_10.txt'\n",
    "file_save = open(DIR_OUT+savex, 'w')\n",
    "source = str(obo.CHEBI_35026)\n",
    "target = str(obo.PR_P08684)\n",
    "source_label = source\n",
    "target_label = target\n",
    "if source in nodeLabels:\n",
    "    source_label = nodeLabels[source]\n",
    "if target in nodeLabels:\n",
    "    target_label = nodeLabels[target]\n",
    "file_save.write('\\n{} - {} Simple Path (cutoff=24):\\n'.format(source_label, target_label))\n",
    "i = 0\n",
    "for node_list in tea_cyp3a4:\n",
    "    file_save.write('\\nPATH: '+str(i)+'\\n')\n",
    "    path_labels = get_path_labels(node_list)\n",
    "    for triples in path_labels:\n",
    "        for item in triples:\n",
    "            file_save.write(str(item)+' ')\n",
    "        file_save.write('\\n')\n",
    "    i += 1\n",
    "file_save.close()"
   ]
  },
  {
   "cell_type": "code",
   "execution_count": 44,
   "id": "8c5324b4-76ed-41ce-936c-be667b3cefa0",
   "metadata": {},
   "outputs": [
    {
     "name": "stdout",
     "output_type": "stream",
     "text": [
      "[info] applying next operator to search for a simple path of max length 20\n",
      "[info] Simple path found of length 21\n",
      "[info] Simple path length greater than shortest path length (0) so adding to results\n",
      "[info] applying next operator to search for a simple path of max length 20\n",
      "[info] Simple path found of length 21\n",
      "[info] Simple path length greater than shortest path length (0) so adding to results\n",
      "[info] applying next operator to search for a simple path of max length 20\n",
      "[info] Simple path found of length 21\n",
      "[info] Simple path length greater than shortest path length (0) so adding to results\n",
      "[info] applying next operator to search for a simple path of max length 20\n",
      "[info] Simple path found of length 21\n",
      "[info] Simple path length greater than shortest path length (0) so adding to results\n",
      "[info] applying next operator to search for a simple path of max length 20\n",
      "[info] Simple path found of length 21\n",
      "[info] Simple path length greater than shortest path length (0) so adding to results\n",
      "[info] applying next operator to search for a simple path of max length 20\n",
      "[info] Simple path found of length 21\n",
      "[info] Simple path length greater than shortest path length (0) so adding to results\n",
      "[info] applying next operator to search for a simple path of max length 20\n",
      "[info] Simple path found of length 21\n",
      "[info] Simple path length greater than shortest path length (0) so adding to results\n",
      "[info] applying next operator to search for a simple path of max length 20\n",
      "[info] Simple path found of length 21\n",
      "[info] Simple path length greater than shortest path length (0) so adding to results\n",
      "[info] applying next operator to search for a simple path of max length 20\n",
      "[info] Simple path found of length 21\n",
      "[info] Simple path length greater than shortest path length (0) so adding to results\n",
      "[info] applying next operator to search for a simple path of max length 20\n",
      "[info] Simple path found of length 21\n",
      "[info] Simple path length greater than shortest path length (0) so adding to results\n"
     ]
    }
   ],
   "source": [
    "midazolam_paths = k_simple_paths(nx_graph, napdi.camellia_sinensis_leaf, obo.CHEBI_6931, 10, 0)"
   ]
  },
  {
   "cell_type": "code",
   "execution_count": 65,
   "id": "9e73f6ac-b075-47af-bc5e-fcf8802f6b4e",
   "metadata": {},
   "outputs": [
    {
     "name": "stdout",
     "output_type": "stream",
     "text": [
      "[info] applying next operator to search for a simple path of max length 20\n",
      "[info] Simple path found of length 21\n",
      "[info] Simple path length greater than shortest path length (0) so adding to results\n",
      "[info] applying next operator to search for a simple path of max length 20\n",
      "[info] Simple path found of length 21\n",
      "[info] Simple path length greater than shortest path length (0) so adding to results\n",
      "[info] applying next operator to search for a simple path of max length 20\n",
      "[info] Simple path found of length 21\n",
      "[info] Simple path length greater than shortest path length (0) so adding to results\n",
      "[info] applying next operator to search for a simple path of max length 20\n",
      "[info] Simple path found of length 21\n",
      "[info] Simple path length greater than shortest path length (0) so adding to results\n",
      "[info] applying next operator to search for a simple path of max length 20\n",
      "[info] Simple path found of length 21\n",
      "[info] Simple path length greater than shortest path length (0) so adding to results\n",
      "[info] applying next operator to search for a simple path of max length 20\n",
      "[info] Simple path found of length 21\n",
      "[info] Simple path length greater than shortest path length (0) so adding to results\n",
      "[info] applying next operator to search for a simple path of max length 20\n",
      "[info] Simple path found of length 21\n",
      "[info] Simple path length greater than shortest path length (0) so adding to results\n",
      "[info] applying next operator to search for a simple path of max length 20\n",
      "[info] Simple path found of length 21\n",
      "[info] Simple path length greater than shortest path length (0) so adding to results\n",
      "[info] applying next operator to search for a simple path of max length 20\n",
      "[info] Simple path found of length 21\n",
      "[info] Simple path length greater than shortest path length (0) so adding to results\n",
      "[info] applying next operator to search for a simple path of max length 20\n",
      "[info] Simple path found of length 21\n",
      "[info] Simple path length greater than shortest path length (0) so adding to results\n"
     ]
    }
   ],
   "source": [
    "midazolam_tea_paths = k_simple_paths(nx_graph, obo.CHEBI_35026, obo.CHEBI_6931, 10, 0)"
   ]
  },
  {
   "cell_type": "code",
   "execution_count": 45,
   "id": "4c24252c-67dd-400e-a4e5-cf26cc22aea7",
   "metadata": {},
   "outputs": [],
   "source": [
    "#if returned paths are list\n",
    "#simple paths with max length 25\n",
    "save3 = 'greentea_midazolam_simple_paths_10.txt'\n",
    "file_save = open(DIR_OUT+save3, 'w')\n",
    "source = str(napdi.camellia_sinensis_leaf)\n",
    "target = str(obo.CHEBI_6931)\n",
    "source_label = source\n",
    "target_label = target\n",
    "if source in nodeLabels:\n",
    "    source_label = nodeLabels[source]\n",
    "if target in nodeLabels:\n",
    "    target_label = nodeLabels[target]\n",
    "file_save.write('\\n{} - {} Simple Path (cutoff=20):\\n'.format(source_label, target_label))\n",
    "i = 0\n",
    "for node_list in midazolam_paths:\n",
    "    file_save.write('\\nPATH: '+str(i)+'\\n')\n",
    "    path_labels = get_path_labels(node_list)\n",
    "    for triples in path_labels:\n",
    "        for item in triples:\n",
    "            file_save.write(str(item)+' ')\n",
    "        file_save.write('\\n')\n",
    "    i += 1\n",
    "file_save.close()"
   ]
  },
  {
   "cell_type": "code",
   "execution_count": 66,
   "id": "1244c4ae-2909-4ce8-a853-984b59a84f21",
   "metadata": {},
   "outputs": [],
   "source": [
    "#simple paths with max length 25\n",
    "savex = 'tea_midazolam_simple_paths_10.txt'\n",
    "file_save = open(DIR_OUT+savex, 'w')\n",
    "source = str(obo.CHEBI_35026)\n",
    "target = str(obo.CHEBI_6931)\n",
    "source_label = source\n",
    "target_label = target\n",
    "if source in nodeLabels:\n",
    "    source_label = nodeLabels[source]\n",
    "if target in nodeLabels:\n",
    "    target_label = nodeLabels[target]\n",
    "file_save.write('\\n{} - {} Simple Path (cutoff=20):\\n'.format(source_label, target_label))\n",
    "i = 0\n",
    "for node_list in midazolam_tea_paths:\n",
    "    file_save.write('\\nPATH: '+str(i)+'\\n')\n",
    "    path_labels = get_path_labels(node_list)\n",
    "    for triples in path_labels:\n",
    "        for item in triples:\n",
    "            file_save.write(str(item)+' ')\n",
    "        file_save.write('\\n')\n",
    "    i += 1\n",
    "file_save.close()"
   ]
  },
  {
   "cell_type": "code",
   "execution_count": 46,
   "id": "f8be8d5a-f26e-4529-92ab-692d73f9a041",
   "metadata": {},
   "outputs": [
    {
     "name": "stdout",
     "output_type": "stream",
     "text": [
      "['Camellia sinensis leaf', 'has component', 'gallocatechin', '']\n",
      "['gallocatechin', 'directly negatively regulates activity of', 'triethylamine', 'machine_read']\n",
      "['triethylamine', 'directly negatively regulates activity of', 'warfarin', 'machine_read']\n"
     ]
    }
   ],
   "source": [
    "##Bidirectional shortest paths\n",
    "pathx = nx.bidirectional_shortest_path(nx_graph, napdi.camellia_sinensis_leaf, obo.CHEBI_10033)\n",
    "path_labels = get_path_labels(pathx)\n",
    "for triples in path_labels:\n",
    "    print(triples)"
   ]
  },
  {
   "cell_type": "code",
   "execution_count": 47,
   "id": "1ec883cb-b3fc-498c-baf9-ce7cdd32174b",
   "metadata": {},
   "outputs": [
    {
     "name": "stdout",
     "output_type": "stream",
     "text": [
      "['Camellia sinensis leaf', 'subClassOf', 'chemical entity', '']\n",
      "['chemical entity', 'participates in', 'Metabolism', '']\n",
      "['Metabolism', 'has participant', 'cytochrome P450 3A4 (human)', '']\n"
     ]
    }
   ],
   "source": [
    "pathx = nx.bidirectional_shortest_path(nx_graph, napdi.camellia_sinensis_leaf, obo.PR_P08684)\n",
    "path_labels = get_path_labels(pathx)\n",
    "for triples in path_labels:\n",
    "    print(triples)"
   ]
  },
  {
   "cell_type": "code",
   "execution_count": 48,
   "id": "15de118a-2de9-4e26-aeff-143cd181ac37",
   "metadata": {},
   "outputs": [
    {
     "name": "stdout",
     "output_type": "stream",
     "text": [
      "['Camellia sinensis leaf', 'has component', '(-)-epicatechin-3-O-gallate', '']\n",
      "['(-)-epicatechin-3-O-gallate', 'molecularly interacts with', 'taurochenodeoxycholate 6alpha-hydroxylase activity', 'machine_read']\n",
      "['taurochenodeoxycholate 6alpha-hydroxylase activity', 'molecularly interacts with', 'midazolam', 'machine_read']\n"
     ]
    }
   ],
   "source": [
    "pathx = nx.bidirectional_shortest_path(nx_graph, napdi.camellia_sinensis_leaf, obo.CHEBI_6931)\n",
    "path_labels = get_path_labels(pathx)\n",
    "for triples in path_labels:\n",
    "    print(triples)"
   ]
  },
  {
   "cell_type": "code",
   "execution_count": 49,
   "id": "a3ee2bce-ea43-4088-9c76-6c0c792918ad",
   "metadata": {},
   "outputs": [
    {
     "name": "stdout",
     "output_type": "stream",
     "text": [
      "['Camellia sinensis leaf', 'has component', '(-)-epigallocatechin', '']\n",
      "['(-)-epigallocatechin', 'subClassOf', 'catechin', '']\n",
      "['catechin', 'is substance that treats', 'Johanson-Blizzard syndrome', '']\n",
      "['Johanson-Blizzard syndrome', 'is treated by substance', 'ribavirin', '']\n",
      "['ribavirin', 'is substance that treats', 'Crimean-Congo hemorrhagic fever', '']\n",
      "['Crimean-Congo hemorrhagic fever', 'disease has feature', 'Back pain', '']\n"
     ]
    }
   ],
   "source": [
    "pathx = nx.bidirectional_shortest_path(nx_graph, napdi.camellia_sinensis_leaf, obo.HP_0003418)\n",
    "path_labels = get_path_labels(pathx)\n",
    "for triples in path_labels:\n",
    "    print(triples)"
   ]
  },
  {
   "cell_type": "code",
   "execution_count": 50,
   "id": "3e7b1ed6-66f9-4dbe-95f9-fe0e108552e1",
   "metadata": {},
   "outputs": [
    {
     "name": "stdout",
     "output_type": "stream",
     "text": [
      "['Camellia sinensis leaf', 'has component', '(-)-epigallocatechin', '']\n",
      "['(-)-epigallocatechin', 'subClassOf', 'catechin', '']\n",
      "['catechin', 'molecularly interacts with', 'simvastatin', 'machine_read']\n"
     ]
    }
   ],
   "source": [
    "pathx = nx.bidirectional_shortest_path(nx_graph, napdi.camellia_sinensis_leaf, obo.CHEBI_9150)\n",
    "path_labels = get_path_labels(pathx)\n",
    "for triples in path_labels:\n",
    "    print(triples)"
   ]
  },
  {
   "cell_type": "code",
   "execution_count": 51,
   "id": "d6a2db90-1b1f-42f5-9805-10c0909d9364",
   "metadata": {},
   "outputs": [
    {
     "name": "stdout",
     "output_type": "stream",
     "text": [
      "['Camellia sinensis leaf', 'has component', 'gallocatechin', '']\n",
      "['gallocatechin', 'directly negatively regulates activity of', 'triethylamine', 'machine_read']\n",
      "['triethylamine', 'directly negatively regulates activity of', 'nadolol', 'machine_read']\n"
     ]
    }
   ],
   "source": [
    "pathx = nx.bidirectional_shortest_path(nx_graph, napdi.camellia_sinensis_leaf, obo.CHEBI_7444)\n",
    "path_labels = get_path_labels(pathx)\n",
    "for triples in path_labels:\n",
    "    print(triples)"
   ]
  },
  {
   "cell_type": "code",
   "execution_count": null,
   "id": "82247fac-e36f-4c7b-a66a-e0eb235573d3",
   "metadata": {},
   "outputs": [],
   "source": []
  },
  {
   "cell_type": "code",
   "execution_count": null,
   "id": "a28fd58b-2519-4211-af67-91d828fb664c",
   "metadata": {},
   "outputs": [],
   "source": []
  },
  {
   "cell_type": "code",
   "execution_count": null,
   "id": "870431da-ffdc-4e53-bfa5-da339e582fae",
   "metadata": {},
   "outputs": [],
   "source": []
  },
  {
   "cell_type": "markdown",
   "id": "ce8beacf-29b2-4a72-aa7a-220173684f68",
   "metadata": {},
   "source": [
    "### Path searches with MR nodes as end points - predications with highest belief scores\n",
    "1. Get MR predications with belief scores > 0.65\n",
    "2. Use subject and object nodes as start and end points for simple path searches (shortest path would just be direct link between the nodes)"
   ]
  },
  {
   "cell_type": "code",
   "execution_count": 67,
   "id": "271937e6-eaba-4c21-bb95-e135f3d82e9f",
   "metadata": {},
   "outputs": [
    {
     "data": {
      "text/html": [
       "<div>\n",
       "<style scoped>\n",
       "    .dataframe tbody tr th:only-of-type {\n",
       "        vertical-align: middle;\n",
       "    }\n",
       "\n",
       "    .dataframe tbody tr th {\n",
       "        vertical-align: top;\n",
       "    }\n",
       "\n",
       "    .dataframe thead th {\n",
       "        text-align: right;\n",
       "    }\n",
       "</style>\n",
       "<table border=\"1\" class=\"dataframe\">\n",
       "  <thead>\n",
       "    <tr style=\"text-align: right;\">\n",
       "      <th></th>\n",
       "      <th>subject_cui</th>\n",
       "      <th>subject_name</th>\n",
       "      <th>subject_source</th>\n",
       "      <th>predicate</th>\n",
       "      <th>object_source</th>\n",
       "      <th>object_cui</th>\n",
       "      <th>object_name</th>\n",
       "      <th>subj_reach_grounding</th>\n",
       "      <th>obj_reach_grounding</th>\n",
       "      <th>pmid</th>\n",
       "      <th>pub_year</th>\n",
       "      <th>belief</th>\n",
       "      <th>predicate_obo</th>\n",
       "      <th>subject_obo</th>\n",
       "      <th>object_obo</th>\n",
       "    </tr>\n",
       "  </thead>\n",
       "  <tbody>\n",
       "    <tr>\n",
       "      <th>0</th>\n",
       "      <td>C0017337</td>\n",
       "      <td>Genes</td>\n",
       "      <td>gene encoding SERCA2a</td>\n",
       "      <td>Acetylation</td>\n",
       "      <td>Histone_H3</td>\n",
       "      <td>C0019652</td>\n",
       "      <td>Histones</td>\n",
       "      <td>(None, None)</td>\n",
       "      <td>('FPLX', 'Histone_H3')</td>\n",
       "      <td>30286210</td>\n",
       "      <td>2018</td>\n",
       "      <td>0.65</td>\n",
       "      <td>http://purl.obolibrary.org/obo/GO_0006473</td>\n",
       "      <td>http://purl.obolibrary.org/obo/SO_0000704</td>\n",
       "      <td>http://purl.obolibrary.org/obo/PR_000041244</td>\n",
       "    </tr>\n",
       "    <tr>\n",
       "      <th>1</th>\n",
       "      <td>C1418880</td>\n",
       "      <td>PRDX2_gene</td>\n",
       "      <td>trichostatin A</td>\n",
       "      <td>Acetylation</td>\n",
       "      <td>Tubulin</td>\n",
       "      <td>C0041348</td>\n",
       "      <td>Tubulin</td>\n",
       "      <td>('CHEBI', 'CHEBI:46024')</td>\n",
       "      <td>('FPLX', 'Tubulin')</td>\n",
       "      <td>25680958</td>\n",
       "      <td>2015 Apr</td>\n",
       "      <td>0.65</td>\n",
       "      <td>http://purl.obolibrary.org/obo/GO_0006473</td>\n",
       "      <td>http://purl.obolibrary.org/obo/CHEBI_46024</td>\n",
       "      <td>http://purl.obolibrary.org/obo/PR_000028799</td>\n",
       "    </tr>\n",
       "    <tr>\n",
       "      <th>2</th>\n",
       "      <td>C0059438</td>\n",
       "      <td>epigallocatechin_gallate</td>\n",
       "      <td>--epigallocatechin 3-gallate</td>\n",
       "      <td>Acetylation</td>\n",
       "      <td>Histone</td>\n",
       "      <td>C0019652</td>\n",
       "      <td>Histones</td>\n",
       "      <td>('CHEBI', 'CHEBI:4806')</td>\n",
       "      <td>('FPLX', 'Histone')</td>\n",
       "      <td>23210776</td>\n",
       "      <td>2013</td>\n",
       "      <td>0.65</td>\n",
       "      <td>http://purl.obolibrary.org/obo/GO_0006473</td>\n",
       "      <td>http://purl.obolibrary.org/obo/CHEBI_4806</td>\n",
       "      <td>http://purl.obolibrary.org/obo/PR_000041244</td>\n",
       "    </tr>\n",
       "    <tr>\n",
       "      <th>3</th>\n",
       "      <td>C0073591</td>\n",
       "      <td>rosoxacin</td>\n",
       "      <td>ROS1</td>\n",
       "      <td>Acetylation</td>\n",
       "      <td>TMPRSS11D</td>\n",
       "      <td>C0444765</td>\n",
       "      <td>Hat_-_Headwear</td>\n",
       "      <td>('HGNC', '10261')</td>\n",
       "      <td>('HGNC', '24059')</td>\n",
       "      <td>25847253</td>\n",
       "      <td>2015</td>\n",
       "      <td>0.65</td>\n",
       "      <td>http://purl.obolibrary.org/obo/GO_0006473</td>\n",
       "      <td>http://purl.obolibrary.org/obo/CHEBI_131715</td>\n",
       "      <td>http://purl.obolibrary.org/obo/PR_Q9M2N5</td>\n",
       "    </tr>\n",
       "    <tr>\n",
       "      <th>4</th>\n",
       "      <td>C3539643</td>\n",
       "      <td>EIF4E_wt_Allele</td>\n",
       "      <td>CREBBP</td>\n",
       "      <td>Acetylation</td>\n",
       "      <td>RELA</td>\n",
       "      <td>C1453853</td>\n",
       "      <td>WNK1_protein,_human</td>\n",
       "      <td>('HGNC', '2348')</td>\n",
       "      <td>('HGNC', '9955')</td>\n",
       "      <td>25847253</td>\n",
       "      <td>2015</td>\n",
       "      <td>0.86</td>\n",
       "      <td>http://purl.obolibrary.org/obo/GO_0006473</td>\n",
       "      <td>http://purl.obolibrary.org/obo/PR_P63074</td>\n",
       "      <td>http://purl.obolibrary.org/obo/PR_000017431</td>\n",
       "    </tr>\n",
       "  </tbody>\n",
       "</table>\n",
       "</div>"
      ],
      "text/plain": [
       "  subject_cui              subject_name                subject_source  \\\n",
       "0    C0017337                     Genes         gene encoding SERCA2a   \n",
       "1    C1418880                PRDX2_gene                trichostatin A   \n",
       "2    C0059438  epigallocatechin_gallate  --epigallocatechin 3-gallate   \n",
       "3    C0073591                 rosoxacin                          ROS1   \n",
       "4    C3539643           EIF4E_wt_Allele                        CREBBP   \n",
       "\n",
       "     predicate object_source object_cui          object_name  \\\n",
       "0  Acetylation    Histone_H3   C0019652             Histones   \n",
       "1  Acetylation       Tubulin   C0041348              Tubulin   \n",
       "2  Acetylation       Histone   C0019652             Histones   \n",
       "3  Acetylation     TMPRSS11D   C0444765       Hat_-_Headwear   \n",
       "4  Acetylation          RELA   C1453853  WNK1_protein,_human   \n",
       "\n",
       "       subj_reach_grounding     obj_reach_grounding      pmid  pub_year  \\\n",
       "0              (None, None)  ('FPLX', 'Histone_H3')  30286210      2018   \n",
       "1  ('CHEBI', 'CHEBI:46024')     ('FPLX', 'Tubulin')  25680958  2015 Apr   \n",
       "2   ('CHEBI', 'CHEBI:4806')     ('FPLX', 'Histone')  23210776      2013   \n",
       "3         ('HGNC', '10261')       ('HGNC', '24059')  25847253      2015   \n",
       "4          ('HGNC', '2348')        ('HGNC', '9955')  25847253      2015   \n",
       "\n",
       "   belief                              predicate_obo  \\\n",
       "0    0.65  http://purl.obolibrary.org/obo/GO_0006473   \n",
       "1    0.65  http://purl.obolibrary.org/obo/GO_0006473   \n",
       "2    0.65  http://purl.obolibrary.org/obo/GO_0006473   \n",
       "3    0.65  http://purl.obolibrary.org/obo/GO_0006473   \n",
       "4    0.86  http://purl.obolibrary.org/obo/GO_0006473   \n",
       "\n",
       "                                   subject_obo  \\\n",
       "0    http://purl.obolibrary.org/obo/SO_0000704   \n",
       "1   http://purl.obolibrary.org/obo/CHEBI_46024   \n",
       "2    http://purl.obolibrary.org/obo/CHEBI_4806   \n",
       "3  http://purl.obolibrary.org/obo/CHEBI_131715   \n",
       "4     http://purl.obolibrary.org/obo/PR_P63074   \n",
       "\n",
       "                                    object_obo  \n",
       "0  http://purl.obolibrary.org/obo/PR_000041244  \n",
       "1  http://purl.obolibrary.org/obo/PR_000028799  \n",
       "2  http://purl.obolibrary.org/obo/PR_000041244  \n",
       "3     http://purl.obolibrary.org/obo/PR_Q9M2N5  \n",
       "4  http://purl.obolibrary.org/obo/PR_000017431  "
      ]
     },
     "execution_count": 67,
     "metadata": {},
     "output_type": "execute_result"
    }
   ],
   "source": [
    "df = pd.read_csv('../machine_read/greentea_pmid_all_predicates_umls_processed.tsv', sep='\\t')\n",
    "df.head()"
   ]
  },
  {
   "cell_type": "code",
   "execution_count": 68,
   "id": "64ab3239-9e82-4182-a36d-7cae44b73798",
   "metadata": {},
   "outputs": [
    {
     "name": "stdout",
     "output_type": "stream",
     "text": [
      "<class 'pandas.core.frame.DataFrame'>\n",
      "RangeIndex: 7677 entries, 0 to 7676\n",
      "Data columns (total 15 columns):\n",
      " #   Column                Non-Null Count  Dtype  \n",
      "---  ------                --------------  -----  \n",
      " 0   subject_cui           7677 non-null   object \n",
      " 1   subject_name          7677 non-null   object \n",
      " 2   subject_source        7677 non-null   object \n",
      " 3   predicate             7677 non-null   object \n",
      " 4   object_source         7677 non-null   object \n",
      " 5   object_cui            7677 non-null   object \n",
      " 6   object_name           7677 non-null   object \n",
      " 7   subj_reach_grounding  7677 non-null   object \n",
      " 8   obj_reach_grounding   7677 non-null   object \n",
      " 9   pmid                  7677 non-null   int64  \n",
      " 10  pub_year              7677 non-null   object \n",
      " 11  belief                7677 non-null   float64\n",
      " 12  predicate_obo         7677 non-null   object \n",
      " 13  subject_obo           7677 non-null   object \n",
      " 14  object_obo            7677 non-null   object \n",
      "dtypes: float64(1), int64(1), object(13)\n",
      "memory usage: 899.8+ KB\n"
     ]
    }
   ],
   "source": [
    "df.info()"
   ]
  },
  {
   "cell_type": "code",
   "execution_count": 70,
   "id": "9e4404f4-a3a5-4774-b337-275981612c78",
   "metadata": {},
   "outputs": [
    {
     "name": "stdout",
     "output_type": "stream",
     "text": [
      "<class 'pandas.core.frame.DataFrame'>\n",
      "Int64Index: 2012 entries, 4 to 7675\n",
      "Data columns (total 15 columns):\n",
      " #   Column                Non-Null Count  Dtype  \n",
      "---  ------                --------------  -----  \n",
      " 0   subject_cui           2012 non-null   object \n",
      " 1   subject_name          2012 non-null   object \n",
      " 2   subject_source        2012 non-null   object \n",
      " 3   predicate             2012 non-null   object \n",
      " 4   object_source         2012 non-null   object \n",
      " 5   object_cui            2012 non-null   object \n",
      " 6   object_name           2012 non-null   object \n",
      " 7   subj_reach_grounding  2012 non-null   object \n",
      " 8   obj_reach_grounding   2012 non-null   object \n",
      " 9   pmid                  2012 non-null   int64  \n",
      " 10  pub_year              2012 non-null   object \n",
      " 11  belief                2012 non-null   float64\n",
      " 12  predicate_obo         2012 non-null   object \n",
      " 13  subject_obo           2012 non-null   object \n",
      " 14  object_obo            2012 non-null   object \n",
      "dtypes: float64(1), int64(1), object(13)\n",
      "memory usage: 251.5+ KB\n"
     ]
    }
   ],
   "source": [
    "df = df.loc[df['belief'] > 0.8]\n",
    "df.info()"
   ]
  },
  {
   "cell_type": "code",
   "execution_count": 71,
   "id": "d38cdfc1-d753-45d8-92b6-aae79ba86326",
   "metadata": {},
   "outputs": [
    {
     "data": {
      "text/html": [
       "<div>\n",
       "<style scoped>\n",
       "    .dataframe tbody tr th:only-of-type {\n",
       "        vertical-align: middle;\n",
       "    }\n",
       "\n",
       "    .dataframe tbody tr th {\n",
       "        vertical-align: top;\n",
       "    }\n",
       "\n",
       "    .dataframe thead th {\n",
       "        text-align: right;\n",
       "    }\n",
       "</style>\n",
       "<table border=\"1\" class=\"dataframe\">\n",
       "  <thead>\n",
       "    <tr style=\"text-align: right;\">\n",
       "      <th></th>\n",
       "      <th>subject_cui</th>\n",
       "      <th>subject_name</th>\n",
       "      <th>subject_source</th>\n",
       "      <th>predicate</th>\n",
       "      <th>object_source</th>\n",
       "      <th>object_cui</th>\n",
       "      <th>object_name</th>\n",
       "      <th>subj_reach_grounding</th>\n",
       "      <th>obj_reach_grounding</th>\n",
       "      <th>pmid</th>\n",
       "      <th>pub_year</th>\n",
       "      <th>belief</th>\n",
       "      <th>predicate_obo</th>\n",
       "      <th>subject_obo</th>\n",
       "      <th>object_obo</th>\n",
       "    </tr>\n",
       "  </thead>\n",
       "  <tbody>\n",
       "    <tr>\n",
       "      <th>0</th>\n",
       "      <td>C3539643</td>\n",
       "      <td>EIF4E_wt_Allele</td>\n",
       "      <td>CREBBP</td>\n",
       "      <td>Acetylation</td>\n",
       "      <td>RELA</td>\n",
       "      <td>C1453853</td>\n",
       "      <td>WNK1_protein,_human</td>\n",
       "      <td>('HGNC', '2348')</td>\n",
       "      <td>('HGNC', '9955')</td>\n",
       "      <td>25847253</td>\n",
       "      <td>2015</td>\n",
       "      <td>0.860000</td>\n",
       "      <td>http://purl.obolibrary.org/obo/GO_0006473</td>\n",
       "      <td>http://purl.obolibrary.org/obo/PR_P63074</td>\n",
       "      <td>http://purl.obolibrary.org/obo/PR_000017431</td>\n",
       "    </tr>\n",
       "    <tr>\n",
       "      <th>1</th>\n",
       "      <td>C1530358</td>\n",
       "      <td>EP300_protein,_human</td>\n",
       "      <td>EP300</td>\n",
       "      <td>Acetylation</td>\n",
       "      <td>RELA</td>\n",
       "      <td>C1453853</td>\n",
       "      <td>WNK1_protein,_human</td>\n",
       "      <td>('HGNC', '3373')</td>\n",
       "      <td>('HGNC', '9955')</td>\n",
       "      <td>25847253</td>\n",
       "      <td>2015</td>\n",
       "      <td>0.860000</td>\n",
       "      <td>http://purl.obolibrary.org/obo/GO_0006473</td>\n",
       "      <td>http://purl.obolibrary.org/obo/PR_000007102</td>\n",
       "      <td>http://purl.obolibrary.org/obo/PR_000017431</td>\n",
       "    </tr>\n",
       "    <tr>\n",
       "      <th>2</th>\n",
       "      <td>C1843013</td>\n",
       "      <td>Alzheimer_disease,_familial,_type_3</td>\n",
       "      <td>AD</td>\n",
       "      <td>Activation</td>\n",
       "      <td>long-term synaptic potentiation</td>\n",
       "      <td>C0206249</td>\n",
       "      <td>Long-Term_Potentiation</td>\n",
       "      <td>(None, None)</td>\n",
       "      <td>('GO', 'GO:0060291')</td>\n",
       "      <td>29944861</td>\n",
       "      <td>2018 Aug</td>\n",
       "      <td>0.923000</td>\n",
       "      <td>http://purl.obolibrary.org/obo/RO_0002436</td>\n",
       "      <td>http://purl.obolibrary.org/obo/MONDO_0100087</td>\n",
       "      <td>http://purl.obolibrary.org/obo/GO_0060291</td>\n",
       "    </tr>\n",
       "    <tr>\n",
       "      <th>3</th>\n",
       "      <td>C0025918</td>\n",
       "      <td>Mice,_Inbred_AKR</td>\n",
       "      <td>AKR</td>\n",
       "      <td>Activation</td>\n",
       "      <td>secondary alcohol</td>\n",
       "      <td>C0001962</td>\n",
       "      <td>Ethanol</td>\n",
       "      <td>(None, None)</td>\n",
       "      <td>('CHEBI', 'CHEBI:35681')</td>\n",
       "      <td>28283780</td>\n",
       "      <td>2017 Jun</td>\n",
       "      <td>0.860000</td>\n",
       "      <td>http://purl.obolibrary.org/obo/RO_0002436</td>\n",
       "      <td>http://purl.obolibrary.org/obo/NCBITaxon_10088</td>\n",
       "      <td>http://purl.obolibrary.org/obo/CHEBI_16236</td>\n",
       "    </tr>\n",
       "    <tr>\n",
       "      <th>4</th>\n",
       "      <td>C3814396</td>\n",
       "      <td>CYP3A_Gene_Locus</td>\n",
       "      <td>CYP3A</td>\n",
       "      <td>Activation</td>\n",
       "      <td>metabolic process</td>\n",
       "      <td>C0025520</td>\n",
       "      <td>metabolic_aspects</td>\n",
       "      <td>(None, None)</td>\n",
       "      <td>('GO', 'GO:0008152')</td>\n",
       "      <td>29368187</td>\n",
       "      <td>2018 May</td>\n",
       "      <td>0.949271</td>\n",
       "      <td>http://purl.obolibrary.org/obo/RO_0002436</td>\n",
       "      <td>http://purl.obolibrary.org/obo/CHEBI_38559</td>\n",
       "      <td>http://purl.obolibrary.org/obo/GO_0008152</td>\n",
       "    </tr>\n",
       "  </tbody>\n",
       "</table>\n",
       "</div>"
      ],
      "text/plain": [
       "  subject_cui                         subject_name subject_source  \\\n",
       "0    C3539643                      EIF4E_wt_Allele         CREBBP   \n",
       "1    C1530358                 EP300_protein,_human          EP300   \n",
       "2    C1843013  Alzheimer_disease,_familial,_type_3             AD   \n",
       "3    C0025918                     Mice,_Inbred_AKR            AKR   \n",
       "4    C3814396                     CYP3A_Gene_Locus          CYP3A   \n",
       "\n",
       "     predicate                    object_source object_cui  \\\n",
       "0  Acetylation                             RELA   C1453853   \n",
       "1  Acetylation                             RELA   C1453853   \n",
       "2   Activation  long-term synaptic potentiation   C0206249   \n",
       "3   Activation                secondary alcohol   C0001962   \n",
       "4   Activation                metabolic process   C0025520   \n",
       "\n",
       "              object_name subj_reach_grounding       obj_reach_grounding  \\\n",
       "0     WNK1_protein,_human     ('HGNC', '2348')          ('HGNC', '9955')   \n",
       "1     WNK1_protein,_human     ('HGNC', '3373')          ('HGNC', '9955')   \n",
       "2  Long-Term_Potentiation         (None, None)      ('GO', 'GO:0060291')   \n",
       "3                 Ethanol         (None, None)  ('CHEBI', 'CHEBI:35681')   \n",
       "4       metabolic_aspects         (None, None)      ('GO', 'GO:0008152')   \n",
       "\n",
       "       pmid  pub_year    belief                              predicate_obo  \\\n",
       "0  25847253      2015  0.860000  http://purl.obolibrary.org/obo/GO_0006473   \n",
       "1  25847253      2015  0.860000  http://purl.obolibrary.org/obo/GO_0006473   \n",
       "2  29944861  2018 Aug  0.923000  http://purl.obolibrary.org/obo/RO_0002436   \n",
       "3  28283780  2017 Jun  0.860000  http://purl.obolibrary.org/obo/RO_0002436   \n",
       "4  29368187  2018 May  0.949271  http://purl.obolibrary.org/obo/RO_0002436   \n",
       "\n",
       "                                      subject_obo  \\\n",
       "0        http://purl.obolibrary.org/obo/PR_P63074   \n",
       "1     http://purl.obolibrary.org/obo/PR_000007102   \n",
       "2    http://purl.obolibrary.org/obo/MONDO_0100087   \n",
       "3  http://purl.obolibrary.org/obo/NCBITaxon_10088   \n",
       "4      http://purl.obolibrary.org/obo/CHEBI_38559   \n",
       "\n",
       "                                    object_obo  \n",
       "0  http://purl.obolibrary.org/obo/PR_000017431  \n",
       "1  http://purl.obolibrary.org/obo/PR_000017431  \n",
       "2    http://purl.obolibrary.org/obo/GO_0060291  \n",
       "3   http://purl.obolibrary.org/obo/CHEBI_16236  \n",
       "4    http://purl.obolibrary.org/obo/GO_0008152  "
      ]
     },
     "execution_count": 71,
     "metadata": {},
     "output_type": "execute_result"
    }
   ],
   "source": [
    "df = df.reset_index(drop=True)\n",
    "df.head()"
   ]
  },
  {
   "cell_type": "code",
   "execution_count": 72,
   "id": "5114978b-0ae4-4815-b242-f7eedf11fa6c",
   "metadata": {},
   "outputs": [
    {
     "data": {
      "text/html": [
       "<div>\n",
       "<style scoped>\n",
       "    .dataframe tbody tr th:only-of-type {\n",
       "        vertical-align: middle;\n",
       "    }\n",
       "\n",
       "    .dataframe tbody tr th {\n",
       "        vertical-align: top;\n",
       "    }\n",
       "\n",
       "    .dataframe thead th {\n",
       "        text-align: right;\n",
       "    }\n",
       "</style>\n",
       "<table border=\"1\" class=\"dataframe\">\n",
       "  <thead>\n",
       "    <tr style=\"text-align: right;\">\n",
       "      <th></th>\n",
       "      <th>subject_cui</th>\n",
       "      <th>subject_name</th>\n",
       "      <th>subject_source</th>\n",
       "      <th>predicate</th>\n",
       "      <th>object_source</th>\n",
       "      <th>object_cui</th>\n",
       "      <th>object_name</th>\n",
       "      <th>subj_reach_grounding</th>\n",
       "      <th>obj_reach_grounding</th>\n",
       "      <th>pmid</th>\n",
       "      <th>pub_year</th>\n",
       "      <th>belief</th>\n",
       "      <th>predicate_obo</th>\n",
       "      <th>subject_obo</th>\n",
       "      <th>object_obo</th>\n",
       "    </tr>\n",
       "  </thead>\n",
       "  <tbody>\n",
       "    <tr>\n",
       "      <th>0</th>\n",
       "      <td>C0596577</td>\n",
       "      <td>Flavonoids</td>\n",
       "      <td>flavonoids</td>\n",
       "      <td>Activation</td>\n",
       "      <td>apoptotic process</td>\n",
       "      <td>C0162638</td>\n",
       "      <td>Apoptosis</td>\n",
       "      <td>('CHEBI', 'CHEBI:72544')</td>\n",
       "      <td>('GO', 'GO:0006915')</td>\n",
       "      <td>22830339</td>\n",
       "      <td>2012</td>\n",
       "      <td>0.95</td>\n",
       "      <td>http://purl.obolibrary.org/obo/RO_0002436</td>\n",
       "      <td>http://purl.obolibrary.org/obo/CHEBI_72544</td>\n",
       "      <td>http://purl.obolibrary.org/obo/GO_0006915</td>\n",
       "    </tr>\n",
       "    <tr>\n",
       "      <th>1</th>\n",
       "      <td>C0059438</td>\n",
       "      <td>epigallocatechin_gallate</td>\n",
       "      <td>--epigallocatechin 3-gallate</td>\n",
       "      <td>Inhibition</td>\n",
       "      <td>Neoplasms</td>\n",
       "      <td>C0027651</td>\n",
       "      <td>Neoplasms</td>\n",
       "      <td>('CHEBI', 'CHEBI:4806')</td>\n",
       "      <td>('MESH', 'D009369')</td>\n",
       "      <td>29137307</td>\n",
       "      <td>2017 Oct 10</td>\n",
       "      <td>0.95</td>\n",
       "      <td>http://purl.obolibrary.org/obo/RO_0002449</td>\n",
       "      <td>http://purl.obolibrary.org/obo/CHEBI_4806</td>\n",
       "      <td>http://purl.obolibrary.org/obo/HP_0002664</td>\n",
       "    </tr>\n",
       "    <tr>\n",
       "      <th>2</th>\n",
       "      <td>C0016979</td>\n",
       "      <td>Gallic_acid</td>\n",
       "      <td>gallic acid</td>\n",
       "      <td>Activation</td>\n",
       "      <td>Mice</td>\n",
       "      <td>C0026809</td>\n",
       "      <td>Mus</td>\n",
       "      <td>('CHEBI', 'CHEBI:30778')</td>\n",
       "      <td>('MESH', 'D051379')</td>\n",
       "      <td>24722818</td>\n",
       "      <td>2014 Jul</td>\n",
       "      <td>0.95</td>\n",
       "      <td>http://purl.obolibrary.org/obo/RO_0002436</td>\n",
       "      <td>http://purl.obolibrary.org/obo/CHEBI_30778</td>\n",
       "      <td>http://purl.obolibrary.org/obo/NCBITaxon_10088</td>\n",
       "    </tr>\n",
       "    <tr>\n",
       "      <th>3</th>\n",
       "      <td>C0016993</td>\n",
       "      <td>Gambia</td>\n",
       "      <td>gallic acid</td>\n",
       "      <td>Activation</td>\n",
       "      <td>apoptotic process</td>\n",
       "      <td>C0162638</td>\n",
       "      <td>Apoptosis</td>\n",
       "      <td>('CHEBI', 'CHEBI:30778')</td>\n",
       "      <td>('GO', 'GO:0006915')</td>\n",
       "      <td>26251571</td>\n",
       "      <td>2015</td>\n",
       "      <td>0.95</td>\n",
       "      <td>http://purl.obolibrary.org/obo/RO_0002436</td>\n",
       "      <td>http://purl.obolibrary.org/obo/CHEBI_30778</td>\n",
       "      <td>http://purl.obolibrary.org/obo/GO_0006915</td>\n",
       "    </tr>\n",
       "    <tr>\n",
       "      <th>4</th>\n",
       "      <td>C0071649</td>\n",
       "      <td>polyphenols</td>\n",
       "      <td>polyphenol</td>\n",
       "      <td>Inhibition</td>\n",
       "      <td>glucose transmembrane transport</td>\n",
       "      <td>C0178666</td>\n",
       "      <td>glucose_transport</td>\n",
       "      <td>('CHEBI', 'CHEBI:26195')</td>\n",
       "      <td>('GO', 'GO:1904659')</td>\n",
       "      <td>30667442</td>\n",
       "      <td>2019 Feb 20</td>\n",
       "      <td>0.95</td>\n",
       "      <td>http://purl.obolibrary.org/obo/RO_0002449</td>\n",
       "      <td>http://purl.obolibrary.org/obo/CHEBI_26195</td>\n",
       "      <td>http://purl.obolibrary.org/obo/GO_1904659</td>\n",
       "    </tr>\n",
       "  </tbody>\n",
       "</table>\n",
       "</div>"
      ],
      "text/plain": [
       "  subject_cui              subject_name                subject_source  \\\n",
       "0    C0596577                Flavonoids                    flavonoids   \n",
       "1    C0059438  epigallocatechin_gallate  --epigallocatechin 3-gallate   \n",
       "2    C0016979               Gallic_acid                   gallic acid   \n",
       "3    C0016993                    Gambia                   gallic acid   \n",
       "4    C0071649               polyphenols                    polyphenol   \n",
       "\n",
       "    predicate                    object_source object_cui        object_name  \\\n",
       "0  Activation                apoptotic process   C0162638          Apoptosis   \n",
       "1  Inhibition                        Neoplasms   C0027651          Neoplasms   \n",
       "2  Activation                             Mice   C0026809                Mus   \n",
       "3  Activation                apoptotic process   C0162638          Apoptosis   \n",
       "4  Inhibition  glucose transmembrane transport   C0178666  glucose_transport   \n",
       "\n",
       "       subj_reach_grounding   obj_reach_grounding      pmid     pub_year  \\\n",
       "0  ('CHEBI', 'CHEBI:72544')  ('GO', 'GO:0006915')  22830339         2012   \n",
       "1   ('CHEBI', 'CHEBI:4806')   ('MESH', 'D009369')  29137307  2017 Oct 10   \n",
       "2  ('CHEBI', 'CHEBI:30778')   ('MESH', 'D051379')  24722818     2014 Jul   \n",
       "3  ('CHEBI', 'CHEBI:30778')  ('GO', 'GO:0006915')  26251571         2015   \n",
       "4  ('CHEBI', 'CHEBI:26195')  ('GO', 'GO:1904659')  30667442  2019 Feb 20   \n",
       "\n",
       "   belief                              predicate_obo  \\\n",
       "0    0.95  http://purl.obolibrary.org/obo/RO_0002436   \n",
       "1    0.95  http://purl.obolibrary.org/obo/RO_0002449   \n",
       "2    0.95  http://purl.obolibrary.org/obo/RO_0002436   \n",
       "3    0.95  http://purl.obolibrary.org/obo/RO_0002436   \n",
       "4    0.95  http://purl.obolibrary.org/obo/RO_0002449   \n",
       "\n",
       "                                  subject_obo  \\\n",
       "0  http://purl.obolibrary.org/obo/CHEBI_72544   \n",
       "1   http://purl.obolibrary.org/obo/CHEBI_4806   \n",
       "2  http://purl.obolibrary.org/obo/CHEBI_30778   \n",
       "3  http://purl.obolibrary.org/obo/CHEBI_30778   \n",
       "4  http://purl.obolibrary.org/obo/CHEBI_26195   \n",
       "\n",
       "                                       object_obo  \n",
       "0       http://purl.obolibrary.org/obo/GO_0006915  \n",
       "1       http://purl.obolibrary.org/obo/HP_0002664  \n",
       "2  http://purl.obolibrary.org/obo/NCBITaxon_10088  \n",
       "3       http://purl.obolibrary.org/obo/GO_0006915  \n",
       "4       http://purl.obolibrary.org/obo/GO_1904659  "
      ]
     },
     "execution_count": 72,
     "metadata": {},
     "output_type": "execute_result"
    }
   ],
   "source": [
    "df = df.sort_values(by=['belief'], ascending=False)\n",
    "df = df.reset_index(drop=True)\n",
    "df.head()"
   ]
  },
  {
   "cell_type": "code",
   "execution_count": 58,
   "id": "0cab9340-02e9-4468-bc9f-f8345281cd42",
   "metadata": {},
   "outputs": [],
   "source": [
    "df.to_csv('../machine_read/MR_triples_searchpath.tsv', sep='\\t', index=False)"
   ]
  },
  {
   "cell_type": "code",
   "execution_count": null,
   "id": "6ab01b9a-b622-4fd3-813d-2af768bdb616",
   "metadata": {},
   "outputs": [],
   "source": [
    "#Subject-Object pairs (testing paths) for triples from machine reading with belief scores > 0.8\n",
    "'''\n",
    "1. catechin (CHEBI_90) -> ABCB1 (), biosynthetic process (), transport (), apoptotic process (), coronary disease (),\n",
    "cholesterol (), myocardial eschemia, cisplatin, heart disease, glucose, glucose import, glucose metabolic process,\n",
    "hyperglycemia, intestinal absorption\n",
    "2. epigallocatechin gallate (CHEBI_4806) -> quinone, paracetamol, Endoplasmic Reticulum Stress, ATP, ATPase, autophagy, bile acid,\n",
    "transport, cell death, cholesterol, cisplatin, dexamethasone, diclofenac, digoxin, dopamine, drug metabolic process, \n",
    "erythromycin, glutathione, heart failure, hemolysis, angiotensin-2, cortisol, insulin secretion, insulin resistance,\n",
    "liver failure, nadolol, obesity, quercetin, tamoxifen, verapamil\n",
    "3. greentea -> atorvastatin, rosuvastatin, benzo[a]pyrene, cardiovascular disease, stroke, cholesterol,\n",
    "Myocardial Ischemia, Coronary Disease, Diabetes Mellitus, diclofenac, digoxin, doxorubicin, hypertension, liver disease,\n",
    "nadolol, obesity, warfarin, glucose import, glutathione\n",
    "EXTENDED LISTS BELOW\n",
    "'''"
   ]
  },
  {
   "cell_type": "code",
   "execution_count": 95,
   "id": "2a699d04-85b5-4b95-b5da-5796979848c6",
   "metadata": {},
   "outputs": [],
   "source": [
    "catechin_list = ['ABCB1_gene', 'Anabolism', 'Biological_Transport', 'Apoptosis', 'Cell_Proliferation', \n",
    "                 'Coronary_Arteriosclerosis', 'Cholesterol', 'Cytochrome_P-450_CYP1A1', 'Cytochrome_P-450_CYP1A2',\n",
    "                 'Cytochrome_P-450_CYP3A4', 'Insulin_Secretion', 'Cisplatin', 'Heart_Diseases', 'Glucose', \n",
    "                 'glucose_uptake', 'glucose_transport', 'Hyperglycemia', 'Obesity', 'P-Glycoprotein',\n",
    "                'UGT1A1_gene', 'Weight_decreased']\n",
    "egcg_list = ['1,4-benzoquinone', 'ABCA1_gene', 'Acetaminophen', 'Adenosine_Triphosphatases', 'Autophagy',\n",
    "            'Bile_Acids', 'Bilirubin', 'Biological_Transport', 'Body_Weight', 'BRCA1_protein,_human',\n",
    "             'Cell_Death', 'Cell_Proliferation', 'Cholesterol', 'Cisplatin', 'Collagen', 'Coronary_Arteriosclerosis',\n",
    "             'Cytochrome_P-450_CYP1A1', 'Cytochrome_P-450_CYP1A2', 'Cytochrome_P-450_CYP3A4', 'Cytochrome_P-450_CYP2D6',\n",
    "             'Cytochrome_P-450_CYP2C19', 'drug_metabolism', 'Dexamethasone', 'Diclofenac', 'Digoxin', 'Dopamine', \n",
    "             'GA-Binding_Protein_Transcription_Factor', 'Gluconeogenesis', 'Glucose_Transporter', \n",
    "             'glucose_transport', 'glucose_uptake', 'Glutathione', 'Glycogen', 'Erythromycin',  'Heart_failure', \n",
    "             'Hemolysis_(disorder)', 'Inflammation', 'Hydrocortisone',\n",
    "             'Interleukin-1', 'Interleukin-6', 'Intestinal_Absorption', 'rosoxacin', 'UGT1A1_gene',\n",
    "              'Insulin_Secretion', 'Insulin_Resistance', 'Liver_Failure',\n",
    "             'Nadolol', 'Obesity', 'Quercetin', 'Tamoxifen', 'Verapamil']\n",
    "greentea_list = ['ABCB1_gene', 'ABCG2_gene', 'Acetaminophen', 'Biological_Transport', 'Cardiovascular_Diseases',\n",
    "            'Cerebrovascular_accident', 'Coronary_Arteriosclerosis', 'atorvastatin',  'Benzopyrenes', 'Cholesterol',\n",
    "            'Cytochrome_P450', 'Cytochromes', 'Cytochrome_P-450_CYP1A1', 'Cytochrome_P-450_CYP1A2',\n",
    "            'Cytochrome_P-450_CYP3A4', 'Diabetes_Mellitus', 'Diclofenac', 'Digoxin', 'Doxorubicin', 'glucose_transport',\n",
    "            'Hypertensive_disease', 'Hay_fever', 'Interleukin-10', 'Lipid_Metabolism', 'Liver_diseases', \n",
    "            'Low-Density_Lipoproteins', 'Nadolol', 'Obesity', 'glucose_uptake', 'Glutathione',\n",
    "            'SLC2A1_protein,_human', 'SLC5A1_gene', 'SLCO1A2_gene', 'SLCO2B1_gene', 'Warfarin',\n",
    "            'rosuvastatin', 'rosoxacin', 'TNFSF11_protein,_human', 'TRPA1_gene', 'TRPV1_gene']\n"
   ]
  },
  {
   "cell_type": "code",
   "execution_count": 96,
   "id": "dbf268b2-298f-49d7-bf79-e580c5c1485e",
   "metadata": {},
   "outputs": [
    {
     "name": "stdout",
     "output_type": "stream",
     "text": [
      "ABCB1_gene\n",
      "Anabolism\n",
      "Biological_Transport\n",
      "Apoptosis\n",
      "Cell_Proliferation\n",
      "Coronary_Arteriosclerosis\n",
      "Cholesterol\n",
      "Cytochrome_P-450_CYP1A1\n",
      "Cytochrome_P-450_CYP1A2\n",
      "Cytochrome_P-450_CYP3A4\n",
      "Insulin_Secretion\n",
      "Cisplatin\n",
      "Heart_Diseases\n",
      "Glucose\n",
      "glucose_uptake\n",
      "glucose_transport\n",
      "Hyperglycemia\n",
      "Obesity\n",
      "P-Glycoprotein\n",
      "UGT1A1_gene\n",
      "Weight_decreased\n",
      "1,4-benzoquinone\n",
      "ABCA1_gene\n",
      "Acetaminophen\n",
      "Adenosine_Triphosphatases\n",
      "Autophagy\n",
      "Bile_Acids\n",
      "Bilirubin\n",
      "Body_Weight\n",
      "BRCA1_protein,_human\n",
      "Cell_Death\n",
      "Collagen\n",
      "Cytochrome_P-450_CYP2D6\n",
      "Cytochrome_P-450_CYP2C19\n",
      "drug_metabolism\n",
      "Dexamethasone\n",
      "Diclofenac\n",
      "Digoxin\n",
      "Dopamine\n",
      "GA-Binding_Protein_Transcription_Factor\n",
      "Gluconeogenesis\n",
      "Glucose_Transporter\n",
      "Glutathione\n",
      "Glycogen\n",
      "Erythromycin\n",
      "Heart_failure\n",
      "Hemolysis_(disorder)\n",
      "Inflammation\n",
      "Hydrocortisone\n",
      "Interleukin-1\n",
      "Interleukin-6\n",
      "Intestinal_Absorption\n",
      "rosoxacin\n",
      "Insulin_Resistance\n",
      "Liver_Failure\n",
      "Nadolol\n",
      "Quercetin\n",
      "Tamoxifen\n",
      "Verapamil\n",
      "ABCG2_gene\n",
      "Cardiovascular_Diseases\n",
      "Cerebrovascular_accident\n",
      "atorvastatin\n",
      "Benzopyrenes\n",
      "Cytochrome_P450\n",
      "Cytochromes\n",
      "Diabetes_Mellitus\n",
      "Doxorubicin\n",
      "Hypertensive_disease\n",
      "Hay_fever\n",
      "Interleukin-10\n",
      "Lipid_Metabolism\n",
      "Liver_diseases\n",
      "Low-Density_Lipoproteins\n",
      "SLC2A1_protein,_human\n",
      "SLC5A1_gene\n",
      "SLCO1A2_gene\n",
      "SLCO2B1_gene\n",
      "Warfarin\n",
      "rosuvastatin\n",
      "TNFSF11_protein,_human\n",
      "TRPA1_gene\n",
      "TRPV1_gene\n"
     ]
    },
    {
     "data": {
      "text/plain": [
       "83"
      ]
     },
     "execution_count": 96,
     "metadata": {},
     "output_type": "execute_result"
    }
   ],
   "source": [
    "#get OBO identifiers from dataframe\n",
    "node_dict = {}\n",
    "for item in catechin_list:\n",
    "    if item not in node_dict:\n",
    "        print(item)\n",
    "        obo_id = df.loc[df['object_name'] == item]['object_obo'].values[0]\n",
    "        node_dict[item] = obo_id.split('/')[-1]\n",
    "for item in egcg_list:\n",
    "    if item not in node_dict:\n",
    "        print(item)\n",
    "        obo_id = df.loc[df['object_name'] == item]['object_obo'].values[0]\n",
    "        node_dict[item] = obo_id.split('/')[-1]\n",
    "for item in tea_list:\n",
    "    if item not in node_dict:\n",
    "        print(item)\n",
    "        obo_id = df.loc[df['object_name'] == item]['object_obo'].values[0]\n",
    "        node_dict[item] = obo_id.split('/')[-1]\n",
    "len(node_dict)\n"
   ]
  },
  {
   "cell_type": "code",
   "execution_count": 122,
   "id": "c4f227a5-5ca5-4acf-9fb4-984f88de2202",
   "metadata": {},
   "outputs": [
    {
     "data": {
      "text/plain": [
       "'HP_0003074'"
      ]
     },
     "execution_count": 122,
     "metadata": {},
     "output_type": "execute_result"
    }
   ],
   "source": [
    "node_dict['Hyperglycemia']"
   ]
  },
  {
   "cell_type": "code",
   "execution_count": null,
   "id": "66625bec-d8ad-49c2-87d6-4396d2af201b",
   "metadata": {},
   "outputs": [],
   "source": []
  },
  {
   "cell_type": "code",
   "execution_count": 97,
   "id": "1cbc9d6b-6bcc-4422-86f0-ccf8a005a1c3",
   "metadata": {},
   "outputs": [],
   "source": [
    "catechin = obo.CHEBI_90\n",
    "egcg = obo.CHEBI_4806\n",
    "greentea = napdi.camellia_sinensis_leaf"
   ]
  },
  {
   "cell_type": "code",
   "execution_count": null,
   "id": "caecdd0d-99d2-4111-a0d7-2b43b47855b1",
   "metadata": {},
   "outputs": [],
   "source": [
    "for item in catechin_list:\n",
    "    "
   ]
  },
  {
   "cell_type": "code",
   "execution_count": null,
   "id": "864a181c-2284-4958-ba92-e245d8acf367",
   "metadata": {},
   "outputs": [],
   "source": []
  },
  {
   "cell_type": "code",
   "execution_count": null,
   "id": "4785bc9b-9929-4ce2-a6ee-7134be592d91",
   "metadata": {},
   "outputs": [],
   "source": []
  },
  {
   "cell_type": "markdown",
   "id": "29a72487-0ad9-4fde-a7b7-38458298f103",
   "metadata": {},
   "source": [
    "## Reweighting the KG"
   ]
  },
  {
   "cell_type": "markdown",
   "id": "3045ea40-a1a4-48dc-8af2-13d5701bded9",
   "metadata": {},
   "source": [
    "1. Fix subclassof chemical entity\n",
    "2. maybe downweight subclassof\n",
    "3. use belief scores of MR to weight?\n",
    "4. centrality measures - node degree centrality\n",
    "5. Fix mapping to TEA in REACH/SemRep (maps to triethylamine CHEBI_35026)"
   ]
  },
  {
   "cell_type": "code",
   "execution_count": null,
   "id": "ac417be8-be75-444e-acd3-d241e4be242c",
   "metadata": {},
   "outputs": [],
   "source": [
    "#INDRA pathfinding module also searches in nx multidigraph \n",
    "#https://indra.readthedocs.io/en/latest/modules/explanation/pathfinding.html\n",
    "#uses belief in metadata (I think)"
   ]
  }
 ],
 "metadata": {
  "kernelspec": {
   "display_name": "Python 3",
   "language": "python",
   "name": "python3"
  },
  "language_info": {
   "codemirror_mode": {
    "name": "ipython",
    "version": 3
   },
   "file_extension": ".py",
   "mimetype": "text/x-python",
   "name": "python",
   "nbconvert_exporter": "python",
   "pygments_lexer": "ipython3",
   "version": "3.6.13"
  }
 },
 "nbformat": 4,
 "nbformat_minor": 5
}
