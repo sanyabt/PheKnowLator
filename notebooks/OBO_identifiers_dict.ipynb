{
 "cells": [
  {
   "cell_type": "markdown",
   "id": "2da0d77b-c00a-47ad-a68b-d6478a564eb7",
   "metadata": {},
   "source": [
    "## Notebook to create dictionary of OBO identifiers for KG exploration\n",
    "\n",
    "Includes NPs, constituents, enzymes, transporters, drugs etc"
   ]
  },
  {
   "cell_type": "code",
   "execution_count": 1,
   "id": "148c3b2f-1653-4d6b-8d08-f19a1485939e",
   "metadata": {},
   "outputs": [],
   "source": [
    "import pickle\n",
    "from rdflib import Graph, URIRef, BNode, Namespace, Literal\n",
    "from rdflib.namespace import RDF, OWL"
   ]
  },
  {
   "cell_type": "code",
   "execution_count": 2,
   "id": "56e6b3cb-e56b-47ee-835f-1846d028486c",
   "metadata": {},
   "outputs": [],
   "source": [
    "obo = Namespace('http://purl.obolibrary.org/obo/')\n",
    "napdi = Namespace('http://napdi.org/napdi_srs_imports:')"
   ]
  },
  {
   "cell_type": "code",
   "execution_count": 18,
   "id": "5c17d480-26a7-4f96-8d0a-4121a424c7f7",
   "metadata": {},
   "outputs": [
    {
     "data": {
      "text/plain": [
       "40"
      ]
     },
     "execution_count": 18,
     "metadata": {},
     "output_type": "execute_result"
    }
   ],
   "source": [
    "#strtoobo = {}\n",
    "##read in dictionary\n",
    "with open('../resources/knowledge_graphs/strToOBOdict.pickle', 'rb') as filep:\n",
    "    strtoobo = pickle.load(filep)\n",
    "len(strtoobo)"
   ]
  },
  {
   "cell_type": "code",
   "execution_count": 4,
   "id": "9c346036-8051-4975-bd0d-f3af5b3d0171",
   "metadata": {},
   "outputs": [],
   "source": [
    "#Add identifiers for kratom and green tea\n",
    "strtoobo['EGCG'] = [obo.CHEBI_4806, napdi.epigallocatechin_gallate]\n",
    "strtoobo['kratom'] = [napdi.mitragyna_speciosa]\n",
    "strtoobo['mitragynine'] = [obo.CHEBI_6956]\n",
    "strtoobo['hydroxy_mitragynine'] = [napdi['7_hydroxy_mitragynine']]\n",
    "strtoobo['greentea'] = [napdi.camellia_sinensis_leaf]\n",
    "strtoobo['ECG'] = [obo.CHEBI_70255]\n",
    "strtoobo['epicatechin'] = [obo.CHEBI_90]\n",
    "strtoobo['catechin'] = [obo.CHEBI_23053, obo.CHEBI_15600]\n",
    "strtoobo['epigallocatechin'] = [obo.CHEBI_42255]\n",
    "strtoobo['gallocatechin'] = [obo.CHEBI_71255, obo.CHEBI_68330]\n"
   ]
  },
  {
   "cell_type": "code",
   "execution_count": 5,
   "id": "c06def5a-e57c-44e8-a6e9-191c4e65a0c6",
   "metadata": {},
   "outputs": [],
   "source": [
    "strtoobo['CYP3A4'] = [obo.PR_P08684, obo.PR_000006130]\n",
    "strtoobo['CYP3A5'] = [obo.PR_P20815, obo.PR_000006132]\n",
    "strtoobo['CYP1A2'] = [obo.PR_P05177, obo.PR_000006102]\n",
    "strtoobo['CYP2C8'] = [obo.PR_P10632, obo.PR_000006119]\n",
    "strtoobo['CYP1A1'] = [obo.PR_P04798, obo.PR_000006101]\n",
    "strtoobo['CYP2E1'] = [obo.PR_P05181, obo.PR_000006122]\n",
    "strtoobo['CYP2C19'] = [obo.PR_P33261, obo.PR_000006118]\n",
    "strtoobo['CYP2D6'] = [obo.PR_P10635, obo.PR_000006121]\n",
    "strtoobo['CYP2B6'] = [obo.PR_P20813, obo.PR_000006116]\n",
    "strtoobo['CYP2C9'] = [obo.PR_P11712, obo.PR_000006120]\n",
    "strtoobo['UGT'] = [obo.PR_000024849]\n",
    "strtoobo['UGT1A1'] = [obo.PR_P22309, obo.PR_000017048]\n",
    "strtoobo['UGT1A4'] = [obo.PR_P22310, obo.PR_000017051]\n",
    "strtoobo['UGT1A6'] = [obo.PR_P19224, obo.PR_000017053]\n",
    "strtoobo['UGT1A8'] = [obo.PR_Q9HAW9, obo.PR_000017055]\n",
    "strtoobo['UGT1A10'] = [obo.PR_Q9HAW8, obo.PR_000017049]\n",
    "strtoobo['UGT1A9'] = [obo.PR_O60656, obo.PR_000017056]\n",
    "strtoobo['UGT2B7'] = [obo.PR_P16662, obo.PR_000017065]\n",
    "strtoobo['PGP'] = [obo.PR_P000001891, obo.PR_P08183]\n",
    "strtoobo['SULT1A1'] = [obo.PR_P50225, obo.PR_000015818]\n",
    "strtoobo['SULT1A3'] = [obo.PR_P0DMM9, obo.PR_000028975]\n",
    "strtoobo['MATE1'] = [obo.PR_Q96FL8, obo.PR_000015152]\n",
    "strtoobo['MATE2K'] = [obo.PR_000015153, obo.PR_Q86VL8]\n",
    "strtoobo['OCT1'] = [obo.PR_O15245, obo.PR_000014981]\n",
    "strtoobo['OCT2'] = [obo.PR_O15244, obo.PR_000014988]\n",
    "strtoobo['OATP1B1'] = [obo.PR_Q9Y6L6, obo.PR_000015223]\n",
    "strtoobo['OATP1A2'] = [obo.PR_P46721, obo.PR_000015222]\n",
    "strtoobo['OATP1B3'] = [obo.PR_Q9NPD5, obo.PR_000015224]"
   ]
  },
  {
   "cell_type": "code",
   "execution_count": 6,
   "id": "a73b1644-1c03-42a7-a60f-fbaab88d86a3",
   "metadata": {},
   "outputs": [
    {
     "data": {
      "text/plain": [
       "38"
      ]
     },
     "execution_count": 6,
     "metadata": {},
     "output_type": "execute_result"
    }
   ],
   "source": [
    "len(strtoobo)"
   ]
  },
  {
   "cell_type": "code",
   "execution_count": 4,
   "id": "783d46f4-f7e3-4104-a839-91f05c32484f",
   "metadata": {},
   "outputs": [],
   "source": [
    "##add more identifiers\n",
    "strtoobo['hydroxy_mitragynine'].append(obo.CHEBI_180536)"
   ]
  },
  {
   "cell_type": "code",
   "execution_count": 7,
   "id": "c8f0d7de-4fa0-4910-913a-c607e0a16632",
   "metadata": {},
   "outputs": [],
   "source": [
    "strtoobo['CYP2A6'] = [obo.PR_P11509, obo.PR_000049990]"
   ]
  },
  {
   "cell_type": "code",
   "execution_count": 10,
   "id": "960f3872-bd3e-4cc1-b694-80dc30dcd54a",
   "metadata": {},
   "outputs": [],
   "source": [
    "strtoobo['glycoprotein'] = [obo.CHEBI_17089, obo.PR_000037069]"
   ]
  },
  {
   "cell_type": "code",
   "execution_count": 13,
   "id": "bd4031aa-a900-4b97-bd97-a7b9b0f599d3",
   "metadata": {},
   "outputs": [],
   "source": [
    "strtoobo['UGT'].append(obo.PR_000015090)\n",
    "strtoobo['UGT'].append(obo.PR_P78381)"
   ]
  },
  {
   "cell_type": "code",
   "execution_count": 16,
   "id": "a7a928bd-7d71-43b0-aab6-348c82530937",
   "metadata": {},
   "outputs": [],
   "source": [
    "strtoobo['PGP'].append(obo.GO_0008559)"
   ]
  },
  {
   "cell_type": "code",
   "execution_count": 19,
   "id": "6440e4c8-4fed-4f63-ab54-78d0c9600518",
   "metadata": {},
   "outputs": [],
   "source": [
    "strtoobo['PGP'].append(obo.PR_000012619)"
   ]
  },
  {
   "cell_type": "code",
   "execution_count": 20,
   "id": "3b15cb9b-bf4f-4c74-9799-aee15f59691a",
   "metadata": {},
   "outputs": [],
   "source": [
    "with open('/home/sanya/PheKnowLatorv2/resources/knowledge_graphs/strToOBOdict.pickle', 'wb') as fileb:\n",
    "    pickle.dump(strtoobo, fileb)"
   ]
  },
  {
   "cell_type": "code",
   "execution_count": null,
   "id": "a239f252-5cd2-414b-b440-53c95fb86183",
   "metadata": {},
   "outputs": [],
   "source": []
  }
 ],
 "metadata": {
  "kernelspec": {
   "display_name": "Python 3",
   "language": "python",
   "name": "python3"
  },
  "language_info": {
   "codemirror_mode": {
    "name": "ipython",
    "version": 3
   },
   "file_extension": ".py",
   "mimetype": "text/x-python",
   "name": "python",
   "nbconvert_exporter": "python",
   "pygments_lexer": "ipython3",
   "version": "3.6.13"
  }
 },
 "nbformat": 4,
 "nbformat_minor": 5
}
