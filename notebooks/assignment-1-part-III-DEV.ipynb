{
 "cells": [
  {
   "cell_type": "markdown",
   "metadata": {},
   "source": [
    "### Assignment 1 Part III - KG searching, weighting, and embedding\n",
    "\n",
    "**Overview:** In this notebook, you will learn how to a couple of different ways search to through a large knowledge graph, how to reweight the knowledge graph to favor specific paths, and how to embed nodes in the knowledge graph to try and fill in gaps.   "
   ]
  },
  {
   "cell_type": "markdown",
   "metadata": {},
   "source": [
    "#### Part I - a couple of different ways search to through a large knowledge graph"
   ]
  },
  {
   "cell_type": "markdown",
   "metadata": {},
   "source": [
    "These first cells simply set up some variables that will be used below"
   ]
  },
  {
   "cell_type": "markdown",
   "metadata": {},
   "source": [
    "TODO: get username from the Jupyter and put that in the path"
   ]
  },
  {
   "cell_type": "code",
   "execution_count": 1,
   "metadata": {},
   "outputs": [],
   "source": [
    "import os\n",
    "import sys\n",
    "#sys.path.append('/ihome/rboyce/{}/.conda/envs/bionf2071/lib/python3.7/site-packages/'.format(os.getenv('JUPYTERHUB_USER')))"
   ]
  },
  {
   "cell_type": "code",
   "execution_count": 2,
   "metadata": {},
   "outputs": [],
   "source": [
    "# There can be many paths of the same length so you can adjust how many you want returned\n",
    "maxNumPaths = 5"
   ]
  },
  {
   "cell_type": "markdown",
   "metadata": {},
   "source": [
    "You can populate the list in the next cell with the start and end nodes that you will use to search for paths in the knowledge graph. The [PheKnowLator overview](https://user-images.githubusercontent.com/8030363/103158881-11813b00-4780-11eb-8b45-5063765e7645.png) shows all of the ontologies loaded into the knowledge graph as orange boxes. You can replace the start and end nodes with entities that interest you in those ontologies by going to [Ontobee](http://www.ontobee.org/) and obtaining the URIs and then replacing the start and end node pairs in the s_o_tpl_L list. Be sure to set FIRST_TO_PROCESS to the first pair. If you have to restart the knowledge graph searches shown later, you can change that variable."
   ]
  },
  {
   "cell_type": "code",
   "execution_count": 4,
   "metadata": {},
   "outputs": [],
   "source": []
  },
  {
   "cell_type": "markdown",
   "metadata": {},
   "source": [
    "The libraries needed to import the graph and work with it"
   ]
  },
  {
   "cell_type": "code",
   "execution_count": 3,
   "metadata": {},
   "outputs": [],
   "source": [
    "import os\n",
    "import os.path\n",
    "import networkx as nx\n",
    "import json\n",
    "import urllib\n",
    "import traceback\n",
    "import sys\n",
    "from itertools import islice\n",
    "from rdflib import Graph, URIRef, BNode, Namespace, Literal\n",
    "from rdflib.namespace import RDF, OWL\n",
    "#import smart_open\n",
    "#from node2vec import Node2Vec"
   ]
  },
  {
   "cell_type": "markdown",
   "metadata": {},
   "source": [
    "The next two cell are the graph loading step. The graph is the output of the PheKnowLator process including filtering out OWL semantics. The sources used in this version of the knowledge graph are listed on [this Wiki page](https://github.com/callahantiff/PheKnowLator/wiki/v2-Data-Sources). The graph takes more than 15 gigs of RAM once loaded."
   ]
  },
  {
   "cell_type": "code",
   "execution_count": 4,
   "metadata": {},
   "outputs": [],
   "source": [
    "GRAPHPATH = \"/home/sanya/PheKnowLator/resources/knowledge_graphs/PheKnowLator_v2.1.0_full_instance_inverseRelations_OWLNETS_NetworkxMultiDiGraph.gpickle\""
   ]
  },
  {
   "cell_type": "code",
   "execution_count": 5,
   "metadata": {},
   "outputs": [],
   "source": [
    "# Reloading the graph produced from the PheKnowLator workflow\n",
    "# The graph \n",
    "nx_mdg = nx.read_gpickle(GRAPHPATH)"
   ]
  },
  {
   "cell_type": "markdown",
   "metadata": {},
   "source": [
    "The next cell defines several functions that will help to explain the results of path searches."
   ]
  },
  {
   "cell_type": "code",
   "execution_count": 9,
   "metadata": {},
   "outputs": [],
   "source": [
    "ontobee_service = \"http://sparql.hegroup.org/sparql/\"\n",
    "\n",
    "\n",
    "def query(q,epr,f='application/sparql-results+json'):\n",
    "    \"\"\"Function that uses urllib/urllib2 to issue a SPARQL query.\n",
    "       By default it requests json as data format for the SPARQL resultset\"\"\"\n",
    "\n",
    "    try:\n",
    "        params = {'query': q}\n",
    "        params = urllib.parse.urlencode(params)\n",
    "        opener = urllib.request.build_opener(urllib.request.HTTPHandler)\n",
    "        request = urllib.request.Request(epr+'?'+params)\n",
    "        request.add_header('Accept', f)\n",
    "        request.get_method = lambda: 'GET'\n",
    "        url = opener.open(request)\n",
    "        return url.read()\n",
    "    except Exception as e:\n",
    "        traceback.print_exc(file=sys.stdout)\n",
    "        raise e\n",
    "\n",
    "\n",
    "def pathQuery(pth):\n",
    "    \"\"\"Given a single path (list of rdflib objects), run a sparql query to retrieve descriptive information \n",
    "       that will help construct a narrative explanation\"\"\"\n",
    "    \n",
    "    uriL = [x.toPython() for x in filter(lambda x: type(x) == URIRef, pth)]\n",
    "    subjectStr = ''\n",
    "    objectStr = ''\n",
    "    for uri in uriL:\n",
    "        subjectStr = subjectStr + '?s = <' + uri + '> || '\n",
    "        objectStr = objectStr + '?o = <' + uri + '> || '\n",
    "    subjectStr = subjectStr[:-3] # ?s = <..> || ?s = <...>... the URIs for the subject/object entities in the path\n",
    "    objectStr = objectStr[:-3] # ?o = <..> || ?o = <...>... the URIs for the subject/object entities in the path\n",
    "   \n",
    "    q = '''\n",
    "  prefix obo:<http://purl.obolibrary.org/obo/>\n",
    "  prefix owl:<http://www.w3.org/2002/07/owl#>\n",
    "  prefix napdi:<http://napdi.org/napdi_srs_imports:>\n",
    " \n",
    "  select distinct ?s ?p ?o ?p_lab ?s_lab_eg ?o_lab_eg\n",
    "  from <http://phenowlator-st.org>\n",
    "  from <ro_with_imports_AD_mods>\n",
    "  where {{\n",
    "    ?s ?p ?o.FILTER(({}) && ({})) \n",
    "    OPTIONAL{{\n",
    "     ?p rdfs:label ?p_lab.\n",
    "   }}\n",
    "   OPTIONAL{{\n",
    "     ?egM_s <http://dikb.org/ad#obo_mapping> ?s.\n",
    "     ?egM_s rdfs:label ?s_lab_eg.\n",
    "   }}\n",
    "   OPTIONAL{{\n",
    "     ?egM_o <http://dikb.org/ad#obo_mapping> ?o.\n",
    "     ?egM_o rdfs:label ?o_lab_eg.\n",
    "   }}\n",
    "  }}\n",
    "'''.format(subjectStr,objectStr)\n",
    "    \n",
    "    return q\n",
    "\n",
    "\n",
    "def missingLabelQuery(uri, endpoint):\n",
    "    query_string = '''\n",
    "SELECT distinct ?lab\n",
    "WHERE {{ \n",
    " <{}> rdfs:label ?lab. \n",
    "}}\n",
    "'''.format(uri)\n",
    "    json_string = query(query_string, endpoint)\n",
    "    resultset = json.loads(json_string)\n",
    "    rsltsD = {}\n",
    "    for b in resultset[\"results\"][\"bindings\"]:\n",
    "        if not b.get('lab'):\n",
    "            return None\n",
    "        \n",
    "        label = b['lab']['value']\n",
    "        if label:\n",
    "            return label\n",
    "        else:\n",
    "            return None\n",
    "\n",
    "def constructPathNarData(pth, sparql_service, debug=False):\n",
    "    \"\"\" Iterate through the path to organize a narrative\n",
    "        in: pth - a list of rdflib URIRef and BNode objects\n",
    "        in: sparql_service - URL to the sparql endpoint\n",
    "    \"\"\"\n",
    "    query_string = pathQuery(pth)\n",
    "    if debug:\n",
    "        print('[DEBUG] Query:\\n' + query_string)\n",
    "        \n",
    "    json_string = query(query_string, pheknowlator_service)\n",
    "    resultset = json.loads(json_string)\n",
    "    print(\"[INFO] Number of results: \" + str(len(resultset[\"results\"][\"bindings\"])))\n",
    "    \n",
    "    # Re-organize the results set to be a dict keyed by the subject uri\n",
    "    rsltsD = {}\n",
    "    for b in resultset[\"results\"][\"bindings\"]:\n",
    "        s = b['s']['value']\n",
    "        if rsltsD.get(s):\n",
    "            rsltsD[s].append(b)\n",
    "        else:\n",
    "            rsltsD[s] = [b]\n",
    "    \n",
    "    narrative = \"\"     \n",
    "    for i in range(0,len(pth)):\n",
    "        if i == len(pth) - 1:\n",
    "            break\n",
    "        \n",
    "        n1 = pth[i]\n",
    "        n2 = pth[i+1]\n",
    "    \n",
    "        if not (type(n1) == URIRef and type(n2) == URIRef):\n",
    "            narrative += \"----- BLANK NODE STEP ----\"\n",
    "            continue\n",
    "        else:\n",
    "            # locate the results dict that relates n1 to n2 in a subject, predicate, object triple\n",
    "            o_d = None\n",
    "            for d in rsltsD.get(n1.toPython()):\n",
    "                if d['o']['value'] == n2.toPython():\n",
    "                    o_d = d\n",
    "                    break\n",
    "        \n",
    "            if not o_d:\n",
    "                print(\"ERROR: Unable to find a triple relating {} to {} in path {}\".format(n1.toPython(),n2.toPython(),pth))\n",
    "            else:\n",
    "                o_lab = '<no label found>'\n",
    "                o_node_id = o_d['o']['value'].split('/')[-1]\n",
    "                if nodeLabD.get(o_node_id):\n",
    "                    o_lab = nodeLabD[o_node_id]\n",
    "                else:\n",
    "                    if label_cache.get(o_d['o']['value']):\n",
    "                        o_lab = label_cache[o_d['o']['value']]\n",
    "                    else:\n",
    "                        ql = missingLabelQuery(o_d['o']['value'],ontobee_service)\n",
    "                        if ql:\n",
    "                            label_cache[o_d['o']['value']] = ql\n",
    "                            o_lab = ql\n",
    "                    \n",
    "                    if o_lab == '<no label found>' and o_d.get('o_lab_eg'):\n",
    "                        o_lab = o_d['o_lab_eg']['value'] + ' (UMLS label)'\n",
    "\n",
    "                s_lab = '<no label found>'\n",
    "                s_node_id = o_d['s']['value'].split('/')[-1]\n",
    "                if nodeLabD.get(s_node_id):\n",
    "                    s_lab = nodeLabD[s_node_id]\n",
    "                else:\n",
    "                    if label_cache.get(o_d['s']['value']):\n",
    "                        s_lab = label_cache[o_d['s']['value']]\n",
    "                    else:\n",
    "                        ql = missingLabelQuery(o_d['s']['value'],ontobee_service)\n",
    "                        if ql:\n",
    "                            label_cache[o_d['s']['value']] = ql\n",
    "                            s_lab = ql  \n",
    "                    \n",
    "                    if s_lab == '<no label found>' and o_d.get('s_lab_eg'):\n",
    "                        s_lab = o_d['s_lab_eg']['value'] + ' (UMLS label)'\n",
    "\n",
    "                if o_d.get('p_lab'):                      \n",
    "                    narrative += '{}\\t{}\\t{}\\t{}\\t{}\\t{}\\n'.format(\n",
    "                            s_lab,o_d['p_lab']['value'],o_lab,\n",
    "                            o_d['s']['value'],o_d['p']['value'],o_d['o']['value']\n",
    "                           )                          \n",
    "                else:\n",
    "                    narrative += '{}\\t{}\\t{}\\t{}\\t{}\\t{}\\n'.format(\n",
    "                            s_lab,o_d['p']['value'].replace('http://www.w3.org/2000/01/rdf-schema#',''),o_lab,\n",
    "                            o_d['s']['value'],o_d['p']['value'],o_d['o']['value']\n",
    "                           )                                          \n",
    "    return narrative"
   ]
  },
  {
   "cell_type": "markdown",
   "metadata": {},
   "source": [
    "The next cell loads a file that has all of the node labels which were stripped from the graph when OWL semantics were removed."
   ]
  },
  {
   "cell_type": "code",
   "execution_count": 6,
   "metadata": {},
   "outputs": [],
   "source": [
    "nodeLabD = {}\n",
    "node_label_file = '/home/sanya/PheKnowLator/resources/knowledge_graphs/PheKnowLator_v2.1.0_full_instance_inverseRelations_OWLNETS_NodeLabels.txt'\n",
    "f = open(node_label_file,'r')\n",
    "buf = f.read()\n",
    "f.close()\n",
    "nodLabL = buf.split('\\n')\n",
    "for line in nodLabL:\n",
    "    spL = line.split('\\t')\n",
    "    if len(spL) > 1:\n",
    "        nodeLabD[spL[0]] = spL[1]"
   ]
  },
  {
   "cell_type": "code",
   "execution_count": 30,
   "metadata": {},
   "outputs": [
    {
     "name": "stdout",
     "output_type": "stream",
     "text": [
      "entity_type\n",
      "integer_id\n"
     ]
    }
   ],
   "source": [
    "for key in nodeLabD:\n",
    "    print(key)\n",
    "    print(nodeLabD[key])\n",
    "    break"
   ]
  },
  {
   "cell_type": "markdown",
   "metadata": {},
   "source": [
    "This function conducts a shortest path search given a graph source and target k results are returned"
   ]
  },
  {
   "cell_type": "code",
   "execution_count": 7,
   "metadata": {},
   "outputs": [],
   "source": [
    "def k_shortest_paths(G, source, target, k, weight='weight'):\n",
    "    return list(islice(nx.all_shortest_paths(G, source, target, weight=weight), k))"
   ]
  },
  {
   "cell_type": "markdown",
   "metadata": {},
   "source": [
    "This function conducts the simple path searches given a graph source and target and an integers with the shortest path length known \n",
    "The shortest path lengths is used so that already seen simple paths are not returned\n",
    "k results are returned"
   ]
  },
  {
   "cell_type": "code",
   "execution_count": 8,
   "metadata": {},
   "outputs": [],
   "source": [
    "def k_simple_paths(G, source, target, k, shortestLen):\n",
    "    paths = nx.all_simple_paths(G, source, target, cutoff=shortestLen+20)\n",
    "    path_l = []\n",
    "    i = 0\n",
    "    while i < k:\n",
    "        try:\n",
    "            print('[info] applying next operator to search for a simple path of max length {}'.format(shortestLen+20))\n",
    "            path = next(paths)\n",
    "        except StopIteration:\n",
    "            break\n",
    "        print('[info] Simple path found of length {}'.format(len(path))) \n",
    "        if len(path) > shortestLen:\n",
    "            print('[info] Simple path length greater than shortest path length ({}) so adding to results'.format(shortestLen))\n",
    "            path_l.append(path)\n",
    "        i += 1\n",
    "    return path_l      "
   ]
  },
  {
   "cell_type": "code",
   "execution_count": 9,
   "metadata": {},
   "outputs": [],
   "source": [
    "# This is the endpoint where an RDF version of the PheKnowLator graph resides\n",
    "pheknowlator_service = \"http://localhost:8890/sparql\""
   ]
  },
  {
   "cell_type": "code",
   "execution_count": 10,
   "metadata": {},
   "outputs": [],
   "source": [
    "# There can be allot of repetition when doing certain search patterns (e.g., confounders) so set up a cache \n",
    "processed_tpl_cache = []\n",
    "# queried label cache\n",
    "label_cache = {}"
   ]
  },
  {
   "cell_type": "code",
   "execution_count": 11,
   "metadata": {},
   "outputs": [],
   "source": [
    "from rdflib import Namespace\n",
    "obo = Namespace('http://purl.obolibrary.org/obo/')\n",
    "napdi = Namespace('http://napdi.org/napdi_srs_imports:')"
   ]
  },
  {
   "cell_type": "code",
   "execution_count": 12,
   "metadata": {},
   "outputs": [],
   "source": [
    "s_o_tpl_List = [\n",
    "    (napdi.camellia_sinensis_leaf,obo.CHEBI_42255),\n",
    "    (napdi.camellia_sinensis_leaf,obo.CHEBI_68330),\n",
    "    (napdi.camellia_sinensis_leaf,obo.CHEBI_90),\n",
    "    (napdi.camellia_sinensis_leaf,obo.CHEBI_70255),\n",
    "    (napdi.camellia_sinensis_leaf,obo.PR_P08684),\n",
    "    (napdi.camellia_sinensis_leaf,obo.HP_0003418),\n",
    "    (napdi.camellia_sinensis_leaf,obo.CHEBI_8871)\n",
    "]\n",
    "## Leave as None unless you have to restart this cell before it has completely processed all tuples.\n",
    "## Otherwise, replace this tuple with the first tuple to process completely by the program \n",
    "FIRST_TO_PROCESS =  None"
   ]
  },
  {
   "cell_type": "code",
   "execution_count": 13,
   "metadata": {},
   "outputs": [],
   "source": [
    "s_o_tpl_L = [(napdi.camellia_sinensis_leaf,obo.PR_P08684)]"
   ]
  },
  {
   "cell_type": "code",
   "execution_count": 14,
   "metadata": {},
   "outputs": [
    {
     "data": {
      "text/plain": [
       "rdflib.term.URIRef('http://napdi.org/napdi_srs_imports:camellia_sinensis_leaf')"
      ]
     },
     "execution_count": 14,
     "metadata": {},
     "output_type": "execute_result"
    }
   ],
   "source": [
    "napdi.camellia_sinensis_leaf"
   ]
  },
  {
   "cell_type": "code",
   "execution_count": 32,
   "metadata": {},
   "outputs": [
    {
     "name": "stdout",
     "output_type": "stream",
     "text": [
      "\n",
      "napdi_srs_imports:camellia_sinensis_leaf - napdi_srs_imports:camellia_sinensis_whole Path:\n",
      "http://napdi.org/napdi_srs_imports:camellia_sinensis_leaf\n",
      "http://napdi.org/napdi_srs_imports:camellia_sinensis_whole\n",
      "\n",
      "napdi_srs_imports:camellia_sinensis_leaf - CHEBI_42255 Path:\n",
      "http://napdi.org/napdi_srs_imports:camellia_sinensis_leaf\n",
      "http://purl.obolibrary.org/obo/CHEBI_42255\n",
      "\n",
      "napdi_srs_imports:camellia_sinensis_leaf - CHEBI_68330 Path:\n",
      "http://napdi.org/napdi_srs_imports:camellia_sinensis_leaf\n",
      "http://purl.obolibrary.org/obo/CHEBI_68330\n",
      "\n",
      "napdi_srs_imports:camellia_sinensis_leaf - CHEBI_24431 Path:\n",
      "http://napdi.org/napdi_srs_imports:camellia_sinensis_leaf\n",
      "http://purl.obolibrary.org/obo/CHEBI_24431\n",
      "\n",
      "napdi_srs_imports:camellia_sinensis_leaf - napdi_srs_imports:epigallocatechin_gallate Path:\n",
      "http://napdi.org/napdi_srs_imports:camellia_sinensis_leaf\n",
      "http://napdi.org/napdi_srs_imports:epigallocatechin_gallate\n",
      "\n",
      "napdi_srs_imports:camellia_sinensis_leaf - NCBITaxon_4442 Path:\n",
      "http://napdi.org/napdi_srs_imports:camellia_sinensis_leaf\n",
      "http://purl.obolibrary.org/obo/NCBITaxon_4442\n",
      "\n",
      "napdi_srs_imports:camellia_sinensis_leaf - CHEBI_70255 Path:\n",
      "http://napdi.org/napdi_srs_imports:camellia_sinensis_leaf\n",
      "http://purl.obolibrary.org/obo/CHEBI_70255\n",
      "\n",
      "napdi_srs_imports:camellia_sinensis_leaf - CHEBI_90 Path:\n",
      "http://napdi.org/napdi_srs_imports:camellia_sinensis_leaf\n",
      "http://purl.obolibrary.org/obo/CHEBI_90\n",
      "\n",
      "napdi_srs_imports:camellia_sinensis_leaf - CHEBI_23053 Path:\n",
      "http://napdi.org/napdi_srs_imports:camellia_sinensis_leaf\n",
      "http://purl.obolibrary.org/obo/CHEBI_42255\n",
      "http://purl.obolibrary.org/obo/CHEBI_23053\n"
     ]
    }
   ],
   "source": [
    "#get shortest path from green tea leaf\n",
    "chebi_90_path = nx.single_source_shortest_path(nx_mdg, napdi.camellia_sinensis_leaf)\n",
    "count = 0\n",
    "for k, v in chebi_90_path.items():\n",
    "    count += 1\n",
    "    if k != napdi.camellia_sinensis_leaf:\n",
    "        print('\\n{} - {} Path:'.format(str(napdi.camellia_sinensis_leaf).split('/')[-1], str(k).split('/')[-1]))\n",
    "        for i in v:\n",
    "            print(i)\n",
    "    if count == 10:\n",
    "        break"
   ]
  },
  {
   "cell_type": "code",
   "execution_count": 46,
   "metadata": {},
   "outputs": [
    {
     "data": {
      "text/plain": [
       "[rdflib.term.URIRef('http://napdi.org/napdi_srs_imports:camellia_sinensis_leaf'),\n",
       " rdflib.term.URIRef('http://purl.obolibrary.org/obo/CHEBI_24431'),\n",
       " rdflib.term.URIRef('https://reactome.org/content/detail/R-HSA-1430728'),\n",
       " rdflib.term.URIRef('http://purl.obolibrary.org/obo/CHEBI_10033')]"
      ]
     },
     "execution_count": 46,
     "metadata": {},
     "output_type": "execute_result"
    }
   ],
   "source": [
    "nx.bidirectional_shortest_path(nx_mdg, napdi.camellia_sinensis_leaf, obo.CHEBI_10033)"
   ]
  },
  {
   "cell_type": "code",
   "execution_count": 15,
   "metadata": {},
   "outputs": [
    {
     "name": "stdout",
     "output_type": "stream",
     "text": [
      "[info] applying next operator to search for a simple path of max length 24\n",
      "[info] Simple path found of length 25\n",
      "[info] Simple path length greater than shortest path length (4) so adding to results\n",
      "[info] applying next operator to search for a simple path of max length 24\n",
      "[info] Simple path found of length 25\n",
      "[info] Simple path length greater than shortest path length (4) so adding to results\n",
      "[info] applying next operator to search for a simple path of max length 24\n",
      "[info] Simple path found of length 25\n",
      "[info] Simple path length greater than shortest path length (4) so adding to results\n",
      "[info] applying next operator to search for a simple path of max length 24\n",
      "[info] Simple path found of length 25\n",
      "[info] Simple path length greater than shortest path length (4) so adding to results\n",
      "[info] applying next operator to search for a simple path of max length 24\n",
      "[info] Simple path found of length 25\n",
      "[info] Simple path length greater than shortest path length (4) so adding to results\n",
      "[info] applying next operator to search for a simple path of max length 24\n",
      "[info] Simple path found of length 25\n",
      "[info] Simple path length greater than shortest path length (4) so adding to results\n",
      "[info] applying next operator to search for a simple path of max length 24\n",
      "[info] Simple path found of length 25\n",
      "[info] Simple path length greater than shortest path length (4) so adding to results\n",
      "[info] applying next operator to search for a simple path of max length 24\n",
      "[info] Simple path found of length 25\n",
      "[info] Simple path length greater than shortest path length (4) so adding to results\n",
      "[info] applying next operator to search for a simple path of max length 24\n",
      "[info] Simple path found of length 25\n",
      "[info] Simple path length greater than shortest path length (4) so adding to results\n",
      "[info] applying next operator to search for a simple path of max length 24\n",
      "[info] Simple path found of length 25\n",
      "[info] Simple path length greater than shortest path length (4) so adding to results\n"
     ]
    }
   ],
   "source": [
    "cyp3a4_paths = k_simple_paths(nx_mdg, napdi.camellia_sinensis_leaf, obo.PR_P08684, 10, 4)"
   ]
  },
  {
   "cell_type": "code",
   "execution_count": 24,
   "metadata": {},
   "outputs": [
    {
     "name": "stdout",
     "output_type": "stream",
     "text": [
      "entity_type\n",
      "integer_id\n"
     ]
    }
   ],
   "source": [
    "for key in nodeLabD:\n",
    "    print(key)\n",
    "    print(nodeLabD[key])\n",
    "    break"
   ]
  },
  {
   "cell_type": "code",
   "execution_count": 29,
   "metadata": {},
   "outputs": [
    {
     "data": {
      "text/plain": [
       "[rdflib.term.URIRef('http://napdi.org/napdi_srs_imports:camellia_sinensis_leaf'),\n",
       " rdflib.term.URIRef('http://napdi.org/napdi_srs_imports:camellia_sinensis_whole'),\n",
       " rdflib.term.URIRef('http://purl.obolibrary.org/obo/CHEBI_24431'),\n",
       " rdflib.term.URIRef('https://reactome.org/content/detail/R-HSA-1430728'),\n",
       " rdflib.term.URIRef('http://purl.obolibrary.org/obo/PR_Q96SU4'),\n",
       " rdflib.term.URIRef('https://uswest.ensembl.org/Homo_sapiens/Transcript/Summary?t=ENST00000428468'),\n",
       " rdflib.term.URIRef('http://www.ncbi.nlm.nih.gov/gene/114883'),\n",
       " rdflib.term.URIRef('https://reactome.org/content/detail/R-HSA-192105'),\n",
       " rdflib.term.URIRef('http://www.ncbi.nlm.nih.gov/gene/5740'),\n",
       " rdflib.term.URIRef('https://reactome.org/content/detail/R-HSA-2142753'),\n",
       " rdflib.term.URIRef('http://purl.obolibrary.org/obo/CHEBI_34784'),\n",
       " rdflib.term.URIRef('http://purl.obolibrary.org/obo/CHEBI_15904'),\n",
       " rdflib.term.URIRef('http://purl.obolibrary.org/obo/CHEBI_35366'),\n",
       " rdflib.term.URIRef('http://purl.obolibrary.org/obo/GO_0050839'),\n",
       " rdflib.term.URIRef('http://purl.obolibrary.org/obo/PR_P02679'),\n",
       " rdflib.term.URIRef('http://purl.obolibrary.org/obo/PR_Q8IXL6'),\n",
       " rdflib.term.URIRef('http://purl.obolibrary.org/obo/PR_Q12841'),\n",
       " rdflib.term.URIRef('http://purl.obolibrary.org/obo/PR_P12644'),\n",
       " rdflib.term.URIRef('http://purl.obolibrary.org/obo/PR_P07942'),\n",
       " rdflib.term.URIRef('http://purl.obolibrary.org/obo/PR_O95633'),\n",
       " rdflib.term.URIRef('http://purl.obolibrary.org/obo/PR_Q13103'),\n",
       " rdflib.term.URIRef('http://purl.obolibrary.org/obo/GO_0005576'),\n",
       " rdflib.term.URIRef('http://purl.obolibrary.org/obo/PR_P05164'),\n",
       " rdflib.term.URIRef('http://purl.obolibrary.org/obo/GO_0043231'),\n",
       " rdflib.term.URIRef('http://purl.obolibrary.org/obo/PR_P08684')]"
      ]
     },
     "execution_count": 29,
     "metadata": {},
     "output_type": "execute_result"
    }
   ],
   "source": [
    "#translate nodes to labels, figure out how to get relations/edges and then save to file\n",
    "cyp3a4_paths[0]"
   ]
  },
  {
   "cell_type": "code",
   "execution_count": 32,
   "metadata": {},
   "outputs": [
    {
     "name": "stderr",
     "output_type": "stream",
     "text": [
      "  0%|          | 0/743772 [00:00<?, ?it/s]\n"
     ]
    },
    {
     "ename": "ValueError",
     "evalue": "too many values to unpack (expected 3)",
     "output_type": "error",
     "traceback": [
      "\u001b[0;31m---------------------------------------------------------------------------\u001b[0m",
      "\u001b[0;31mValueError\u001b[0m                                Traceback (most recent call last)",
      "\u001b[0;32m<ipython-input-32-b9ae1c26d857>\u001b[0m in \u001b[0;36m<module>\u001b[0;34m\u001b[0m\n\u001b[1;32m      1\u001b[0m \u001b[0;32mfrom\u001b[0m \u001b[0mtqdm\u001b[0m \u001b[0;32mimport\u001b[0m \u001b[0mtqdm\u001b[0m\u001b[0;34m\u001b[0m\u001b[0;34m\u001b[0m\u001b[0m\n\u001b[0;32m----> 2\u001b[0;31m \u001b[0;32mfor\u001b[0m \u001b[0ms\u001b[0m\u001b[0;34m,\u001b[0m\u001b[0mp\u001b[0m\u001b[0;34m,\u001b[0m\u001b[0mo\u001b[0m \u001b[0;32min\u001b[0m \u001b[0mtqdm\u001b[0m\u001b[0;34m(\u001b[0m\u001b[0mnx_mdg\u001b[0m\u001b[0;34m)\u001b[0m\u001b[0;34m:\u001b[0m\u001b[0;34m\u001b[0m\u001b[0;34m\u001b[0m\u001b[0m\n\u001b[0m\u001b[1;32m      3\u001b[0m     \u001b[0mprint\u001b[0m\u001b[0;34m(\u001b[0m\u001b[0ms\u001b[0m\u001b[0;34m)\u001b[0m\u001b[0;34m\u001b[0m\u001b[0;34m\u001b[0m\u001b[0m\n\u001b[1;32m      4\u001b[0m     \u001b[0mprint\u001b[0m\u001b[0;34m(\u001b[0m\u001b[0mp\u001b[0m\u001b[0;34m)\u001b[0m\u001b[0;34m\u001b[0m\u001b[0;34m\u001b[0m\u001b[0m\n\u001b[1;32m      5\u001b[0m     \u001b[0mprint\u001b[0m\u001b[0;34m(\u001b[0m\u001b[0mo\u001b[0m\u001b[0;34m)\u001b[0m\u001b[0;34m\u001b[0m\u001b[0;34m\u001b[0m\u001b[0m\n",
      "\u001b[0;31mValueError\u001b[0m: too many values to unpack (expected 3)"
     ]
    }
   ],
   "source": [
    "from tqdm import tqdm\n",
    "for s,p,o in tqdm(nx_mdg):\n",
    "    print(s)\n",
    "    print(p)\n",
    "    print(o)\n",
    "    break"
   ]
  },
  {
   "cell_type": "code",
   "execution_count": null,
   "metadata": {},
   "outputs": [],
   "source": []
  },
  {
   "cell_type": "code",
   "execution_count": 18,
   "metadata": {},
   "outputs": [
    {
     "ename": "TypeError",
     "evalue": "write() argument must be str, not list",
     "output_type": "error",
     "traceback": [
      "\u001b[0;31m---------------------------------------------------------------------------\u001b[0m",
      "\u001b[0;31mTypeError\u001b[0m                                 Traceback (most recent call last)",
      "\u001b[0;32m<ipython-input-18-2a4e534fc5c3>\u001b[0m in \u001b[0;36m<module>\u001b[0;34m\u001b[0m\n\u001b[1;32m      1\u001b[0m \u001b[0;32mwith\u001b[0m \u001b[0mopen\u001b[0m\u001b[0;34m(\u001b[0m\u001b[0;34m'cyp3a4_paths_test.txt'\u001b[0m\u001b[0;34m,\u001b[0m \u001b[0;34m'w'\u001b[0m\u001b[0;34m)\u001b[0m \u001b[0;32mas\u001b[0m \u001b[0mfile_o\u001b[0m\u001b[0;34m:\u001b[0m\u001b[0;34m\u001b[0m\u001b[0;34m\u001b[0m\u001b[0m\n\u001b[1;32m      2\u001b[0m     \u001b[0;32mfor\u001b[0m \u001b[0mitem\u001b[0m \u001b[0;32min\u001b[0m \u001b[0mcyp3a4_paths\u001b[0m\u001b[0;34m:\u001b[0m\u001b[0;34m\u001b[0m\u001b[0;34m\u001b[0m\u001b[0m\n\u001b[0;32m----> 3\u001b[0;31m         \u001b[0mfile_o\u001b[0m\u001b[0;34m.\u001b[0m\u001b[0mwrite\u001b[0m\u001b[0;34m(\u001b[0m\u001b[0mitem\u001b[0m\u001b[0;34m)\u001b[0m\u001b[0;34m\u001b[0m\u001b[0;34m\u001b[0m\u001b[0m\n\u001b[0m\u001b[1;32m      4\u001b[0m         \u001b[0mfile_o\u001b[0m\u001b[0;34m.\u001b[0m\u001b[0mwrite\u001b[0m\u001b[0;34m(\u001b[0m\u001b[0;34m'/n/n'\u001b[0m\u001b[0;34m)\u001b[0m\u001b[0;34m\u001b[0m\u001b[0;34m\u001b[0m\u001b[0m\n",
      "\u001b[0;31mTypeError\u001b[0m: write() argument must be str, not list"
     ]
    }
   ],
   "source": [
    "with open('cyp3a4_paths_test.txt', 'w') as file_o:\n",
    "    for item in cyp3a4_paths:\n",
    "        file_o.write(str(item))\n",
    "        file_o.write('/n/n')"
   ]
  },
  {
   "cell_type": "code",
   "execution_count": 16,
   "metadata": {},
   "outputs": [
    {
     "name": "stdout",
     "output_type": "stream",
     "text": [
      "[info] applying next operator to search for a simple path of max length 26\n"
     ]
    },
    {
     "ename": "KeyboardInterrupt",
     "evalue": "",
     "output_type": "error",
     "traceback": [
      "\u001b[0;31m---------------------------------------------------------------------------\u001b[0m",
      "\u001b[0;31mKeyboardInterrupt\u001b[0m                         Traceback (most recent call last)",
      "\u001b[0;32m<ipython-input-16-d80a32d21262>\u001b[0m in \u001b[0;36m<module>\u001b[0;34m\u001b[0m\n\u001b[0;32m----> 1\u001b[0;31m \u001b[0mbackpain_paths\u001b[0m \u001b[0;34m=\u001b[0m \u001b[0mk_simple_paths\u001b[0m\u001b[0;34m(\u001b[0m\u001b[0mnx_mdg\u001b[0m\u001b[0;34m,\u001b[0m \u001b[0mnapdi\u001b[0m\u001b[0;34m.\u001b[0m\u001b[0mcamellia_sinensis_leaf\u001b[0m\u001b[0;34m,\u001b[0m \u001b[0mobo\u001b[0m\u001b[0;34m.\u001b[0m\u001b[0mHP_0003418\u001b[0m\u001b[0;34m,\u001b[0m \u001b[0;36m10\u001b[0m\u001b[0;34m,\u001b[0m \u001b[0;36m6\u001b[0m\u001b[0;34m)\u001b[0m\u001b[0;34m\u001b[0m\u001b[0;34m\u001b[0m\u001b[0m\n\u001b[0m",
      "\u001b[0;32m<ipython-input-8-73f36decc8e1>\u001b[0m in \u001b[0;36mk_simple_paths\u001b[0;34m(G, source, target, k, shortestLen)\u001b[0m\n\u001b[1;32m      6\u001b[0m         \u001b[0;32mtry\u001b[0m\u001b[0;34m:\u001b[0m\u001b[0;34m\u001b[0m\u001b[0;34m\u001b[0m\u001b[0m\n\u001b[1;32m      7\u001b[0m             \u001b[0mprint\u001b[0m\u001b[0;34m(\u001b[0m\u001b[0;34m'[info] applying next operator to search for a simple path of max length {}'\u001b[0m\u001b[0;34m.\u001b[0m\u001b[0mformat\u001b[0m\u001b[0;34m(\u001b[0m\u001b[0mshortestLen\u001b[0m\u001b[0;34m+\u001b[0m\u001b[0;36m20\u001b[0m\u001b[0;34m)\u001b[0m\u001b[0;34m)\u001b[0m\u001b[0;34m\u001b[0m\u001b[0;34m\u001b[0m\u001b[0m\n\u001b[0;32m----> 8\u001b[0;31m             \u001b[0mpath\u001b[0m \u001b[0;34m=\u001b[0m \u001b[0mnext\u001b[0m\u001b[0;34m(\u001b[0m\u001b[0mpaths\u001b[0m\u001b[0;34m)\u001b[0m\u001b[0;34m\u001b[0m\u001b[0;34m\u001b[0m\u001b[0m\n\u001b[0m\u001b[1;32m      9\u001b[0m         \u001b[0;32mexcept\u001b[0m \u001b[0mStopIteration\u001b[0m\u001b[0;34m:\u001b[0m\u001b[0;34m\u001b[0m\u001b[0;34m\u001b[0m\u001b[0m\n\u001b[1;32m     10\u001b[0m             \u001b[0;32mbreak\u001b[0m\u001b[0;34m\u001b[0m\u001b[0;34m\u001b[0m\u001b[0m\n",
      "\u001b[0;32m~/.conda/envs/sanya_kg/lib/python3.6/site-packages/networkx/algorithms/simple_paths.py\u001b[0m in \u001b[0;36m_all_simple_paths_multigraph\u001b[0;34m(G, source, targets, cutoff)\u001b[0m\n\u001b[1;32m    285\u001b[0m         \u001b[0;32melse\u001b[0m\u001b[0;34m:\u001b[0m  \u001b[0;31m# len(visited) == cutoff:\u001b[0m\u001b[0;34m\u001b[0m\u001b[0;34m\u001b[0m\u001b[0m\n\u001b[1;32m    286\u001b[0m             \u001b[0;32mfor\u001b[0m \u001b[0mtarget\u001b[0m \u001b[0;32min\u001b[0m \u001b[0mtargets\u001b[0m \u001b[0;34m-\u001b[0m \u001b[0mset\u001b[0m\u001b[0;34m(\u001b[0m\u001b[0mvisited\u001b[0m\u001b[0;34m.\u001b[0m\u001b[0mkeys\u001b[0m\u001b[0;34m(\u001b[0m\u001b[0;34m)\u001b[0m\u001b[0;34m)\u001b[0m\u001b[0;34m:\u001b[0m\u001b[0;34m\u001b[0m\u001b[0;34m\u001b[0m\u001b[0m\n\u001b[0;32m--> 287\u001b[0;31m                 \u001b[0mcount\u001b[0m \u001b[0;34m=\u001b[0m \u001b[0;34m(\u001b[0m\u001b[0;34m[\u001b[0m\u001b[0mchild\u001b[0m\u001b[0;34m]\u001b[0m \u001b[0;34m+\u001b[0m \u001b[0mlist\u001b[0m\u001b[0;34m(\u001b[0m\u001b[0mchildren\u001b[0m\u001b[0;34m)\u001b[0m\u001b[0;34m)\u001b[0m\u001b[0;34m.\u001b[0m\u001b[0mcount\u001b[0m\u001b[0;34m(\u001b[0m\u001b[0mtarget\u001b[0m\u001b[0;34m)\u001b[0m\u001b[0;34m\u001b[0m\u001b[0;34m\u001b[0m\u001b[0m\n\u001b[0m\u001b[1;32m    288\u001b[0m                 \u001b[0;32mfor\u001b[0m \u001b[0mi\u001b[0m \u001b[0;32min\u001b[0m \u001b[0mrange\u001b[0m\u001b[0;34m(\u001b[0m\u001b[0mcount\u001b[0m\u001b[0;34m)\u001b[0m\u001b[0;34m:\u001b[0m\u001b[0;34m\u001b[0m\u001b[0;34m\u001b[0m\u001b[0m\n\u001b[1;32m    289\u001b[0m                     \u001b[0;32myield\u001b[0m \u001b[0mlist\u001b[0m\u001b[0;34m(\u001b[0m\u001b[0mvisited\u001b[0m\u001b[0;34m)\u001b[0m \u001b[0;34m+\u001b[0m \u001b[0;34m[\u001b[0m\u001b[0mtarget\u001b[0m\u001b[0;34m]\u001b[0m\u001b[0;34m\u001b[0m\u001b[0;34m\u001b[0m\u001b[0m\n",
      "\u001b[0;32m~/.conda/envs/sanya_kg/lib/python3.6/site-packages/networkx/algorithms/simple_paths.py\u001b[0m in \u001b[0;36m<genexpr>\u001b[0;34m(.0)\u001b[0m\n\u001b[1;32m    280\u001b[0m             \u001b[0mvisited\u001b[0m\u001b[0;34m[\u001b[0m\u001b[0mchild\u001b[0m\u001b[0;34m]\u001b[0m \u001b[0;34m=\u001b[0m \u001b[0;32mNone\u001b[0m\u001b[0;34m\u001b[0m\u001b[0;34m\u001b[0m\u001b[0m\n\u001b[1;32m    281\u001b[0m             \u001b[0;32mif\u001b[0m \u001b[0mtargets\u001b[0m \u001b[0;34m-\u001b[0m \u001b[0mset\u001b[0m\u001b[0;34m(\u001b[0m\u001b[0mvisited\u001b[0m\u001b[0;34m.\u001b[0m\u001b[0mkeys\u001b[0m\u001b[0;34m(\u001b[0m\u001b[0;34m)\u001b[0m\u001b[0;34m)\u001b[0m\u001b[0;34m:\u001b[0m\u001b[0;34m\u001b[0m\u001b[0;34m\u001b[0m\u001b[0m\n\u001b[0;32m--> 282\u001b[0;31m                 \u001b[0mstack\u001b[0m\u001b[0;34m.\u001b[0m\u001b[0mappend\u001b[0m\u001b[0;34m(\u001b[0m\u001b[0;34m(\u001b[0m\u001b[0mv\u001b[0m \u001b[0;32mfor\u001b[0m \u001b[0mu\u001b[0m\u001b[0;34m,\u001b[0m \u001b[0mv\u001b[0m \u001b[0;32min\u001b[0m \u001b[0mG\u001b[0m\u001b[0;34m.\u001b[0m\u001b[0medges\u001b[0m\u001b[0;34m(\u001b[0m\u001b[0mchild\u001b[0m\u001b[0;34m)\u001b[0m\u001b[0;34m)\u001b[0m\u001b[0;34m)\u001b[0m\u001b[0;34m\u001b[0m\u001b[0;34m\u001b[0m\u001b[0m\n\u001b[0m\u001b[1;32m    283\u001b[0m             \u001b[0;32melse\u001b[0m\u001b[0;34m:\u001b[0m\u001b[0;34m\u001b[0m\u001b[0;34m\u001b[0m\u001b[0m\n\u001b[1;32m    284\u001b[0m                 \u001b[0mvisited\u001b[0m\u001b[0;34m.\u001b[0m\u001b[0mpopitem\u001b[0m\u001b[0;34m(\u001b[0m\u001b[0;34m)\u001b[0m\u001b[0;34m\u001b[0m\u001b[0;34m\u001b[0m\u001b[0m\n",
      "\u001b[0;32m~/.conda/envs/sanya_kg/lib/python3.6/site-packages/networkx/classes/reportviews.py\u001b[0m in \u001b[0;36m<genexpr>\u001b[0;34m(.0)\u001b[0m\n\u001b[1;32m    876\u001b[0m             \u001b[0;32mfor\u001b[0m \u001b[0mn\u001b[0m\u001b[0;34m,\u001b[0m \u001b[0mnbrs\u001b[0m \u001b[0;32min\u001b[0m \u001b[0mself\u001b[0m\u001b[0;34m.\u001b[0m\u001b[0m_nodes_nbrs\u001b[0m\u001b[0;34m(\u001b[0m\u001b[0;34m)\u001b[0m\u001b[0;34m\u001b[0m\u001b[0;34m\u001b[0m\u001b[0m\n\u001b[1;32m    877\u001b[0m             \u001b[0;32mfor\u001b[0m \u001b[0mnbr\u001b[0m\u001b[0;34m,\u001b[0m \u001b[0mkd\u001b[0m \u001b[0;32min\u001b[0m \u001b[0mnbrs\u001b[0m\u001b[0;34m.\u001b[0m\u001b[0mitems\u001b[0m\u001b[0;34m(\u001b[0m\u001b[0;34m)\u001b[0m\u001b[0;34m\u001b[0m\u001b[0;34m\u001b[0m\u001b[0m\n\u001b[0;32m--> 878\u001b[0;31m             \u001b[0;32mfor\u001b[0m \u001b[0mk\u001b[0m\u001b[0;34m,\u001b[0m \u001b[0mdd\u001b[0m \u001b[0;32min\u001b[0m \u001b[0mkd\u001b[0m\u001b[0;34m.\u001b[0m\u001b[0mitems\u001b[0m\u001b[0;34m(\u001b[0m\u001b[0;34m)\u001b[0m\u001b[0;34m\u001b[0m\u001b[0;34m\u001b[0m\u001b[0m\n\u001b[0m\u001b[1;32m    879\u001b[0m         )\n\u001b[1;32m    880\u001b[0m \u001b[0;34m\u001b[0m\u001b[0m\n",
      "\u001b[0;32m~/.conda/envs/sanya_kg/lib/python3.6/site-packages/networkx/classes/reportviews.py\u001b[0m in \u001b[0;36m<lambda>\u001b[0;34m(n, nbr, k, dd)\u001b[0m\n\u001b[1;32m    853\u001b[0m                 \u001b[0mself\u001b[0m\u001b[0;34m.\u001b[0m\u001b[0m_report\u001b[0m \u001b[0;34m=\u001b[0m \u001b[0;32mlambda\u001b[0m \u001b[0mn\u001b[0m\u001b[0;34m,\u001b[0m \u001b[0mnbr\u001b[0m\u001b[0;34m,\u001b[0m \u001b[0mk\u001b[0m\u001b[0;34m,\u001b[0m \u001b[0mdd\u001b[0m\u001b[0;34m:\u001b[0m \u001b[0;34m(\u001b[0m\u001b[0mn\u001b[0m\u001b[0;34m,\u001b[0m \u001b[0mnbr\u001b[0m\u001b[0;34m,\u001b[0m \u001b[0mk\u001b[0m\u001b[0;34m)\u001b[0m\u001b[0;34m\u001b[0m\u001b[0;34m\u001b[0m\u001b[0m\n\u001b[1;32m    854\u001b[0m             \u001b[0;32melse\u001b[0m\u001b[0;34m:\u001b[0m\u001b[0;34m\u001b[0m\u001b[0;34m\u001b[0m\u001b[0m\n\u001b[0;32m--> 855\u001b[0;31m                 \u001b[0mself\u001b[0m\u001b[0;34m.\u001b[0m\u001b[0m_report\u001b[0m \u001b[0;34m=\u001b[0m \u001b[0;32mlambda\u001b[0m \u001b[0mn\u001b[0m\u001b[0;34m,\u001b[0m \u001b[0mnbr\u001b[0m\u001b[0;34m,\u001b[0m \u001b[0mk\u001b[0m\u001b[0;34m,\u001b[0m \u001b[0mdd\u001b[0m\u001b[0;34m:\u001b[0m \u001b[0;34m(\u001b[0m\u001b[0mn\u001b[0m\u001b[0;34m,\u001b[0m \u001b[0mnbr\u001b[0m\u001b[0;34m)\u001b[0m\u001b[0;34m\u001b[0m\u001b[0;34m\u001b[0m\u001b[0m\n\u001b[0m\u001b[1;32m    856\u001b[0m         \u001b[0;32melse\u001b[0m\u001b[0;34m:\u001b[0m  \u001b[0;31m# data is attribute name\u001b[0m\u001b[0;34m\u001b[0m\u001b[0;34m\u001b[0m\u001b[0m\n\u001b[1;32m    857\u001b[0m             \u001b[0;32mif\u001b[0m \u001b[0mkeys\u001b[0m \u001b[0;32mis\u001b[0m \u001b[0;32mTrue\u001b[0m\u001b[0;34m:\u001b[0m\u001b[0;34m\u001b[0m\u001b[0;34m\u001b[0m\u001b[0m\n",
      "\u001b[0;31mKeyboardInterrupt\u001b[0m: "
     ]
    }
   ],
   "source": [
    "backpain_paths = k_simple_paths(nx_mdg, napdi.camellia_sinensis_leaf, obo.HP_0003418, 10, 6)"
   ]
  },
  {
   "cell_type": "code",
   "execution_count": null,
   "metadata": {},
   "outputs": [],
   "source": [
    "len(cyp3a4_paths)"
   ]
  },
  {
   "cell_type": "code",
   "execution_count": null,
   "metadata": {},
   "outputs": [],
   "source": []
  },
  {
   "cell_type": "code",
   "execution_count": null,
   "metadata": {},
   "outputs": [],
   "source": []
  },
  {
   "cell_type": "code",
   "execution_count": null,
   "metadata": {},
   "outputs": [],
   "source": []
  },
  {
   "cell_type": "code",
   "execution_count": null,
   "metadata": {},
   "outputs": [],
   "source": []
  },
  {
   "cell_type": "code",
   "execution_count": null,
   "metadata": {},
   "outputs": [],
   "source": [
    "# look at shortest path between \n",
    "shortest_paths = nx.shortest_path(nx_mdg, source=napdi.camellia_sinensis_leaf)\n",
    "\n",
    "for k, v in shortest_paths.items():\n",
    "    if k != napdi.camellia_sinensis_leaf:\n",
    "        print('\\n{} - {} Path:'.format(str(napdi.camellia_sinensis_leaf).split('/')[-1], str(k).split('/')[-1]))\n",
    "        for i in v:\n",
    "            print(i)"
   ]
  },
  {
   "cell_type": "markdown",
   "metadata": {},
   "source": [
    "The next cell conducts the shortest path searches"
   ]
  },
  {
   "cell_type": "code",
   "execution_count": 35,
   "metadata": {},
   "outputs": [
    {
     "name": "stdout",
     "output_type": "stream",
     "text": [
      "INFO: Processing http://napdi.org/napdi_srs_imports:camellia_sinensis_leaf and http://purl.obolibrary.org/obo/CHEBI_42255:\n",
      "\n",
      "1\n",
      "[rdflib.term.URIRef('http://napdi.org/napdi_srs_imports:camellia_sinensis_leaf'), rdflib.term.URIRef('http://purl.obolibrary.org/obo/CHEBI_42255')]\n",
      "[INFO] Number of results: 0\n"
     ]
    },
    {
     "ename": "TypeError",
     "evalue": "'NoneType' object is not iterable",
     "output_type": "error",
     "traceback": [
      "\u001b[0;31m---------------------------------------------------------------------------\u001b[0m",
      "\u001b[0;31mTypeError\u001b[0m                                 Traceback (most recent call last)",
      "\u001b[0;32m<ipython-input-35-4b23e06822f2>\u001b[0m in \u001b[0;36m<module>\u001b[0;34m\u001b[0m\n\u001b[1;32m     34\u001b[0m \u001b[0;34m\u001b[0m\u001b[0m\n\u001b[1;32m     35\u001b[0m         \u001b[0mc\u001b[0m \u001b[0;34m+=\u001b[0m \u001b[0;36m1\u001b[0m\u001b[0;34m\u001b[0m\u001b[0;34m\u001b[0m\u001b[0m\n\u001b[0;32m---> 36\u001b[0;31m         \u001b[0mnar\u001b[0m \u001b[0;34m=\u001b[0m \u001b[0mconstructPathNarData\u001b[0m\u001b[0;34m(\u001b[0m\u001b[0mpath\u001b[0m\u001b[0;34m,\u001b[0m\u001b[0mpheknowlator_service\u001b[0m\u001b[0;34m,\u001b[0m\u001b[0mdebug\u001b[0m\u001b[0;34m=\u001b[0m\u001b[0;32mFalse\u001b[0m\u001b[0;34m)\u001b[0m\u001b[0;34m\u001b[0m\u001b[0;34m\u001b[0m\u001b[0m\n\u001b[0m\u001b[1;32m     37\u001b[0m         \u001b[0mprint\u001b[0m\u001b[0;34m(\u001b[0m\u001b[0;34m'\\n\\nINFO: SHORTEST PATH {}:\\n'\u001b[0m\u001b[0;34m.\u001b[0m\u001b[0mformat\u001b[0m\u001b[0;34m(\u001b[0m\u001b[0mc\u001b[0m\u001b[0;34m)\u001b[0m\u001b[0;34m)\u001b[0m\u001b[0;34m\u001b[0m\u001b[0;34m\u001b[0m\u001b[0m\n\u001b[1;32m     38\u001b[0m         \u001b[0mprint\u001b[0m\u001b[0;34m(\u001b[0m\u001b[0mnar\u001b[0m\u001b[0;34m)\u001b[0m\u001b[0;34m\u001b[0m\u001b[0;34m\u001b[0m\u001b[0m\n",
      "\u001b[0;32m<ipython-input-9-fe6b9189ea18>\u001b[0m in \u001b[0;36mconstructPathNarData\u001b[0;34m(pth, sparql_service, debug)\u001b[0m\n\u001b[1;32m    115\u001b[0m             \u001b[0;31m# locate the results dict that relates n1 to n2 in a subject, predicate, object triple\u001b[0m\u001b[0;34m\u001b[0m\u001b[0;34m\u001b[0m\u001b[0;34m\u001b[0m\u001b[0m\n\u001b[1;32m    116\u001b[0m             \u001b[0mo_d\u001b[0m \u001b[0;34m=\u001b[0m \u001b[0;32mNone\u001b[0m\u001b[0;34m\u001b[0m\u001b[0;34m\u001b[0m\u001b[0m\n\u001b[0;32m--> 117\u001b[0;31m             \u001b[0;32mfor\u001b[0m \u001b[0md\u001b[0m \u001b[0;32min\u001b[0m \u001b[0mrsltsD\u001b[0m\u001b[0;34m.\u001b[0m\u001b[0mget\u001b[0m\u001b[0;34m(\u001b[0m\u001b[0mn1\u001b[0m\u001b[0;34m.\u001b[0m\u001b[0mtoPython\u001b[0m\u001b[0;34m(\u001b[0m\u001b[0;34m)\u001b[0m\u001b[0;34m)\u001b[0m\u001b[0;34m:\u001b[0m\u001b[0;34m\u001b[0m\u001b[0;34m\u001b[0m\u001b[0m\n\u001b[0m\u001b[1;32m    118\u001b[0m                 \u001b[0;32mif\u001b[0m \u001b[0md\u001b[0m\u001b[0;34m[\u001b[0m\u001b[0;34m'o'\u001b[0m\u001b[0;34m]\u001b[0m\u001b[0;34m[\u001b[0m\u001b[0;34m'value'\u001b[0m\u001b[0;34m]\u001b[0m \u001b[0;34m==\u001b[0m \u001b[0mn2\u001b[0m\u001b[0;34m.\u001b[0m\u001b[0mtoPython\u001b[0m\u001b[0;34m(\u001b[0m\u001b[0;34m)\u001b[0m\u001b[0;34m:\u001b[0m\u001b[0;34m\u001b[0m\u001b[0;34m\u001b[0m\u001b[0m\n\u001b[1;32m    119\u001b[0m                     \u001b[0mo_d\u001b[0m \u001b[0;34m=\u001b[0m \u001b[0md\u001b[0m\u001b[0;34m\u001b[0m\u001b[0;34m\u001b[0m\u001b[0m\n",
      "\u001b[0;31mTypeError\u001b[0m: 'NoneType' object is not iterable"
     ]
    }
   ],
   "source": [
    "shortestPathsLens = [] # we track the shortest paths from source to target for when we do simple path searches\n",
    "for tpl in s_o_tpl_L:      \n",
    "    if FIRST_TO_PROCESS:\n",
    "        if str(tpl) != str(FIRST_TO_PROCESS):\n",
    "            print('INFO: skipping tuple because it is not FIRST_TO_PROCESS:' + str(tpl))\n",
    "            continue\n",
    "        else:\n",
    "            FIRST_TO_PROCESS = None\n",
    "    \n",
    "    (s,o) = tpl    \n",
    "    startNd = s\n",
    "    endNd = o\n",
    "    \n",
    "    print('INFO: Processing {} and {}:\\n'.format(s,o))\n",
    "                \n",
    "    try:\n",
    "        pthL = k_shortest_paths(nx_mdg,startNd,endNd,maxNumPaths)\n",
    "    except nx.NetworkXNoPath:\n",
    "        print('INFO: No results in the path search.\\n')\n",
    "        continue\n",
    "    except nx.NodeNotFound:\n",
    "        print('INFO: The source node does not exist in the Knowledge Graph.\\n')\n",
    "        continue\n",
    "    print(len(pthL))\n",
    "    \n",
    "    narL = []\n",
    "    c = -1\n",
    "    for path in pthL:\n",
    "        print(path)\n",
    "        if path is None:\n",
    "            continue\n",
    "        if c == -1:\n",
    "            shortestPathsLens.append(len(path))\n",
    "            \n",
    "        c += 1\n",
    "        nar = constructPathNarData(path,pheknowlator_service,debug=False)\n",
    "        print('\\n\\nINFO: SHORTEST PATH {}:\\n'.format(c))\n",
    "        print(nar)\n",
    "        print('\\n\\n')"
   ]
  },
  {
   "cell_type": "markdown",
   "metadata": {},
   "source": [
    "The next cell conducts the simple path searches but in a way to ignores the shortest paths"
   ]
  },
  {
   "cell_type": "code",
   "execution_count": null,
   "metadata": {},
   "outputs": [],
   "source": [
    "maxNumPaths = 3  # we search for fewer paths b/c this can take much longer than the shortest path searches  \n",
    "tplCnt = 0\n",
    "for tpl in s_o_tpl_L:      \n",
    "    if FIRST_TO_PROCESS:\n",
    "        if str(tpl) != str(FIRST_TO_PROCESS):\n",
    "            print('INFO: skipping tuple because it is not FIRST_TO_PROCESS:' + str(tpl))\n",
    "            continue\n",
    "        else:\n",
    "            FIRST_TO_PROCESS = None\n",
    "    \n",
    "    (s,o) = tpl    \n",
    "    startNd = URIRef(s) \n",
    "    endNd = URIRef(o) \n",
    "       \n",
    "    print('INFO: Processing {} and {}:\\n'.format(s,o))\n",
    "                \n",
    "    try:\n",
    "        pthL = k_simple_paths(nx_mdg, startNd, endNd, maxNumPaths, shortestPathsLens[tplCnt])\n",
    "        tplCnt += 1\n",
    "    except nx.NetworkXNoPath:\n",
    "        print('INFO: No results in the path search.\\n')\n",
    "        continue\n",
    "    except nx.NodeNotFound:\n",
    "        print('INFO: The source node does not exist in the Knowledge Graph.\\n')\n",
    "        continue\n",
    "\n",
    "    narL = []\n",
    "    c = -1\n",
    "    for path in pthL:\n",
    "        c += 1\n",
    "        nar = constructPathNarData(path,pheknowlator_service,debug=False)\n",
    "        print('\\n\\nINFO: SIMPLE PATH {}:\\n'.format(c))\n",
    "        print(nar)\n",
    "        print('\\n\\n')"
   ]
  },
  {
   "cell_type": "markdown",
   "metadata": {},
   "source": [
    "**E7** - Questions about path searches\n",
    "\n",
    "1. In part II of Assignment I you saw some SPARQL queries over a small knowledge graph created from predications extracted by machine reading with SemMedDB. In this part of the Assignment I you are working with a much larger and more complex graph constructed using ontologies and several large data sources (go back and review sources used in this version of the knowledge graph are listed on [this Wiki page](https://github.com/callahantiff/PheKnowLator/wiki/v2-Data-Sources)). We could SPARQL for this graph but we are using graph search instead. Make some obervations in your own words about some differences between the two approaches. \n",
    "\n",
    "2. Take a close look at the results of the shortest path searches and make some comments about how potentially factual and useful the path narratives would be for providing a mechanistic explanation of the relationship between the start and end nodes. \n",
    "\n",
    "3. Similar to the previous question, take a close look at the results of the SIMPLE path searches and make some comments about how potentially factual and useful the path narratives would be for providing a mechanistic explanation of the relationship between the start and end nodes. Also, what differences between the simple and shortes path searches stand out to you.\n",
    "\n",
    "4. Do you have any questions for me about what you see?"
   ]
  },
  {
   "cell_type": "markdown",
   "metadata": {},
   "source": [
    "#### Part II - how to reweight the knowledge graph to favor specific paths"
   ]
  },
  {
   "cell_type": "markdown",
   "metadata": {},
   "source": [
    "There are a number of graph metrics that could be use to reweight edges in the graph (see https://networkx.org/documentation/stable/reference/algorithms/centrality.html) Here, we pick a simple measure to calculate called degree centrality."
   ]
  },
  {
   "cell_type": "code",
   "execution_count": null,
   "metadata": {},
   "outputs": [],
   "source": [
    "## obtain a dictionary of node degree centrality for all nodes using the default parameters\n",
    "centrality = nx.degree_centrality(nx_mdg)"
   ]
  },
  {
   "cell_type": "code",
   "execution_count": null,
   "metadata": {},
   "outputs": [],
   "source": [
    "# Using Alzheimer's disease as an example \n",
    "centrality[URIRef('http://purl.obolibrary.org/obo/HP_0002511')]"
   ]
  },
  {
   "cell_type": "code",
   "execution_count": null,
   "metadata": {},
   "outputs": [],
   "source": [
    "# Using Cell as an example\n",
    "centrality[URIRef('http://purl.obolibrary.org/obo/CL_0000000')]"
   ]
  },
  {
   "cell_type": "code",
   "execution_count": null,
   "metadata": {},
   "outputs": [],
   "source": [
    "# We are going to use node degree centrality when reweighting the graph so we need to calculate the measure for all nodes\n",
    "f = open('centrality.tsv','w')\n",
    "f.write('node\\tdegree_centrality\\n')\n",
    "for k,v in centrality.items():\n",
    "    f.write('{}\\t{}\\n'.format(k.toPython(),v))\n",
    "f.close()"
   ]
  },
  {
   "cell_type": "markdown",
   "metadata": {},
   "source": [
    "The next cell creates a new graph  copying and reweighting the current graph using degree centrality"
   ]
  },
  {
   "cell_type": "code",
   "execution_count": null,
   "metadata": {},
   "outputs": [],
   "source": [
    "nx_mdg_cntr = nx.MultiDiGraph()\n",
    "\n",
    "# the reweight graph will remove 'disjoint' and 'domain' predicates  and apply a \n",
    "edge_key = -1 # an int that we will increment to uniquely identify edges\n",
    "for s, o, data in nx_mdg.edges(data=True):\n",
    "    p = data['predicate']\n",
    "    \n",
    "    edge_key += 1\n",
    "    \n",
    "    ## default weight = 2\n",
    "    weight = 2.0\n",
    "    \n",
    "    # Skip disjoint and domain predicates\n",
    "    if p.toPython() == 'http://www.w3.org/2002/07/owl#disjointWith' or p.toPython() == 'http://www.w3.org/2000/01/rdf-schema#domain':\n",
    "        continue    \n",
    "           \n",
    "    # Add to the weight the degree centrality of each node\n",
    "    if centrality.get(p):\n",
    "        weight = weight + centrality[p]\n",
    "    if centrality.get(o):\n",
    "        weight = weight + centrality[o]\n",
    "    \n",
    "    # add the edge to the graph giving it a unique key and weight\n",
    "    nx_mdg_cntr.add_edge(s, o, **{'predicate': p,'key': edge_key, 'weight':weight})"
   ]
  },
  {
   "cell_type": "code",
   "execution_count": null,
   "metadata": {},
   "outputs": [],
   "source": [
    "nx.write_gpickle(nx_mdg_cntr,'PheKnowLator_full_InverseRelations_NotClosed_OWLNETS_DEGREE_CNTRLTY_REWEIGHT_NO_DISJOINT.gpickle')"
   ]
  },
  {
   "cell_type": "markdown",
   "metadata": {},
   "source": [
    "Conduct shortest and simple path searches with the reweighted graph"
   ]
  },
  {
   "cell_type": "code",
   "execution_count": null,
   "metadata": {},
   "outputs": [],
   "source": [
    "maxNumPaths = 3 \n",
    "shortestPathsLens = [] # we track the shortest paths from source to target for when we do simple path searches\n",
    "for tpl in s_o_tpl_L:      \n",
    "    if FIRST_TO_PROCESS:\n",
    "        if str(tpl) != str(FIRST_TO_PROCESS):\n",
    "            print('INFO: skipping tuple because it is not FIRST_TO_PROCESS:' + str(tpl))\n",
    "            continue\n",
    "        else:\n",
    "            FIRST_TO_PROCESS = None\n",
    "    \n",
    "    (s,o) = tpl    \n",
    "    startNd = URIRef(s) \n",
    "    endNd = URIRef(o) \n",
    "       \n",
    "    print('INFO: Processing {} and {}:\\n'.format(s,o))\n",
    "                \n",
    "    try:\n",
    "        pthL = k_shortest_paths(nx_mdg_cntr,startNd,endNd,maxNumPaths)\n",
    "    except nx.NetworkXNoPath:\n",
    "        print('INFO: No results in the path search.\\n')\n",
    "        continue\n",
    "    except nx.NodeNotFound:\n",
    "        print('INFO: The source node does not exist in the Knowledge Graph.\\n')\n",
    "        continue\n",
    "\n",
    "    narL = []\n",
    "    c = -1\n",
    "    for path in pthL:\n",
    "        if c == -1:\n",
    "            shortestPathsLens.append(len(path))\n",
    "            \n",
    "        c += 1\n",
    "        nar = constructPathNarData(path,pheknowlator_service,debug=False)\n",
    "        print('\\n\\nINFO: SHORTEST PATH {}:\\n'.format(c))\n",
    "        print(nar)\n",
    "        print('\\n\\n')"
   ]
  },
  {
   "cell_type": "code",
   "execution_count": null,
   "metadata": {},
   "outputs": [],
   "source": [
    "# Conduct SIMPLE path searches with the reweighted graph\n",
    "maxNumPaths = 3  \n",
    "tplCnt = 0\n",
    "for tpl in s_o_tpl_L:      \n",
    "    if FIRST_TO_PROCESS:\n",
    "        if str(tpl) != str(FIRST_TO_PROCESS):\n",
    "            print('INFO: skipping tuple because it is not FIRST_TO_PROCESS:' + str(tpl))\n",
    "            continue\n",
    "        else:\n",
    "            FIRST_TO_PROCESS = None\n",
    "    \n",
    "    (s,o) = tpl    \n",
    "    startNd = URIRef(s) \n",
    "    endNd = URIRef(o) \n",
    "       \n",
    "    print('INFO: Processing {} and {}:\\n'.format(s,o))\n",
    "                \n",
    "    try:\n",
    "        pthL = k_simple_paths(nx_mdg_cntr, startNd, endNd, maxNumPaths, shortestPathsLens[tplCnt])\n",
    "        tplCnt += 1\n",
    "    except nx.NetworkXNoPath:\n",
    "        print('INFO: No results in the path search.\\n')\n",
    "        continue\n",
    "    except nx.NodeNotFound:\n",
    "        print('INFO: The source node does not exist in the Knowledge Graph.\\n')\n",
    "        continue\n",
    "\n",
    "    narL = []\n",
    "    c = -1\n",
    "    for path in pthL:\n",
    "        c += 1\n",
    "        nar = constructPathNarData(path,pheknowlator_service,debug=False)\n",
    "        print('\\n\\nINFO: SIMPLE PATH {}:\\n'.format(c))\n",
    "        print(nar)\n",
    "        print('\\n\\n')"
   ]
  },
  {
   "cell_type": "markdown",
   "metadata": {},
   "source": [
    "**E8** - questions about graph editing and reweighting\n",
    "\n",
    "1. Think about how degree centrality is being used here to reweight edges in the graph. If the goal is to obtain mechanistically accurate narratives, does using this measure to reweight make sense?\n",
    "\n",
    "2. Imagine that the goal is to avoid the inclusion several 'hub' nodes in path results. Look over the [centrality measures](https://networkx.org/documentation/stable/reference/algorithms/centrality.html) and justify if another which measure(s) might be better than degree centraity to accomplish this task.\n",
    "\n",
    "3. How could you use knowledge about the Relation Ontology to bias path search results to favor certain kinds of nodes (e.g., pathways) over others (e.g., genes) (hint: look at the ontologies and RO entities [here](https://user-images.githubusercontent.com/8030363/103158881-11813b00-4780-11eb-8b45-5063765e7645.png))?\n",
    "\n"
   ]
  },
  {
   "cell_type": "markdown",
   "metadata": {},
   "source": [
    "### Part III - how to embed nodes in the knowledge graph to try and fill in gaps"
   ]
  },
  {
   "cell_type": "markdown",
   "metadata": {},
   "source": [
    "We're going to tackle link prediction as a supervised learning problem on top of node representations/embeddings. The embeddings are computed with the unsupervised node2vec algorithm. After obtaining embeddings, a binary classifier can be used to predict a link, or not, between any two nodes in the graph. Various hyperparameters could be relevant in obtaining the best link classifier -\n",
    "\n",
    "There are four steps:\n",
    "\n",
    "1. Obtain embeddings for each node\n",
    "2. For each set of hyperparameters, train a classifier\n",
    "3. Select the classifier that performs the best\n",
    "4. Evaluate the selected classifier on unseen data to validate its ability to generalise\n",
    "\n",
    "This part of the notebook has been adapted from a demo of the StellarGraph library (https://stellargraph.readthedocs.io/en/stable/index.html) for link prediction using the node2vec algorithm.\n",
    "\n",
    "<a name=\"refs\"></a>\n",
    "**References:** \n",
    "\n",
    "[1] Node2Vec: Scalable Feature Learning for Networks. A. Grover, J. Leskovec. ACM SIGKDD International Conference on Knowledge Discovery and Data Mining (KDD), 2016."
   ]
  },
  {
   "cell_type": "markdown",
   "metadata": {},
   "source": [
    "First, we derive a simple undirected graph that has only predicates (edges) indicitive of interaction:\n",
    "\n",
    "http://purl.obolibrary.org/obo/RO_0002434 - interacts with\n",
    "\n",
    "http://purl.obolibrary.org/obo/RO_0002436 - molecularly interacts with\n",
    "\n",
    "http://purl.obolibrary.org/obo/RO_0002435 - geneticly interacts with\n",
    "\n",
    "http://purl.obolibrary.org/obo/RO_0002437 - biotically interacts with\n",
    "\n",
    "http://purl.obolibrary.org/obo/RO_0000056 - partipates in\n",
    "\n",
    "Note: We limit the graph size to be a few tens of thousands of nodes (the full graph is >200K nodes) so that embedding can happen in a relatively short amount of time \n",
    "\n",
    "We also need to be choosy about the nodes we select because there are some more general nodes that have many thousands of interaction relationships."
   ]
  },
  {
   "cell_type": "code",
   "execution_count": 66,
   "metadata": {},
   "outputs": [],
   "source": [
    "nx_mdg_interacts = nx.Graph()\n",
    "\n",
    "object_nodeD = {} # tracking object nodes so we can add only those that are the object of 2 or more interactions\n",
    "maxNodes = 6000 # the max count of unique subject nodes\n",
    "edge_key = -1 # an int that we will increment to uniquely identify edges\n",
    "s_node_visitedD = {} # tracks unique subject nodes \n",
    "s_count = 0 # some entitites have a huge number of interactions so we will only sample a max of 100 for any entity\n",
    "s_current = None\n",
    "for s, o, data in nx_mdg.edges(data=True):\n",
    "    if not s_node_visitedD.get(s):\n",
    "        s_node_visitedD[s] = 1\n",
    "        if len(s_node_visitedD) == maxNodes:\n",
    "            break\n",
    "    \n",
    "    if s == s_current:\n",
    "        s_count += 1\n",
    "        if s_count > 50:\n",
    "            continue\n",
    "    else:\n",
    "        s_current = s\n",
    "        s_count = 0 \n",
    "        \n",
    "    p = data['predicate']\n",
    "    \n",
    "    edge_key += 1\n",
    "    \n",
    "    if not (p.toPython() == 'http://purl.obolibrary.org/obo/RO_0002434' # interacts with\n",
    "            or p.toPython() == 'http://purl.obolibrary.org/obo/RO_0002436' # molecularly interacts with\n",
    "            or p.toPython() == 'http://purl.obolibrary.org/obo/RO_0002435' # genetically interacts with\n",
    "            or p.toPython() == 'http://purl.obolibrary.org/obo/RO_0002437' # biotically interacts with \n",
    "            or p.toPython() == 'http://purl.obolibrary.org/obo/RO_0000056' # partipates in\n",
    "           ):\n",
    "        continue    \n",
    "    \n",
    "    if object_nodeD.get(o):\n",
    "        object_nodeD[o] += 1\n",
    "        \n",
    "        # add the edge to the graph giving it a unique key \n",
    "        nx_mdg_interacts.add_edge(s, o, **{'predicate': p,'key': edge_key})\n",
    "        \n",
    "    else:\n",
    "        object_nodeD[o] = 1"
   ]
  },
  {
   "cell_type": "code",
   "execution_count": 67,
   "metadata": {},
   "outputs": [],
   "source": [
    "nx.write_gpickle(nx_mdg_interacts,'PheKnowLator_full_InverseRelations_NotClosed_OWLNETS_INTERACTS.gpickle')"
   ]
  },
  {
   "cell_type": "code",
   "execution_count": 10,
   "metadata": {},
   "outputs": [],
   "source": [
    "## Uncomment this to reload the 'interacts only' graph from file if needed\n",
    "# nx_mdg_interacts = nx.read_gpickle('PheKnowLator_full_InverseRelations_NotClosed_OWLNETS_INTERACTS.gpickle')"
   ]
  },
  {
   "cell_type": "markdown",
   "metadata": {},
   "source": [
    "The next few cells give some insight into the content of our interaction sub-graph"
   ]
  },
  {
   "cell_type": "code",
   "execution_count": 11,
   "metadata": {},
   "outputs": [
    {
     "name": "stdout",
     "output_type": "stream",
     "text": [
      "Name: \n",
      "Type: Graph\n",
      "Number of nodes: 30568\n",
      "Number of edges: 150562\n",
      "Average degree:   9.8510\n"
     ]
    }
   ],
   "source": [
    "print(nx.info(nx_mdg_interacts))"
   ]
  },
  {
   "cell_type": "code",
   "execution_count": 70,
   "metadata": {
    "collapsed": true,
    "jupyter": {
     "outputs_hidden": true
    }
   },
   "outputs": [
    {
     "name": "stdout",
     "output_type": "stream",
     "text": [
      "(rdflib.term.URIRef('https://uswest.ensembl.org/Homo_sapiens/Transcript/Summary?t=ENST00000425941'), 3)\n",
      "(rdflib.term.URIRef('http://purl.obolibrary.org/obo/CHEBI_46024'), 427)\n",
      "(rdflib.term.URIRef('http://purl.obolibrary.org/obo/CHEBI_39867'), 1061)\n",
      "(rdflib.term.URIRef('http://purl.obolibrary.org/obo/CHEBI_23965'), 519)\n",
      "(rdflib.term.URIRef('http://purl.obolibrary.org/obo/PR_P41002'), 13)\n",
      "(rdflib.term.URIRef('http://purl.obolibrary.org/obo/PR_O95376'), 8)\n",
      "(rdflib.term.URIRef('http://purl.obolibrary.org/obo/PR_000009875'), 5)\n",
      "(rdflib.term.URIRef('http://purl.obolibrary.org/obo/PR_O95352'), 10)\n",
      "(rdflib.term.URIRef('http://purl.obolibrary.org/obo/PR_Q9H765'), 13)\n",
      "(rdflib.term.URIRef('http://purl.obolibrary.org/obo/GO_0098685'), 3)\n",
      "(rdflib.term.URIRef('http://purl.obolibrary.org/obo/CHEBI_3766'), 52)\n",
      "(rdflib.term.URIRef('http://purl.obolibrary.org/obo/CHEBI_33566'), 121)\n",
      "(rdflib.term.URIRef('http://purl.obolibrary.org/obo/CHEBI_31206'), 71)\n",
      "(rdflib.term.URIRef('https://uswest.ensembl.org/Homo_sapiens/Transcript/Summary?t=ENST00000477422'), 4)\n",
      "(rdflib.term.URIRef('http://purl.obolibrary.org/obo/CHEBI_30563'), 390)\n",
      "(rdflib.term.URIRef('http://purl.obolibrary.org/obo/CHEBI_38940'), 490)\n",
      "(rdflib.term.URIRef('http://purl.obolibrary.org/obo/CHEBI_29699'), 161)\n",
      "(rdflib.term.URIRef('http://purl.obolibrary.org/obo/CHEBI_15930'), 252)\n",
      "(rdflib.term.URIRef('http://purl.obolibrary.org/obo/PR_000011121'), 9)\n",
      "(rdflib.term.URIRef('http://purl.obolibrary.org/obo/PR_P32245'), 8)\n",
      "(rdflib.term.URIRef('http://purl.obolibrary.org/obo/PR_000001237'), 7)\n",
      "(rdflib.term.URIRef('https://www.ncbi.nlm.nih.gov/gene/2272'), 7)\n",
      "(rdflib.term.URIRef('https://uswest.ensembl.org/Homo_sapiens/Transcript/Summary?t=ENST00000528525'), 9)\n",
      "(rdflib.term.URIRef('http://purl.obolibrary.org/obo/CHEBI_132082'), 225)\n",
      "(rdflib.term.URIRef('http://purl.obolibrary.org/obo/CHEBI_25255'), 318)\n",
      "(rdflib.term.URIRef('http://purl.obolibrary.org/obo/CHEBI_41879'), 364)\n",
      "(rdflib.term.URIRef('http://purl.obolibrary.org/obo/CHEBI_27899'), 612)\n",
      "(rdflib.term.URIRef('http://purl.obolibrary.org/obo/CHEBI_2504'), 485)\n",
      "(rdflib.term.URIRef('http://purl.obolibrary.org/obo/CHEBI_29865'), 615)\n",
      "(rdflib.term.URIRef('http://purl.obolibrary.org/obo/CHEBI_33234'), 190)\n",
      "(rdflib.term.URIRef('http://purl.obolibrary.org/obo/PR_P63272'), 12)\n",
      "(rdflib.term.URIRef('http://purl.obolibrary.org/obo/PR_Q9HB65'), 14)\n",
      "(rdflib.term.URIRef('http://purl.obolibrary.org/obo/PR_O00267'), 7)\n",
      "(rdflib.term.URIRef('http://purl.obolibrary.org/obo/PR_000007029'), 5)\n",
      "(rdflib.term.URIRef('http://purl.obolibrary.org/obo/PR_000016168'), 13)\n",
      "(rdflib.term.URIRef('https://reactome.org/content/detail/R-HSA-112382'), 4)\n",
      "(rdflib.term.URIRef('http://purl.obolibrary.org/obo/PR_000014176'), 4)\n",
      "(rdflib.term.URIRef('http://purl.obolibrary.org/obo/PR_Q9NVM9'), 44)\n",
      "(rdflib.term.URIRef('http://purl.obolibrary.org/obo/PR_Q9UHB7'), 5)\n",
      "(rdflib.term.URIRef('http://purl.obolibrary.org/obo/GO_0045944'), 67)\n",
      "(rdflib.term.URIRef('http://purl.obolibrary.org/obo/PR_Q96HW7'), 4)\n",
      "(rdflib.term.URIRef('http://purl.obolibrary.org/obo/PR_000005267'), 9)\n",
      "(rdflib.term.URIRef('http://purl.obolibrary.org/obo/PR_000003806'), 3)\n",
      "(rdflib.term.URIRef('http://purl.obolibrary.org/obo/PR_Q9BQ15'), 5)\n",
      "(rdflib.term.URIRef('https://uswest.ensembl.org/Homo_sapiens/Transcript/Summary?t=ENST00000441709'), 20)\n",
      "(rdflib.term.URIRef('http://purl.obolibrary.org/obo/CHEBI_16842'), 315)\n",
      "(rdflib.term.URIRef('http://purl.obolibrary.org/obo/CHEBI_33216'), 570)\n",
      "(rdflib.term.URIRef('http://purl.obolibrary.org/obo/CHEBI_8069'), 170)\n",
      "(rdflib.term.URIRef('http://purl.obolibrary.org/obo/CHEBI_16243'), 316)\n",
      "(rdflib.term.URIRef('http://purl.obolibrary.org/obo/CHEBI_45716'), 238)\n",
      "(rdflib.term.URIRef('http://purl.obolibrary.org/obo/CHEBI_28420'), 85)\n",
      "(rdflib.term.URIRef('http://purl.obolibrary.org/obo/CHEBI_17967'), 327)\n",
      "(rdflib.term.URIRef('http://purl.obolibrary.org/obo/CHEBI_50740'), 135)\n",
      "(rdflib.term.URIRef('http://purl.obolibrary.org/obo/CHEBI_17347'), 183)\n",
      "(rdflib.term.URIRef('http://purl.obolibrary.org/obo/CHEBI_29678'), 447)\n",
      "(rdflib.term.URIRef('http://purl.obolibrary.org/obo/CHEBI_4917'), 60)\n",
      "(rdflib.term.URIRef('http://purl.obolibrary.org/obo/CHEBI_53444'), 89)\n",
      "(rdflib.term.URIRef('http://purl.obolibrary.org/obo/CHEBI_28445'), 127)\n",
      "(rdflib.term.URIRef('http://purl.obolibrary.org/obo/CHEBI_85085'), 15)\n",
      "(rdflib.term.URIRef('http://purl.obolibrary.org/obo/GO_0097708'), 13)\n",
      "(rdflib.term.URIRef('http://purl.obolibrary.org/obo/GO_0048583'), 74)\n",
      "(rdflib.term.URIRef('http://purl.obolibrary.org/obo/GO_0046890'), 28)\n",
      "(rdflib.term.URIRef('http://purl.obolibrary.org/obo/CHEBI_38298'), 29)\n",
      "(rdflib.term.URIRef('http://purl.obolibrary.org/obo/CHEBI_39464'), 66)\n",
      "(rdflib.term.URIRef('http://purl.obolibrary.org/obo/CHEBI_5063'), 60)\n",
      "(rdflib.term.URIRef('http://purl.obolibrary.org/obo/CHEBI_9516'), 141)\n",
      "(rdflib.term.URIRef('http://purl.obolibrary.org/obo/CHEBI_63632'), 51)\n",
      "(rdflib.term.URIRef('http://purl.obolibrary.org/obo/CHEBI_16240'), 264)\n",
      "(rdflib.term.URIRef('http://purl.obolibrary.org/obo/CHEBI_38102'), 89)\n",
      "(rdflib.term.URIRef('https://reactome.org/content/detail/R-HSA-73857'), 50)\n",
      "(rdflib.term.URIRef('http://purl.obolibrary.org/obo/PR_000005652'), 15)\n",
      "(rdflib.term.URIRef('http://purl.obolibrary.org/obo/PR_P11940'), 8)\n",
      "(rdflib.term.URIRef('http://purl.obolibrary.org/obo/PR_000016970'), 6)\n",
      "(rdflib.term.URIRef('http://purl.obolibrary.org/obo/PR_000016972'), 8)\n",
      "(rdflib.term.URIRef('http://purl.obolibrary.org/obo/PR_000012204'), 10)\n",
      "(rdflib.term.URIRef('http://purl.obolibrary.org/obo/PR_P06730'), 6)\n",
      "(rdflib.term.URIRef('http://purl.obolibrary.org/obo/PR_Q9Y2X8'), 7)\n",
      "(rdflib.term.URIRef('http://purl.obolibrary.org/obo/PR_000005656'), 4)\n",
      "(rdflib.term.URIRef('http://purl.obolibrary.org/obo/PR_P23588'), 4)\n",
      "(rdflib.term.URIRef('http://purl.obolibrary.org/obo/PR_Q9UFF9'), 3)\n",
      "(rdflib.term.URIRef('http://purl.obolibrary.org/obo/PR_000003154'), 59)\n",
      "(rdflib.term.URIRef('http://purl.obolibrary.org/obo/PR_000012236'), 4)\n",
      "(rdflib.term.URIRef('https://uswest.ensembl.org/Homo_sapiens/Transcript/Summary?t=ENST00000639342'), 7)\n",
      "(rdflib.term.URIRef('http://purl.obolibrary.org/obo/CHEBI_64090'), 187)\n",
      "(rdflib.term.URIRef('http://purl.obolibrary.org/obo/CHEBI_38658'), 260)\n",
      "(rdflib.term.URIRef('http://purl.obolibrary.org/obo/GO_0032271'), 18)\n",
      "(rdflib.term.URIRef('http://purl.obolibrary.org/obo/CHEBI_348530'), 55)\n",
      "(rdflib.term.URIRef('http://purl.obolibrary.org/obo/CHEBI_23238'), 104)\n",
      "(rdflib.term.URIRef('http://purl.obolibrary.org/obo/CHEBI_35338'), 78)\n",
      "(rdflib.term.URIRef('http://purl.obolibrary.org/obo/CHEBI_48901'), 79)\n",
      "(rdflib.term.URIRef('http://purl.obolibrary.org/obo/CHEBI_59659'), 124)\n",
      "(rdflib.term.URIRef('http://purl.obolibrary.org/obo/CHEBI_23493'), 34)\n",
      "(rdflib.term.URIRef('http://purl.obolibrary.org/obo/CHEBI_41774'), 160)\n",
      "(rdflib.term.URIRef('https://reactome.org/content/detail/R-HSA-1430728'), 121)\n",
      "(rdflib.term.URIRef('https://uswest.ensembl.org/Homo_sapiens/Transcript/Summary?t=ENST00000396475'), 11)\n",
      "(rdflib.term.URIRef('http://purl.obolibrary.org/obo/CHEBI_23994'), 211)\n",
      "(rdflib.term.URIRef('http://purl.obolibrary.org/obo/CHEBI_78886'), 19)\n",
      "(rdflib.term.URIRef('http://purl.obolibrary.org/obo/GO_0034614'), 58)\n",
      "(rdflib.term.URIRef('http://purl.obolibrary.org/obo/GO_0042110'), 53)\n",
      "(rdflib.term.URIRef('http://purl.obolibrary.org/obo/GO_0070663'), 20)\n"
     ]
    }
   ],
   "source": [
    "i = 0 \n",
    "for d in nx_mdg_interacts.degree():\n",
    "    if d[1] > 2:        \n",
    "        print(d)\n",
    "        i += 1\n",
    "        if i == 100:\n",
    "            break"
   ]
  },
  {
   "cell_type": "code",
   "execution_count": 71,
   "metadata": {
    "collapsed": true,
    "jupyter": {
     "outputs_hidden": true
    }
   },
   "outputs": [
    {
     "name": "stdout",
     "output_type": "stream",
     "text": [
      "https://uswest.ensembl.org/Homo_sapiens/Transcript/Summary?t=ENST00000425941\thttp://purl.obolibrary.org/obo/CHEBI_46024\t{'predicate': rdflib.term.URIRef('http://purl.obolibrary.org/obo/RO_0002434'), 'key': 218}\n",
      "https://uswest.ensembl.org/Homo_sapiens/Transcript/Summary?t=ENST00000425941\thttp://purl.obolibrary.org/obo/CHEBI_39867\t{'predicate': rdflib.term.URIRef('http://purl.obolibrary.org/obo/RO_0002434'), 'key': 235}\n",
      "https://uswest.ensembl.org/Homo_sapiens/Transcript/Summary?t=ENST00000425941\thttp://purl.obolibrary.org/obo/CHEBI_23965\t{'predicate': rdflib.term.URIRef('http://purl.obolibrary.org/obo/RO_0002434'), 'key': 236}\n",
      "http://purl.obolibrary.org/obo/CHEBI_46024\thttps://uswest.ensembl.org/Homo_sapiens/Transcript/Summary?t=ENST00000441709\t{'predicate': rdflib.term.URIRef('http://purl.obolibrary.org/obo/RO_0002434'), 'key': 1096}\n",
      "http://purl.obolibrary.org/obo/CHEBI_46024\thttps://uswest.ensembl.org/Homo_sapiens/Transcript/Summary?t=ENST00000396475\t{'predicate': rdflib.term.URIRef('http://purl.obolibrary.org/obo/RO_0002434'), 'key': 1664}\n",
      "http://purl.obolibrary.org/obo/CHEBI_46024\thttps://uswest.ensembl.org/Homo_sapiens/Transcript/Summary?t=ENST00000530884\t{'predicate': rdflib.term.URIRef('http://purl.obolibrary.org/obo/RO_0002434'), 'key': 2135}\n",
      "http://purl.obolibrary.org/obo/CHEBI_46024\thttps://uswest.ensembl.org/Homo_sapiens/Transcript/Summary?t=ENST00000354489\t{'predicate': rdflib.term.URIRef('http://purl.obolibrary.org/obo/RO_0002434'), 'key': 2267}\n",
      "http://purl.obolibrary.org/obo/CHEBI_46024\thttps://uswest.ensembl.org/Homo_sapiens/Transcript/Summary?t=ENST00000548870\t{'predicate': rdflib.term.URIRef('http://purl.obolibrary.org/obo/RO_0002434'), 'key': 2270}\n",
      "http://purl.obolibrary.org/obo/CHEBI_46024\thttps://uswest.ensembl.org/Homo_sapiens/Transcript/Summary?t=ENST00000557107\t{'predicate': rdflib.term.URIRef('http://purl.obolibrary.org/obo/RO_0002434'), 'key': 2862}\n",
      "http://purl.obolibrary.org/obo/CHEBI_46024\thttps://uswest.ensembl.org/Homo_sapiens/Transcript/Summary?t=ENST00000508584\t{'predicate': rdflib.term.URIRef('http://purl.obolibrary.org/obo/RO_0002434'), 'key': 3384}\n",
      "http://purl.obolibrary.org/obo/CHEBI_46024\thttps://uswest.ensembl.org/Homo_sapiens/Transcript/Summary?t=ENST00000672664\t{'predicate': rdflib.term.URIRef('http://purl.obolibrary.org/obo/RO_0002434'), 'key': 4296}\n",
      "http://purl.obolibrary.org/obo/CHEBI_46024\thttps://uswest.ensembl.org/Homo_sapiens/Transcript/Summary?t=ENST00000571595\t{'predicate': rdflib.term.URIRef('http://purl.obolibrary.org/obo/RO_0002434'), 'key': 4744}\n",
      "http://purl.obolibrary.org/obo/CHEBI_46024\thttps://uswest.ensembl.org/Homo_sapiens/Transcript/Summary?t=ENST00000588813\t{'predicate': rdflib.term.URIRef('http://purl.obolibrary.org/obo/RO_0002434'), 'key': 4935}\n",
      "http://purl.obolibrary.org/obo/CHEBI_46024\thttps://uswest.ensembl.org/Homo_sapiens/Transcript/Summary?t=ENST00000547738\t{'predicate': rdflib.term.URIRef('http://purl.obolibrary.org/obo/RO_0002434'), 'key': 6008}\n",
      "http://purl.obolibrary.org/obo/CHEBI_46024\thttps://uswest.ensembl.org/Homo_sapiens/Transcript/Summary?t=ENST00000495132\t{'predicate': rdflib.term.URIRef('http://purl.obolibrary.org/obo/RO_0002434'), 'key': 7049}\n",
      "http://purl.obolibrary.org/obo/CHEBI_46024\thttps://uswest.ensembl.org/Homo_sapiens/Transcript/Summary?t=ENST00000628245\t{'predicate': rdflib.term.URIRef('http://purl.obolibrary.org/obo/RO_0002434'), 'key': 7274}\n",
      "http://purl.obolibrary.org/obo/CHEBI_46024\thttps://uswest.ensembl.org/Homo_sapiens/Transcript/Summary?t=ENST00000371655\t{'predicate': rdflib.term.URIRef('http://purl.obolibrary.org/obo/RO_0002434'), 'key': 9883}\n",
      "http://purl.obolibrary.org/obo/CHEBI_46024\thttps://uswest.ensembl.org/Homo_sapiens/Transcript/Summary?t=ENST00000417833\t{'predicate': rdflib.term.URIRef('http://purl.obolibrary.org/obo/RO_0002434'), 'key': 11178}\n",
      "http://purl.obolibrary.org/obo/CHEBI_46024\thttp://purl.obolibrary.org/obo/GO_0034762\t{'predicate': rdflib.term.URIRef('http://purl.obolibrary.org/obo/RO_0002436'), 'key': 11407}\n",
      "http://purl.obolibrary.org/obo/CHEBI_46024\thttps://uswest.ensembl.org/Homo_sapiens/Transcript/Summary?t=ENST00000626957\t{'predicate': rdflib.term.URIRef('http://purl.obolibrary.org/obo/RO_0002434'), 'key': 12819}\n",
      "http://purl.obolibrary.org/obo/CHEBI_46024\thttps://uswest.ensembl.org/Homo_sapiens/Transcript/Summary?t=ENST00000215882\t{'predicate': rdflib.term.URIRef('http://purl.obolibrary.org/obo/RO_0002434'), 'key': 14326}\n",
      "http://purl.obolibrary.org/obo/CHEBI_46024\thttps://uswest.ensembl.org/Homo_sapiens/Transcript/Summary?t=ENST00000552823\t{'predicate': rdflib.term.URIRef('http://purl.obolibrary.org/obo/RO_0002434'), 'key': 15007}\n",
      "http://purl.obolibrary.org/obo/CHEBI_46024\thttps://uswest.ensembl.org/Homo_sapiens/Transcript/Summary?t=ENST00000334010\t{'predicate': rdflib.term.URIRef('http://purl.obolibrary.org/obo/RO_0002434'), 'key': 16958}\n",
      "http://purl.obolibrary.org/obo/CHEBI_46024\thttps://uswest.ensembl.org/Homo_sapiens/Transcript/Summary?t=ENST00000340209\t{'predicate': rdflib.term.URIRef('http://purl.obolibrary.org/obo/RO_0002434'), 'key': 17787}\n",
      "http://purl.obolibrary.org/obo/CHEBI_46024\thttps://uswest.ensembl.org/Homo_sapiens/Transcript/Summary?t=ENST00000472444\t{'predicate': rdflib.term.URIRef('http://purl.obolibrary.org/obo/RO_0002434'), 'key': 18214}\n",
      "http://purl.obolibrary.org/obo/CHEBI_46024\thttps://uswest.ensembl.org/Homo_sapiens/Transcript/Summary?t=ENST00000555843\t{'predicate': rdflib.term.URIRef('http://purl.obolibrary.org/obo/RO_0002434'), 'key': 18234}\n",
      "http://purl.obolibrary.org/obo/CHEBI_46024\thttps://uswest.ensembl.org/Homo_sapiens/Transcript/Summary?t=ENST00000510357\t{'predicate': rdflib.term.URIRef('http://purl.obolibrary.org/obo/RO_0002434'), 'key': 18477}\n",
      "http://purl.obolibrary.org/obo/CHEBI_46024\thttps://uswest.ensembl.org/Homo_sapiens/Transcript/Summary?t=ENST00000590261\t{'predicate': rdflib.term.URIRef('http://purl.obolibrary.org/obo/RO_0002434'), 'key': 18836}\n",
      "http://purl.obolibrary.org/obo/CHEBI_46024\thttp://purl.obolibrary.org/obo/PR_P62937\t{'predicate': rdflib.term.URIRef('http://purl.obolibrary.org/obo/RO_0002434'), 'key': 19762}\n",
      "http://purl.obolibrary.org/obo/CHEBI_46024\thttps://uswest.ensembl.org/Homo_sapiens/Transcript/Summary?t=ENST00000644204\t{'predicate': rdflib.term.URIRef('http://purl.obolibrary.org/obo/RO_0002434'), 'key': 21924}\n",
      "http://purl.obolibrary.org/obo/CHEBI_46024\thttps://uswest.ensembl.org/Homo_sapiens/Transcript/Summary?t=ENST00000431961\t{'predicate': rdflib.term.URIRef('http://purl.obolibrary.org/obo/RO_0002434'), 'key': 23782}\n",
      "http://purl.obolibrary.org/obo/CHEBI_46024\thttps://uswest.ensembl.org/Homo_sapiens/Transcript/Summary?t=ENST00000485274\t{'predicate': rdflib.term.URIRef('http://purl.obolibrary.org/obo/RO_0002434'), 'key': 23978}\n",
      "http://purl.obolibrary.org/obo/CHEBI_46024\thttps://uswest.ensembl.org/Homo_sapiens/Transcript/Summary?t=ENST00000544291\t{'predicate': rdflib.term.URIRef('http://purl.obolibrary.org/obo/RO_0002434'), 'key': 24539}\n",
      "http://purl.obolibrary.org/obo/CHEBI_46024\thttps://uswest.ensembl.org/Homo_sapiens/Transcript/Summary?t=ENST00000550056\t{'predicate': rdflib.term.URIRef('http://purl.obolibrary.org/obo/RO_0002434'), 'key': 25379}\n",
      "http://purl.obolibrary.org/obo/CHEBI_46024\thttps://uswest.ensembl.org/Homo_sapiens/Transcript/Summary?t=ENST00000490248\t{'predicate': rdflib.term.URIRef('http://purl.obolibrary.org/obo/RO_0002434'), 'key': 25692}\n",
      "http://purl.obolibrary.org/obo/CHEBI_46024\thttps://uswest.ensembl.org/Homo_sapiens/Transcript/Summary?t=ENST00000646551\t{'predicate': rdflib.term.URIRef('http://purl.obolibrary.org/obo/RO_0002434'), 'key': 26822}\n",
      "http://purl.obolibrary.org/obo/CHEBI_46024\thttps://uswest.ensembl.org/Homo_sapiens/Transcript/Summary?t=ENST00000672765\t{'predicate': rdflib.term.URIRef('http://purl.obolibrary.org/obo/RO_0002434'), 'key': 26914}\n",
      "http://purl.obolibrary.org/obo/CHEBI_46024\thttps://uswest.ensembl.org/Homo_sapiens/Transcript/Summary?t=ENST00000507506\t{'predicate': rdflib.term.URIRef('http://purl.obolibrary.org/obo/RO_0002434'), 'key': 27279}\n",
      "http://purl.obolibrary.org/obo/CHEBI_46024\thttp://purl.obolibrary.org/obo/GO_0035770\t{'predicate': rdflib.term.URIRef('http://purl.obolibrary.org/obo/RO_0002436'), 'key': 27425}\n",
      "http://purl.obolibrary.org/obo/CHEBI_46024\thttps://uswest.ensembl.org/Homo_sapiens/Transcript/Summary?t=ENST00000444334\t{'predicate': rdflib.term.URIRef('http://purl.obolibrary.org/obo/RO_0002434'), 'key': 28058}\n",
      "http://purl.obolibrary.org/obo/CHEBI_46024\thttp://purl.obolibrary.org/obo/GO_0050808\t{'predicate': rdflib.term.URIRef('http://purl.obolibrary.org/obo/RO_0002436'), 'key': 28241}\n",
      "http://purl.obolibrary.org/obo/CHEBI_46024\thttps://uswest.ensembl.org/Homo_sapiens/Transcript/Summary?t=ENST00000467575\t{'predicate': rdflib.term.URIRef('http://purl.obolibrary.org/obo/RO_0002434'), 'key': 28907}\n",
      "http://purl.obolibrary.org/obo/CHEBI_46024\thttps://uswest.ensembl.org/Homo_sapiens/Transcript/Summary?t=ENST00000454122\t{'predicate': rdflib.term.URIRef('http://purl.obolibrary.org/obo/RO_0002434'), 'key': 29250}\n",
      "http://purl.obolibrary.org/obo/CHEBI_46024\thttps://uswest.ensembl.org/Homo_sapiens/Transcript/Summary?t=ENST00000413082\t{'predicate': rdflib.term.URIRef('http://purl.obolibrary.org/obo/RO_0002434'), 'key': 29380}\n",
      "http://purl.obolibrary.org/obo/CHEBI_46024\thttps://uswest.ensembl.org/Homo_sapiens/Transcript/Summary?t=ENST00000572659\t{'predicate': rdflib.term.URIRef('http://purl.obolibrary.org/obo/RO_0002434'), 'key': 30435}\n",
      "http://purl.obolibrary.org/obo/CHEBI_46024\thttps://uswest.ensembl.org/Homo_sapiens/Transcript/Summary?t=ENST00000405223\t{'predicate': rdflib.term.URIRef('http://purl.obolibrary.org/obo/RO_0002434'), 'key': 30512}\n",
      "http://purl.obolibrary.org/obo/CHEBI_46024\thttps://uswest.ensembl.org/Homo_sapiens/Transcript/Summary?t=ENST00000279147\t{'predicate': rdflib.term.URIRef('http://purl.obolibrary.org/obo/RO_0002434'), 'key': 34625}\n",
      "http://purl.obolibrary.org/obo/CHEBI_46024\thttps://uswest.ensembl.org/Homo_sapiens/Transcript/Summary?t=ENST00000507638\t{'predicate': rdflib.term.URIRef('http://purl.obolibrary.org/obo/RO_0002434'), 'key': 35175}\n",
      "http://purl.obolibrary.org/obo/CHEBI_46024\thttp://purl.obolibrary.org/obo/GO_0001822\t{'predicate': rdflib.term.URIRef('http://purl.obolibrary.org/obo/RO_0002436'), 'key': 35848}\n",
      "http://purl.obolibrary.org/obo/CHEBI_46024\thttps://uswest.ensembl.org/Homo_sapiens/Transcript/Summary?t=ENST00000474636\t{'predicate': rdflib.term.URIRef('http://purl.obolibrary.org/obo/RO_0002434'), 'key': 36535}\n",
      "http://purl.obolibrary.org/obo/CHEBI_46024\thttps://uswest.ensembl.org/Homo_sapiens/Transcript/Summary?t=ENST00000374675\t{'predicate': rdflib.term.URIRef('http://purl.obolibrary.org/obo/RO_0002434'), 'key': 36556}\n",
      "http://purl.obolibrary.org/obo/CHEBI_46024\thttp://purl.obolibrary.org/obo/PR_P07355\t{'predicate': rdflib.term.URIRef('http://purl.obolibrary.org/obo/RO_0002434'), 'key': 36617}\n",
      "http://purl.obolibrary.org/obo/CHEBI_46024\thttp://purl.obolibrary.org/obo/PR_P13631\t{'predicate': rdflib.term.URIRef('http://purl.obolibrary.org/obo/RO_0002434'), 'key': 36747}\n",
      "http://purl.obolibrary.org/obo/CHEBI_46024\thttps://uswest.ensembl.org/Homo_sapiens/Transcript/Summary?t=ENST00000470027\t{'predicate': rdflib.term.URIRef('http://purl.obolibrary.org/obo/RO_0002434'), 'key': 36904}\n",
      "http://purl.obolibrary.org/obo/CHEBI_46024\thttp://purl.obolibrary.org/obo/GO_0032233\t{'predicate': rdflib.term.URIRef('http://purl.obolibrary.org/obo/RO_0002436'), 'key': 36991}\n",
      "http://purl.obolibrary.org/obo/CHEBI_46024\thttps://uswest.ensembl.org/Homo_sapiens/Transcript/Summary?t=ENST00000604872\t{'predicate': rdflib.term.URIRef('http://purl.obolibrary.org/obo/RO_0002434'), 'key': 37454}\n",
      "http://purl.obolibrary.org/obo/CHEBI_46024\thttps://uswest.ensembl.org/Homo_sapiens/Transcript/Summary?t=ENST00000619306\t{'predicate': rdflib.term.URIRef('http://purl.obolibrary.org/obo/RO_0002434'), 'key': 38086}\n",
      "http://purl.obolibrary.org/obo/CHEBI_46024\thttps://uswest.ensembl.org/Homo_sapiens/Transcript/Summary?t=ENST00000449518\t{'predicate': rdflib.term.URIRef('http://purl.obolibrary.org/obo/RO_0002434'), 'key': 39807}\n",
      "http://purl.obolibrary.org/obo/CHEBI_46024\thttps://uswest.ensembl.org/Homo_sapiens/Transcript/Summary?t=ENST00000477072\t{'predicate': rdflib.term.URIRef('http://purl.obolibrary.org/obo/RO_0002434'), 'key': 39878}\n",
      "http://purl.obolibrary.org/obo/CHEBI_46024\thttps://uswest.ensembl.org/Homo_sapiens/Transcript/Summary?t=ENST00000631606\t{'predicate': rdflib.term.URIRef('http://purl.obolibrary.org/obo/RO_0002434'), 'key': 40944}\n",
      "http://purl.obolibrary.org/obo/CHEBI_46024\thttps://uswest.ensembl.org/Homo_sapiens/Transcript/Summary?t=ENST00000490675\t{'predicate': rdflib.term.URIRef('http://purl.obolibrary.org/obo/RO_0002434'), 'key': 40952}\n",
      "http://purl.obolibrary.org/obo/CHEBI_46024\thttps://uswest.ensembl.org/Homo_sapiens/Transcript/Summary?t=ENST00000586286\t{'predicate': rdflib.term.URIRef('http://purl.obolibrary.org/obo/RO_0002434'), 'key': 44280}\n",
      "http://purl.obolibrary.org/obo/CHEBI_46024\thttps://uswest.ensembl.org/Homo_sapiens/Transcript/Summary?t=ENST00000612116\t{'predicate': rdflib.term.URIRef('http://purl.obolibrary.org/obo/RO_0002434'), 'key': 44332}\n",
      "http://purl.obolibrary.org/obo/CHEBI_46024\thttps://uswest.ensembl.org/Homo_sapiens/Transcript/Summary?t=ENST00000631086\t{'predicate': rdflib.term.URIRef('http://purl.obolibrary.org/obo/RO_0002434'), 'key': 44359}\n",
      "http://purl.obolibrary.org/obo/CHEBI_46024\thttp://purl.obolibrary.org/obo/GO_0010558\t{'predicate': rdflib.term.URIRef('http://purl.obolibrary.org/obo/RO_0002436'), 'key': 45458}\n",
      "http://purl.obolibrary.org/obo/CHEBI_46024\thttps://uswest.ensembl.org/Homo_sapiens/Transcript/Summary?t=ENST00000538158\t{'predicate': rdflib.term.URIRef('http://purl.obolibrary.org/obo/RO_0002434'), 'key': 46343}\n",
      "http://purl.obolibrary.org/obo/CHEBI_46024\thttps://uswest.ensembl.org/Homo_sapiens/Transcript/Summary?t=ENST00000625522\t{'predicate': rdflib.term.URIRef('http://purl.obolibrary.org/obo/RO_0002434'), 'key': 47126}\n",
      "http://purl.obolibrary.org/obo/CHEBI_46024\thttps://uswest.ensembl.org/Homo_sapiens/Transcript/Summary?t=ENST00000589860\t{'predicate': rdflib.term.URIRef('http://purl.obolibrary.org/obo/RO_0002434'), 'key': 47496}\n",
      "http://purl.obolibrary.org/obo/CHEBI_46024\thttp://purl.obolibrary.org/obo/GO_1901652\t{'predicate': rdflib.term.URIRef('http://purl.obolibrary.org/obo/RO_0002436'), 'key': 48689}\n",
      "http://purl.obolibrary.org/obo/CHEBI_46024\thttps://uswest.ensembl.org/Homo_sapiens/Transcript/Summary?t=ENST00000667710\t{'predicate': rdflib.term.URIRef('http://purl.obolibrary.org/obo/RO_0002434'), 'key': 48887}\n",
      "http://purl.obolibrary.org/obo/CHEBI_46024\thttp://purl.obolibrary.org/obo/GO_0009410\t{'predicate': rdflib.term.URIRef('http://purl.obolibrary.org/obo/RO_0002436'), 'key': 51010}\n",
      "http://purl.obolibrary.org/obo/CHEBI_46024\thttps://uswest.ensembl.org/Homo_sapiens/Transcript/Summary?t=ENST00000535309\t{'predicate': rdflib.term.URIRef('http://purl.obolibrary.org/obo/RO_0002434'), 'key': 51395}\n",
      "http://purl.obolibrary.org/obo/CHEBI_46024\thttps://uswest.ensembl.org/Homo_sapiens/Transcript/Summary?t=ENST00000400068\t{'predicate': rdflib.term.URIRef('http://purl.obolibrary.org/obo/RO_0002434'), 'key': 52417}\n",
      "http://purl.obolibrary.org/obo/CHEBI_46024\thttps://uswest.ensembl.org/Homo_sapiens/Transcript/Summary?t=ENST00000524724\t{'predicate': rdflib.term.URIRef('http://purl.obolibrary.org/obo/RO_0002434'), 'key': 52553}\n",
      "http://purl.obolibrary.org/obo/CHEBI_46024\thttps://uswest.ensembl.org/Homo_sapiens/Transcript/Summary?t=ENST00000487247\t{'predicate': rdflib.term.URIRef('http://purl.obolibrary.org/obo/RO_0002434'), 'key': 52771}\n",
      "http://purl.obolibrary.org/obo/CHEBI_46024\thttps://uswest.ensembl.org/Homo_sapiens/Transcript/Summary?t=ENST00000423613\t{'predicate': rdflib.term.URIRef('http://purl.obolibrary.org/obo/RO_0002434'), 'key': 53103}\n",
      "http://purl.obolibrary.org/obo/CHEBI_46024\thttps://uswest.ensembl.org/Homo_sapiens/Transcript/Summary?t=ENST00000641358\t{'predicate': rdflib.term.URIRef('http://purl.obolibrary.org/obo/RO_0002434'), 'key': 54295}\n",
      "http://purl.obolibrary.org/obo/CHEBI_46024\thttps://uswest.ensembl.org/Homo_sapiens/Transcript/Summary?t=ENST00000586877\t{'predicate': rdflib.term.URIRef('http://purl.obolibrary.org/obo/RO_0002434'), 'key': 54559}\n",
      "http://purl.obolibrary.org/obo/CHEBI_46024\thttp://purl.obolibrary.org/obo/GO_1901216\t{'predicate': rdflib.term.URIRef('http://purl.obolibrary.org/obo/RO_0002436'), 'key': 55733}\n",
      "http://purl.obolibrary.org/obo/CHEBI_46024\thttps://uswest.ensembl.org/Homo_sapiens/Transcript/Summary?t=ENST00000484644\t{'predicate': rdflib.term.URIRef('http://purl.obolibrary.org/obo/RO_0002434'), 'key': 55813}\n",
      "http://purl.obolibrary.org/obo/CHEBI_46024\thttps://uswest.ensembl.org/Homo_sapiens/Transcript/Summary?t=ENST00000451724\t{'predicate': rdflib.term.URIRef('http://purl.obolibrary.org/obo/RO_0002434'), 'key': 56743}\n",
      "http://purl.obolibrary.org/obo/CHEBI_46024\thttps://uswest.ensembl.org/Homo_sapiens/Transcript/Summary?t=ENST00000553839\t{'predicate': rdflib.term.URIRef('http://purl.obolibrary.org/obo/RO_0002434'), 'key': 57183}\n",
      "http://purl.obolibrary.org/obo/CHEBI_46024\thttps://uswest.ensembl.org/Homo_sapiens/Transcript/Summary?t=ENST00000421577\t{'predicate': rdflib.term.URIRef('http://purl.obolibrary.org/obo/RO_0002434'), 'key': 58083}\n",
      "http://purl.obolibrary.org/obo/CHEBI_46024\thttps://uswest.ensembl.org/Homo_sapiens/Transcript/Summary?t=ENST00000400069\t{'predicate': rdflib.term.URIRef('http://purl.obolibrary.org/obo/RO_0002434'), 'key': 58373}\n",
      "http://purl.obolibrary.org/obo/CHEBI_46024\thttps://uswest.ensembl.org/Homo_sapiens/Transcript/Summary?t=ENST00000586858\t{'predicate': rdflib.term.URIRef('http://purl.obolibrary.org/obo/RO_0002434'), 'key': 60211}\n",
      "http://purl.obolibrary.org/obo/CHEBI_46024\thttps://uswest.ensembl.org/Homo_sapiens/Transcript/Summary?t=ENST00000541206\t{'predicate': rdflib.term.URIRef('http://purl.obolibrary.org/obo/RO_0002434'), 'key': 60431}\n",
      "http://purl.obolibrary.org/obo/CHEBI_46024\thttps://uswest.ensembl.org/Homo_sapiens/Transcript/Summary?t=ENST00000504764\t{'predicate': rdflib.term.URIRef('http://purl.obolibrary.org/obo/RO_0002434'), 'key': 60445}\n",
      "http://purl.obolibrary.org/obo/CHEBI_46024\thttps://uswest.ensembl.org/Homo_sapiens/Transcript/Summary?t=ENST00000372187\t{'predicate': rdflib.term.URIRef('http://purl.obolibrary.org/obo/RO_0002434'), 'key': 61440}\n",
      "http://purl.obolibrary.org/obo/CHEBI_46024\thttps://uswest.ensembl.org/Homo_sapiens/Transcript/Summary?t=ENST00000670063\t{'predicate': rdflib.term.URIRef('http://purl.obolibrary.org/obo/RO_0002434'), 'key': 62332}\n",
      "http://purl.obolibrary.org/obo/CHEBI_46024\thttps://uswest.ensembl.org/Homo_sapiens/Transcript/Summary?t=ENST00000380554\t{'predicate': rdflib.term.URIRef('http://purl.obolibrary.org/obo/RO_0002434'), 'key': 63076}\n",
      "http://purl.obolibrary.org/obo/CHEBI_46024\thttps://uswest.ensembl.org/Homo_sapiens/Transcript/Summary?t=ENST00000368125\t{'predicate': rdflib.term.URIRef('http://purl.obolibrary.org/obo/RO_0002434'), 'key': 63340}\n",
      "http://purl.obolibrary.org/obo/CHEBI_46024\thttps://uswest.ensembl.org/Homo_sapiens/Transcript/Summary?t=ENST00000672347\t{'predicate': rdflib.term.URIRef('http://purl.obolibrary.org/obo/RO_0002434'), 'key': 63869}\n",
      "http://purl.obolibrary.org/obo/CHEBI_46024\thttps://uswest.ensembl.org/Homo_sapiens/Transcript/Summary?t=ENST00000636295\t{'predicate': rdflib.term.URIRef('http://purl.obolibrary.org/obo/RO_0002434'), 'key': 64006}\n",
      "http://purl.obolibrary.org/obo/CHEBI_46024\thttps://uswest.ensembl.org/Homo_sapiens/Transcript/Summary?t=ENST00000462638\t{'predicate': rdflib.term.URIRef('http://purl.obolibrary.org/obo/RO_0002434'), 'key': 64355}\n",
      "http://purl.obolibrary.org/obo/CHEBI_46024\thttps://uswest.ensembl.org/Homo_sapiens/Transcript/Summary?t=ENST00000399121\t{'predicate': rdflib.term.URIRef('http://purl.obolibrary.org/obo/RO_0002434'), 'key': 64592}\n",
      "http://purl.obolibrary.org/obo/CHEBI_46024\thttps://uswest.ensembl.org/Homo_sapiens/Transcript/Summary?t=ENST00000644201\t{'predicate': rdflib.term.URIRef('http://purl.obolibrary.org/obo/RO_0002434'), 'key': 64733}\n",
      "http://purl.obolibrary.org/obo/CHEBI_46024\thttps://uswest.ensembl.org/Homo_sapiens/Transcript/Summary?t=ENST00000320985\t{'predicate': rdflib.term.URIRef('http://purl.obolibrary.org/obo/RO_0002434'), 'key': 65047}\n",
      "http://purl.obolibrary.org/obo/CHEBI_46024\thttps://uswest.ensembl.org/Homo_sapiens/Transcript/Summary?t=ENST00000576109\t{'predicate': rdflib.term.URIRef('http://purl.obolibrary.org/obo/RO_0002434'), 'key': 65078}\n",
      "http://purl.obolibrary.org/obo/CHEBI_46024\thttps://uswest.ensembl.org/Homo_sapiens/Transcript/Summary?t=ENST00000555982\t{'predicate': rdflib.term.URIRef('http://purl.obolibrary.org/obo/RO_0002434'), 'key': 65211}\n",
      "http://purl.obolibrary.org/obo/CHEBI_46024\thttps://uswest.ensembl.org/Homo_sapiens/Transcript/Summary?t=ENST00000641253\t{'predicate': rdflib.term.URIRef('http://purl.obolibrary.org/obo/RO_0002434'), 'key': 65280}\n",
      "http://purl.obolibrary.org/obo/CHEBI_46024\thttps://uswest.ensembl.org/Homo_sapiens/Transcript/Summary?t=ENST00000625689\t{'predicate': rdflib.term.URIRef('http://purl.obolibrary.org/obo/RO_0002434'), 'key': 65302}\n",
      "http://purl.obolibrary.org/obo/CHEBI_46024\thttps://uswest.ensembl.org/Homo_sapiens/Transcript/Summary?t=ENST00000661331\t{'predicate': rdflib.term.URIRef('http://purl.obolibrary.org/obo/RO_0002434'), 'key': 66145}\n",
      "http://purl.obolibrary.org/obo/CHEBI_46024\thttps://uswest.ensembl.org/Homo_sapiens/Transcript/Summary?t=ENST00000425063\t{'predicate': rdflib.term.URIRef('http://purl.obolibrary.org/obo/RO_0002434'), 'key': 69235}\n",
      "http://purl.obolibrary.org/obo/CHEBI_46024\thttps://uswest.ensembl.org/Homo_sapiens/Transcript/Summary?t=ENST00000377084\t{'predicate': rdflib.term.URIRef('http://purl.obolibrary.org/obo/RO_0002434'), 'key': 69568}\n",
      "http://purl.obolibrary.org/obo/CHEBI_46024\thttps://uswest.ensembl.org/Homo_sapiens/Transcript/Summary?t=ENST00000639002\t{'predicate': rdflib.term.URIRef('http://purl.obolibrary.org/obo/RO_0002434'), 'key': 69966}\n",
      "http://purl.obolibrary.org/obo/CHEBI_46024\thttps://uswest.ensembl.org/Homo_sapiens/Transcript/Summary?t=ENST00000505340\t{'predicate': rdflib.term.URIRef('http://purl.obolibrary.org/obo/RO_0002434'), 'key': 70056}\n",
      "http://purl.obolibrary.org/obo/CHEBI_46024\thttps://uswest.ensembl.org/Homo_sapiens/Transcript/Summary?t=ENST00000432991\t{'predicate': rdflib.term.URIRef('http://purl.obolibrary.org/obo/RO_0002434'), 'key': 70264}\n",
      "http://purl.obolibrary.org/obo/CHEBI_46024\thttps://uswest.ensembl.org/Homo_sapiens/Transcript/Summary?t=ENST00000572255\t{'predicate': rdflib.term.URIRef('http://purl.obolibrary.org/obo/RO_0002434'), 'key': 70729}\n",
      "http://purl.obolibrary.org/obo/CHEBI_46024\thttps://uswest.ensembl.org/Homo_sapiens/Transcript/Summary?t=ENST00000628432\t{'predicate': rdflib.term.URIRef('http://purl.obolibrary.org/obo/RO_0002434'), 'key': 70750}\n",
      "http://purl.obolibrary.org/obo/CHEBI_46024\thttps://uswest.ensembl.org/Homo_sapiens/Transcript/Summary?t=ENST00000518141\t{'predicate': rdflib.term.URIRef('http://purl.obolibrary.org/obo/RO_0002434'), 'key': 71295}\n",
      "http://purl.obolibrary.org/obo/CHEBI_46024\thttps://uswest.ensembl.org/Homo_sapiens/Transcript/Summary?t=ENST00000472778\t{'predicate': rdflib.term.URIRef('http://purl.obolibrary.org/obo/RO_0002434'), 'key': 72328}\n",
      "http://purl.obolibrary.org/obo/CHEBI_46024\thttps://uswest.ensembl.org/Homo_sapiens/Transcript/Summary?t=ENST00000550771\t{'predicate': rdflib.term.URIRef('http://purl.obolibrary.org/obo/RO_0002434'), 'key': 72391}\n",
      "http://purl.obolibrary.org/obo/CHEBI_46024\thttps://uswest.ensembl.org/Homo_sapiens/Transcript/Summary?t=ENST00000304760\t{'predicate': rdflib.term.URIRef('http://purl.obolibrary.org/obo/RO_0002434'), 'key': 72505}\n",
      "http://purl.obolibrary.org/obo/CHEBI_46024\thttps://uswest.ensembl.org/Homo_sapiens/Transcript/Summary?t=ENST00000547982\t{'predicate': rdflib.term.URIRef('http://purl.obolibrary.org/obo/RO_0002434'), 'key': 73047}\n",
      "http://purl.obolibrary.org/obo/CHEBI_46024\thttps://uswest.ensembl.org/Homo_sapiens/Transcript/Summary?t=ENST00000503822\t{'predicate': rdflib.term.URIRef('http://purl.obolibrary.org/obo/RO_0002434'), 'key': 73494}\n",
      "http://purl.obolibrary.org/obo/CHEBI_46024\thttps://uswest.ensembl.org/Homo_sapiens/Transcript/Summary?t=ENST00000484619\t{'predicate': rdflib.term.URIRef('http://purl.obolibrary.org/obo/RO_0002434'), 'key': 74056}\n",
      "http://purl.obolibrary.org/obo/CHEBI_46024\thttps://uswest.ensembl.org/Homo_sapiens/Transcript/Summary?t=ENST00000599685\t{'predicate': rdflib.term.URIRef('http://purl.obolibrary.org/obo/RO_0002434'), 'key': 74469}\n",
      "http://purl.obolibrary.org/obo/CHEBI_46024\thttps://uswest.ensembl.org/Homo_sapiens/Transcript/Summary?t=ENST00000432245\t{'predicate': rdflib.term.URIRef('http://purl.obolibrary.org/obo/RO_0002434'), 'key': 74542}\n",
      "http://purl.obolibrary.org/obo/CHEBI_46024\thttps://uswest.ensembl.org/Homo_sapiens/Transcript/Summary?t=ENST00000511531\t{'predicate': rdflib.term.URIRef('http://purl.obolibrary.org/obo/RO_0002434'), 'key': 74957}\n",
      "http://purl.obolibrary.org/obo/CHEBI_46024\thttps://uswest.ensembl.org/Homo_sapiens/Transcript/Summary?t=ENST00000498569\t{'predicate': rdflib.term.URIRef('http://purl.obolibrary.org/obo/RO_0002434'), 'key': 75646}\n",
      "http://purl.obolibrary.org/obo/CHEBI_46024\thttps://uswest.ensembl.org/Homo_sapiens/Transcript/Summary?t=ENST00000295701\t{'predicate': rdflib.term.URIRef('http://purl.obolibrary.org/obo/RO_0002434'), 'key': 76248}\n",
      "http://purl.obolibrary.org/obo/CHEBI_46024\thttps://uswest.ensembl.org/Homo_sapiens/Transcript/Summary?t=ENST00000474244\t{'predicate': rdflib.term.URIRef('http://purl.obolibrary.org/obo/RO_0002434'), 'key': 76421}\n",
      "http://purl.obolibrary.org/obo/CHEBI_46024\thttp://purl.obolibrary.org/obo/GO_0030500\t{'predicate': rdflib.term.URIRef('http://purl.obolibrary.org/obo/RO_0002436'), 'key': 76533}\n",
      "http://purl.obolibrary.org/obo/CHEBI_46024\thttps://uswest.ensembl.org/Homo_sapiens/Transcript/Summary?t=ENST00000446490\t{'predicate': rdflib.term.URIRef('http://purl.obolibrary.org/obo/RO_0002434'), 'key': 76898}\n",
      "http://purl.obolibrary.org/obo/CHEBI_46024\thttps://uswest.ensembl.org/Homo_sapiens/Transcript/Summary?t=ENST00000542675\t{'predicate': rdflib.term.URIRef('http://purl.obolibrary.org/obo/RO_0002434'), 'key': 78224}\n",
      "http://purl.obolibrary.org/obo/CHEBI_46024\thttp://purl.obolibrary.org/obo/GO_0016071\t{'predicate': rdflib.term.URIRef('http://purl.obolibrary.org/obo/RO_0002436'), 'key': 79831}\n",
      "http://purl.obolibrary.org/obo/CHEBI_46024\thttp://purl.obolibrary.org/obo/GO_0090090\t{'predicate': rdflib.term.URIRef('http://purl.obolibrary.org/obo/RO_0002436'), 'key': 79951}\n",
      "http://purl.obolibrary.org/obo/CHEBI_46024\thttps://uswest.ensembl.org/Homo_sapiens/Transcript/Summary?t=ENST00000438278\t{'predicate': rdflib.term.URIRef('http://purl.obolibrary.org/obo/RO_0002434'), 'key': 80589}\n",
      "http://purl.obolibrary.org/obo/CHEBI_46024\thttps://uswest.ensembl.org/Homo_sapiens/Transcript/Summary?t=ENST00000360790\t{'predicate': rdflib.term.URIRef('http://purl.obolibrary.org/obo/RO_0002434'), 'key': 80719}\n",
      "http://purl.obolibrary.org/obo/CHEBI_46024\thttps://uswest.ensembl.org/Homo_sapiens/Transcript/Summary?t=ENST00000570650\t{'predicate': rdflib.term.URIRef('http://purl.obolibrary.org/obo/RO_0002434'), 'key': 81309}\n",
      "http://purl.obolibrary.org/obo/CHEBI_46024\thttps://uswest.ensembl.org/Homo_sapiens/Transcript/Summary?t=ENST00000372989\t{'predicate': rdflib.term.URIRef('http://purl.obolibrary.org/obo/RO_0002434'), 'key': 81784}\n",
      "http://purl.obolibrary.org/obo/CHEBI_46024\thttps://uswest.ensembl.org/Homo_sapiens/Transcript/Summary?t=ENST00000649119\t{'predicate': rdflib.term.URIRef('http://purl.obolibrary.org/obo/RO_0002434'), 'key': 82269}\n",
      "http://purl.obolibrary.org/obo/CHEBI_46024\thttps://uswest.ensembl.org/Homo_sapiens/Transcript/Summary?t=ENST00000480024\t{'predicate': rdflib.term.URIRef('http://purl.obolibrary.org/obo/RO_0002434'), 'key': 82742}\n",
      "http://purl.obolibrary.org/obo/CHEBI_46024\thttps://uswest.ensembl.org/Homo_sapiens/Transcript/Summary?t=ENST00000464094\t{'predicate': rdflib.term.URIRef('http://purl.obolibrary.org/obo/RO_0002434'), 'key': 83392}\n",
      "http://purl.obolibrary.org/obo/CHEBI_46024\thttps://uswest.ensembl.org/Homo_sapiens/Transcript/Summary?t=ENST00000482470\t{'predicate': rdflib.term.URIRef('http://purl.obolibrary.org/obo/RO_0002434'), 'key': 86122}\n",
      "http://purl.obolibrary.org/obo/CHEBI_46024\thttps://uswest.ensembl.org/Homo_sapiens/Transcript/Summary?t=ENST00000613302\t{'predicate': rdflib.term.URIRef('http://purl.obolibrary.org/obo/RO_0002434'), 'key': 86209}\n",
      "http://purl.obolibrary.org/obo/CHEBI_46024\thttp://purl.obolibrary.org/obo/GO_0033143\t{'predicate': rdflib.term.URIRef('http://purl.obolibrary.org/obo/RO_0002436'), 'key': 86801}\n",
      "http://purl.obolibrary.org/obo/CHEBI_46024\thttps://uswest.ensembl.org/Homo_sapiens/Transcript/Summary?t=ENST00000502832\t{'predicate': rdflib.term.URIRef('http://purl.obolibrary.org/obo/RO_0002434'), 'key': 87637}\n",
      "http://purl.obolibrary.org/obo/CHEBI_46024\thttp://purl.obolibrary.org/obo/GO_0031056\t{'predicate': rdflib.term.URIRef('http://purl.obolibrary.org/obo/RO_0002436'), 'key': 87687}\n",
      "http://purl.obolibrary.org/obo/CHEBI_46024\thttps://uswest.ensembl.org/Homo_sapiens/Transcript/Summary?t=ENST00000438301\t{'predicate': rdflib.term.URIRef('http://purl.obolibrary.org/obo/RO_0002434'), 'key': 87837}\n",
      "http://purl.obolibrary.org/obo/CHEBI_46024\thttps://uswest.ensembl.org/Homo_sapiens/Transcript/Summary?t=ENST00000424881\t{'predicate': rdflib.term.URIRef('http://purl.obolibrary.org/obo/RO_0002434'), 'key': 88006}\n",
      "http://purl.obolibrary.org/obo/CHEBI_46024\thttps://uswest.ensembl.org/Homo_sapiens/Transcript/Summary?t=ENST00000553652\t{'predicate': rdflib.term.URIRef('http://purl.obolibrary.org/obo/RO_0002434'), 'key': 88521}\n",
      "http://purl.obolibrary.org/obo/CHEBI_46024\thttps://uswest.ensembl.org/Homo_sapiens/Transcript/Summary?t=ENST00000512379\t{'predicate': rdflib.term.URIRef('http://purl.obolibrary.org/obo/RO_0002434'), 'key': 88693}\n",
      "http://purl.obolibrary.org/obo/CHEBI_46024\thttps://uswest.ensembl.org/Homo_sapiens/Transcript/Summary?t=ENST00000456279\t{'predicate': rdflib.term.URIRef('http://purl.obolibrary.org/obo/RO_0002434'), 'key': 89248}\n",
      "http://purl.obolibrary.org/obo/CHEBI_46024\thttps://uswest.ensembl.org/Homo_sapiens/Transcript/Summary?t=ENST00000545203\t{'predicate': rdflib.term.URIRef('http://purl.obolibrary.org/obo/RO_0002434'), 'key': 91721}\n",
      "http://purl.obolibrary.org/obo/CHEBI_46024\thttps://uswest.ensembl.org/Homo_sapiens/Transcript/Summary?t=ENST00000466533\t{'predicate': rdflib.term.URIRef('http://purl.obolibrary.org/obo/RO_0002434'), 'key': 93124}\n",
      "http://purl.obolibrary.org/obo/CHEBI_46024\thttps://uswest.ensembl.org/Homo_sapiens/Transcript/Summary?t=ENST00000547310\t{'predicate': rdflib.term.URIRef('http://purl.obolibrary.org/obo/RO_0002434'), 'key': 94270}\n",
      "http://purl.obolibrary.org/obo/CHEBI_46024\thttps://uswest.ensembl.org/Homo_sapiens/Transcript/Summary?t=ENST00000560566\t{'predicate': rdflib.term.URIRef('http://purl.obolibrary.org/obo/RO_0002434'), 'key': 95338}\n",
      "http://purl.obolibrary.org/obo/CHEBI_46024\thttps://uswest.ensembl.org/Homo_sapiens/Transcript/Summary?t=ENST00000673536\t{'predicate': rdflib.term.URIRef('http://purl.obolibrary.org/obo/RO_0002434'), 'key': 95397}\n",
      "http://purl.obolibrary.org/obo/CHEBI_46024\thttps://uswest.ensembl.org/Homo_sapiens/Transcript/Summary?t=ENST00000244061\t{'predicate': rdflib.term.URIRef('http://purl.obolibrary.org/obo/RO_0002434'), 'key': 95641}\n",
      "http://purl.obolibrary.org/obo/CHEBI_46024\thttps://uswest.ensembl.org/Homo_sapiens/Transcript/Summary?t=ENST00000506928\t{'predicate': rdflib.term.URIRef('http://purl.obolibrary.org/obo/RO_0002434'), 'key': 96297}\n",
      "http://purl.obolibrary.org/obo/CHEBI_46024\thttps://uswest.ensembl.org/Homo_sapiens/Transcript/Summary?t=ENST00000220003\t{'predicate': rdflib.term.URIRef('http://purl.obolibrary.org/obo/RO_0002434'), 'key': 96741}\n",
      "http://purl.obolibrary.org/obo/CHEBI_46024\thttp://purl.obolibrary.org/obo/PR_O43464\t{'predicate': rdflib.term.URIRef('http://purl.obolibrary.org/obo/RO_0002434'), 'key': 97153}\n",
      "http://purl.obolibrary.org/obo/CHEBI_46024\thttps://uswest.ensembl.org/Homo_sapiens/Transcript/Summary?t=ENST00000481069\t{'predicate': rdflib.term.URIRef('http://purl.obolibrary.org/obo/RO_0002434'), 'key': 97271}\n",
      "http://purl.obolibrary.org/obo/CHEBI_46024\thttps://uswest.ensembl.org/Homo_sapiens/Transcript/Summary?t=ENST00000415806\t{'predicate': rdflib.term.URIRef('http://purl.obolibrary.org/obo/RO_0002434'), 'key': 97556}\n",
      "http://purl.obolibrary.org/obo/CHEBI_46024\thttps://uswest.ensembl.org/Homo_sapiens/Transcript/Summary?t=ENST00000515506\t{'predicate': rdflib.term.URIRef('http://purl.obolibrary.org/obo/RO_0002434'), 'key': 98105}\n",
      "http://purl.obolibrary.org/obo/CHEBI_46024\thttps://uswest.ensembl.org/Homo_sapiens/Transcript/Summary?t=ENST00000529145\t{'predicate': rdflib.term.URIRef('http://purl.obolibrary.org/obo/RO_0002434'), 'key': 98565}\n",
      "http://purl.obolibrary.org/obo/CHEBI_46024\thttps://uswest.ensembl.org/Homo_sapiens/Transcript/Summary?t=ENST00000489358\t{'predicate': rdflib.term.URIRef('http://purl.obolibrary.org/obo/RO_0002434'), 'key': 99096}\n",
      "http://purl.obolibrary.org/obo/CHEBI_46024\thttps://uswest.ensembl.org/Homo_sapiens/Transcript/Summary?t=ENST00000343987\t{'predicate': rdflib.term.URIRef('http://purl.obolibrary.org/obo/RO_0002434'), 'key': 99402}\n",
      "http://purl.obolibrary.org/obo/CHEBI_46024\thttps://uswest.ensembl.org/Homo_sapiens/Transcript/Summary?t=ENST00000358394\t{'predicate': rdflib.term.URIRef('http://purl.obolibrary.org/obo/RO_0002434'), 'key': 99635}\n",
      "http://purl.obolibrary.org/obo/CHEBI_46024\thttp://purl.obolibrary.org/obo/PR_000010240\t{'predicate': rdflib.term.URIRef('http://purl.obolibrary.org/obo/RO_0002434'), 'key': 99725}\n",
      "http://purl.obolibrary.org/obo/CHEBI_46024\thttps://uswest.ensembl.org/Homo_sapiens/Transcript/Summary?t=ENST00000648533\t{'predicate': rdflib.term.URIRef('http://purl.obolibrary.org/obo/RO_0002434'), 'key': 100326}\n",
      "http://purl.obolibrary.org/obo/CHEBI_46024\thttp://purl.obolibrary.org/obo/GO_0014003\t{'predicate': rdflib.term.URIRef('http://purl.obolibrary.org/obo/RO_0002436'), 'key': 100989}\n",
      "http://purl.obolibrary.org/obo/CHEBI_46024\thttps://uswest.ensembl.org/Homo_sapiens/Transcript/Summary?t=ENST00000528786\t{'predicate': rdflib.term.URIRef('http://purl.obolibrary.org/obo/RO_0002434'), 'key': 101213}\n",
      "http://purl.obolibrary.org/obo/CHEBI_46024\thttps://uswest.ensembl.org/Homo_sapiens/Transcript/Summary?t=ENST00000546466\t{'predicate': rdflib.term.URIRef('http://purl.obolibrary.org/obo/RO_0002434'), 'key': 101219}\n",
      "http://purl.obolibrary.org/obo/CHEBI_46024\thttps://uswest.ensembl.org/Homo_sapiens/Transcript/Summary?t=ENST00000561395\t{'predicate': rdflib.term.URIRef('http://purl.obolibrary.org/obo/RO_0002434'), 'key': 103373}\n",
      "http://purl.obolibrary.org/obo/CHEBI_46024\thttps://uswest.ensembl.org/Homo_sapiens/Transcript/Summary?t=ENST00000490576\t{'predicate': rdflib.term.URIRef('http://purl.obolibrary.org/obo/RO_0002434'), 'key': 105018}\n",
      "http://purl.obolibrary.org/obo/CHEBI_46024\thttps://uswest.ensembl.org/Homo_sapiens/Transcript/Summary?t=ENST00000619158\t{'predicate': rdflib.term.URIRef('http://purl.obolibrary.org/obo/RO_0002434'), 'key': 105314}\n",
      "http://purl.obolibrary.org/obo/CHEBI_46024\thttps://uswest.ensembl.org/Homo_sapiens/Transcript/Summary?t=ENST00000488060\t{'predicate': rdflib.term.URIRef('http://purl.obolibrary.org/obo/RO_0002434'), 'key': 105655}\n",
      "http://purl.obolibrary.org/obo/CHEBI_46024\thttps://uswest.ensembl.org/Homo_sapiens/Transcript/Summary?t=ENST00000438909\t{'predicate': rdflib.term.URIRef('http://purl.obolibrary.org/obo/RO_0002434'), 'key': 107416}\n",
      "http://purl.obolibrary.org/obo/CHEBI_46024\thttps://uswest.ensembl.org/Homo_sapiens/Transcript/Summary?t=ENST00000430180\t{'predicate': rdflib.term.URIRef('http://purl.obolibrary.org/obo/RO_0002434'), 'key': 107741}\n",
      "http://purl.obolibrary.org/obo/CHEBI_46024\thttps://uswest.ensembl.org/Homo_sapiens/Transcript/Summary?t=ENST00000640094\t{'predicate': rdflib.term.URIRef('http://purl.obolibrary.org/obo/RO_0002434'), 'key': 108012}\n",
      "http://purl.obolibrary.org/obo/CHEBI_46024\thttps://uswest.ensembl.org/Homo_sapiens/Transcript/Summary?t=ENST00000476710\t{'predicate': rdflib.term.URIRef('http://purl.obolibrary.org/obo/RO_0002434'), 'key': 108237}\n",
      "http://purl.obolibrary.org/obo/CHEBI_46024\thttps://uswest.ensembl.org/Homo_sapiens/Transcript/Summary?t=ENST00000519910\t{'predicate': rdflib.term.URIRef('http://purl.obolibrary.org/obo/RO_0002434'), 'key': 108759}\n",
      "http://purl.obolibrary.org/obo/CHEBI_46024\thttps://uswest.ensembl.org/Homo_sapiens/Transcript/Summary?t=ENST00000556491\t{'predicate': rdflib.term.URIRef('http://purl.obolibrary.org/obo/RO_0002434'), 'key': 109311}\n",
      "http://purl.obolibrary.org/obo/CHEBI_46024\thttps://uswest.ensembl.org/Homo_sapiens/Transcript/Summary?t=ENST00000346991\t{'predicate': rdflib.term.URIRef('http://purl.obolibrary.org/obo/RO_0002434'), 'key': 110661}\n",
      "http://purl.obolibrary.org/obo/CHEBI_46024\thttps://uswest.ensembl.org/Homo_sapiens/Transcript/Summary?t=ENST00000482085\t{'predicate': rdflib.term.URIRef('http://purl.obolibrary.org/obo/RO_0002434'), 'key': 111295}\n",
      "http://purl.obolibrary.org/obo/CHEBI_46024\thttps://uswest.ensembl.org/Homo_sapiens/Transcript/Summary?t=ENST00000623056\t{'predicate': rdflib.term.URIRef('http://purl.obolibrary.org/obo/RO_0002434'), 'key': 112110}\n",
      "http://purl.obolibrary.org/obo/CHEBI_46024\thttp://purl.obolibrary.org/obo/GO_0051283\t{'predicate': rdflib.term.URIRef('http://purl.obolibrary.org/obo/RO_0002436'), 'key': 112596}\n",
      "http://purl.obolibrary.org/obo/CHEBI_46024\thttp://purl.obolibrary.org/obo/GO_0071103\t{'predicate': rdflib.term.URIRef('http://purl.obolibrary.org/obo/RO_0002436'), 'key': 112964}\n",
      "http://purl.obolibrary.org/obo/CHEBI_46024\thttps://uswest.ensembl.org/Homo_sapiens/Transcript/Summary?t=ENST00000557954\t{'predicate': rdflib.term.URIRef('http://purl.obolibrary.org/obo/RO_0002434'), 'key': 114360}\n",
      "http://purl.obolibrary.org/obo/CHEBI_46024\thttps://uswest.ensembl.org/Homo_sapiens/Transcript/Summary?t=ENST00000658556\t{'predicate': rdflib.term.URIRef('http://purl.obolibrary.org/obo/RO_0002434'), 'key': 115895}\n",
      "http://purl.obolibrary.org/obo/CHEBI_46024\thttps://uswest.ensembl.org/Homo_sapiens/Transcript/Summary?t=ENST00000595879\t{'predicate': rdflib.term.URIRef('http://purl.obolibrary.org/obo/RO_0002434'), 'key': 115954}\n",
      "http://purl.obolibrary.org/obo/CHEBI_46024\thttp://purl.obolibrary.org/obo/GO_0046885\t{'predicate': rdflib.term.URIRef('http://purl.obolibrary.org/obo/RO_0002436'), 'key': 116711}\n",
      "http://purl.obolibrary.org/obo/CHEBI_46024\thttps://uswest.ensembl.org/Homo_sapiens/Transcript/Summary?t=ENST00000532808\t{'predicate': rdflib.term.URIRef('http://purl.obolibrary.org/obo/RO_0002434'), 'key': 117195}\n",
      "http://purl.obolibrary.org/obo/CHEBI_46024\thttps://uswest.ensembl.org/Homo_sapiens/Transcript/Summary?t=ENST00000669565\t{'predicate': rdflib.term.URIRef('http://purl.obolibrary.org/obo/RO_0002434'), 'key': 117770}\n",
      "http://purl.obolibrary.org/obo/CHEBI_46024\thttps://uswest.ensembl.org/Homo_sapiens/Transcript/Summary?t=ENST00000560877\t{'predicate': rdflib.term.URIRef('http://purl.obolibrary.org/obo/RO_0002434'), 'key': 118893}\n",
      "http://purl.obolibrary.org/obo/CHEBI_46024\thttps://uswest.ensembl.org/Homo_sapiens/Transcript/Summary?t=ENST00000641142\t{'predicate': rdflib.term.URIRef('http://purl.obolibrary.org/obo/RO_0002434'), 'key': 119320}\n",
      "http://purl.obolibrary.org/obo/CHEBI_46024\thttps://uswest.ensembl.org/Homo_sapiens/Transcript/Summary?t=ENST00000473949\t{'predicate': rdflib.term.URIRef('http://purl.obolibrary.org/obo/RO_0002434'), 'key': 119438}\n",
      "http://purl.obolibrary.org/obo/CHEBI_46024\thttps://uswest.ensembl.org/Homo_sapiens/Transcript/Summary?t=ENST00000564596\t{'predicate': rdflib.term.URIRef('http://purl.obolibrary.org/obo/RO_0002434'), 'key': 119495}\n",
      "http://purl.obolibrary.org/obo/CHEBI_46024\thttps://uswest.ensembl.org/Homo_sapiens/Transcript/Summary?t=ENST00000540492\t{'predicate': rdflib.term.URIRef('http://purl.obolibrary.org/obo/RO_0002434'), 'key': 119718}\n",
      "http://purl.obolibrary.org/obo/CHEBI_46024\thttp://purl.obolibrary.org/obo/GO_0019210\t{'predicate': rdflib.term.URIRef('http://purl.obolibrary.org/obo/RO_0002436'), 'key': 120048}\n",
      "http://purl.obolibrary.org/obo/CHEBI_46024\thttps://uswest.ensembl.org/Homo_sapiens/Transcript/Summary?t=ENST00000465164\t{'predicate': rdflib.term.URIRef('http://purl.obolibrary.org/obo/RO_0002434'), 'key': 120289}\n",
      "http://purl.obolibrary.org/obo/CHEBI_46024\thttps://uswest.ensembl.org/Homo_sapiens/Transcript/Summary?t=ENST00000477909\t{'predicate': rdflib.term.URIRef('http://purl.obolibrary.org/obo/RO_0002434'), 'key': 120840}\n",
      "http://purl.obolibrary.org/obo/CHEBI_46024\thttp://purl.obolibrary.org/obo/PR_Q16654\t{'predicate': rdflib.term.URIRef('http://purl.obolibrary.org/obo/RO_0002434'), 'key': 121522}\n",
      "http://purl.obolibrary.org/obo/CHEBI_46024\thttps://uswest.ensembl.org/Homo_sapiens/Transcript/Summary?t=ENST00000517766\t{'predicate': rdflib.term.URIRef('http://purl.obolibrary.org/obo/RO_0002434'), 'key': 123654}\n",
      "http://purl.obolibrary.org/obo/CHEBI_46024\thttps://uswest.ensembl.org/Homo_sapiens/Transcript/Summary?t=ENST00000453023\t{'predicate': rdflib.term.URIRef('http://purl.obolibrary.org/obo/RO_0002434'), 'key': 124183}\n",
      "http://purl.obolibrary.org/obo/CHEBI_46024\thttps://uswest.ensembl.org/Homo_sapiens/Transcript/Summary?t=ENST00000555318\t{'predicate': rdflib.term.URIRef('http://purl.obolibrary.org/obo/RO_0002434'), 'key': 125421}\n",
      "http://purl.obolibrary.org/obo/CHEBI_46024\thttps://uswest.ensembl.org/Homo_sapiens/Transcript/Summary?t=ENST00000262753\t{'predicate': rdflib.term.URIRef('http://purl.obolibrary.org/obo/RO_0002434'), 'key': 126754}\n",
      "http://purl.obolibrary.org/obo/CHEBI_46024\thttp://purl.obolibrary.org/obo/GO_0046031\t{'predicate': rdflib.term.URIRef('http://purl.obolibrary.org/obo/RO_0002436'), 'key': 127023}\n"
     ]
    }
   ],
   "source": [
    "# A sample of what this new graph looks like\n",
    "i = 0\n",
    "for s, o, data in nx_mdg_interacts.edges(data=True):\n",
    "    if i == 200:\n",
    "        break\n",
    "    \n",
    "    print('{}\\t{}\\t{}'.format(s,o,data))\n",
    "    i += 1"
   ]
  },
  {
   "cell_type": "code",
   "execution_count": null,
   "metadata": {},
   "outputs": [],
   "source": [
    "# From https://stackoverflow.com/questions/37183749/how-to-find-two-randoms-nodes-with-no-edges-between-them-in-graph\n",
    "def select_2_random_unconnected_nodes(node_list, graph):\n",
    "    selected_node = random.choice(list(node_list))\n",
    "    print('Randomly selected node: {}'.format(selected_node))\n",
    "  \n",
    "    # obtain all the nodes connected to the selected node\n",
    "    connected_nodes = [n for _, n in graph.edges(selected_node)]\n",
    "\n",
    "    print('All nodes connected to the randomly selected node: {}'.format(connected_nodes + [selected_node]))\n",
    "\n",
    "    # a feasible node is one not in connected_nodes and also not the first selected_node\n",
    "    feasible_nodes = [feasible_n for feasible_n in node_list if feasible_n not in connected_nodes + [selected_node]]\n",
    "\n",
    "    # select a second node from the feasible_nodes list\n",
    "    select_second_node = random.choice(feasible_nodes)\n",
    "\n",
    "    return selected_node, select_second_node\n",
    "  "
   ]
  },
  {
   "cell_type": "code",
   "execution_count": null,
   "metadata": {},
   "outputs": [],
   "source": [
    "import random\n",
    "nodes = nx_mdg_interacts.nodes()\n",
    "\n",
    "(selected_node, select_second_node) = select_2_random_unconnected_nodes(nodes,nx_mdg_interacts)\n",
    "print('\\nselected_node: {}\\n\\nnon-connected node:{}'.format(selected_node, select_second_node))"
   ]
  },
  {
   "cell_type": "markdown",
   "metadata": {},
   "source": [
    "## Node2Vec\n",
    "\n",
    "We use Node2Vec [[1]](#refs), to calculate node embeddings. These embeddings are learned in such a way to ensure that nodes that are close in the graph remain close in the embedding space. Node2Vec first involves running random walks on the graph to obtain our context pairs, and using these to train a Word2Vec model.\n",
    "\n",
    "These are the set of parameters we can use:\n",
    "\n",
    "* `p` - Random walk parameter \"p\"\n",
    "* `q` - Random walk parameter \"q\"\n",
    "* `dimensions` - Dimensionality of node2vec embeddings\n",
    "* `num_walks` - Number of walks from each node\n",
    "* `walk_length` - Length of each random walk\n",
    "* `window_size` - Context window size for Word2Vec\n",
    "* `num_iter` - number of SGD iterations (epochs)\n",
    "* `workers` - Number of workers for Word2Vec"
   ]
  },
  {
   "cell_type": "markdown",
   "metadata": {},
   "source": [
    "The next cells aply the node2vec to conctruc a 30 dimension embedding of the interaction sub-graph using 5 random walks per node with up to 10 node steps each. These hyperparameters are not tuned."
   ]
  },
  {
   "cell_type": "code",
   "execution_count": 24,
   "metadata": {},
   "outputs": [
    {
     "name": "stderr",
     "output_type": "stream",
     "text": [
      "Computing transition probabilities: 100%|██████████| 30568/30568 [00:59<00:00, 517.15it/s] \n",
      "Generating walks (CPU: 1): 100%|██████████| 5/5 [00:05<00:00,  1.06s/it]\n"
     ]
    }
   ],
   "source": [
    "node2vec = Node2Vec(nx_mdg_interacts, dimensions=30, walk_length=10, num_walks=5, workers=1)"
   ]
  },
  {
   "cell_type": "code",
   "execution_count": 25,
   "metadata": {},
   "outputs": [],
   "source": [
    "model = node2vec.fit(window=10, min_count=1, batch_words=4)"
   ]
  },
  {
   "cell_type": "code",
   "execution_count": 26,
   "metadata": {},
   "outputs": [],
   "source": [
    "model.save('PheKnowLator_full_InverseRelations_NotClosed_OWLNETS_INTERACTS.model')"
   ]
  },
  {
   "cell_type": "code",
   "execution_count": 12,
   "metadata": {},
   "outputs": [],
   "source": [
    "## Uncomment this and run it to reload the model from a file if you have already created it\n",
    "from gensim.models import Word2Vec\n",
    "model = Word2Vec.load('PheKnowLator_full_InverseRelations_NotClosed_OWLNETS_INTERACTS.model')"
   ]
  },
  {
   "cell_type": "markdown",
   "metadata": {},
   "source": [
    "We can examine the embedding vectors for any node in the graph."
   ]
  },
  {
   "cell_type": "code",
   "execution_count": 13,
   "metadata": {},
   "outputs": [
    {
     "data": {
      "text/plain": [
       "array([-0.01330615, -0.00287498, -0.01121711,  0.00069634, -0.00166956,\n",
       "       -0.00677928, -0.00238019, -0.01881396, -0.01686455, -0.01601675,\n",
       "       -0.00391008,  0.0052995 , -0.00539278,  0.01215148,  0.01106062,\n",
       "       -0.02187015, -0.01431681, -0.0044541 ,  0.00378823,  0.0073276 ,\n",
       "       -0.009827  , -0.00969146,  0.00240202, -0.00245873,  0.0104638 ,\n",
       "       -0.00991334,  0.00047692, -0.01966359, -0.01141303,  0.00224273],\n",
       "      dtype=float32)"
      ]
     },
     "execution_count": 13,
     "metadata": {},
     "output_type": "execute_result"
    }
   ],
   "source": [
    "# entinostat\n",
    "model.wv.get_vector('http://purl.obolibrary.org/obo/CHEBI_132082')"
   ]
  },
  {
   "cell_type": "code",
   "execution_count": 76,
   "metadata": {},
   "outputs": [
    {
     "data": {
      "text/plain": [
       "[('https://www.ncbi.nlm.nih.gov/gene/8763', 0.7107213139533997),\n",
       " ('https://www.ncbi.nlm.nih.gov/gene/79033', 0.6884463429450989),\n",
       " ('http://purl.obolibrary.org/obo/GO_0034440', 0.6307908296585083),\n",
       " ('https://www.ncbi.nlm.nih.gov/gene/9513', 0.6259204149246216),\n",
       " ('https://www.ncbi.nlm.nih.gov/gene/285671', 0.6176988482475281),\n",
       " ('https://reactome.org/content/detail/R-HSA-196741', 0.6084413528442383),\n",
       " ('http://purl.obolibrary.org/obo/PR_P62072', 0.6064118146896362),\n",
       " ('http://purl.obolibrary.org/obo/GO_0006468', 0.6061800122261047),\n",
       " ('http://purl.obolibrary.org/obo/PR_000004098', 0.5974881649017334),\n",
       " ('http://purl.obolibrary.org/obo/CHEBI_499361', 0.5908248424530029)]"
      ]
     },
     "execution_count": 76,
     "metadata": {},
     "output_type": "execute_result"
    }
   ],
   "source": [
    "model.wv.most_similar('http://purl.obolibrary.org/obo/CHEBI_132082')"
   ]
  },
  {
   "cell_type": "code",
   "execution_count": 67,
   "metadata": {},
   "outputs": [
    {
     "data": {
      "text/plain": [
       "array([ 1.11695072e-02,  2.70528905e-03, -7.11266650e-03,  6.21647900e-03,\n",
       "        2.50877012e-02, -5.23969159e-03,  9.80134774e-03,  2.69477107e-02,\n",
       "       -1.24853160e-02, -1.41592976e-03,  1.45947505e-02,  1.83813870e-02,\n",
       "        5.69508411e-05,  1.03864889e-03,  1.46188363e-02, -1.01599386e-02,\n",
       "       -1.07991276e-02,  6.58706808e-03, -5.68754971e-03,  5.23295300e-03,\n",
       "        8.83659907e-03, -1.34815963e-03,  1.75206829e-02,  1.67271942e-02,\n",
       "       -1.01268003e-02, -1.88999046e-02, -6.08671131e-03, -1.34553462e-02,\n",
       "       -8.26150994e-04,  6.22922368e-03], dtype=float32)"
      ]
     },
     "execution_count": 67,
     "metadata": {},
     "output_type": "execute_result"
    }
   ],
   "source": [
    "# positive regulation of nervous system development\n",
    "model.wv.get_vector('http://purl.obolibrary.org/obo/GO_0051962')"
   ]
  },
  {
   "cell_type": "markdown",
   "metadata": {},
   "source": [
    "We can also seek the most similar nodes to a given ndode in the embedding space "
   ]
  },
  {
   "cell_type": "code",
   "execution_count": 68,
   "metadata": {},
   "outputs": [
    {
     "data": {
      "text/plain": [
       "[('https://uswest.ensembl.org/Homo_sapiens/Transcript/Summary?t=ENST00000366131',\n",
       "  0.8030844330787659),\n",
       " ('https://uswest.ensembl.org/Homo_sapiens/Transcript/Summary?t=ENST00000619420',\n",
       "  0.8003867864608765),\n",
       " ('http://purl.obolibrary.org/obo/PR_000004339', 0.7990934252738953),\n",
       " ('http://purl.obolibrary.org/obo/CHEBI_73237', 0.7943668365478516),\n",
       " ('http://purl.obolibrary.org/obo/PR_000005385', 0.7844266891479492),\n",
       " ('https://uswest.ensembl.org/Homo_sapiens/Transcript/Summary?t=ENST00000490763',\n",
       "  0.7814849615097046),\n",
       " ('http://purl.obolibrary.org/obo/PR_Q12913', 0.7788965702056885),\n",
       " ('http://purl.obolibrary.org/obo/PR_P62837', 0.7776200175285339),\n",
       " ('https://uswest.ensembl.org/Homo_sapiens/Transcript/Summary?t=ENST00000672591',\n",
       "  0.7769244909286499),\n",
       " ('http://purl.obolibrary.org/obo/CHEBI_73162', 0.7742947340011597)]"
      ]
     },
     "execution_count": 68,
     "metadata": {},
     "output_type": "execute_result"
    }
   ],
   "source": [
    "model.wv.most_similar('http://purl.obolibrary.org/obo/GO_0051962')"
   ]
  },
  {
   "cell_type": "code",
   "execution_count": 69,
   "metadata": {},
   "outputs": [
    {
     "data": {
      "text/plain": [
       "[('https://uswest.ensembl.org/Homo_sapiens/Transcript/Summary?t=ENST00000368112',\n",
       "  0.5666130781173706),\n",
       " ('https://uswest.ensembl.org/Homo_sapiens/Transcript/Summary?t=ENST00000470382',\n",
       "  0.5283974409103394),\n",
       " ('https://uswest.ensembl.org/Homo_sapiens/Transcript/Summary?t=ENST00000483991',\n",
       "  0.5206739902496338),\n",
       " ('https://uswest.ensembl.org/Homo_sapiens/Transcript/Summary?t=ENST00000514756',\n",
       "  0.509303092956543),\n",
       " ('https://uswest.ensembl.org/Homo_sapiens/Transcript/Summary?t=ENST00000427021',\n",
       "  0.5004165172576904),\n",
       " ('http://purl.obolibrary.org/obo/GO_1904724', 0.4951947331428528),\n",
       " ('https://uswest.ensembl.org/Homo_sapiens/Transcript/Summary?t=ENST00000222597',\n",
       "  0.468858927488327),\n",
       " ('http://purl.obolibrary.org/obo/PR_000002207', 0.4671010971069336),\n",
       " ('https://www.ncbi.nlm.nih.gov/gene/90665', 0.4600873589515686),\n",
       " ('https://uswest.ensembl.org/Homo_sapiens/Transcript/Summary?t=ENST00000443943',\n",
       "  0.45980921387672424)]"
      ]
     },
     "execution_count": 69,
     "metadata": {},
     "output_type": "execute_result"
    }
   ],
   "source": [
    "# positive=purine ribonucleoside binding and negative=positive regulation of nervous system development\n",
    "model.wv.most_similar(positive=['http://purl.obolibrary.org/obo/GO_0032550'],negative=['http://purl.obolibrary.org/obo/GO_0051962'])"
   ]
  },
  {
   "cell_type": "markdown",
   "metadata": {},
   "source": [
    "The next cells train a model for link prediction using the embeddings. We start by building an adjacency matrix and then traversing it to find the positions of the zeros which represent node pairs that are not connected in the graph.  "
   ]
  },
  {
   "cell_type": "code",
   "execution_count": 14,
   "metadata": {},
   "outputs": [],
   "source": [
    "nodelist = []\n",
    "nds = nx_mdg_interacts.nodes()\n",
    "for n in nds:\n",
    "    nodelist.append(n)"
   ]
  },
  {
   "cell_type": "code",
   "execution_count": 78,
   "metadata": {},
   "outputs": [],
   "source": [
    "# build adjacency matrix\n",
    "adj_G = nx.to_numpy_matrix(nx_mdg_interacts,nodelist)"
   ]
  },
  {
   "cell_type": "code",
   "execution_count": 79,
   "metadata": {},
   "outputs": [
    {
     "data": {
      "text/plain": [
       "(30568, 30568)"
      ]
     },
     "execution_count": 79,
     "metadata": {},
     "output_type": "execute_result"
    }
   ],
   "source": [
    "adj_G.shape"
   ]
  },
  {
   "cell_type": "code",
   "execution_count": 80,
   "metadata": {},
   "outputs": [],
   "source": [
    "# get unconnected node-pairs\n",
    "all_unconnected_pairs = [None]*(adj_G.shape[0]*adj_G.shape[1])\n",
    "all_connected_pairs = [None]*(adj_G.shape[0]*adj_G.shape[1])\n",
    "\n",
    "# traverse adjacency matrix (iterate columns by rows)\n",
    "offset = 0\n",
    "for i in range(adj_G.shape[0]):\n",
    "  for j in range(offset,adj_G.shape[1]):\n",
    "    if i != j:\n",
    "        if adj_G[i,j] == 0:\n",
    "          all_unconnected_pairs[i+j] = (nodelist[i],nodelist[j])\n",
    "        else:            \n",
    "          all_connected_pairs[i+j] = (nodelist[i],nodelist[j])\n",
    "\n",
    "  offset = offset + 1"
   ]
  },
  {
   "cell_type": "code",
   "execution_count": 81,
   "metadata": {},
   "outputs": [],
   "source": [
    "import pandas as pd\n",
    "\n",
    "all_connected_pairs_clean = [x for x in filter(lambda x: x != None, all_connected_pairs)]\n",
    "node_1_linked = [i[0] for i in all_connected_pairs_clean]\n",
    "node_2_linked = [i[1] for i in all_connected_pairs_clean]\n",
    "original_g_df = pd.DataFrame({'node_1':node_1_linked, \n",
    "                              'node_2':node_2_linked})\n",
    "\n",
    "all_unconnected_pairs_clean = [x for x in filter(lambda x: x != None, all_unconnected_pairs)]\n",
    "node_1_unlinked = [i[0] for i in all_unconnected_pairs_clean]\n",
    "node_2_unlinked = [i[1] for i in all_unconnected_pairs_clean]\n",
    "data = pd.DataFrame({'node_1':node_1_unlinked, \n",
    "                     'node_2':node_2_unlinked})\n",
    "\n",
    "# add target variable 'link'\n",
    "data['link'] = 0"
   ]
  },
  {
   "cell_type": "code",
   "execution_count": 82,
   "metadata": {},
   "outputs": [
    {
     "data": {
      "text/plain": [
       "(46719, 2)"
      ]
     },
     "execution_count": 82,
     "metadata": {},
     "output_type": "execute_result"
    }
   ],
   "source": [
    "original_g_df.shape"
   ]
  },
  {
   "cell_type": "code",
   "execution_count": 83,
   "metadata": {},
   "outputs": [
    {
     "data": {
      "text/plain": [
       "61131"
      ]
     },
     "execution_count": 83,
     "metadata": {},
     "output_type": "execute_result"
    }
   ],
   "source": [
    "len(all_unconnected_pairs_clean)"
   ]
  },
  {
   "cell_type": "code",
   "execution_count": 84,
   "metadata": {},
   "outputs": [
    {
     "data": {
      "text/plain": [
       "(61131, 3)"
      ]
     },
     "execution_count": 84,
     "metadata": {},
     "output_type": "execute_result"
    }
   ],
   "source": [
    "data.shape"
   ]
  },
  {
   "cell_type": "code",
   "execution_count": 85,
   "metadata": {},
   "outputs": [],
   "source": [
    "import pickle\n",
    "f = open('original_g_df.pickle','wb')\n",
    "pickle.dump(original_g_df,f)\n",
    "f.close()\n",
    "\n",
    "f = open('data.pickle','wb')\n",
    "pickle.dump(data,f)\n",
    "f.close()"
   ]
  },
  {
   "cell_type": "code",
   "execution_count": 15,
   "metadata": {},
   "outputs": [],
   "source": [
    "## Use this cell to reload if needed\n",
    "import pickle\n",
    "f = open('original_g_df.pickle','rb')\n",
    "original_g_df = pickle.load(f)\n",
    "f.close()\n",
    "\n",
    "f = open('data.pickle','rb')\n",
    "data = pickle.load(f)\n",
    "f.close()"
   ]
  },
  {
   "cell_type": "code",
   "execution_count": 16,
   "metadata": {},
   "outputs": [
    {
     "data": {
      "text/html": [
       "<div>\n",
       "<style scoped>\n",
       "    .dataframe tbody tr th:only-of-type {\n",
       "        vertical-align: middle;\n",
       "    }\n",
       "\n",
       "    .dataframe tbody tr th {\n",
       "        vertical-align: top;\n",
       "    }\n",
       "\n",
       "    .dataframe thead th {\n",
       "        text-align: right;\n",
       "    }\n",
       "</style>\n",
       "<table border=\"1\" class=\"dataframe\">\n",
       "  <thead>\n",
       "    <tr style=\"text-align: right;\">\n",
       "      <th></th>\n",
       "      <th>node_1</th>\n",
       "      <th>node_2</th>\n",
       "    </tr>\n",
       "  </thead>\n",
       "  <tbody>\n",
       "    <tr>\n",
       "      <th>0</th>\n",
       "      <td>https://uswest.ensembl.org/Homo_sapiens/Transc...</td>\n",
       "      <td>http://purl.obolibrary.org/obo/CHEBI_46024</td>\n",
       "    </tr>\n",
       "    <tr>\n",
       "      <th>1</th>\n",
       "      <td>https://uswest.ensembl.org/Homo_sapiens/Transc...</td>\n",
       "      <td>http://purl.obolibrary.org/obo/CHEBI_39867</td>\n",
       "    </tr>\n",
       "    <tr>\n",
       "      <th>2</th>\n",
       "      <td>https://uswest.ensembl.org/Homo_sapiens/Transc...</td>\n",
       "      <td>http://purl.obolibrary.org/obo/CHEBI_23965</td>\n",
       "    </tr>\n",
       "    <tr>\n",
       "      <th>3</th>\n",
       "      <td>http://purl.obolibrary.org/obo/PR_P41002</td>\n",
       "      <td>http://purl.obolibrary.org/obo/PR_O95376</td>\n",
       "    </tr>\n",
       "    <tr>\n",
       "      <th>4</th>\n",
       "      <td>http://purl.obolibrary.org/obo/PR_P41002</td>\n",
       "      <td>http://purl.obolibrary.org/obo/PR_000009875</td>\n",
       "    </tr>\n",
       "    <tr>\n",
       "      <th>5</th>\n",
       "      <td>http://purl.obolibrary.org/obo/PR_P41002</td>\n",
       "      <td>http://purl.obolibrary.org/obo/PR_O95352</td>\n",
       "    </tr>\n",
       "    <tr>\n",
       "      <th>6</th>\n",
       "      <td>http://purl.obolibrary.org/obo/PR_P41002</td>\n",
       "      <td>http://purl.obolibrary.org/obo/PR_Q9H765</td>\n",
       "    </tr>\n",
       "    <tr>\n",
       "      <th>7</th>\n",
       "      <td>http://purl.obolibrary.org/obo/GO_0098685</td>\n",
       "      <td>http://purl.obolibrary.org/obo/CHEBI_3766</td>\n",
       "    </tr>\n",
       "    <tr>\n",
       "      <th>8</th>\n",
       "      <td>http://purl.obolibrary.org/obo/GO_0098685</td>\n",
       "      <td>http://purl.obolibrary.org/obo/CHEBI_33566</td>\n",
       "    </tr>\n",
       "    <tr>\n",
       "      <th>9</th>\n",
       "      <td>http://purl.obolibrary.org/obo/GO_0098685</td>\n",
       "      <td>http://purl.obolibrary.org/obo/CHEBI_31206</td>\n",
       "    </tr>\n",
       "    <tr>\n",
       "      <th>10</th>\n",
       "      <td>http://purl.obolibrary.org/obo/CHEBI_39867</td>\n",
       "      <td>https://uswest.ensembl.org/Homo_sapiens/Transc...</td>\n",
       "    </tr>\n",
       "    <tr>\n",
       "      <th>11</th>\n",
       "      <td>https://uswest.ensembl.org/Homo_sapiens/Transc...</td>\n",
       "      <td>http://purl.obolibrary.org/obo/CHEBI_30563</td>\n",
       "    </tr>\n",
       "    <tr>\n",
       "      <th>12</th>\n",
       "      <td>https://uswest.ensembl.org/Homo_sapiens/Transc...</td>\n",
       "      <td>http://purl.obolibrary.org/obo/CHEBI_38940</td>\n",
       "    </tr>\n",
       "    <tr>\n",
       "      <th>13</th>\n",
       "      <td>https://uswest.ensembl.org/Homo_sapiens/Transc...</td>\n",
       "      <td>http://purl.obolibrary.org/obo/CHEBI_29699</td>\n",
       "    </tr>\n",
       "    <tr>\n",
       "      <th>14</th>\n",
       "      <td>https://uswest.ensembl.org/Homo_sapiens/Transc...</td>\n",
       "      <td>http://purl.obolibrary.org/obo/CHEBI_15930</td>\n",
       "    </tr>\n",
       "    <tr>\n",
       "      <th>15</th>\n",
       "      <td>http://purl.obolibrary.org/obo/PR_000011121</td>\n",
       "      <td>http://purl.obolibrary.org/obo/PR_000007694</td>\n",
       "    </tr>\n",
       "    <tr>\n",
       "      <th>16</th>\n",
       "      <td>http://purl.obolibrary.org/obo/PR_000011121</td>\n",
       "      <td>http://purl.obolibrary.org/obo/PR_P32245</td>\n",
       "    </tr>\n",
       "    <tr>\n",
       "      <th>17</th>\n",
       "      <td>http://purl.obolibrary.org/obo/PR_000011121</td>\n",
       "      <td>http://purl.obolibrary.org/obo/PR_000001237</td>\n",
       "    </tr>\n",
       "    <tr>\n",
       "      <th>18</th>\n",
       "      <td>https://www.ncbi.nlm.nih.gov/gene/84148</td>\n",
       "      <td>https://www.ncbi.nlm.nih.gov/gene/2272</td>\n",
       "    </tr>\n",
       "    <tr>\n",
       "      <th>19</th>\n",
       "      <td>http://purl.obolibrary.org/obo/CHEBI_46024</td>\n",
       "      <td>https://uswest.ensembl.org/Homo_sapiens/Transc...</td>\n",
       "    </tr>\n",
       "    <tr>\n",
       "      <th>20</th>\n",
       "      <td>https://uswest.ensembl.org/Homo_sapiens/Transc...</td>\n",
       "      <td>http://purl.obolibrary.org/obo/CHEBI_132082</td>\n",
       "    </tr>\n",
       "    <tr>\n",
       "      <th>21</th>\n",
       "      <td>https://uswest.ensembl.org/Homo_sapiens/Transc...</td>\n",
       "      <td>http://purl.obolibrary.org/obo/CHEBI_25255</td>\n",
       "    </tr>\n",
       "    <tr>\n",
       "      <th>22</th>\n",
       "      <td>https://uswest.ensembl.org/Homo_sapiens/Transc...</td>\n",
       "      <td>http://purl.obolibrary.org/obo/CHEBI_41879</td>\n",
       "    </tr>\n",
       "    <tr>\n",
       "      <th>23</th>\n",
       "      <td>https://uswest.ensembl.org/Homo_sapiens/Transc...</td>\n",
       "      <td>http://purl.obolibrary.org/obo/CHEBI_27899</td>\n",
       "    </tr>\n",
       "    <tr>\n",
       "      <th>24</th>\n",
       "      <td>https://uswest.ensembl.org/Homo_sapiens/Transc...</td>\n",
       "      <td>http://purl.obolibrary.org/obo/CHEBI_2504</td>\n",
       "    </tr>\n",
       "    <tr>\n",
       "      <th>25</th>\n",
       "      <td>https://uswest.ensembl.org/Homo_sapiens/Transc...</td>\n",
       "      <td>http://purl.obolibrary.org/obo/CHEBI_29865</td>\n",
       "    </tr>\n",
       "    <tr>\n",
       "      <th>26</th>\n",
       "      <td>https://uswest.ensembl.org/Homo_sapiens/Transc...</td>\n",
       "      <td>http://purl.obolibrary.org/obo/CHEBI_33234</td>\n",
       "    </tr>\n",
       "    <tr>\n",
       "      <th>27</th>\n",
       "      <td>http://purl.obolibrary.org/obo/PR_P63272</td>\n",
       "      <td>http://purl.obolibrary.org/obo/PR_Q9HB65</td>\n",
       "    </tr>\n",
       "    <tr>\n",
       "      <th>28</th>\n",
       "      <td>http://purl.obolibrary.org/obo/PR_P63272</td>\n",
       "      <td>http://purl.obolibrary.org/obo/PR_O00267</td>\n",
       "    </tr>\n",
       "    <tr>\n",
       "      <th>29</th>\n",
       "      <td>http://purl.obolibrary.org/obo/PR_P63272</td>\n",
       "      <td>http://purl.obolibrary.org/obo/PR_000007029</td>\n",
       "    </tr>\n",
       "  </tbody>\n",
       "</table>\n",
       "</div>"
      ],
      "text/plain": [
       "                                               node_1  \\\n",
       "0   https://uswest.ensembl.org/Homo_sapiens/Transc...   \n",
       "1   https://uswest.ensembl.org/Homo_sapiens/Transc...   \n",
       "2   https://uswest.ensembl.org/Homo_sapiens/Transc...   \n",
       "3            http://purl.obolibrary.org/obo/PR_P41002   \n",
       "4            http://purl.obolibrary.org/obo/PR_P41002   \n",
       "5            http://purl.obolibrary.org/obo/PR_P41002   \n",
       "6            http://purl.obolibrary.org/obo/PR_P41002   \n",
       "7           http://purl.obolibrary.org/obo/GO_0098685   \n",
       "8           http://purl.obolibrary.org/obo/GO_0098685   \n",
       "9           http://purl.obolibrary.org/obo/GO_0098685   \n",
       "10         http://purl.obolibrary.org/obo/CHEBI_39867   \n",
       "11  https://uswest.ensembl.org/Homo_sapiens/Transc...   \n",
       "12  https://uswest.ensembl.org/Homo_sapiens/Transc...   \n",
       "13  https://uswest.ensembl.org/Homo_sapiens/Transc...   \n",
       "14  https://uswest.ensembl.org/Homo_sapiens/Transc...   \n",
       "15        http://purl.obolibrary.org/obo/PR_000011121   \n",
       "16        http://purl.obolibrary.org/obo/PR_000011121   \n",
       "17        http://purl.obolibrary.org/obo/PR_000011121   \n",
       "18            https://www.ncbi.nlm.nih.gov/gene/84148   \n",
       "19         http://purl.obolibrary.org/obo/CHEBI_46024   \n",
       "20  https://uswest.ensembl.org/Homo_sapiens/Transc...   \n",
       "21  https://uswest.ensembl.org/Homo_sapiens/Transc...   \n",
       "22  https://uswest.ensembl.org/Homo_sapiens/Transc...   \n",
       "23  https://uswest.ensembl.org/Homo_sapiens/Transc...   \n",
       "24  https://uswest.ensembl.org/Homo_sapiens/Transc...   \n",
       "25  https://uswest.ensembl.org/Homo_sapiens/Transc...   \n",
       "26  https://uswest.ensembl.org/Homo_sapiens/Transc...   \n",
       "27           http://purl.obolibrary.org/obo/PR_P63272   \n",
       "28           http://purl.obolibrary.org/obo/PR_P63272   \n",
       "29           http://purl.obolibrary.org/obo/PR_P63272   \n",
       "\n",
       "                                               node_2  \n",
       "0          http://purl.obolibrary.org/obo/CHEBI_46024  \n",
       "1          http://purl.obolibrary.org/obo/CHEBI_39867  \n",
       "2          http://purl.obolibrary.org/obo/CHEBI_23965  \n",
       "3            http://purl.obolibrary.org/obo/PR_O95376  \n",
       "4         http://purl.obolibrary.org/obo/PR_000009875  \n",
       "5            http://purl.obolibrary.org/obo/PR_O95352  \n",
       "6            http://purl.obolibrary.org/obo/PR_Q9H765  \n",
       "7           http://purl.obolibrary.org/obo/CHEBI_3766  \n",
       "8          http://purl.obolibrary.org/obo/CHEBI_33566  \n",
       "9          http://purl.obolibrary.org/obo/CHEBI_31206  \n",
       "10  https://uswest.ensembl.org/Homo_sapiens/Transc...  \n",
       "11         http://purl.obolibrary.org/obo/CHEBI_30563  \n",
       "12         http://purl.obolibrary.org/obo/CHEBI_38940  \n",
       "13         http://purl.obolibrary.org/obo/CHEBI_29699  \n",
       "14         http://purl.obolibrary.org/obo/CHEBI_15930  \n",
       "15        http://purl.obolibrary.org/obo/PR_000007694  \n",
       "16           http://purl.obolibrary.org/obo/PR_P32245  \n",
       "17        http://purl.obolibrary.org/obo/PR_000001237  \n",
       "18             https://www.ncbi.nlm.nih.gov/gene/2272  \n",
       "19  https://uswest.ensembl.org/Homo_sapiens/Transc...  \n",
       "20        http://purl.obolibrary.org/obo/CHEBI_132082  \n",
       "21         http://purl.obolibrary.org/obo/CHEBI_25255  \n",
       "22         http://purl.obolibrary.org/obo/CHEBI_41879  \n",
       "23         http://purl.obolibrary.org/obo/CHEBI_27899  \n",
       "24          http://purl.obolibrary.org/obo/CHEBI_2504  \n",
       "25         http://purl.obolibrary.org/obo/CHEBI_29865  \n",
       "26         http://purl.obolibrary.org/obo/CHEBI_33234  \n",
       "27           http://purl.obolibrary.org/obo/PR_Q9HB65  \n",
       "28           http://purl.obolibrary.org/obo/PR_O00267  \n",
       "29        http://purl.obolibrary.org/obo/PR_000007029  "
      ]
     },
     "execution_count": 16,
     "metadata": {},
     "output_type": "execute_result"
    }
   ],
   "source": [
    "original_g_df.head(30)"
   ]
  },
  {
   "cell_type": "code",
   "execution_count": 17,
   "metadata": {},
   "outputs": [
    {
     "data": {
      "text/html": [
       "<div>\n",
       "<style scoped>\n",
       "    .dataframe tbody tr th:only-of-type {\n",
       "        vertical-align: middle;\n",
       "    }\n",
       "\n",
       "    .dataframe tbody tr th {\n",
       "        vertical-align: top;\n",
       "    }\n",
       "\n",
       "    .dataframe thead th {\n",
       "        text-align: right;\n",
       "    }\n",
       "</style>\n",
       "<table border=\"1\" class=\"dataframe\">\n",
       "  <thead>\n",
       "    <tr style=\"text-align: right;\">\n",
       "      <th></th>\n",
       "      <th>node_1</th>\n",
       "      <th>node_2</th>\n",
       "      <th>link</th>\n",
       "    </tr>\n",
       "  </thead>\n",
       "  <tbody>\n",
       "    <tr>\n",
       "      <th>0</th>\n",
       "      <td>http://purl.obolibrary.org/obo/CHEBI_46024</td>\n",
       "      <td>http://purl.obolibrary.org/obo/CHEBI_39867</td>\n",
       "      <td>0</td>\n",
       "    </tr>\n",
       "    <tr>\n",
       "      <th>1</th>\n",
       "      <td>http://purl.obolibrary.org/obo/CHEBI_46024</td>\n",
       "      <td>http://purl.obolibrary.org/obo/CHEBI_23965</td>\n",
       "      <td>0</td>\n",
       "    </tr>\n",
       "    <tr>\n",
       "      <th>2</th>\n",
       "      <td>http://purl.obolibrary.org/obo/CHEBI_39867</td>\n",
       "      <td>http://purl.obolibrary.org/obo/CHEBI_23965</td>\n",
       "      <td>0</td>\n",
       "    </tr>\n",
       "    <tr>\n",
       "      <th>3</th>\n",
       "      <td>http://purl.obolibrary.org/obo/CHEBI_39867</td>\n",
       "      <td>http://purl.obolibrary.org/obo/PR_P41002</td>\n",
       "      <td>0</td>\n",
       "    </tr>\n",
       "    <tr>\n",
       "      <th>4</th>\n",
       "      <td>http://purl.obolibrary.org/obo/CHEBI_23965</td>\n",
       "      <td>http://purl.obolibrary.org/obo/PR_P41002</td>\n",
       "      <td>0</td>\n",
       "    </tr>\n",
       "    <tr>\n",
       "      <th>5</th>\n",
       "      <td>http://purl.obolibrary.org/obo/CHEBI_23965</td>\n",
       "      <td>http://purl.obolibrary.org/obo/PR_O95376</td>\n",
       "      <td>0</td>\n",
       "    </tr>\n",
       "    <tr>\n",
       "      <th>6</th>\n",
       "      <td>http://purl.obolibrary.org/obo/CHEBI_23965</td>\n",
       "      <td>http://purl.obolibrary.org/obo/PR_000009875</td>\n",
       "      <td>0</td>\n",
       "    </tr>\n",
       "    <tr>\n",
       "      <th>7</th>\n",
       "      <td>http://purl.obolibrary.org/obo/CHEBI_23965</td>\n",
       "      <td>http://purl.obolibrary.org/obo/PR_O95352</td>\n",
       "      <td>0</td>\n",
       "    </tr>\n",
       "    <tr>\n",
       "      <th>8</th>\n",
       "      <td>http://purl.obolibrary.org/obo/PR_O95376</td>\n",
       "      <td>http://purl.obolibrary.org/obo/PR_000009875</td>\n",
       "      <td>0</td>\n",
       "    </tr>\n",
       "    <tr>\n",
       "      <th>9</th>\n",
       "      <td>http://purl.obolibrary.org/obo/PR_O95376</td>\n",
       "      <td>http://purl.obolibrary.org/obo/PR_O95352</td>\n",
       "      <td>0</td>\n",
       "    </tr>\n",
       "    <tr>\n",
       "      <th>10</th>\n",
       "      <td>http://purl.obolibrary.org/obo/PR_000009875</td>\n",
       "      <td>http://purl.obolibrary.org/obo/PR_O95352</td>\n",
       "      <td>0</td>\n",
       "    </tr>\n",
       "    <tr>\n",
       "      <th>11</th>\n",
       "      <td>http://purl.obolibrary.org/obo/PR_000009875</td>\n",
       "      <td>http://purl.obolibrary.org/obo/PR_Q9H765</td>\n",
       "      <td>0</td>\n",
       "    </tr>\n",
       "    <tr>\n",
       "      <th>12</th>\n",
       "      <td>http://purl.obolibrary.org/obo/PR_O95352</td>\n",
       "      <td>http://purl.obolibrary.org/obo/PR_Q9H765</td>\n",
       "      <td>0</td>\n",
       "    </tr>\n",
       "    <tr>\n",
       "      <th>13</th>\n",
       "      <td>http://purl.obolibrary.org/obo/PR_O95352</td>\n",
       "      <td>http://purl.obolibrary.org/obo/GO_0098685</td>\n",
       "      <td>0</td>\n",
       "    </tr>\n",
       "    <tr>\n",
       "      <th>14</th>\n",
       "      <td>http://purl.obolibrary.org/obo/PR_Q9H765</td>\n",
       "      <td>http://purl.obolibrary.org/obo/GO_0098685</td>\n",
       "      <td>0</td>\n",
       "    </tr>\n",
       "    <tr>\n",
       "      <th>15</th>\n",
       "      <td>http://purl.obolibrary.org/obo/PR_Q9H765</td>\n",
       "      <td>http://purl.obolibrary.org/obo/CHEBI_3766</td>\n",
       "      <td>0</td>\n",
       "    </tr>\n",
       "    <tr>\n",
       "      <th>16</th>\n",
       "      <td>http://purl.obolibrary.org/obo/PR_Q9H765</td>\n",
       "      <td>http://purl.obolibrary.org/obo/CHEBI_33566</td>\n",
       "      <td>0</td>\n",
       "    </tr>\n",
       "    <tr>\n",
       "      <th>17</th>\n",
       "      <td>http://purl.obolibrary.org/obo/PR_Q9H765</td>\n",
       "      <td>http://purl.obolibrary.org/obo/CHEBI_31206</td>\n",
       "      <td>0</td>\n",
       "    </tr>\n",
       "    <tr>\n",
       "      <th>18</th>\n",
       "      <td>http://purl.obolibrary.org/obo/CHEBI_3766</td>\n",
       "      <td>http://purl.obolibrary.org/obo/CHEBI_33566</td>\n",
       "      <td>0</td>\n",
       "    </tr>\n",
       "    <tr>\n",
       "      <th>19</th>\n",
       "      <td>http://purl.obolibrary.org/obo/CHEBI_3766</td>\n",
       "      <td>http://purl.obolibrary.org/obo/CHEBI_31206</td>\n",
       "      <td>0</td>\n",
       "    </tr>\n",
       "    <tr>\n",
       "      <th>20</th>\n",
       "      <td>http://purl.obolibrary.org/obo/CHEBI_33566</td>\n",
       "      <td>http://purl.obolibrary.org/obo/CHEBI_31206</td>\n",
       "      <td>0</td>\n",
       "    </tr>\n",
       "    <tr>\n",
       "      <th>21</th>\n",
       "      <td>http://purl.obolibrary.org/obo/CHEBI_33566</td>\n",
       "      <td>https://uswest.ensembl.org/Homo_sapiens/Transc...</td>\n",
       "      <td>0</td>\n",
       "    </tr>\n",
       "    <tr>\n",
       "      <th>22</th>\n",
       "      <td>http://purl.obolibrary.org/obo/CHEBI_31206</td>\n",
       "      <td>https://uswest.ensembl.org/Homo_sapiens/Transc...</td>\n",
       "      <td>0</td>\n",
       "    </tr>\n",
       "    <tr>\n",
       "      <th>23</th>\n",
       "      <td>http://purl.obolibrary.org/obo/CHEBI_31206</td>\n",
       "      <td>http://purl.obolibrary.org/obo/CHEBI_30563</td>\n",
       "      <td>0</td>\n",
       "    </tr>\n",
       "    <tr>\n",
       "      <th>24</th>\n",
       "      <td>http://purl.obolibrary.org/obo/CHEBI_31206</td>\n",
       "      <td>http://purl.obolibrary.org/obo/CHEBI_38940</td>\n",
       "      <td>0</td>\n",
       "    </tr>\n",
       "    <tr>\n",
       "      <th>25</th>\n",
       "      <td>http://purl.obolibrary.org/obo/CHEBI_31206</td>\n",
       "      <td>http://purl.obolibrary.org/obo/CHEBI_29699</td>\n",
       "      <td>0</td>\n",
       "    </tr>\n",
       "    <tr>\n",
       "      <th>26</th>\n",
       "      <td>http://purl.obolibrary.org/obo/CHEBI_30563</td>\n",
       "      <td>http://purl.obolibrary.org/obo/CHEBI_38940</td>\n",
       "      <td>0</td>\n",
       "    </tr>\n",
       "    <tr>\n",
       "      <th>27</th>\n",
       "      <td>http://purl.obolibrary.org/obo/CHEBI_30563</td>\n",
       "      <td>http://purl.obolibrary.org/obo/CHEBI_29699</td>\n",
       "      <td>0</td>\n",
       "    </tr>\n",
       "    <tr>\n",
       "      <th>28</th>\n",
       "      <td>http://purl.obolibrary.org/obo/CHEBI_38940</td>\n",
       "      <td>http://purl.obolibrary.org/obo/CHEBI_29699</td>\n",
       "      <td>0</td>\n",
       "    </tr>\n",
       "    <tr>\n",
       "      <th>29</th>\n",
       "      <td>http://purl.obolibrary.org/obo/CHEBI_38940</td>\n",
       "      <td>http://purl.obolibrary.org/obo/CHEBI_15930</td>\n",
       "      <td>0</td>\n",
       "    </tr>\n",
       "  </tbody>\n",
       "</table>\n",
       "</div>"
      ],
      "text/plain": [
       "                                         node_1  \\\n",
       "0    http://purl.obolibrary.org/obo/CHEBI_46024   \n",
       "1    http://purl.obolibrary.org/obo/CHEBI_46024   \n",
       "2    http://purl.obolibrary.org/obo/CHEBI_39867   \n",
       "3    http://purl.obolibrary.org/obo/CHEBI_39867   \n",
       "4    http://purl.obolibrary.org/obo/CHEBI_23965   \n",
       "5    http://purl.obolibrary.org/obo/CHEBI_23965   \n",
       "6    http://purl.obolibrary.org/obo/CHEBI_23965   \n",
       "7    http://purl.obolibrary.org/obo/CHEBI_23965   \n",
       "8      http://purl.obolibrary.org/obo/PR_O95376   \n",
       "9      http://purl.obolibrary.org/obo/PR_O95376   \n",
       "10  http://purl.obolibrary.org/obo/PR_000009875   \n",
       "11  http://purl.obolibrary.org/obo/PR_000009875   \n",
       "12     http://purl.obolibrary.org/obo/PR_O95352   \n",
       "13     http://purl.obolibrary.org/obo/PR_O95352   \n",
       "14     http://purl.obolibrary.org/obo/PR_Q9H765   \n",
       "15     http://purl.obolibrary.org/obo/PR_Q9H765   \n",
       "16     http://purl.obolibrary.org/obo/PR_Q9H765   \n",
       "17     http://purl.obolibrary.org/obo/PR_Q9H765   \n",
       "18    http://purl.obolibrary.org/obo/CHEBI_3766   \n",
       "19    http://purl.obolibrary.org/obo/CHEBI_3766   \n",
       "20   http://purl.obolibrary.org/obo/CHEBI_33566   \n",
       "21   http://purl.obolibrary.org/obo/CHEBI_33566   \n",
       "22   http://purl.obolibrary.org/obo/CHEBI_31206   \n",
       "23   http://purl.obolibrary.org/obo/CHEBI_31206   \n",
       "24   http://purl.obolibrary.org/obo/CHEBI_31206   \n",
       "25   http://purl.obolibrary.org/obo/CHEBI_31206   \n",
       "26   http://purl.obolibrary.org/obo/CHEBI_30563   \n",
       "27   http://purl.obolibrary.org/obo/CHEBI_30563   \n",
       "28   http://purl.obolibrary.org/obo/CHEBI_38940   \n",
       "29   http://purl.obolibrary.org/obo/CHEBI_38940   \n",
       "\n",
       "                                               node_2  link  \n",
       "0          http://purl.obolibrary.org/obo/CHEBI_39867     0  \n",
       "1          http://purl.obolibrary.org/obo/CHEBI_23965     0  \n",
       "2          http://purl.obolibrary.org/obo/CHEBI_23965     0  \n",
       "3            http://purl.obolibrary.org/obo/PR_P41002     0  \n",
       "4            http://purl.obolibrary.org/obo/PR_P41002     0  \n",
       "5            http://purl.obolibrary.org/obo/PR_O95376     0  \n",
       "6         http://purl.obolibrary.org/obo/PR_000009875     0  \n",
       "7            http://purl.obolibrary.org/obo/PR_O95352     0  \n",
       "8         http://purl.obolibrary.org/obo/PR_000009875     0  \n",
       "9            http://purl.obolibrary.org/obo/PR_O95352     0  \n",
       "10           http://purl.obolibrary.org/obo/PR_O95352     0  \n",
       "11           http://purl.obolibrary.org/obo/PR_Q9H765     0  \n",
       "12           http://purl.obolibrary.org/obo/PR_Q9H765     0  \n",
       "13          http://purl.obolibrary.org/obo/GO_0098685     0  \n",
       "14          http://purl.obolibrary.org/obo/GO_0098685     0  \n",
       "15          http://purl.obolibrary.org/obo/CHEBI_3766     0  \n",
       "16         http://purl.obolibrary.org/obo/CHEBI_33566     0  \n",
       "17         http://purl.obolibrary.org/obo/CHEBI_31206     0  \n",
       "18         http://purl.obolibrary.org/obo/CHEBI_33566     0  \n",
       "19         http://purl.obolibrary.org/obo/CHEBI_31206     0  \n",
       "20         http://purl.obolibrary.org/obo/CHEBI_31206     0  \n",
       "21  https://uswest.ensembl.org/Homo_sapiens/Transc...     0  \n",
       "22  https://uswest.ensembl.org/Homo_sapiens/Transc...     0  \n",
       "23         http://purl.obolibrary.org/obo/CHEBI_30563     0  \n",
       "24         http://purl.obolibrary.org/obo/CHEBI_38940     0  \n",
       "25         http://purl.obolibrary.org/obo/CHEBI_29699     0  \n",
       "26         http://purl.obolibrary.org/obo/CHEBI_38940     0  \n",
       "27         http://purl.obolibrary.org/obo/CHEBI_29699     0  \n",
       "28         http://purl.obolibrary.org/obo/CHEBI_29699     0  \n",
       "29         http://purl.obolibrary.org/obo/CHEBI_15930     0  "
      ]
     },
     "execution_count": 17,
     "metadata": {},
     "output_type": "execute_result"
    }
   ],
   "source": [
    "data.head(30)"
   ]
  },
  {
   "cell_type": "code",
   "execution_count": 37,
   "metadata": {},
   "outputs": [],
   "source": [
    "original_g_df_temp = original_g_df.copy()"
   ]
  },
  {
   "cell_type": "code",
   "execution_count": 38,
   "metadata": {},
   "outputs": [
    {
     "data": {
      "text/html": [
       "<div>\n",
       "<style scoped>\n",
       "    .dataframe tbody tr th:only-of-type {\n",
       "        vertical-align: middle;\n",
       "    }\n",
       "\n",
       "    .dataframe tbody tr th {\n",
       "        vertical-align: top;\n",
       "    }\n",
       "\n",
       "    .dataframe thead th {\n",
       "        text-align: right;\n",
       "    }\n",
       "</style>\n",
       "<table border=\"1\" class=\"dataframe\">\n",
       "  <thead>\n",
       "    <tr style=\"text-align: right;\">\n",
       "      <th></th>\n",
       "      <th>node_1</th>\n",
       "      <th>node_2</th>\n",
       "    </tr>\n",
       "  </thead>\n",
       "  <tbody>\n",
       "    <tr>\n",
       "      <th>0</th>\n",
       "      <td>http://purl.obolibrary.org/obo/CHEBI_46024</td>\n",
       "      <td>https://uswest.ensembl.org/Homo_sapiens/Transc...</td>\n",
       "    </tr>\n",
       "    <tr>\n",
       "      <th>1</th>\n",
       "      <td>http://purl.obolibrary.org/obo/CHEBI_46024</td>\n",
       "      <td>https://uswest.ensembl.org/Homo_sapiens/Transc...</td>\n",
       "    </tr>\n",
       "    <tr>\n",
       "      <th>2</th>\n",
       "      <td>http://purl.obolibrary.org/obo/CHEBI_46024</td>\n",
       "      <td>https://uswest.ensembl.org/Homo_sapiens/Transc...</td>\n",
       "    </tr>\n",
       "    <tr>\n",
       "      <th>3</th>\n",
       "      <td>http://purl.obolibrary.org/obo/CHEBI_46024</td>\n",
       "      <td>https://uswest.ensembl.org/Homo_sapiens/Transc...</td>\n",
       "    </tr>\n",
       "    <tr>\n",
       "      <th>4</th>\n",
       "      <td>http://purl.obolibrary.org/obo/CHEBI_46024</td>\n",
       "      <td>https://uswest.ensembl.org/Homo_sapiens/Transc...</td>\n",
       "    </tr>\n",
       "    <tr>\n",
       "      <th>5</th>\n",
       "      <td>http://purl.obolibrary.org/obo/CHEBI_46024</td>\n",
       "      <td>https://uswest.ensembl.org/Homo_sapiens/Transc...</td>\n",
       "    </tr>\n",
       "    <tr>\n",
       "      <th>6</th>\n",
       "      <td>http://purl.obolibrary.org/obo/CHEBI_46024</td>\n",
       "      <td>http://purl.obolibrary.org/obo/GO_0005741</td>\n",
       "    </tr>\n",
       "    <tr>\n",
       "      <th>7</th>\n",
       "      <td>http://purl.obolibrary.org/obo/CHEBI_46024</td>\n",
       "      <td>https://uswest.ensembl.org/Homo_sapiens/Transc...</td>\n",
       "    </tr>\n",
       "    <tr>\n",
       "      <th>8</th>\n",
       "      <td>http://purl.obolibrary.org/obo/CHEBI_46024</td>\n",
       "      <td>https://uswest.ensembl.org/Homo_sapiens/Transc...</td>\n",
       "    </tr>\n",
       "    <tr>\n",
       "      <th>9</th>\n",
       "      <td>http://purl.obolibrary.org/obo/CHEBI_46024</td>\n",
       "      <td>https://uswest.ensembl.org/Homo_sapiens/Transc...</td>\n",
       "    </tr>\n",
       "    <tr>\n",
       "      <th>10</th>\n",
       "      <td>http://purl.obolibrary.org/obo/CHEBI_46024</td>\n",
       "      <td>https://uswest.ensembl.org/Homo_sapiens/Transc...</td>\n",
       "    </tr>\n",
       "    <tr>\n",
       "      <th>11</th>\n",
       "      <td>http://purl.obolibrary.org/obo/CHEBI_46024</td>\n",
       "      <td>https://uswest.ensembl.org/Homo_sapiens/Transc...</td>\n",
       "    </tr>\n",
       "    <tr>\n",
       "      <th>12</th>\n",
       "      <td>http://purl.obolibrary.org/obo/CHEBI_46024</td>\n",
       "      <td>https://uswest.ensembl.org/Homo_sapiens/Transc...</td>\n",
       "    </tr>\n",
       "    <tr>\n",
       "      <th>13</th>\n",
       "      <td>http://purl.obolibrary.org/obo/CHEBI_46024</td>\n",
       "      <td>https://uswest.ensembl.org/Homo_sapiens/Transc...</td>\n",
       "    </tr>\n",
       "    <tr>\n",
       "      <th>14</th>\n",
       "      <td>http://purl.obolibrary.org/obo/CHEBI_46024</td>\n",
       "      <td>https://uswest.ensembl.org/Homo_sapiens/Transc...</td>\n",
       "    </tr>\n",
       "    <tr>\n",
       "      <th>15</th>\n",
       "      <td>http://purl.obolibrary.org/obo/CHEBI_46024</td>\n",
       "      <td>https://uswest.ensembl.org/Homo_sapiens/Transc...</td>\n",
       "    </tr>\n",
       "    <tr>\n",
       "      <th>16</th>\n",
       "      <td>http://purl.obolibrary.org/obo/CHEBI_46024</td>\n",
       "      <td>https://uswest.ensembl.org/Homo_sapiens/Transc...</td>\n",
       "    </tr>\n",
       "    <tr>\n",
       "      <th>17</th>\n",
       "      <td>http://purl.obolibrary.org/obo/CHEBI_46024</td>\n",
       "      <td>https://uswest.ensembl.org/Homo_sapiens/Transc...</td>\n",
       "    </tr>\n",
       "    <tr>\n",
       "      <th>18</th>\n",
       "      <td>http://purl.obolibrary.org/obo/CHEBI_46024</td>\n",
       "      <td>https://uswest.ensembl.org/Homo_sapiens/Transc...</td>\n",
       "    </tr>\n",
       "    <tr>\n",
       "      <th>19</th>\n",
       "      <td>http://purl.obolibrary.org/obo/CHEBI_46024</td>\n",
       "      <td>https://uswest.ensembl.org/Homo_sapiens/Transc...</td>\n",
       "    </tr>\n",
       "  </tbody>\n",
       "</table>\n",
       "</div>"
      ],
      "text/plain": [
       "                                        node_1  \\\n",
       "0   http://purl.obolibrary.org/obo/CHEBI_46024   \n",
       "1   http://purl.obolibrary.org/obo/CHEBI_46024   \n",
       "2   http://purl.obolibrary.org/obo/CHEBI_46024   \n",
       "3   http://purl.obolibrary.org/obo/CHEBI_46024   \n",
       "4   http://purl.obolibrary.org/obo/CHEBI_46024   \n",
       "5   http://purl.obolibrary.org/obo/CHEBI_46024   \n",
       "6   http://purl.obolibrary.org/obo/CHEBI_46024   \n",
       "7   http://purl.obolibrary.org/obo/CHEBI_46024   \n",
       "8   http://purl.obolibrary.org/obo/CHEBI_46024   \n",
       "9   http://purl.obolibrary.org/obo/CHEBI_46024   \n",
       "10  http://purl.obolibrary.org/obo/CHEBI_46024   \n",
       "11  http://purl.obolibrary.org/obo/CHEBI_46024   \n",
       "12  http://purl.obolibrary.org/obo/CHEBI_46024   \n",
       "13  http://purl.obolibrary.org/obo/CHEBI_46024   \n",
       "14  http://purl.obolibrary.org/obo/CHEBI_46024   \n",
       "15  http://purl.obolibrary.org/obo/CHEBI_46024   \n",
       "16  http://purl.obolibrary.org/obo/CHEBI_46024   \n",
       "17  http://purl.obolibrary.org/obo/CHEBI_46024   \n",
       "18  http://purl.obolibrary.org/obo/CHEBI_46024   \n",
       "19  http://purl.obolibrary.org/obo/CHEBI_46024   \n",
       "\n",
       "                                               node_2  \n",
       "0   https://uswest.ensembl.org/Homo_sapiens/Transc...  \n",
       "1   https://uswest.ensembl.org/Homo_sapiens/Transc...  \n",
       "2   https://uswest.ensembl.org/Homo_sapiens/Transc...  \n",
       "3   https://uswest.ensembl.org/Homo_sapiens/Transc...  \n",
       "4   https://uswest.ensembl.org/Homo_sapiens/Transc...  \n",
       "5   https://uswest.ensembl.org/Homo_sapiens/Transc...  \n",
       "6           http://purl.obolibrary.org/obo/GO_0005741  \n",
       "7   https://uswest.ensembl.org/Homo_sapiens/Transc...  \n",
       "8   https://uswest.ensembl.org/Homo_sapiens/Transc...  \n",
       "9   https://uswest.ensembl.org/Homo_sapiens/Transc...  \n",
       "10  https://uswest.ensembl.org/Homo_sapiens/Transc...  \n",
       "11  https://uswest.ensembl.org/Homo_sapiens/Transc...  \n",
       "12  https://uswest.ensembl.org/Homo_sapiens/Transc...  \n",
       "13  https://uswest.ensembl.org/Homo_sapiens/Transc...  \n",
       "14  https://uswest.ensembl.org/Homo_sapiens/Transc...  \n",
       "15  https://uswest.ensembl.org/Homo_sapiens/Transc...  \n",
       "16  https://uswest.ensembl.org/Homo_sapiens/Transc...  \n",
       "17  https://uswest.ensembl.org/Homo_sapiens/Transc...  \n",
       "18  https://uswest.ensembl.org/Homo_sapiens/Transc...  \n",
       "19  https://uswest.ensembl.org/Homo_sapiens/Transc...  "
      ]
     },
     "execution_count": 38,
     "metadata": {},
     "output_type": "execute_result"
    }
   ],
   "source": [
    "original_g_df_temp.head(20)"
   ]
  },
  {
   "cell_type": "code",
   "execution_count": 18,
   "metadata": {},
   "outputs": [
    {
     "name": "stdout",
     "output_type": "stream",
     "text": [
      "initial_node_count: 24943\n"
     ]
    }
   ],
   "source": [
    "G_orig = nx.from_pandas_edgelist(original_g_df, \"node_1\", \"node_2\", create_using=nx.Graph())\n",
    "initial_node_count = nx.number_of_nodes(G_orig)\n",
    "print('initial_node_count: {}'.format(initial_node_count))"
   ]
  },
  {
   "cell_type": "code",
   "execution_count": 89,
   "metadata": {},
   "outputs": [
    {
     "name": "stdout",
     "output_type": "stream",
     "text": [
      "temp_node_count: 24943\n"
     ]
    }
   ],
   "source": [
    "original_g_df_temp = original_g_df.copy()\n",
    "G_temp = nx.from_pandas_edgelist(original_g_df_temp.drop(2), \"node_1\", \"node_2\", create_using=nx.Graph())\n",
    "temp_node_count = nx.number_of_nodes(G_temp)\n",
    "print('temp_node_count: {}'.format(temp_node_count))"
   ]
  },
  {
   "cell_type": "code",
   "execution_count": 90,
   "metadata": {},
   "outputs": [
    {
     "data": {
      "text/plain": [
       "46719"
      ]
     },
     "execution_count": 90,
     "metadata": {},
     "output_type": "execute_result"
    }
   ],
   "source": [
    "len(original_g_df.index.values)"
   ]
  },
  {
   "cell_type": "code",
   "execution_count": 19,
   "metadata": {},
   "outputs": [
    {
     "name": "stdout",
     "output_type": "stream",
     "text": [
      "[info] Count of admissable links: 500\n",
      "1000\n",
      "[info] Count of admissable links: 1000\n",
      "[info] Count of admissable links: 1500\n",
      "2000\n",
      "[info] Count of admissable links: 2000\n"
     ]
    }
   ],
   "source": [
    "original_g_df_temp = original_g_df.copy()\n",
    "\n",
    "# empty list to store removable links\n",
    "omissible_links_index = []\n",
    "\n",
    "ctr = 0\n",
    "ctr2 = 0\n",
    "for i in original_g_df.index.values:\n",
    "    # remove a node pair and build a new graph\n",
    "    G_temp = nx.from_pandas_edgelist(original_g_df_temp.drop(i), \"node_1\", \"node_2\", create_using=nx.Graph())\n",
    "    #print('graph created')\n",
    "    #print('nx.number_connected_components(G_temp): {}'.format(nx.number_connected_components(G_temp)))\n",
    "     \n",
    "    #print('len(G_temp.nodes): {}'.format(nx.number_of_nodes(G_temp)))\n",
    "    \n",
    "    ctr2 += 1\n",
    "    if ctr2 % 1000 == 0:\n",
    "        print(str(ctr2))\n",
    "    #if ctr2 == 10:\n",
    "    #    break\n",
    "    \n",
    "    # check there is no spliting of graph and number of nodes is same\n",
    "    #if (nx.number_connected_components(G_temp) == 1) and (nx.number_of_nodes(G_temp) == initial_node_count):\n",
    "    if (nx.number_of_nodes(G_temp) == initial_node_count): # going to try to proceed with links that break up the graph into sub-graphs b/c \n",
    "                                                           # I can't easily find links that satisfy both requirements\n",
    "    \n",
    "        omissible_links_index.append(i)\n",
    "        original_g_df_temp = original_g_df_temp.drop(index = i)\n",
    "        ctr += 1\n",
    "        if ctr % 500 == 0:\n",
    "            print('[info] Count of admissable links: {}'.format(ctr))\n",
    "        if ctr == 2000:\n",
    "            break"
   ]
  },
  {
   "cell_type": "code",
   "execution_count": 20,
   "metadata": {},
   "outputs": [
    {
     "data": {
      "text/plain": [
       "2000"
      ]
     },
     "execution_count": 20,
     "metadata": {},
     "output_type": "execute_result"
    }
   ],
   "source": [
    "len(omissible_links_index)"
   ]
  },
  {
   "cell_type": "code",
   "execution_count": 21,
   "metadata": {},
   "outputs": [],
   "source": [
    "f = open('omissible_links_index.pickle','wb')\n",
    "pickle.dump(omissible_links_index,f)\n",
    "f.close()"
   ]
  },
  {
   "cell_type": "code",
   "execution_count": 22,
   "metadata": {},
   "outputs": [],
   "source": [
    "# create dataframe of removable edges\n",
    "original_g_df_ghost = original_g_df.loc[omissible_links_index]\n",
    "\n",
    "# add the target variable 'link'\n",
    "original_g_df_ghost['link'] = 1\n",
    "\n",
    "# Reduce the dataset containing non-connected nodes to 4K so that there is a 1:2 ratio of connected nodes to non-connected nodes\n",
    "# The reduced dataset is a random sample without replacement\n",
    "data_reduced = data.sample(4000)\n",
    "\n",
    "data_reduced = data_reduced.append(original_g_df_ghost[['node_1', 'node_2', 'link']], ignore_index=True)"
   ]
  },
  {
   "cell_type": "code",
   "execution_count": 30,
   "metadata": {},
   "outputs": [
    {
     "data": {
      "text/plain": [
       "array([-0.00498977, -0.00608755,  0.00387193, -0.01783932, -0.00617154,\n",
       "        0.01179412,  0.00445042,  0.00717869, -0.00583777, -0.00116579,\n",
       "       -0.00276588,  0.01320327,  0.01654032, -0.01150758,  0.01512466,\n",
       "        0.00307554, -0.01183004, -0.01276648, -0.01060644,  0.01510004,\n",
       "        0.00917319,  0.00758415, -0.01016505, -0.01205462, -0.01656368,\n",
       "        0.00907113,  0.00028685, -0.01571193, -0.00192986,  0.00019298],\n",
       "      dtype=float32)"
      ]
     },
     "execution_count": 30,
     "metadata": {},
     "output_type": "execute_result"
    }
   ],
   "source": [
    "model.wv.get_vector('http://purl.obolibrary.org/obo/CHEBI_2430')"
   ]
  },
  {
   "cell_type": "code",
   "execution_count": 31,
   "metadata": {},
   "outputs": [
    {
     "data": {
      "text/plain": [
       "rdflib.term.URIRef('http://purl.obolibrary.org/obo/CHEBI_69828')"
      ]
     },
     "execution_count": 31,
     "metadata": {},
     "output_type": "execute_result"
    }
   ],
   "source": [
    "data_reduced['node_1'][1]"
   ]
  },
  {
   "cell_type": "code",
   "execution_count": 32,
   "metadata": {},
   "outputs": [],
   "source": [
    "x = [model.wv.get_vector(i.toPython()) + model.wv.get_vector(j.toPython()) for i,j in zip(data_reduced['node_1'], data_reduced['node_2'])]"
   ]
  },
  {
   "cell_type": "code",
   "execution_count": 35,
   "metadata": {},
   "outputs": [],
   "source": [
    "from sklearn.model_selection import train_test_split\n",
    "from sklearn.metrics import roc_auc_score\n",
    "from sklearn.dummy import DummyClassifier\n",
    "from sklearn.linear_model import LogisticRegression\n",
    "from sklearn.metrics import f1_score\n",
    "import numpy as np\n",
    "xtrain, xtest, ytrain, ytest = train_test_split(np.array(x), \n",
    "                                                data_reduced['link'], \n",
    "                                                test_size = 0.3, \n",
    "                                                random_state = 35)"
   ]
  },
  {
   "cell_type": "markdown",
   "metadata": {},
   "source": [
    "Two baseline classifiers with which to compare the LR using embedding features"
   ]
  },
  {
   "cell_type": "code",
   "execution_count": 55,
   "metadata": {},
   "outputs": [
    {
     "data": {
      "text/plain": [
       "0.5"
      ]
     },
     "execution_count": 55,
     "metadata": {},
     "output_type": "execute_result"
    }
   ],
   "source": [
    "dummy_clf = DummyClassifier(strategy=\"most_frequent\")\n",
    "dummy_clf.fit(xtrain, ytrain)\n",
    "predictions = dummy_clf.predict_proba(xtest)\n",
    "roc_auc_score(ytest, predictions[:,1])"
   ]
  },
  {
   "cell_type": "code",
   "execution_count": 65,
   "metadata": {},
   "outputs": [
    {
     "data": {
      "text/plain": [
       "0.4920204463867645"
      ]
     },
     "execution_count": 65,
     "metadata": {},
     "output_type": "execute_result"
    }
   ],
   "source": [
    "dummy_clf = DummyClassifier(strategy=\"stratified\")\n",
    "dummy_clf.fit(xtrain, ytrain)\n",
    "predictions = dummy_clf.predict_proba(xtest)\n",
    "yhat = dummy_clf.predict(xtest)\n",
    "roc_auc_score(ytest, predictions[:,1])"
   ]
  },
  {
   "cell_type": "code",
   "execution_count": 66,
   "metadata": {},
   "outputs": [
    {
     "name": "stdout",
     "output_type": "stream",
     "text": [
      "F1: 0.3388704318936877\n"
     ]
    }
   ],
   "source": [
    "d_precision, d_recall, _ = precision_recall_curve(ytest, predictions[:,1])\n",
    "d_f1 = f1_score(ytest, yhat)\n",
    "print('F1: {}'.format(d_f1))"
   ]
  },
  {
   "cell_type": "markdown",
   "metadata": {},
   "source": [
    "LR using the node2vec embeddings"
   ]
  },
  {
   "cell_type": "code",
   "execution_count": 68,
   "metadata": {},
   "outputs": [
    {
     "data": {
      "text/plain": [
       "LogisticRegression(C=1.0, class_weight='balanced', dual=False,\n",
       "          fit_intercept=True, intercept_scaling=1, max_iter=100,\n",
       "          multi_class='ovr', n_jobs=1, penalty='l2', random_state=None,\n",
       "          solver='liblinear', tol=0.0001, verbose=0, warm_start=False)"
      ]
     },
     "execution_count": 68,
     "metadata": {},
     "output_type": "execute_result"
    }
   ],
   "source": [
    "lr = LogisticRegression(class_weight=\"balanced\")\n",
    "lr.fit(xtrain, ytrain)"
   ]
  },
  {
   "cell_type": "code",
   "execution_count": 69,
   "metadata": {},
   "outputs": [],
   "source": [
    "predictions = lr.predict_proba(xtest)"
   ]
  },
  {
   "cell_type": "code",
   "execution_count": 70,
   "metadata": {},
   "outputs": [
    {
     "data": {
      "text/plain": [
       "0.6620869473120917"
      ]
     },
     "execution_count": 70,
     "metadata": {},
     "output_type": "execute_result"
    }
   ],
   "source": [
    "roc_auc_score(ytest, predictions[:,1])"
   ]
  },
  {
   "cell_type": "code",
   "execution_count": 72,
   "metadata": {},
   "outputs": [],
   "source": [
    "# predict class values\n",
    "yhat = lr.predict(xtest)"
   ]
  },
  {
   "cell_type": "code",
   "execution_count": 73,
   "metadata": {},
   "outputs": [
    {
     "name": "stdout",
     "output_type": "stream",
     "text": [
      "F1: 0.5101156069364162\n"
     ]
    }
   ],
   "source": [
    "lr_f1 = f1_score(ytest, yhat)\n",
    "print('F1: {}'.format(lr_f1))"
   ]
  },
  {
   "cell_type": "code",
   "execution_count": 74,
   "metadata": {},
   "outputs": [
    {
     "data": {
      "image/png": "[encoded data removed]",
      "text/plain": [
       "<Figure size 432x288 with 1 Axes>"
      ]
     },
     "metadata": {
      "needs_background": "light"
     },
     "output_type": "display_data"
    }
   ],
   "source": [
    "from sklearn.metrics import precision_recall_curve\n",
    "import matplotlib.pyplot as plt\n",
    "\n",
    "lr_precision, lr_recall, _ = precision_recall_curve(ytest, predictions[:,1])\n",
    "\n",
    "plt.plot(lr_recall, lr_precision, marker='.', label='Logistic')\n",
    "\n",
    "# axis labels\n",
    "plt.xlabel('Recall')\n",
    "plt.ylabel('Precision')\n",
    "# show the legend\n",
    "plt.legend()\n",
    "# show the plot\n",
    "plt.show()\n"
   ]
  },
  {
   "cell_type": "code",
   "execution_count": 47,
   "metadata": {},
   "outputs": [
    {
     "data": {
      "text/plain": [
       "1721    0\n",
       "1667    0\n",
       "4538    1\n",
       "918     0\n",
       "1883    0\n",
       "4636    1\n",
       "2293    0\n",
       "981     0\n",
       "3043    0\n",
       "3849    0\n",
       "Name: link, dtype: int64"
      ]
     },
     "execution_count": 47,
     "metadata": {},
     "output_type": "execute_result"
    }
   ],
   "source": [
    "ytest[0:10]"
   ]
  },
  {
   "cell_type": "code",
   "execution_count": 41,
   "metadata": {},
   "outputs": [
    {
     "data": {
      "text/plain": [
       "(1800, 2)"
      ]
     },
     "execution_count": 41,
     "metadata": {},
     "output_type": "execute_result"
    }
   ],
   "source": [
    "predictions.shape"
   ]
  },
  {
   "cell_type": "code",
   "execution_count": 52,
   "metadata": {},
   "outputs": [
    {
     "data": {
      "text/plain": [
       "array([[0.50795605, 0.49204395],\n",
       "       [0.50332118, 0.49667882],\n",
       "       [0.51536009, 0.48463991]])"
      ]
     },
     "execution_count": 52,
     "metadata": {},
     "output_type": "execute_result"
    }
   ],
   "source": [
    "predictions[0:3,]"
   ]
  },
  {
   "cell_type": "markdown",
   "metadata": {},
   "source": [
    "## Train the link prediction model\n",
    "\n",
    "There are a few steps involved in using the model to perform link prediction:\n",
    "1. We calculate link/edge embeddings for the positive and negative edge samples by applying a binary operator on the embeddings of the source and target nodes of each sampled edge.\n",
    "2. Given the embeddings of the positive and negative examples, we train a logistic regression classifier to predict the probability indicating whether an edge between two nodes should exist or not.\n",
    "3. To use the embeddings in a traditional machine learning classifier, we use binary operators on the embeddings such as average, Hadamard, L1, L2. Here we use the 'average operator' with node embeddings in the logistic regression classifier.\n"
   ]
  }
 ],
 "metadata": {
  "kernelspec": {
   "display_name": "Python 3",
   "language": "python",
   "name": "python3"
  },
  "language_info": {
   "codemirror_mode": {
    "name": "ipython",
    "version": 3
   },
   "file_extension": ".py",
   "mimetype": "text/x-python",
   "name": "python",
   "nbconvert_exporter": "python",
   "pygments_lexer": "ipython3",
   "version": "3.6.13"
  }
 },
 "nbformat": 4,
 "nbformat_minor": 4
}
